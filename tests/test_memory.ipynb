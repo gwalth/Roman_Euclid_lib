{
 "cells": [
  {
   "cell_type": "code",
   "execution_count": 1,
   "id": "a7e5f106-130d-4f72-a209-c55efd2cc27d",
   "metadata": {},
   "outputs": [],
   "source": [
    "from pympler import asizeof"
   ]
  },
  {
   "cell_type": "code",
   "execution_count": 2,
   "id": "f492adf0-594a-471c-8734-ffc3c9fcc3e2",
   "metadata": {},
   "outputs": [],
   "source": [
    "obj = [1, 2, (3, 4), 'text']"
   ]
  },
  {
   "cell_type": "code",
   "execution_count": 3,
   "id": "eed4da7e",
   "metadata": {},
   "outputs": [
    {
     "data": {
      "text/plain": [
       "360"
      ]
     },
     "execution_count": 3,
     "metadata": {},
     "output_type": "execute_result"
    }
   ],
   "source": [
    "asizeof.asizeof(obj)"
   ]
  },
  {
   "cell_type": "code",
   "execution_count": 4,
   "id": "d111c752",
   "metadata": {},
   "outputs": [
    {
     "name": "stdout",
     "output_type": "stream",
     "text": [
      "[1, 2, (3, 4), 'text'] size=360 flat=104\n",
      "    (3, 4) size=136 flat=72\n",
      "    'text' size=56 flat=56\n",
      "    1 size=32 flat=32\n",
      "    2 size=32 flat=32\n"
     ]
    }
   ],
   "source": [
    "print(asizeof.asized(obj, detail=1).format())"
   ]
  },
  {
   "cell_type": "code",
   "execution_count": 5,
   "id": "362b5776",
   "metadata": {},
   "outputs": [
    {
     "data": {
      "text/plain": [
       "['In',\n",
       " 'Out',\n",
       " '_',\n",
       " '_3',\n",
       " '__',\n",
       " '___',\n",
       " '__builtin__',\n",
       " '__builtins__',\n",
       " '__doc__',\n",
       " '__loader__',\n",
       " '__name__',\n",
       " '__package__',\n",
       " '__spec__',\n",
       " '_dh',\n",
       " '_i',\n",
       " '_i1',\n",
       " '_i2',\n",
       " '_i3',\n",
       " '_i4',\n",
       " '_i5',\n",
       " '_ih',\n",
       " '_ii',\n",
       " '_iii',\n",
       " '_oh',\n",
       " 'asizeof',\n",
       " 'exit',\n",
       " 'get_ipython',\n",
       " 'obj',\n",
       " 'quit']"
      ]
     },
     "execution_count": 5,
     "metadata": {},
     "output_type": "execute_result"
    }
   ],
   "source": [
    "dir()"
   ]
  },
  {
   "cell_type": "code",
   "execution_count": null,
   "id": "ee409752",
   "metadata": {},
   "outputs": [],
   "source": [
    "import numpy as np\n",
    "\n",
    "def function_without_side_effects():\n",
    "    arr = np.random.random((4088,4088))\n",
    "    return arr\n",
    "\n",
    "class Document:\n",
    "    def __init__(self):\n",
    "        self.arr = np.random.random((4088,4088))\n",
    "    \n",
    "def create_documents():\n",
    "    all_doc = []\n",
    "    for i in range(30):\n",
    "        d = Document()\n",
    "        all_doc.append(d)\n",
    "    print(all_doc[0].arr)\n",
    "    "
   ]
  },
  {
   "cell_type": "code",
   "execution_count": null,
   "id": "847ad2be",
   "metadata": {},
   "outputs": [],
   "source": [
    "from pympler import tracker\n",
    "tr = tracker.SummaryTracker()\n",
    "function_without_side_effects()\n",
    "tr.print_diff()"
   ]
  },
  {
   "cell_type": "code",
   "execution_count": null,
   "id": "6f2f3096",
   "metadata": {},
   "outputs": [],
   "source": [
    "from pympler import classtracker\n",
    "tr = classtracker.ClassTracker()\n",
    "tr.track_class(Document)\n",
    "tr.create_snapshot()\n",
    "create_documents()\n",
    "tr.create_snapshot()\n",
    "tr.stats.print_summary()"
   ]
  },
  {
   "cell_type": "code",
   "execution_count": null,
   "id": "d305f909",
   "metadata": {},
   "outputs": [],
   "source": [
    "from pympler import tracker\n",
    "tr = tracker.SummaryTracker()\n",
    "tr.print_diff() "
   ]
  },
  {
   "cell_type": "code",
   "execution_count": null,
   "id": "922df41b",
   "metadata": {},
   "outputs": [],
   "source": [
    "tr.print_diff() "
   ]
  },
  {
   "cell_type": "code",
   "execution_count": null,
   "id": "f5b801c4",
   "metadata": {},
   "outputs": [],
   "source": [
    "i = 1\n",
    "l = [1,2,3,4]\n",
    "d = {}"
   ]
  },
  {
   "cell_type": "code",
   "execution_count": null,
   "id": "f1d78ca5",
   "metadata": {},
   "outputs": [],
   "source": [
    "tr.print_diff() "
   ]
  },
  {
   "cell_type": "code",
   "execution_count": null,
   "id": "119e39bc",
   "metadata": {},
   "outputs": [],
   "source": [
    "tr.print_diff() "
   ]
  },
  {
   "cell_type": "code",
   "execution_count": null,
   "id": "2bff6a92",
   "metadata": {},
   "outputs": [],
   "source": []
  }
 ],
 "metadata": {
  "kernelspec": {
   "display_name": "Python 3",
   "language": "python",
   "name": "python3"
  },
  "language_info": {
   "codemirror_mode": {
    "name": "ipython",
    "version": 3
   },
   "file_extension": ".py",
   "mimetype": "text/x-python",
   "name": "python",
   "nbconvert_exporter": "python",
   "pygments_lexer": "ipython3",
   "version": "3.7.11"
  }
 },
 "nbformat": 4,
 "nbformat_minor": 5
}
