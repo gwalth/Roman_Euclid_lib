{
 "cells": [
  {
   "cell_type": "markdown",
   "metadata": {},
   "source": [
    "# Experimental Roman Extraction using grizli 1.5.1\n",
    "\n",
    "## My Roman simulation\n",
    "- Currently Uses Galacticus Euclid simulation 4deg2\n",
    "- A modified version of aXeSIM to simulate the direct images and slitless spectra (includes fixes for WCS)\n",
    "\n",
    "Link old slides on my Roman simulation"
   ]
  },
  {
   "cell_type": "markdown",
   "metadata": {},
   "source": [
    "## Roman Parameters and Requirements\n",
    "https://roman.gsfc.nasa.gov/science/technical_resources.html"
   ]
  },
  {
   "cell_type": "markdown",
   "metadata": {},
   "source": [
    "#### Notes from Anahita on her Roman simulation:\n",
    "- H158 filter curve: attached\n",
    "- Mag limit of the simulation : 28AB magnitude (in H158)\n",
    "- Exposure time : direct_image_Exptime=141sec, dispersed_image_Exptime=301sec\n",
    "- Number of exposures combined: just 1 exposure with the given exptimes as above\n",
    "- Number of roll angles (I would imagine we would have multiple roll angles for the HLS): We will have 4 roll angles , and 2 dithers at each roll angle. These images should be angle=0. But eventually we will produce products at roll angles=0,5,170 &175 (as suggested by Jeff Kruk and Yun)\n",
    "- What are the artifacts in the direct images (CRs, diffraction spikes, bad or hot pixels)? I am not including any CRs in the direct images. Diffractions spikes are present for stars because we use PSF as the image profiles for our stars. I do not think that bad and/or hot pixels are included either (will double check)."
   ]
  },
  {
   "cell_type": "markdown",
   "metadata": {},
   "source": [
    "#### Notes about the simulation\n",
    "\n",
    "- I should just make one dispersed exposure t = 8*301 = 2408.\n",
    "- Is this also true for the direct image? One exposure t=141"
   ]
  },
  {
   "cell_type": "markdown",
   "metadata": {},
   "source": [
    "## Table of Contents\n",
    "\n",
    "1. Setup\n",
    "    1. [Import Python modules](#Import-Python-modules)  \n",
    "    2. [Python Helper Functions](#Python-Helper-Functions)\n",
    "    3. [Path to my simulation directories](#Path-to-my-simulation-directories)\n",
    "2. [Find sources in the direct image](#Find-sources-in-the-direct-image)\n",
    "3. [Read SExtractor Photometry of Direct Images](#Read-SExtractor-Photometry-of-Direct-Images)\n",
    "4. [Roman object simulation](#Roman-object-simulation)\n",
    "5. [Check simulation](#Check-simulation)\n",
    "6. [Show direct images and slitless spectra](#Show-direct-images-and-slitless-spectra)\n",
    "7. [Loop over all objects and fit their redshifts](#Loop-over-all-objects-and-fit-their-redshifts)\n",
    "8. [Inspect Redshift Fitting Results](#Inspect-Redshift-Fitting-Results)\n",
    "\n",
    "Appendix\n",
    "1. [Extract a single 2D spectrum](#Extract-a-single-2D-spectrum)\n",
    "2. [aXeSIM predictions based on conf file](#aXeSIM-predictions-based-on-conf-file)\n",
    "3. [Show 2D beam](#Show-2D-beam)\n",
    "4. [Simple SN calculations based on the spcontetc](#Simple-SN-calculations-based-on-the-spcontetc)\n",
    "5. [Simple SN calculations based on the pzcaletc](#Simple-SN-calculations-based-on-the-pzcaletc)\n",
    "6. [Simple SN calculations based on the apttables2021](#Simple-SN-calculations-based-on-the-apttables2021)\n",
    "7. [Roman Sensitivity Function](#Roman-Sensitivity-Function)\n",
    "8. [1D Spectral Extraction](#1D-Spectral-Extraction)\n",
    "9. [Velocity resolution](#Velocity-resolution)\n",
    "10. [Fit redshift to source](#Fit-redshift-to-source)\n",
    "11. [Display Redshift Fit](#Display-Redshift-Fit)\n",
    "12. [Parallel Tests](#Parallel-Tests)\n",
    "13. [Parallel Redshift Fitting Tests](#Parallel-Redshift-Fitting-Tests)\n",
    "14. [Coordinates Check](#Coordinates-check)\n",
    "15. [SED Check](#SED-check)\n",
    "\n",
    "[top](#Table-of-Contents)"
   ]
  },
  {
   "cell_type": "code",
   "execution_count": 2,
   "metadata": {
    "ExecuteTime": {
     "end_time": "2022-02-23T15:49:28.403484Z",
     "start_time": "2022-02-23T15:49:27.765180Z"
    }
   },
   "outputs": [],
   "source": [
    "%matplotlib inline"
   ]
  },
  {
   "cell_type": "code",
   "execution_count": 3,
   "metadata": {
    "ExecuteTime": {
     "end_time": "2022-02-23T15:49:30.361588Z",
     "start_time": "2022-02-23T15:49:29.129636Z"
    }
   },
   "outputs": [
    {
     "name": "stdout",
     "output_type": "stream",
     "text": [
      "`import jwst` failed so JWST processing will not work!\n"
     ]
    },
    {
     "name": "stderr",
     "output_type": "stream",
     "text": [
      "\n",
      "Unable to locate credentials. You can configure credentials by running \"aws configure\".\n"
     ]
    }
   ],
   "source": [
    "import grizli_functions\n",
    "from grizli_functions import wcs_pixel_scale, check_sims, create_circular_mask"
   ]
  },
  {
   "cell_type": "code",
   "execution_count": null,
   "metadata": {
    "ExecuteTime": {
     "end_time": "2021-12-09T19:25:59.760541Z",
     "start_time": "2021-12-09T19:25:59.755767Z"
    }
   },
   "outputs": [],
   "source": [
    "import importlib\n",
    "importlib.reload(grizli_functions)"
   ]
  },
  {
   "cell_type": "markdown",
   "metadata": {},
   "source": [
    "## Import Python modules\n",
    "[top](#Table-of-Contents)"
   ]
  },
  {
   "cell_type": "code",
   "execution_count": 4,
   "metadata": {
    "ExecuteTime": {
     "end_time": "2022-02-23T15:49:38.318310Z",
     "start_time": "2022-02-23T15:49:36.561321Z"
    }
   },
   "outputs": [
    {
     "name": "stdout",
     "output_type": "stream",
     "text": [
      "\n",
      "\n",
      "The following task in the stsci.skypac package can be run with TEAL:\n",
      "                                    skymatch                                    \n",
      "The following tasks in the drizzlepac package can be run with TEAL:\n",
      "    astrodrizzle       config_testbed      imagefindpars           mapreg       \n",
      "       photeq            pixreplace           pixtopix            pixtosky      \n",
      "  refimagefindpars       resetbits          runastrodriz          skytopix      \n",
      "     tweakback            tweakreg           updatenpol\n",
      "\n",
      " Python version:  3.9.16 (main, Jan 11 2023, 10:02:19) \n",
      "[Clang 14.0.6 ]\n",
      "\n",
      " Grizli version:  1.6.0.dev43\n",
      "\n",
      " Astropy version:  5.2.1\n"
     ]
    }
   ],
   "source": [
    "import os, sys, time\n",
    "from collections import OrderedDict\n",
    "\n",
    "import matplotlib as mpl    \n",
    "import matplotlib.pyplot as plt\n",
    "from matplotlib.gridspec import GridSpec\n",
    "from matplotlib.ticker import MultipleLocator\n",
    "\n",
    "from IPython.display import Image\n",
    "\n",
    "mpl.rcParams['figure.figsize'] = (10.0, 6.0)\n",
    "mpl.rcParams['font.size'] = 14\n",
    "mpl.rcParams['savefig.dpi'] = 72\n",
    "\n",
    "import numpy as np\n",
    "#from math import cos, sin, atan2, pi\n",
    "from math import sqrt, log\n",
    "\n",
    "import astropy\n",
    "import astropy.io.fits as pyfits\n",
    "import astropy.wcs as pywcs\n",
    "from astropy.table import Table, join\n",
    "from astropy.modeling import models\n",
    "\n",
    "import drizzlepac\n",
    "import photutils\n",
    "\n",
    "import grizli\n",
    "import grizli.model\n",
    "import grizli.multifit\n",
    "from grizli import utils, multifit, fitting\n",
    "import grizli.fake_image\n",
    "from grizli.pipeline import auto_script\n",
    "from grizli import prep\n",
    "\n",
    "\n",
    "print('\\n Python version: ', sys.version)\n",
    "print('\\n Grizli version: ', grizli.__version__)\n",
    "print('\\n Astropy version: ', astropy.__version__)"
   ]
  },
  {
   "cell_type": "code",
   "execution_count": null,
   "metadata": {},
   "outputs": [],
   "source": [
    "# check versions\n",
    "\n",
    "# matplotlib\n",
    "# IPython\n",
    "# numpy\n",
    "# astropy\n",
    "# drizzlepac\n",
    "# photutils\n",
    "# grizli\n"
   ]
  },
  {
   "cell_type": "markdown",
   "metadata": {},
   "source": [
    "## Python Helper Functions"
   ]
  },
  {
   "cell_type": "markdown",
   "metadata": {},
   "source": [
    "These will eventually be replaced by grizli_functions library"
   ]
  },
  {
   "cell_type": "code",
   "execution_count": null,
   "metadata": {
    "ExecuteTime": {
     "end_time": "2022-02-23T15:49:41.187989Z",
     "start_time": "2022-02-23T15:49:41.162403Z"
    }
   },
   "outputs": [],
   "source": [
    "def display_grizli(root, id, w0=0.8, w1=1.7, labels=1, y0=-1, y1=-1):\n",
    "    \n",
    "    # constants\n",
    "    fontsize = 8\n",
    "    #y0 = -1e-18\n",
    "    #y1 = 3.5e-18\n",
    "    lw = 2\n",
    "    \n",
    "\n",
    "    f_full = '{0}_{1:05d}.full.fits'.format(root, id)\n",
    "    #print(f_full)\n",
    "    full_hdu = pyfits.open(f_full)\n",
    "    #print(full_hdu.info())\n",
    "    head = full_hdu[0].header\n",
    "    zfit_stack = Table(full_hdu['ZFIT_STACK'].data)\n",
    "    zfit_head = full_hdu['ZFIT_STACK'].header\n",
    "    templ = Table(full_hdu['TEMPL'].data)\n",
    "    print()\n",
    "    \n",
    "    #print(head)\n",
    "    ndfilts = head[\"NDFILT\"] # number of direct image filters\n",
    "    for i in range(ndfilts):\n",
    "        print(head[\"DFILT%02d\" % (i+1)])\n",
    "        \n",
    "        direct = full_hdu[5+(2*i)].data\n",
    "        #print(direct)\n",
    "        #print(direct.shape)    \n",
    "    \n",
    "    #head[\"REDSHIFT\"] # redshift\n",
    "    #head[\"NUMLINES\"] # number of emission lines\n",
    "    \n",
    "\n",
    "    f_1d = '{0}_{1:05d}.1D.fits'.format(root, id)\n",
    "    #print(f_1d)\n",
    "    oned_hdu = pyfits.open(f_1d)\n",
    "    #print(oned_hdu[1].header)\n",
    "    print(oned_hdu.info())\n",
    "    grism = Table(oned_hdu['GRISM'].data)\n",
    "    grism.show_in_notebook()\n",
    "    print(grism.colnames)\n",
    "    #print()\n",
    "    \n",
    "    \n",
    "    \n",
    "    f_2d = '{0}_{1:05d}.stack.fits'.format(root, id)\n",
    "    #print(f_2d)\n",
    "    twod_hdu = pyfits.open(f_2d)\n",
    "    #print(twod_hdu.info())\n",
    "    #print()\n",
    "\n",
    "    \n",
    "    fig = plt.figure(figsize=(12,10))\n",
    "    #           row column\n",
    "    gs = GridSpec(3, 4, hspace=0.4)\n",
    "\n",
    "    p1 = fig.add_subplot(gs[:1, 0:2])\n",
    "    p2 = fig.add_subplot(gs[:1, 2:])\n",
    "    p3 = fig.add_subplot(gs[1, :])\n",
    "    p4 = fig.add_subplot(gs[2, :])\n",
    "\n",
    "\n",
    "    # Z_MAP, CHIMIN and DOF\n",
    "    \n",
    "    p1.text(0.95, 0.96, root + '\\n'+'ID={0:<5d}  z={1:.4f}'.format(id, zfit_head['z_map']), ha='right', va='top', transform=p1.transAxes, fontsize=9)\n",
    "\n",
    "    zmi, zma = zfit_stack['zgrid'].min(), zfit_stack['zgrid'].max()\n",
    "    if (zma-zmi) > 5:\n",
    "        ticks = np.arange(np.ceil(zmi), np.floor(zma)+0.5, 1)\n",
    "        lz = np.log(1+zfit_stack['zgrid'])\n",
    "        p1.plot(lz, np.log10(zfit_stack['pdf']), color='k')\n",
    "        p1.set_xticks(np.log(1+ticks))\n",
    "        p1.set_xticklabels(np.cast[int](ticks))\n",
    "        p1.set_xlim(lz.min(), lz.max())\n",
    "    else:\n",
    "        p1.plot(zfit_stack['zgrid'], np.log10(zfit_stack['pdf']), color='k')\n",
    "        p1.set_xlim(zmi, zma)\n",
    "\n",
    "    p1.set_xlabel(r'$z$')\n",
    "    p1.set_ylabel(r'$\\log\\ p(z)$'+' / '+ r'$\\chi^2=\\frac{{{0:.0f}}}{{{1:d}}}={2:.2f}$'.format(zfit_head['chimin'], zfit_head['DoF'], zfit_head['chimin']/zfit_head['DoF']))\n",
    "    p1.set_yticks([1,4,9,16,25])\n",
    "\n",
    "    pzmax = np.log10(zfit_stack['pdf'].max())\n",
    "    p1.set_ylim(pzmax-6, pzmax+0.9)\n",
    "    p1.grid()\n",
    "    p1.yaxis.set_major_locator(MultipleLocator(base=1))\n",
    "    \n",
    "    \n",
    "    \n",
    "    #pz_max = np.log10(zfit_stack['pdf'].max())\n",
    "    \n",
    "    #p1.plot(zfit_stack['zgrid'], np.log10(zfit_stack['pdf']), label='Stacked')\n",
    "    #p1.set_xlim(0.0, 3); \n",
    "    ##p1.semilogy(); \n",
    "    #p1.grid()\n",
    "    ##p1.set_ylim(1.e-50, 1e4)\n",
    "    #p1.set_ylim(pz_max-6, pz_max+0.9)\n",
    "    #p1.set_xlabel('z'); p1.set_ylabel('PDF(z)'); #plt.legend()\n",
    "\n",
    "    p2.plot(zfit_stack['zgrid'], zfit_stack['risk'], label='Stacked')\n",
    "    p2.set_xlim(0.0, 3); p2.semilogy(); p2.grid()\n",
    "    p2.set_xlabel('z'); p2.set_ylabel('risk'); #p3.legend()\n",
    "    \n",
    "    #print('Continuum template, cont1d: ', templ['continuum'].__class__)\n",
    "    #print(templ.colnames)\n",
    "    \n",
    "    \n",
    "    if y0 < 0: y0 = np.min(templ['continuum'] + templ['full'])\n",
    "    if y1 < 0: y1 = np.max(templ['continuum'] + templ['full'])\n",
    "    \n",
    "    \n",
    "    p3.plot(templ['wave']/1.e4, templ['continuum'], label='continuum')\n",
    "    p3.plot(templ['wave']/1.e4, templ['full'], label='total')\n",
    "    p3.set_xlim(w0, w1); p3.set_ylim(y0,y1);#p3.set_ylim(0,1.e-17) \n",
    "    p3.grid()\n",
    "    p3.set_xlabel(r'$\\lambda$ (microns)')\n",
    "    p3.set_ylabel(r'F$_\\lambda$ (erg/s/cm$^2$/$\\AA$)')\n",
    "    #p3.legend()\n",
    "    \n",
    "    \n",
    "        \n",
    "    z0 = zfit_head['z_map']\n",
    "\n",
    "    for line,wemit in emlines:\n",
    "        wobs = (1+z0)*wemit\n",
    "        #FWHM = vel * wobs / c_km\n",
    "        if wobs/1e4 > w0 and wobs/1e4 < w1:\n",
    "\n",
    "            p4.plot([wobs/1e4,wobs/1e4],[y0,y1],\":\",lw=lw,c=\"b\")\n",
    "        \n",
    "            if labels:\n",
    "                p4.text(wobs/1e4,0.7*y1,line,fontsize=fontsize,\n",
    "                        rotation='vertical',\n",
    "                        horizontalalignment='center',\n",
    "                        verticalalignment='center')\n",
    "    \n",
    "        \n",
    "        \n",
    "    p4.errorbar(grism['wave']/1e4, grism['flux']/grism['flat'], yerr=grism[\"err\"]/grism['flat'], \n",
    "                color=\"g\", marker='.', linestyle='None', alpha=0.5) \n",
    "                \n",
    "    p4.plot(grism['wave']/1e4, grism['line']/grism['flat'], color=\"r\", alpha=0.5)  \n",
    "    \n",
    "    p4.plot(grism['wave']/1e4, grism['contam']/grism['flat'], color=\"b\", alpha=0.5)\n",
    "    \n",
    "    p4.set_xlim(w0, w1); p4.set_ylim(y0,y1);\n",
    "    #p4.semilogy(); \n",
    "    p4.grid()\n",
    "    p4.set_xlabel(r'$\\lambda$ (microns)')\n",
    "    p4.set_ylabel(r'F$_\\lambda$ (erg/s/cm$^2$/$\\AA$)')\n",
    "    \n",
    "    # Gabe's routine\n",
    "    multifit.show_drizzle_HDU(twod_hdu)\n",
    "    "
   ]
  },
  {
   "cell_type": "code",
   "execution_count": 4,
   "metadata": {
    "ExecuteTime": {
     "end_time": "2022-02-23T15:49:44.046380Z",
     "start_time": "2022-02-23T15:49:44.034658Z"
    }
   },
   "outputs": [],
   "source": [
    "def add_noise(hdu, scale=1.0, background=0.5, exptime=1.e4, nexp=10, readnoise=10., seed=None):\n",
    "\n",
    "    head = hdu['SCI'].header\n",
    "    naxis = (head['NAXIS1'], head['NAXIS2'])\n",
    "\n",
    "    # Simple error model of read noise and sky background\n",
    "    var = nexp*readnoise**2 + background*exptime\n",
    "\n",
    "    # electrons / s\n",
    "    rms = np.sqrt(var)/exptime\n",
    "\n",
    "    poisson = hdu['ERR'].data*exptime\n",
    "\n",
    "    hdu['ERR'].data = np.sqrt(poisson**2 + var)/exptime\n",
    "\n",
    "\n",
    "    for name in ['SCI', 'ERR', 'DQ']:\n",
    "        hdu[name].header['EXPTIME'] = exptime\n",
    "        hdu[name].header['NEXP'] = nexp\n",
    "        hdu[name].header['BUNIT'] = 'ELECTRONS/S'\n",
    "        hdu[name].header['BACKGR'] = background\n",
    "        hdu[name].header['CALCRMS'] = rms, 'Variance used for random noise'\n",
    "\n",
    "    if seed is not None:\n",
    "        np.random.seed(seed)\n",
    "        hdu['ERR'].header['SEED'] = seed, 'Random seed'\n",
    "\n",
    "    hdu['SCI'].data *= scale\n",
    "    hdu['SCI'].data += np.random.normal(size=np.array(naxis).T)*rms\n",
    "\n",
    "    return hdu\n",
    "\n",
    "def add_noise2(hdu, background=0.5, exptime=1.e4, readnoise=10., seed=None):\n",
    "    # background [e-/s]\n",
    "    # readnoise [e-]\n",
    "\n",
    "    head = hdu['SCI'].header\n",
    "    naxis = (head['NAXIS1'], head['NAXIS2'])\n",
    "    \n",
    "    # N_src  # count rate from src [e-/s]\n",
    "    # N_sky  # count rate from sky [e-/s]\n",
    "    # N_dark # dark current\n",
    "    # N_RN   # readnoise\n",
    "    # t      # exposure time\n",
    "    # npix   # number of pixels in aperture\n",
    "    \n",
    "    # signal = N_src*t\n",
    "    # noise = np.sqrt(N_src*t + npix*(N_sky*t + N_dark*t + N_RN**2))\n",
    "    \n",
    "    for name in ['SCI', 'ERR', 'DQ']:\n",
    "        hdu[name].header['EXPTIME'] = exptime\n",
    "        #hdu[name].header['NEXP'] = nexp\n",
    "        hdu[name].header['BUNIT'] = 'ELECTRONS/S'\n",
    "        hdu[name].header['BACKGR'] = background\n",
    "        #hdu[name].header['CALCRMS'] = rms, 'Variance used for random noise'\n",
    "\n",
    "    if seed is not None:\n",
    "        np.random.seed(seed)\n",
    "        hdu['ERR'].header['SEED'] = seed, 'Random seed'\n",
    "    \n",
    "    signal = hdu['SCI'].data                                    # [e-]\n",
    "    noise = np.sqrt(signal*exptime + background*exptime + readnoise**2) # [e-]\n",
    "    #noise = signal + background*exptime + readnoise**2 # [e-]\n",
    "    #noise = np.sqrt(background*exptime + readnoise**2)         # [e-]\n",
    "    \n",
    "    hdu['ERR'].data = noise/exptime # [e-/s]\n",
    "    \n",
    "    total_signal = np.random.poisson(lam=noise, size=noise.shape).astype(\"float64\") # [e-]\n",
    "    #total_signal = signal + noise\n",
    "    final_signal = total_signal/exptime # [e-/s]\n",
    "\n",
    "    hdu['SCI'].data = final_signal\n",
    "\n",
    "    \n",
    "    return hdu\n",
    "\n",
    "def fake_noise(hdu, rms, exptime=1.e4):\n",
    "    \n",
    "    head = hdu['SCI'].header\n",
    "    naxis = (head['NAXIS1'], head['NAXIS2'])\n",
    "    \n",
    "    signal = hdu['SCI'].data # [e-] very close to the counts\n",
    "    \n",
    "    noise = np.random.normal(size=np.array(naxis).T)*rms # [e-/s]\n",
    "\n",
    "    hdu['ERR'].data = noise\n",
    "    hdu['SCI'].data = signal/exptime+noise\n",
    "    \n",
    "    return hdu"
   ]
  },
  {
   "cell_type": "code",
   "execution_count": 5,
   "metadata": {
    "ExecuteTime": {
     "end_time": "2022-02-23T15:49:46.591625Z",
     "start_time": "2022-02-23T15:49:46.586799Z"
    }
   },
   "outputs": [],
   "source": [
    "emlines = [[\"OVI\",         1038.0],         # 0\n",
    "           [\"Ly$\\\\alpha$\", 1215.67],        # 1\n",
    "           [\"CIV\",     1550.0],             # 2\n",
    "           [\"CIII]\",   1909.],              # 3\n",
    "           [\"CII]\",    2327.],              # 4\n",
    "           [\"MgII\",    2796.4],             # 5\n",
    "           [\"MgII\",    2803.5],             # 6\n",
    "           [\"NeV\",     3326.],              # 7\n",
    "           [\"[OII]\",   3727.],  # O2        # 8\n",
    "           [\"[NeIII]\", 3868.7],             # 9\n",
    "           [\"H$\\gamma$\",  4340.5],  # Hg    # 10\n",
    "           [\"[OIII]\",  4363.0],  # O31      # 11\n",
    "           [\"H$\\\\beta$\",   4861.3],  # Hb   # 12\n",
    "           [\"[OIII]\",  4959.0],  # O32      # 13\n",
    "           [\"[OIII]\",  5007.0],  # O33      # 14\n",
    "           [\"[NII]\",   6548.1],             # 15\n",
    "           [\"H$\\\\alpha$\",  6562.8],  # Ha   # 16\n",
    "           [\"[NII]\",   6583.0],             # 17\n",
    "           [\"[SII]\",   6717.0],             # 18\n",
    "           [\"[SII]\",   6731.0],             # 19\n",
    "           [\"P$\\\\delta$\", 10049.8],  # Pd   # 20\n",
    "           [\"P$\\\\gamma$\", 10938.0],  # Pg   # 21\n",
    "           [\"P$\\\\beta$\",  12818.1],  # Pb   # 22\n",
    "           [\"P$\\\\alpha$\", 18750.1],  # Pa   # 23 \n",
    "           [\"Br$\\\\delta$\", 19440.0],  # Br-d (wikipedia, not exact)\n",
    "           [\"Br$\\\\gamma$\", 21660.0],  # Br-g (wikipedia, not exact)\n",
    "           [\"Br$\\\\beta$\",  26250.0],  # Br-b (wikipedia, not exact)\n",
    "           [\"Br$\\\\alpha$\", 40510.0],  # Br-a (wikipedia, not exact) \n",
    "          ]\n",
    "\n",
    "# http://hyperphysics.phy-astr.gsu.edu/hbase/Tables/hydspec.html\n",
    "# http://articles.adsabs.harvard.edu//full/1934ApJ....80...19M/0000022.000.html\n"
   ]
  },
  {
   "cell_type": "markdown",
   "metadata": {},
   "source": [
    "## (TESTING) Reload Core Grizli Python Functions - SKIP\n",
    "\n",
    "Only use if you are editing the Python code while running the Jupyter notebook."
   ]
  },
  {
   "cell_type": "code",
   "execution_count": null,
   "metadata": {
    "ExecuteTime": {
     "end_time": "2021-07-26T02:06:40.690315Z",
     "start_time": "2021-07-26T02:06:40.682958Z"
    }
   },
   "outputs": [],
   "source": [
    "import importlib\n",
    "importlib.reload(grizli.grismconf)"
   ]
  },
  {
   "cell_type": "code",
   "execution_count": null,
   "metadata": {
    "ExecuteTime": {
     "end_time": "2021-07-26T02:06:41.974498Z",
     "start_time": "2021-07-26T02:06:41.968205Z"
    }
   },
   "outputs": [],
   "source": [
    "import importlib\n",
    "importlib.reload(grizli.model)"
   ]
  },
  {
   "cell_type": "code",
   "execution_count": null,
   "metadata": {
    "ExecuteTime": {
     "end_time": "2021-07-26T04:44:46.415038Z",
     "start_time": "2021-07-26T04:44:46.320478Z"
    }
   },
   "outputs": [],
   "source": [
    "import importlib\n",
    "importlib.reload(grizli.multifit)"
   ]
  },
  {
   "cell_type": "code",
   "execution_count": null,
   "metadata": {
    "ExecuteTime": {
     "end_time": "2021-07-26T02:06:43.170156Z",
     "start_time": "2021-07-26T02:06:43.139899Z"
    },
    "scrolled": true
   },
   "outputs": [],
   "source": [
    "import importlib\n",
    "importlib.reload(grizli.fitting)"
   ]
  },
  {
   "cell_type": "code",
   "execution_count": null,
   "metadata": {},
   "outputs": [],
   "source": [
    "import importlib\n",
    "importlib.reload(grizli.prep)"
   ]
  },
  {
   "cell_type": "code",
   "execution_count": null,
   "metadata": {
    "ExecuteTime": {
     "end_time": "2021-07-26T02:06:41.453411Z",
     "start_time": "2021-07-26T02:06:41.400953Z"
    }
   },
   "outputs": [],
   "source": [
    "import importlib\n",
    "importlib.reload(grizli.pipeline.auto_script)"
   ]
  },
  {
   "cell_type": "code",
   "execution_count": null,
   "metadata": {
    "ExecuteTime": {
     "end_time": "2021-07-26T02:06:43.761646Z",
     "start_time": "2021-07-26T02:06:43.754842Z"
    },
    "scrolled": true
   },
   "outputs": [],
   "source": [
    "import importlib\n",
    "importlib.reload(grizli.utils)"
   ]
  },
  {
   "cell_type": "code",
   "execution_count": 6,
   "metadata": {
    "ExecuteTime": {
     "end_time": "2022-02-09T20:50:37.824739Z",
     "start_time": "2022-02-09T20:50:37.819755Z"
    }
   },
   "outputs": [
    {
     "name": "stdout",
     "output_type": "stream",
     "text": [
      "/home/gwalth/data/Roman/grizli/notebooks\n"
     ]
    }
   ],
   "source": [
    "print(os.getcwd())"
   ]
  },
  {
   "cell_type": "markdown",
   "metadata": {},
   "source": [
    "## Path to my simulation directories\n",
    "[top](#Table-of-Contents)"
   ]
  },
  {
   "cell_type": "code",
   "execution_count": 10,
   "metadata": {},
   "outputs": [
    {
     "name": "stdout",
     "output_type": "stream",
     "text": [
      "HOME_PATH =  /Users/gwalth/data/Roman/grizli/sims\n"
     ]
    }
   ],
   "source": [
    "#os.chdir('../')\n",
    "os.chdir('/Users/gwalth/data/Roman/grizli/sims/')\n",
    "#os.chdir('/home/gwalth/data/Roman/grizli/sims/')\n",
    "#os.chdir('/local/RomanSims/grizli/sims/') # cygnusd\n",
    "HOME_PATH = os.getcwd()\n",
    "print('HOME_PATH = ', HOME_PATH)\n",
    "#root = \"hlss\"        # multiple rolls\n",
    "#root = \"hlss_single\"  # single roll\n",
    "root = \"hlss_single_v5\"  # single roll\n",
    "\n",
    "prefix = \"hlss\""
   ]
  },
  {
   "cell_type": "code",
   "execution_count": 11,
   "metadata": {
    "ExecuteTime": {
     "end_time": "2022-02-23T15:50:46.088534Z",
     "start_time": "2022-02-23T15:50:45.646011Z"
    }
   },
   "outputs": [
    {
     "ename": "FileNotFoundError",
     "evalue": "[Errno 2] No such file or directory: '/Users/gwalth/data/Roman/grizli/sims/hlss_single_v5/Prep'",
     "output_type": "error",
     "traceback": [
      "\u001b[0;31m---------------------------------------------------------------------------\u001b[0m",
      "\u001b[0;31mFileNotFoundError\u001b[0m                         Traceback (most recent call last)",
      "Cell \u001b[0;32mIn[11], line 3\u001b[0m\n\u001b[1;32m      1\u001b[0m \u001b[38;5;28;01mimport\u001b[39;00m \u001b[38;5;21;01mglob\u001b[39;00m\n\u001b[0;32m----> 3\u001b[0m \u001b[43mos\u001b[49m\u001b[38;5;241;43m.\u001b[39;49m\u001b[43mchdir\u001b[49m\u001b[43m(\u001b[49m\u001b[43mos\u001b[49m\u001b[38;5;241;43m.\u001b[39;49m\u001b[43mpath\u001b[49m\u001b[38;5;241;43m.\u001b[39;49m\u001b[43mjoin\u001b[49m\u001b[43m(\u001b[49m\u001b[43mHOME_PATH\u001b[49m\u001b[43m,\u001b[49m\u001b[43m \u001b[49m\u001b[43mroot\u001b[49m\u001b[43m,\u001b[49m\u001b[43m \u001b[49m\u001b[38;5;124;43m'\u001b[39;49m\u001b[38;5;124;43mPrep\u001b[39;49m\u001b[38;5;124;43m'\u001b[39;49m\u001b[43m)\u001b[49m\u001b[43m)\u001b[49m\n\u001b[1;32m      4\u001b[0m direct_files \u001b[38;5;241m=\u001b[39m glob\u001b[38;5;241m.\u001b[39mglob(\u001b[38;5;124m'\u001b[39m\u001b[38;5;124m*direct.fits\u001b[39m\u001b[38;5;124m'\u001b[39m)\n\u001b[1;32m      5\u001b[0m \u001b[38;5;66;03m#direct_files = glob.glob('*_v3_direct.fits') # shallow images\u001b[39;00m\n\u001b[1;32m      6\u001b[0m \u001b[38;5;66;03m#direct_files = glob.glob('*_v4_direct.fits') # deep images\u001b[39;00m\n",
      "\u001b[0;31mFileNotFoundError\u001b[0m: [Errno 2] No such file or directory: '/Users/gwalth/data/Roman/grizli/sims/hlss_single_v5/Prep'"
     ]
    }
   ],
   "source": [
    "import glob\n",
    "\n",
    "os.chdir(os.path.join(HOME_PATH, root, 'Prep'))\n",
    "direct_files = glob.glob('*direct.fits')\n",
    "#direct_files = glob.glob('*_v3_direct.fits') # shallow images\n",
    "#direct_files = glob.glob('*_v4_direct.fits') # deep images\n",
    "slitless_files = glob.glob('*slitless.fits')\n",
    "direct_files.sort()\n",
    "slitless_files.sort()\n",
    "print(direct_files)\n",
    "print(slitless_files)\n",
    "print(len(direct_files))\n",
    "print(len(slitless_files))"
   ]
  },
  {
   "cell_type": "code",
   "execution_count": null,
   "metadata": {},
   "outputs": [],
   "source": [
    "hdu = pyfits.open(direct_files[0])\n",
    "print(len(hdu))\n",
    "print(hdu.info())\n",
    "print(hdu[1].header.keys)\n",
    "\n",
    "hdu = pyfits.open(slitless_files[0])\n",
    "print(len(hdu))\n",
    "print(hdu.info())\n",
    "print(hdu[1].header.keys)"
   ]
  },
  {
   "cell_type": "code",
   "execution_count": null,
   "metadata": {},
   "outputs": [],
   "source": []
  },
  {
   "cell_type": "code",
   "execution_count": null,
   "metadata": {},
   "outputs": [],
   "source": []
  },
  {
   "cell_type": "code",
   "execution_count": null,
   "metadata": {},
   "outputs": [],
   "source": []
  },
  {
   "cell_type": "code",
   "execution_count": null,
   "metadata": {},
   "outputs": [],
   "source": [
    "!ls sim_v3/Prep/roll_*/*_final.fits"
   ]
  },
  {
   "cell_type": "code",
   "execution_count": null,
   "metadata": {},
   "outputs": [],
   "source": [
    "!ls sim_v3/Prep/roll_*/*direct_final.fits"
   ]
  },
  {
   "cell_type": "code",
   "execution_count": null,
   "metadata": {},
   "outputs": [],
   "source": [
    "!ls sim_v3/Prep/roll_*/*slitless_final.fits"
   ]
  },
  {
   "cell_type": "markdown",
   "metadata": {},
   "source": [
    "## Directory Structure\n",
    "\n",
    "I was structing it similar to Grizli with Prep, RAW and Extraction directories.  If this were real mission data, the stage that we recieved from Anihita would have been drizzled images and spectra which would go into the Prep directories.\n",
    "\n",
    "This is just showing that we have the right directories and we can find all of the files."
   ]
  },
  {
   "cell_type": "code",
   "execution_count": null,
   "metadata": {},
   "outputs": [],
   "source": [
    "# symbolic links to the locations of the files \n",
    "\n",
    "# ln -s ~/aXeSIM_Roman/OUTSIM/Euclid_Roman_4deg2_field_00*_slitless.fits .\n",
    "# ln -s ~/aXeSIM_Roman/OUTSIM/Euclid_Roman_4deg2_field_00*_direct.fits .\n",
    "# ln -s ~/data/Roman/Galacticus/fields/Euclid_Roman_4deg2_field_????.fits ."
   ]
  },
  {
   "cell_type": "markdown",
   "metadata": {},
   "source": [
    "## Updating headers for Grizli and adding \"realistic\" noise\n",
    "\n",
    "Grizli looks for specific headers in order to decide with instrument conf file to use.  This also needed for how to scale the photometry and spectrocopy throughput.  \n",
    "\n",
    "This is also useful for testing multiple conf files (which appears to be the case we are now in)."
   ]
  },
  {
   "cell_type": "code",
   "execution_count": null,
   "metadata": {},
   "outputs": [],
   "source": [
    "# testing file naming convention\n",
    "#prefix = 'hlss'\n",
    "grism = 'gr'\n",
    "filt  = 'f158'\n",
    "for i,df in enumerate(direct_files):\n",
    "    roll_ang = df.split(\"_\")[4]\n",
    "    ndf = \"-\".join([prefix,\"%03d.0\" % float(roll_ang),filt]) + \"_flt.fits\"\n",
    "    print(ndf)\n",
    "    \n",
    "    \n",
    "for i,sf in enumerate(slitless_files):\n",
    "    roll_ang = sf.split(\"_\")[4]\n",
    "    nsf = \"-\".join([prefix,\"%03d.0\" % float(roll_ang),grism]) + \"_flt.fits\"\n",
    "    print(nsf)\n",
    "    "
   ]
  },
  {
   "cell_type": "code",
   "execution_count": null,
   "metadata": {},
   "outputs": [],
   "source": [
    "# need to write something that matches headers with noise generation for exposure time"
   ]
  },
  {
   "cell_type": "code",
   "execution_count": null,
   "metadata": {},
   "outputs": [],
   "source": [
    "def add_grizli_headers(hdu, hdict, exts=[0,1,2,3]):\n",
    "    \n",
    "    for ext in exts:\n",
    "        for key in hdict:\n",
    "            hdu[ext].header[key] = hdict[key]\n",
    "            \n",
    "    return hdu"
   ]
  },
  {
   "cell_type": "code",
   "execution_count": null,
   "metadata": {},
   "outputs": [],
   "source": []
  },
  {
   "cell_type": "code",
   "execution_count": null,
   "metadata": {},
   "outputs": [],
   "source": [
    "import datetime\n",
    "#current_datetime = datetime.datetime.utcnow()\n",
    "#print(current_datetime.isoformat())\n",
    "hdu = pyfits.open(direct_files[0])\n",
    "date = hdu[1].header['DATE']\n",
    "#time_obj = datetime.datetime.strptime(date, '%Y-%m-%dT%H:%M:%S')\n",
    "time_obj = datetime.datetime.fromisoformat(date)\n",
    "print(time_obj)\n",
    "date_obs = time_obj.strftime(\"%Y-%m-%d\")\n",
    "time_obs = time_obj.strftime(\"%H:%M:%S\")\n",
    "print(date_obs)\n",
    "print(time_obs)\n",
    "\n",
    "from astropy.time import Time\n",
    "t = Time(date, format='fits')\n",
    "print(t.mjd)"
   ]
  },
  {
   "cell_type": "code",
   "execution_count": null,
   "metadata": {},
   "outputs": [],
   "source": [
    "import datetime\n",
    "from astropy.time import Time\n",
    "\n",
    "hdu = pyfits.open(direct_files[0])\n",
    "exptime = hdu[0].header['EXPTIME']\n",
    "crval1 = hdu[1].header['CRVAL1']\n",
    "crval2 = hdu[1].header['CRVAL2']\n",
    "date = hdu[1].header['DATE'] # (YYYY-MM-DDThh:mm:ss UT)\n",
    "\n",
    "time_obj = datetime.datetime.fromisoformat(date)\n",
    "date_obs = time_obj.strftime(\"%Y-%m-%d\")\n",
    "time_obs = time_obj.strftime(\"%H:%M:%S\")\n",
    "\n",
    "t = Time(date, format='fits')\n",
    "mjd = t.mjd\n",
    "\n",
    "#direct_dict   = {'FILTER':'H158',\n",
    "direct_dict   = {'FILTER':'F158',\n",
    "                 #'INSTRUME':'WFIv1-GLW',  # Pandeia's sensitivity function\n",
    "                 'INSTRUME':'WFIv2-GLW',  # Anahita's sensitivity function\n",
    "                 'TARGNAME':'HLSS',\n",
    "                 'DATE-OBS':date_obs,\n",
    "                 'TIME-OBS':time_obs, \n",
    "                 'EXPSTART':mjd, \n",
    "                 'EXPTIME':exptime,\n",
    "                 'RA_TARG':crval1, \n",
    "                 'DEC_TARG':crval2, \n",
    "                 'POSTARG1':0.000000, \n",
    "                 'POSTARG2':0.000000,\n",
    "                 'DETECTOR':'IR',\n",
    "                 'EXTVER':1,\n",
    "                 'ABZP':26.285,\n",
    "                }\n",
    "\n",
    "hdu = pyfits.open(slitless_files[0])\n",
    "exptime = hdu[0].header['EXPTIME']\n",
    "crval1 = hdu[1].header['CRVAL1']\n",
    "crval2 = hdu[1].header['CRVAL2']\n",
    "date = hdu[1].header['DATE'] # (YYYY-MM-DDThh:mm:ss UT)\n",
    "\n",
    "time_obj = datetime.datetime.fromisoformat(date)\n",
    "date_obs = time_obj.strftime(\"%Y-%m-%d\")\n",
    "time_obs = time_obj.strftime(\"%H:%M:%S\")\n",
    "\n",
    "t = Time(date, format='fits')\n",
    "mjd = t.mjd\n",
    "\n",
    "#slitless_dict = {'FILTER':'GRISM',\n",
    "#slitless_dict = {'FILTER':'PR',\n",
    "slitless_dict = {'FILTER':'GR',\n",
    "                 #'INSTRUME':'WFIv1-GLW',  # Pandeia's sensitivity function\n",
    "                 'INSTRUME':'WFIv2-GLW',  # Anahita's sensitivity function\n",
    "                 'TARGNAME':'HLSS',\n",
    "                 'DATE-OBS':date_obs ,\n",
    "                 'TIME-OBS':time_obs, \n",
    "                 'EXPSTART':mjd,\n",
    "                 'EXPTIME':exptime,\n",
    "                 'RA_TARG':crval1, \n",
    "                 'DEC_TARG':crval2, \n",
    "                 'POSTARG1':0.000000, \n",
    "                 'POSTARG2':0.000000,\n",
    "                 'DETECTOR':'IR',\n",
    "                 'EXTVER':1,\n",
    "                 'ABZP':26.285,\n",
    "                }\n",
    "\n",
    "print(direct_dict)\n",
    "print(slitless_dict)"
   ]
  },
  {
   "cell_type": "code",
   "execution_count": null,
   "metadata": {
    "ExecuteTime": {
     "end_time": "2022-02-23T15:51:11.491502Z",
     "start_time": "2022-02-23T15:51:01.959582Z"
    }
   },
   "outputs": [],
   "source": [
    "#suffix = \"\"\n",
    "#suffix = \"_final\"\n",
    "#suffix = \"_drz_sci\"\n",
    "\n",
    "##############\n",
    "### DIRECT ###\n",
    "##############\n",
    "for i,df in enumerate(direct_files):  \n",
    "\n",
    "    \n",
    "    hdu = pyfits.open(df)\n",
    "    #print(hdu[0].header)\n",
    "    #print(hdu[1].header)\n",
    "    \n",
    "    exptime = direct_dict['EXPTIME']\n",
    "    \n",
    "    roll_ang = float(df.split(\"_\")[4])\n",
    "    direct_dict['PA_V3'] = roll_ang\n",
    "    dtime = exptime/(60.*60.*24.)\n",
    "    direct_dict['EXPSTART'] += dtime*i\n",
    "    hdu1 = add_grizli_headers(hdu, direct_dict)\n",
    "    \n",
    "    \n",
    "    # Adding my noise\n",
    "    #hdu2 = add_noise(hdu1, scale=1.0, background=1.12, exptime=141., nexp=1, readnoise=16) # single exposure\n",
    "    #hdu2 = add_noise(hdu1, scale=1.0, background=1.12, exptime=141., nexp=1, readnoise=16) \n",
    "    hdu2 = add_noise(hdu1, scale=1.0, background=1.12, exptime=exptime, nexp=1, readnoise=16) \n",
    "    #hdu2 = add_noise(hdu1, scale=1.0, background=1.12, exptime=141, nexp=8, readnoise=16)  # full depth\n",
    "\n",
    "    #hdu2 = add_noise2(hdu1, background=1.12, exptime=141., readnoise=16) # single exposure\n",
    "    #hdu2 = add_noise2(hdu1, background=1.12, exptime=141.*8, readnoise=16) # full depth\n",
    "\n",
    "    #hdu2 = fake_noise(hdu1, rms=0.01, exptime=141.)\n",
    "    #hdu2 = fake_noise(hdu1, rms=0.001, exptime=141.)\n",
    "    \n",
    "    #ndf = df.replace(\".fits\",suffix+\".fits\")\n",
    "    ndf = \"-\".join([prefix,\"%03d.0\" % float(roll_ang),filt]) + \"_flt.fits\"\n",
    "    hdu2.writeto(ndf, overwrite=True, output_verify='fix')\n",
    "    print(\"Writing\",ndf)\n",
    "    \n",
    "\n",
    "    \n",
    "###############\n",
    "### SPECTRA ###\n",
    "###############\n",
    "for i,sf in enumerate(slitless_files):    \n",
    "\n",
    "    \n",
    "    hdu = pyfits.open(sf)\n",
    "    \n",
    "    exptime = slitless_dict['EXPTIME']\n",
    "    \n",
    "    roll_ang = float(sf.split(\"_\")[4])\n",
    "    slitless_dict['PA_V3'] = roll_ang\n",
    "    dtime = exptime/(60.*60.*24.)\n",
    "    slitless_dict['EXPSTART'] += dtime*i\n",
    "    hdu1 = add_grizli_headers(hdu, slitless_dict)\n",
    "    \n",
    "    # Adding my noise\n",
    "    #hdu2 = add_noise(hdu1, scale=1.0, background=1.12, exptime=301., nexp=1, readnoise=16) # single exposure\n",
    "    hdu2 = add_noise(hdu1, scale=1.0, background=1.12, exptime=exptime, nexp=1, readnoise=16) # full depth\n",
    "    #hdu2 = add_noise(hdu1, scale=1.0, background=1.12, exptime=301., nexp=8, readnoise=16) # full depth\n",
    "\n",
    "    #hdu2 = add_noise2(hdu1, background=1.12, exptime=301., readnoise=16) # single exposure\n",
    "    #hdu2 = add_noise2(hdu1, background=1.12, exptime=301.*8, readnoise=16) # full depth\n",
    "\n",
    "    #hdu2 = fake_noise(hdu1, rms=0.01, exptime=301.) # good test to detect Ha source at \n",
    "    #hdu2 = fake_noise(hdu1, rms=0.001, exptime=301.) \n",
    "    \n",
    "    #nsf = sf.replace(\".fits\",suffix+\".fits\")\n",
    "    nsf = \"-\".join([prefix,\"%03d.0\" % float(roll_ang),grism]) + \"_flt.fits\"\n",
    "    hdu2.writeto(nsf, overwrite=True, output_verify='fix')\n",
    "    print(\"Writing\",nsf)"
   ]
  },
  {
   "cell_type": "code",
   "execution_count": null,
   "metadata": {},
   "outputs": [],
   "source": [
    "#ndirect_files = glob.glob('*direct_final.fits')\n",
    "#nslitless_files = glob.glob('*slitless_final.fits')\n",
    "ndirect_files = glob.glob('*-f158_flt.fits')\n",
    "nslitless_files = glob.glob('*-gr_flt.fits')\n",
    "ndirect_files.sort()\n",
    "nslitless_files.sort()\n",
    "print(ndirect_files)\n",
    "print(nslitless_files)\n",
    "print(len(ndirect_files))\n",
    "print(len(nslitless_files))"
   ]
  },
  {
   "cell_type": "code",
   "execution_count": null,
   "metadata": {},
   "outputs": [],
   "source": [
    "# two extensions\n",
    "\n",
    "def split_fits_files_v1(file, keys=['SCI','ERR'], nkeys=['sci','wht']):\n",
    "    hdu = pyfits.open(file)\n",
    "    head = hdu[0].header\n",
    "    \n",
    "    pri_hdu = pyfits.PrimaryHDU(header=head)\n",
    "        \n",
    "    for k,nk in zip(keys,nkeys):    \n",
    "        img = hdu[k].data\n",
    "        head = hdu[k].header\n",
    "        \n",
    "        nfile = file.replace(\".fits\",\"_drz_\" + nk + \".fits\")\n",
    "        \n",
    "        img_hdu = pyfits.ImageHDU(img, header=head)\n",
    "        new_hdu = pyfits.HDUList([pri_hdu,img_hdu])\n",
    "        new_hdu.writeto(nfile, overwrite=True, output_verify='fix')\n",
    "        \n",
    "        print(\"Writing\",nfile)"
   ]
  },
  {
   "cell_type": "code",
   "execution_count": null,
   "metadata": {},
   "outputs": [],
   "source": [
    "# one extension\n",
    "\n",
    "def split_fits_files_v2(file, keys=['SCI','ERR'], nkeys=['sci','wht']):\n",
    "    hdu = pyfits.open(file)\n",
    "    #head = hdu[0].header\n",
    "    \n",
    "    \n",
    "        \n",
    "    for k,nk in zip(keys,nkeys):    \n",
    "        img = hdu[k].data\n",
    "        head = hdu[k].header\n",
    "\n",
    "        #nfile = file.replace(\".fits\",\"_drz_\" + nk + \".fits\")\n",
    "        nfile = file.replace(\"_flt.fits\",\"_drz_\" + nk + \".fits\")\n",
    "        \n",
    "        new_hdu = pyfits.PrimaryHDU(img,header=head)\n",
    "        new_hdu.writeto(nfile, overwrite=True, output_verify='fix')\n",
    "        \n",
    "        print(\"Writing\",nfile)\n",
    "        \n",
    "\n",
    "def split_fits_files_v3(file, keys=['SCI','ERR'], nkeys=['sci','wht']):\n",
    "    hdu = pyfits.open(file)\n",
    "    #head = hdu[0].header\n",
    "    \n",
    "    \n",
    "        \n",
    "    for k,nk in zip(keys,nkeys):    \n",
    "        img = hdu[k].data\n",
    "        head = hdu[k].header\n",
    "\n",
    "        nfile = file.replace(\".fits\",\"_drz_\" + nk + \".fits\")\n",
    "        #nfile = file.replace(\"_flt.fits\",\"_drz_\" + nk + \".fits\")\n",
    "        \n",
    "        new_hdu = pyfits.PrimaryHDU(img,header=head)\n",
    "        new_hdu.writeto(nfile, overwrite=True, output_verify='fix')\n",
    "        \n",
    "        print(\"Writing\",nfile)"
   ]
  },
  {
   "cell_type": "code",
   "execution_count": null,
   "metadata": {},
   "outputs": [],
   "source": [
    "# one file for the direct image\n",
    "for i,ndf in enumerate([ndirect_files[0]]): \n",
    "    print(ndf)\n",
    "    #split_fits_files_v1(ndf)\n",
    "    split_fits_files_v2(ndf)\n",
    "\n",
    "#for i,nsf in enumerate(nslitless_files):  \n",
    "#    #split_fits_files_v1(nsf)\n",
    "#    split_fits_files_v2(nsf)"
   ]
  },
  {
   "cell_type": "code",
   "execution_count": null,
   "metadata": {},
   "outputs": [],
   "source": [
    "# one file for the direct image\n",
    "split_fits_files_v3(\"Euclid_Roman_4deg2_field_0018_v5_direct_final.fits\")\n"
   ]
  },
  {
   "cell_type": "code",
   "execution_count": null,
   "metadata": {},
   "outputs": [],
   "source": [
    "import shutil\n",
    "\n",
    "dir_file = 'hlss-018.0-f158_drz_sci.fits'\n",
    "wht_file = 'hlss-018.0-f158_drz_wht.fits'\n",
    "print(dir_file)\n",
    "print(wht_file)\n",
    "\n",
    "shutil.copyfile(dir_file, '%s-f158_drz_sci.fits' % (prefix))\n",
    "shutil.copyfile(wht_file, '%s-f158_drz_wht.fits' % (prefix))"
   ]
  },
  {
   "cell_type": "code",
   "execution_count": null,
   "metadata": {},
   "outputs": [],
   "source": [
    "#! cp hlss-000.0-f158_drz_sci.fits hlss-f158_drz_sci.fits\n",
    "#! cp hlss-000.0-f158_drz_wht.fits hlss-f158_drz_wht.fits"
   ]
  },
  {
   "cell_type": "code",
   "execution_count": null,
   "metadata": {},
   "outputs": [],
   "source": [
    "! cp hlss-018.0-f158_drz_sci.fits hlss-f158_drz_sci.fits\n",
    "! cp hlss-018.0-f158_drz_wht.fits hlss-f158_drz_wht.fits"
   ]
  },
  {
   "cell_type": "code",
   "execution_count": null,
   "metadata": {},
   "outputs": [],
   "source": [
    "hdu = pyfits.open(\"%s-f158_drz_sci.fits\" % (prefix))\n",
    "print(len(hdu))\n",
    "print(hdu.info())\n",
    "#print(hdu[1].header)"
   ]
  },
  {
   "cell_type": "code",
   "execution_count": null,
   "metadata": {},
   "outputs": [],
   "source": [
    "\n",
    "# not working!!!\n",
    "hdu = pyfits.open(\"Euclid_Roman_4deg2_field_0018_v3_direct_final.fits\")\n",
    "print(len(hdu))\n",
    "print(hdu.info())\n",
    "#print(hdu[1].header)"
   ]
  },
  {
   "cell_type": "markdown",
   "metadata": {},
   "source": [
    "## Roman object simulation\n",
    "[top](#Table-of-Contents)"
   ]
  },
  {
   "cell_type": "code",
   "execution_count": null,
   "metadata": {},
   "outputs": [],
   "source": [
    "##############################\n",
    "# compare branch differences #\n",
    "##############################\n",
    "\n",
    "# git diff roman_sims_v1_gwalth..master -- *.py\n",
    "\n",
    "# cd ~/python/grizli_1.3.2/grizli\n",
    "\n",
    "# rsync -avz grismconf.py cygnusc.ipac.caltech.edu:/home/gwalth/python/src/grizli/grizli\n",
    "# rsync -avz model.py     cygnusc.ipac.caltech.edu:/home/gwalth/python/src/grizli/grizli\n",
    "# rsync -avz multifit.py  cygnusc.ipac.caltech.edu:/home/gwalth/python/src/grizli/grizli\n",
    "# rsync -avz utils.py     cygnusc.ipac.caltech.edu:/home/gwalth/python/src/grizli/grizli\n"
   ]
  },
  {
   "cell_type": "code",
   "execution_count": null,
   "metadata": {},
   "outputs": [],
   "source": [
    "#########################\n",
    "# copy grism conf files #\n",
    "#########################\n",
    "\n",
    "# cd ~/data/Roman/grizli/grizli/CONF\n",
    "\n",
    "# rsync -avz Roman.G150-v?-GLW.conf cygnusc.ipac.caltech.edu:/home/gwalth/data/Roman/grizli/grizli/CONF\n",
    "# rsync -avz sens_0720_2020.fits    cygnusc.ipac.caltech.edu:/home/gwalth/data/Roman/grizli/grizli/CONF"
   ]
  },
  {
   "cell_type": "code",
   "execution_count": null,
   "metadata": {},
   "outputs": [],
   "source": []
  },
  {
   "cell_type": "code",
   "execution_count": null,
   "metadata": {},
   "outputs": [],
   "source": []
  },
  {
   "cell_type": "code",
   "execution_count": null,
   "metadata": {},
   "outputs": [],
   "source": []
  },
  {
   "cell_type": "code",
   "execution_count": null,
   "metadata": {},
   "outputs": [],
   "source": [
    "import glob\n",
    "#files = glob.glob(\"*_drz_sci.fits\")\n",
    "files = glob.glob(\"*_flt.fits\")\n",
    "print(files)"
   ]
  },
  {
   "cell_type": "code",
   "execution_count": null,
   "metadata": {},
   "outputs": [],
   "source": [
    "# visists seem to be not needed, yet..."
   ]
  },
  {
   "cell_type": "code",
   "execution_count": null,
   "metadata": {},
   "outputs": [],
   "source": [
    "visits, all_groups, info = auto_script.parse_visits(field_root=prefix, #RAW_PATH='../rolls',\n",
    "                                                    files=files, combine_same_pa=False,filters=['F158','GR'])"
   ]
  },
  {
   "cell_type": "code",
   "execution_count": null,
   "metadata": {},
   "outputs": [],
   "source": [
    "print(visits)\n",
    "print(all_groups)\n",
    "print(info)"
   ]
  },
  {
   "cell_type": "code",
   "execution_count": null,
   "metadata": {},
   "outputs": [],
   "source": [
    "# Preview what will be processed\n",
    "\n",
    "from sregion import SRegion\n",
    "\n",
    "\n",
    "colors = [c['color'] for c in plt.rcParams['axes.prop_cycle']]\n",
    "\n",
    "fig, ax = plt.subplots(1,1,figsize=(8,8))\n",
    "\n",
    "for i, v in enumerate(visits):\n",
    "    #sr = utils.SRegion(v['footprint'])\n",
    "    sr = SRegion(v['footprint'])\n",
    "\n",
    "    ax.scatter(*sr.centroid[0], marker='.', c=colors[i])\n",
    "    \n",
    "    for patch in sr.patch(ec=colors[i], fc='None', alpha=0.5, label=v['product']):\n",
    "        ax.add_patch(patch)\n",
    "\n",
    "ax.set_aspect(1./np.cos(ax.get_ylim()[0]/180*np.pi)) # square with cos(dec)\n",
    "ax.set_xlim(ax.get_xlim()[::-1])\n",
    "ax.legend()\n",
    "ax.grid()"
   ]
  },
  {
   "cell_type": "code",
   "execution_count": null,
   "metadata": {},
   "outputs": [],
   "source": []
  },
  {
   "cell_type": "code",
   "execution_count": null,
   "metadata": {},
   "outputs": [],
   "source": []
  },
  {
   "cell_type": "code",
   "execution_count": null,
   "metadata": {},
   "outputs": [],
   "source": [
    "utils.set_warnings()\n",
    "print(root)\n",
    "os.chdir(os.path.join(HOME_PATH, root, 'Prep'))\n",
    "#phot = auto_script.multiband_catalog(field_root=root, filters=['F158'], sci_image=\"hlss-000.0-f158_drz_sci.fits\",\n",
    "#                                     detection_filter='F158', get_all_filters=True)\n",
    "phot = auto_script.multiband_catalog(field_root=prefix, filters=['F158'], sci_image=\"%s-f158_drz_sci.fits\" % (prefix),\n",
    "                                     detection_filter='F158', get_all_filters=True)"
   ]
  },
  {
   "cell_type": "code",
   "execution_count": null,
   "metadata": {},
   "outputs": [],
   "source": [
    "utils.set_warnings()\n",
    "print(root)\n",
    "os.chdir(os.path.join(HOME_PATH, root, 'Prep'))\n",
    "phot = auto_script.multiband_catalog(field_root=root, filters=['F158'], sci_image=\"Euclid_Roman_4deg2_field_0018_v3_direct_final_drz_sci.fits\",\n",
    "                                     detection_filter='F158', get_all_filters=True)"
   ]
  },
  {
   "cell_type": "code",
   "execution_count": null,
   "metadata": {},
   "outputs": [],
   "source": [
    "#!cp hlss-F158.cat.fits hlss-ir.cat.fits\n",
    "import shutil\n",
    "\n",
    "shutil.copyfile('%s-F158.cat.fits' % (prefix), '%s-ir.cat.fits' % (prefix))"
   ]
  },
  {
   "cell_type": "code",
   "execution_count": null,
   "metadata": {},
   "outputs": [],
   "source": [
    "print(phot)\n",
    "print(phot.colnames)"
   ]
  },
  {
   "cell_type": "code",
   "execution_count": null,
   "metadata": {},
   "outputs": [],
   "source": [
    "fig = plt.figure()\n",
    "p1 = fig.add_subplot(111)\n",
    "p1.hist(phot['mag_auto'],bins=50)\n",
    "plt.show()\n"
   ]
  },
  {
   "cell_type": "code",
   "execution_count": null,
   "metadata": {},
   "outputs": [],
   "source": [
    "from grizli.pipeline.auto_script import get_yml_parameters\n",
    "\n",
    "# Read the default parameters that can be edited and passed en-masse to `auto_script.go`\n",
    "kwargs = get_yml_parameters()\n",
    "print(list(kwargs.keys()))"
   ]
  },
  {
   "cell_type": "code",
   "execution_count": null,
   "metadata": {},
   "outputs": [],
   "source": [
    "print(kwargs['grism_prep_args'])"
   ]
  },
  {
   "cell_type": "markdown",
   "metadata": {},
   "source": [
    "### Using groups for multiple roll angles (testing)"
   ]
  },
  {
   "cell_type": "code",
   "execution_count": null,
   "metadata": {},
   "outputs": [],
   "source": [
    "import importlib\n",
    "importlib.reload(grizli.prep)"
   ]
  },
  {
   "cell_type": "code",
   "execution_count": null,
   "metadata": {
    "ExecuteTime": {
     "end_time": "2021-07-26T02:06:43.761646Z",
     "start_time": "2021-07-26T02:06:43.754842Z"
    },
    "scrolled": true
   },
   "outputs": [],
   "source": [
    "import importlib\n",
    "importlib.reload(grizli.utils)"
   ]
  },
  {
   "cell_type": "code",
   "execution_count": null,
   "metadata": {
    "ExecuteTime": {
     "end_time": "2021-07-26T02:06:41.453411Z",
     "start_time": "2021-07-26T02:06:41.400953Z"
    }
   },
   "outputs": [],
   "source": [
    "import importlib\n",
    "importlib.reload(grizli.pipeline.auto_script)"
   ]
  },
  {
   "cell_type": "code",
   "execution_count": null,
   "metadata": {},
   "outputs": [],
   "source": [
    "from importlib import reload\n",
    "from grizli import model, multifit, grismconf\n",
    "\n",
    "#os.chdir(os.path.join(HOME_PATH + root, 'Prep'))\n",
    "os.chdir(os.path.join(HOME_PATH, root, 'Prep'))\n",
    "         \n",
    "if not os.path.exists('../Extractions'):\n",
    "    os.mkdir('../Extractions')\n",
    "    \n",
    "files = glob.glob('*GrismFLT.fits')\n",
    "\n",
    "if len(files) == 0:\n",
    "    ### Grism contamination model\n",
    "\n",
    "    # Which filter to use as direct image?  Will try in order of the list until a match is found.\n",
    "    grism_prep_args = kwargs['grism_prep_args']\n",
    "   \n",
    "    files = glob.glob(\"*_flt.fits\")\n",
    "    grism_prep_args['files'] = files\n",
    "    \n",
    "    # For now, turn off refining contamination model with polynomial fits\n",
    "    #grism_prep_args['refine_niter'] = 2\n",
    "    grism_prep_args['refine_niter'] = 0\n",
    "    \n",
    "    # Flat-flambda spectra\n",
    "    grism_prep_args['init_coeffs'] = [1.0]\n",
    "    \n",
    "    grism_prep_args['mask_mosaic_edges'] = False\n",
    "    \n",
    "    # Fairly bright for speedup, these can be adjusted based on how deep the spectra/visits are\n",
    "    grism_prep_args['refine_mag_limits'] = [17,24]\n",
    "    grism_prep_args['prelim_mag_limit'] = 25\n",
    "    \n",
    "    grism_prep_args['gris_ref_filters'] = {'GR':['F158']}\n",
    "    \n",
    "    print(grism_prep_args)\n",
    "    \n",
    "    grp = auto_script.grism_prep(field_root=prefix, pad=800, **grism_prep_args)\n",
    "\n",
    "    grp = multifit.GroupFLT(grism_files=glob.glob('*GrismFLT.fits'), \n",
    "                            catalog='{0}-ir.cat.fits'.format(prefix), \n",
    "                            cpu_count=-1, sci_extn=1, pad=800)\n",
    "    \n",
    "else:\n",
    "    os.chdir(os.path.join(HOME_PATH, root, 'Prep'))\n",
    "\n",
    "    grp = multifit.GroupFLT(grism_files=glob.glob('*GrismFLT.fits'), \n",
    "                            catalog='{0}-ir.cat.fits'.format(prefix), \n",
    "                            cpu_count=-1, sci_extn=1, pad=800) "
   ]
  },
  {
   "cell_type": "code",
   "execution_count": null,
   "metadata": {},
   "outputs": [],
   "source": [
    "# all the ids in the grp (GLW)\n",
    "\n",
    "all_ids = [id for flt in grp.FLTs for id in flt.object_dispersers]\n",
    "\n",
    "print(\"Number of FLTs:\")\n",
    "print(len(grp.FLTs))\n",
    "\n",
    "ids = list(set(all_ids))\n",
    "ids.sort()\n",
    "print(\"ids =\")\n",
    "print(ids)\n",
    "print(\"Number of ids:\")\n",
    "print(len(ids))"
   ]
  },
  {
   "cell_type": "code",
   "execution_count": null,
   "metadata": {},
   "outputs": [],
   "source": [
    "sources = ids\n",
    "print(sources)\n",
    "print(len(sources))"
   ]
  },
  {
   "cell_type": "code",
   "execution_count": null,
   "metadata": {
    "ExecuteTime": {
     "end_time": "2022-02-23T15:49:30.361588Z",
     "start_time": "2022-02-23T15:49:29.129636Z"
    }
   },
   "outputs": [],
   "source": [
    "import grizli_functions"
   ]
  },
  {
   "cell_type": "code",
   "execution_count": null,
   "metadata": {
    "ExecuteTime": {
     "end_time": "2021-12-09T19:25:59.760541Z",
     "start_time": "2021-12-09T19:25:59.755767Z"
    }
   },
   "outputs": [],
   "source": [
    "import importlib\n",
    "importlib.reload(grizli_functions)"
   ]
  },
  {
   "cell_type": "code",
   "execution_count": null,
   "metadata": {},
   "outputs": [],
   "source": [
    "from grizli_functions import grizli_fit_all_z_niriss, grizli_fit_all_z_async_niriss\n",
    "from grizli_functions import grizli_write_all_beams, grizli_fit_all_z_async_final_2"
   ]
  },
  {
   "cell_type": "code",
   "execution_count": null,
   "metadata": {},
   "outputs": [],
   "source": [
    "LOCAL_PATH = \"/local/RomanSims/grizli/sims\""
   ]
  },
  {
   "cell_type": "code",
   "execution_count": null,
   "metadata": {},
   "outputs": [],
   "source": [
    "print(HOME_PATH)\n",
    "print(LOCAL_PATH)"
   ]
  },
  {
   "cell_type": "code",
   "execution_count": null,
   "metadata": {},
   "outputs": [],
   "source": [
    "os.chdir(os.path.join(LOCAL_PATH, root, 'Extractions'))"
   ]
  },
  {
   "cell_type": "code",
   "execution_count": null,
   "metadata": {},
   "outputs": [],
   "source": [
    "os.chdir(os.path.join(HOME_PATH, root, 'Extractions'))"
   ]
  },
  {
   "cell_type": "code",
   "execution_count": null,
   "metadata": {},
   "outputs": [],
   "source": [
    "grizli_write_all_beams(root=prefix, \n",
    "                       sources = sources)"
   ]
  },
  {
   "cell_type": "code",
   "execution_count": null,
   "metadata": {},
   "outputs": [],
   "source": [
    "def beams_ids(root):\n",
    "    \"\"\"Generates list of ids from beams written\n",
    "    \n",
    "    Parameters\n",
    "    ----------\n",
    "    root: str\n",
    "        Beam format \n",
    "            '{root}_{id}.beams.fits'\n",
    "    \n",
    "    Returns\n",
    "    -------\n",
    "    ids: list\n",
    "    \"\"\"\n",
    "    \n",
    "    L = glob.glob(\"{0}*.beams.fits\".format(root))\n",
    "    \n",
    "    ids = []\n",
    "    for l in L:\n",
    "        id = int(l.replace(\".beams.fits\",\"\").replace(root + \"_\",\"\"))\n",
    "        ids.append(id)\n",
    "    return ids\n",
    "\n",
    "#bids = beams_ids(root)\n",
    "bids = beams_ids(prefix)\n",
    "#print(bids)\n",
    "print(len(bids))\n",
    "help(beams_ids)\n",
    "bids.sort()\n",
    "\n",
    "#bids.index(595)\n",
    "sources = bids\n",
    "print(sources)\n",
    "print(len(sources))"
   ]
  },
  {
   "cell_type": "code",
   "execution_count": null,
   "metadata": {},
   "outputs": [],
   "source": [
    "#ind = sources.index(1453)\n",
    "#print(ind)\n",
    "\n",
    "#new_sources = sources[:500]\n",
    "new_sources = sources[1500:2000]\n",
    "#new_sources = sources[ind:]\n",
    "print(new_sources)\n",
    "print(len(new_sources))"
   ]
  },
  {
   "cell_type": "code",
   "execution_count": null,
   "metadata": {},
   "outputs": [],
   "source": [
    "print(HOME_PATH)\n",
    "#print(LOCAL_PATH)\n",
    "print(root)\n",
    "print(prefix)"
   ]
  },
  {
   "cell_type": "code",
   "execution_count": null,
   "metadata": {
    "ExecuteTime": {
     "end_time": "2021-07-26T04:44:46.415038Z",
     "start_time": "2021-07-26T04:44:46.320478Z"
    }
   },
   "outputs": [],
   "source": [
    "import importlib\n",
    "importlib.reload(grizli.multifit)"
   ]
  },
  {
   "cell_type": "code",
   "execution_count": null,
   "metadata": {
    "scrolled": true
   },
   "outputs": [],
   "source": [
    "t0 = time.time()\n",
    "\n",
    "fwhm = 325 # km/s\n",
    "#t0 = utils.load_templates(fwhm=fwhm, line_complexes=True, fsps_templates=True) # redshift fits, fixed line ratios\n",
    "#t1 = utils.load_templates(fwhm=fwhm, line_complexes=False, fsps_templates=True) # final fits\n",
    "\n",
    "# Fitting templates\n",
    "\n",
    "# First is set with combined emission line complexes for the redshift fit \n",
    "# (don't allow infinite freedom) of the line ratios / fluxes\n",
    "temp0 = grizli.utils.load_templates(fwhm=fwhm, line_complexes=True, stars=False, \n",
    "                                     full_line_list=None,  continuum_list=None, \n",
    "                                     fsps_templates=True)\n",
    "\n",
    "# Second set has individual line templates for fitting the line fluxes\n",
    "temp1 = grizli.utils.load_templates(fwhm=fwhm, line_complexes=False, stars=False, \n",
    "                                     full_line_list=None, continuum_list=None, \n",
    "                                     fsps_templates=True)\n",
    "\n",
    "\n",
    "#for id in sources:\n",
    "for id in new_sources:\n",
    "\n",
    "    print(id)\n",
    "    \n",
    "    fitting.run_all(id, temp0, temp1, fit_only_beams=True, fwhm=fwhm, zr=[0.05, 6.0], \n",
    "                    dz=[0.004, 0.0002], fitter=['nnls', 'bounded'], group_name=prefix)\n",
    "\n",
    "    \n",
    "\n",
    "t1 = time.time()\n",
    "\n",
    "print()\n",
    "print(\"Finished in %.1f seconds\" % (t1-t0))"
   ]
  },
  {
   "cell_type": "code",
   "execution_count": null,
   "metadata": {},
   "outputs": [],
   "source": [
    "# grizli_fit_all_z_async_final_2 works with grps format!!!"
   ]
  },
  {
   "cell_type": "markdown",
   "metadata": {},
   "source": [
    "### grizli_fit_all_z_async_final_2\n",
    "Redshift fitting process:\n",
    "1. grizli_write_all_beams\n",
    "2. beams_ids\n",
    "3. grizli_fit_all_z_async_final_2\n",
    "\n",
    "To do:\n",
    "- fix when there are no sources\n"
   ]
  },
  {
   "cell_type": "code",
   "execution_count": null,
   "metadata": {},
   "outputs": [],
   "source": [
    "grizli_fit_all_z_async_final_2(HOME_PATH=HOME_PATH,        \n",
    "                               root=root, prefix=prefix, sources = new_sources,\n",
    "                               N_CPU=4, mag_limit=30, z1=0.05, z2=6.0)  "
   ]
  },
  {
   "cell_type": "code",
   "execution_count": null,
   "metadata": {},
   "outputs": [],
   "source": []
  },
  {
   "cell_type": "code",
   "execution_count": null,
   "metadata": {},
   "outputs": [],
   "source": []
  },
  {
   "cell_type": "code",
   "execution_count": null,
   "metadata": {
    "ExecuteTime": {
     "end_time": "2022-02-23T16:20:43.015711Z",
     "start_time": "2022-02-23T16:19:09.005618Z"
    }
   },
   "outputs": [],
   "source": [
    "t0 = time.time()\n",
    "\n",
    "print(Roman)\n",
    "\n",
    "import pickle\n",
    "\n",
    "# ~ 5GB file\n",
    "with open('Roman_GrismFLT.pickle', 'wb') as f:\n",
    "    # Pickle the 'data' dictionary using the highest protocol available.\n",
    "    pickle.dump(Roman, f, pickle.HIGHEST_PROTOCOL)\n",
    "    \n",
    "t1 = time.time()\n",
    "\n",
    "print()\n",
    "print(\"Finished in %.1f seconds\" % (t1-t0))"
   ]
  },
  {
   "cell_type": "code",
   "execution_count": null,
   "metadata": {
    "ExecuteTime": {
     "end_time": "2022-02-16T18:46:11.236775Z",
     "start_time": "2022-02-16T18:46:06.421524Z"
    }
   },
   "outputs": [],
   "source": [
    "t0 = time.time()\n",
    "\n",
    "import pickle\n",
    "\n",
    "with open('Roman_GrismFLT.pickle', 'rb') as f:\n",
    "    # The protocol version used is detected automatically, so we do not\n",
    "    # have to specify it.\n",
    "    Roman = pickle.load(f)\n",
    "    \n",
    "t1 = time.time()\n",
    "\n",
    "print()\n",
    "print(\"Finished in %.1f seconds\" % (t1-t0))"
   ]
  },
  {
   "cell_type": "code",
   "execution_count": null,
   "metadata": {
    "ExecuteTime": {
     "end_time": "2022-02-16T18:46:14.367006Z",
     "start_time": "2022-02-16T18:46:14.312648Z"
    }
   },
   "outputs": [],
   "source": [
    "print(Roman)\n",
    "print(Roman.__dict__)"
   ]
  },
  {
   "cell_type": "code",
   "execution_count": null,
   "metadata": {},
   "outputs": [],
   "source": [
    "print()\n",
    "all_objects = muppy.get_objects()\n",
    "print(\"All objects = %i\" % (len(all_objects)))\n",
    "sum1 = summary.summarize(all_objects)\n",
    "summary.print_(sum1)"
   ]
  },
  {
   "cell_type": "markdown",
   "metadata": {},
   "source": [
    "## (TESTING) Roman pad and magnitude test - SKIP"
   ]
  },
  {
   "cell_type": "code",
   "execution_count": null,
   "metadata": {
    "ExecuteTime": {
     "end_time": "2021-05-28T04:51:24.164178Z",
     "start_time": "2021-05-28T04:18:32.453643Z"
    }
   },
   "outputs": [],
   "source": [
    "### Roman GRS grism\n",
    "\n",
    "# test set\n",
    "#pads = [0]\n",
    "#mag_limits = [18,20]\n",
    "\n",
    "pads = [0,100,200,400,800]\n",
    "mag_limits = [18,20,22,24,26]\n",
    "\n",
    "info_list = []\n",
    "cat_list = []\n",
    "i = 0 # iter\n",
    "N = len(pads) * len(mag_limits) # total iter\n",
    "\n",
    "for pad in pads:\n",
    "    for mag_limit in mag_limits:\n",
    "\n",
    "        Roman = grizli.model.GrismFLT(grism_file=new_slitless, verbose=True, pad=pad,  \n",
    "                                      ref_file=new_direct, ref_ext=1,\n",
    "                                      seg_file=seg, shrink_segimage=True)\n",
    "\n",
    "        Roman_cat = Roman.blot_catalog(phot, sextractor=True) \n",
    "        Roman.catalog = Roman_cat\n",
    "\n",
    "        mask = Roman_cat['MAG_AUTO'] < mag_limit\n",
    "        Ntot = mask.sum()\n",
    "        \n",
    "        Roman.compute_full_model(ids=Roman_cat['NUMBER'][mask], mags=Roman_cat['MAG_AUTO'][mask])\n",
    "        \n",
    "        ids_ext = []\n",
    "        for id in Roman.object_dispersers:\n",
    "            is_cgs, spectrum_1d, beam = Roman.object_dispersers[id]\n",
    "            if len(beam) > 0: \n",
    "                ids_ext.append(id)\n",
    "        \n",
    "        ids_ext = np.array(ids_ext)\n",
    "        Next = len(ids_ext)\n",
    "        \n",
    "        print()\n",
    "        print('iter = %i of %i' % (i+1,N))\n",
    "        print('%5s %9s %5s %5s %9s' % (\"pad\", \"mag_limit\", \"Ntot\", \"Next\", \"Next/Ntot\"))\n",
    "        print('%5d %9d %5d %5d %9.3f' % (pad, mag_limit, Ntot, Next, Next/Ntot))\n",
    "        print(\"\\n\")\n",
    "        \n",
    "        info_list.append([pad, mag_limit, Ntot, Next])\n",
    "        \n",
    "        Roman_extract = Roman.catalog[ids_ext - 1] \n",
    "        cat_list.append(Roman_extract)\n",
    "        \n",
    "        fig = plt.figure(figsize=[20,10])\n",
    "        # Direct\n",
    "        ax1 = fig.add_subplot(121)\n",
    "        ax1.imshow(Roman.direct.data['REF']/Roman.direct.ref_photflam, interpolation='Nearest', \n",
    "                   origin='lower', vmin=-0.5, vmax=2.0, cmap='viridis')\n",
    "        ax1.scatter(Roman_extract['x_flt'], Roman_extract['y_flt'], s=100,\n",
    "                   edgecolor='white', facecolor='none', alpha=0.7)\n",
    "        ax1.set_xticklabels([])\n",
    "        ax1.set_title('pad=%d  mag_limit=%d  Ntot=%d  Next=%d' %(pad,mag_limit,Ntot,Next))\n",
    "\n",
    "        # Grism\n",
    "        ax2 = fig.add_subplot(122)\n",
    "        ax2.imshow(Roman.model + Roman.grism.data['SCI'], interpolation='Nearest', \n",
    "                   origin='lower', vmin=-0.5, vmax=2.0, cmap='gray_r')\n",
    "        ax2.scatter(Roman_extract['x_flt'], Roman_extract['y_flt'], s=100,\n",
    "                   edgecolor='green', facecolor='none', alpha=0.7)\n",
    "        ax2.set_title('%s - %s' %(Roman.grism.instrument, Roman.grism.filter))\n",
    "        fig.tight_layout(pad=4.0)   \n",
    "        \n",
    "        i += 1\n",
    "        \n",
    "#print(info_list)\n",
    "\n",
    "\n",
    "print(\"\\n\\n\")\n",
    "print(\"#\"*12)\n",
    "print(\"Test summary\")\n",
    "print(\"#\"*12)\n",
    "print('%5s %9s %5s %5s %9s' % (\"pad\", \"mag_limit\", \"Ntot\", \"Next\", \"Next/Ntot\"))\n",
    "for info in info_list:\n",
    "    pad, mag_limit, Ntot, Next = info\n",
    "    print('%5d %9d %5d %5d %9.3f' % (pad, mag_limit, Ntot, Next, Next/Ntot))\n",
    "\n",
    "print()\n",
    "print(len(cat_list))\n",
    "#print(cat_list)"
   ]
  },
  {
   "cell_type": "markdown",
   "metadata": {},
   "source": [
    "## Check simulation\n",
    "[top](#Table-of-Contents)\n",
    "\n",
    "Possible problem with the aXeSIM conf file.  This function checks if the OrderDict exists within GrismFLT class."
   ]
  },
  {
   "cell_type": "code",
   "execution_count": null,
   "metadata": {
    "ExecuteTime": {
     "end_time": "2022-02-16T18:46:21.433377Z",
     "start_time": "2022-02-16T18:46:21.430867Z"
    }
   },
   "outputs": [],
   "source": [
    "mag_limit = 30"
   ]
  },
  {
   "cell_type": "code",
   "execution_count": null,
   "metadata": {
    "ExecuteTime": {
     "end_time": "2022-02-16T18:46:22.318444Z",
     "start_time": "2022-02-16T18:46:22.300311Z"
    }
   },
   "outputs": [],
   "source": [
    "Roman_all,Roman_magcut,Roman_extract = check_sims(Roman, mag_limit)"
   ]
  },
  {
   "cell_type": "code",
   "execution_count": null,
   "metadata": {
    "ExecuteTime": {
     "end_time": "2022-02-10T23:48:44.979965Z",
     "start_time": "2022-02-10T23:48:44.958256Z"
    }
   },
   "outputs": [],
   "source": [
    "print(Roman_extract)"
   ]
  },
  {
   "cell_type": "code",
   "execution_count": null,
   "metadata": {
    "ExecuteTime": {
     "end_time": "2022-02-01T21:18:29.812269Z",
     "start_time": "2022-02-01T21:18:29.794054Z"
    }
   },
   "outputs": [],
   "source": [
    "Roman.catalog[:20].show_in_notebook()"
   ]
  },
  {
   "cell_type": "code",
   "execution_count": null,
   "metadata": {
    "ExecuteTime": {
     "end_time": "2021-05-27T21:16:31.183368Z",
     "start_time": "2021-05-27T21:16:31.176597Z"
    }
   },
   "outputs": [],
   "source": [
    "#wcs = pywcs.WCS(head)"
   ]
  },
  {
   "cell_type": "markdown",
   "metadata": {},
   "source": [
    "## Show direct images and slitless spectra\n",
    "[top](#Table-of-Contents)"
   ]
  },
  {
   "cell_type": "code",
   "execution_count": null,
   "metadata": {
    "ExecuteTime": {
     "end_time": "2022-02-01T21:18:35.991922Z",
     "start_time": "2022-02-01T21:18:34.579570Z"
    }
   },
   "outputs": [],
   "source": [
    "### Show them!\n",
    "\n",
    "fig = plt.figure(figsize=[10,20])\n",
    "# Direct\n",
    "axt = fig.add_subplot(211)\n",
    "axt.imshow(Roman.direct.data['REF']/Roman.direct.ref_photflam, interpolation='Nearest', \n",
    "           origin='lower', vmin=-0.1, vmax=0.1, cmap='inferno')\n",
    "# Grism\n",
    "axb = fig.add_subplot(212)\n",
    "axb.imshow(Roman.model + Roman.grism.data['SCI'], interpolation='Nearest', \n",
    "           origin='lower', cmap='gray_r', vmin=-0.02, vmax=0.02)\n",
    "axb.set_title('%s - %s' %(Roman.grism.instrument, Roman.grism.filter))\n",
    "    \n",
    "\n",
    "axt.set_yticklabels([])\n",
    "axb.set_yticklabels([])\n",
    "\n",
    "fig.tight_layout(pad=0.5)"
   ]
  },
  {
   "cell_type": "markdown",
   "metadata": {},
   "source": [
    "## Show direct images and slitless spectra (with sources overplotted)\n",
    "\n",
    "This is a check to see if there is a field dependence (or magnitude) to the failed simulations."
   ]
  },
  {
   "cell_type": "code",
   "execution_count": null,
   "metadata": {
    "ExecuteTime": {
     "end_time": "2022-02-01T21:18:43.994383Z",
     "start_time": "2022-02-01T21:18:42.635332Z"
    }
   },
   "outputs": [],
   "source": [
    "### Show them!\n",
    "# Compare to the actual G141 exposure\n",
    "fig = plt.figure(figsize=[10,20])\n",
    "\n",
    "#Roman_extract = Roman.catalog[0][0]\n",
    "\n",
    "# Direct\n",
    "#ax1 = fig.add_subplot(211, projection=wcs)\n",
    "ax1 = fig.add_subplot(211)\n",
    "ax1.imshow(Roman.direct.data['REF']/Roman.direct.ref_photflam, interpolation='Nearest', \n",
    "           origin='lower', vmin=-0.5, vmax=0.5, cmap='viridis')\n",
    "\n",
    "ax1.scatter(Roman_extract['x_flt'], Roman_extract['y_flt'], s=100,\n",
    "           edgecolor='white', facecolor='none', alpha=0.5)\n",
    "\n",
    "#ax1.set_xticklabels([])\n",
    "print(ax1.get_xlim())\n",
    "print(ax1.get_ylim())\n",
    "    \n",
    "# Grism\n",
    "#ax2 = fig.add_subplot(212, projection=wcs)\n",
    "ax2 = fig.add_subplot(212)\n",
    "ax2.imshow(Roman.model + Roman.grism.data['SCI'], interpolation='Nearest', \n",
    "           origin='lower', vmin=-0.5, vmax=0.5, cmap='gray_r')\n",
    "\n",
    "ax2.scatter(Roman_extract['x_flt'], Roman_extract['y_flt'], s=100,\n",
    "           edgecolor='green', facecolor='none', alpha=0.5)\n",
    "\n",
    "\n",
    "ax2.set_title('%s - %s' %(Roman.grism.instrument, Roman.grism.filter))\n",
    "print(ax2.get_xlim())\n",
    "print(ax2.get_ylim())\n",
    "\n",
    "fig.tight_layout(pad=4.0)"
   ]
  },
  {
   "cell_type": "code",
   "execution_count": null,
   "metadata": {
    "ExecuteTime": {
     "end_time": "2022-02-01T21:18:48.661813Z",
     "start_time": "2022-02-01T21:18:48.654950Z"
    }
   },
   "outputs": [],
   "source": [
    "print(phot.colnames)\n",
    "print(phot[\"X_WORLD\",\"Y_WORLD\"])\n",
    "print(phot[\"MAG_AUTO\"])"
   ]
  },
  {
   "cell_type": "markdown",
   "metadata": {},
   "source": [
    "## (TESTING) Filter catalog based on position on the detector and magnitude - SKIP"
   ]
  },
  {
   "cell_type": "code",
   "execution_count": null,
   "metadata": {
    "ExecuteTime": {
     "end_time": "2021-12-02T19:03:05.461526Z",
     "start_time": "2021-12-02T19:03:05.451861Z"
    }
   },
   "outputs": [],
   "source": [
    "# OLD - DO NOT RUN!\n",
    "\n",
    "cat = Roman.catalog\n",
    "cat[\"NUMBER\",\"MAG_AUTO\",\"id\",\"ra\",\"dec\",\"x_flt\",\"y_flt\"]\n",
    "#cat.colnames\n",
    "\n",
    "x_filt = (cat['x_flt'] > 2400) & (cat['x_flt'] < 2600)\n",
    "y_filt = (cat['y_flt'] > 3900) & (cat['y_flt'] < 4100)\n",
    "mag_filt = (cat['MAG_AUTO'] < 24)\n",
    "\n",
    "filt = x_filt & y_filt & mag_filt\n",
    "\n",
    "print(cat[filt]['MAG_AUTO','id',\"ra\",\"dec\",\"x_flt\",\"y_flt\"])"
   ]
  },
  {
   "cell_type": "markdown",
   "metadata": {
    "ExecuteTime": {
     "end_time": "2021-06-05T20:21:03.179850Z",
     "start_time": "2021-06-05T20:21:03.168592Z"
    }
   },
   "source": [
    "## (TESTING) Reload Core Grizli Python Functions - SKIP\n",
    "\n",
    "Only use if you are editing the Python code while running the Jupyter notebook."
   ]
  },
  {
   "cell_type": "code",
   "execution_count": null,
   "metadata": {
    "ExecuteTime": {
     "end_time": "2021-06-24T16:44:59.544603Z",
     "start_time": "2021-06-24T16:44:59.513954Z"
    }
   },
   "outputs": [],
   "source": [
    "from importlib import reload\n",
    "reload(grizli.model)"
   ]
  },
  {
   "cell_type": "markdown",
   "metadata": {},
   "source": [
    "## Cygnusc redshift fitting and memory testing"
   ]
  },
  {
   "cell_type": "code",
   "execution_count": null,
   "metadata": {},
   "outputs": [],
   "source": [
    "from grizli_functions import grizli_fit_all_z,grizli_fit_all_z_async,grizli_fit_all_z_sync          \n",
    "from grizli_functions import grizli_fit_all_z_2, grizli_fit_all_z_3                                 \n",
    "from grizli_functions import test_func,test_func_sync                                               \n",
    "from grizli_functions import get_sim_info"
   ]
  },
  {
   "cell_type": "code",
   "execution_count": null,
   "metadata": {},
   "outputs": [],
   "source": [
    "# source list                                                                                       \n",
    "sources = np.array(get_sim_info())                                                                  \n",
    "print(sources)                                                                                      \n",
    "print(len(sources))\n",
    "                                                    \n",
    "filt = sources < 10 # where I quit (memory leak somewhere...)                                      \n",
    "#print(sources[filt])                                                                               \n",
    "#print(len(sources[filt]))                                                                          \n",
    "                                                                                                    \n",
    "sources = list(sources[filt])                                                                       \n",
    "#sources = list(sources)      \n",
    "\n",
    "grizli_fit_all_z_3(HOME_PATH='/home/gwalth/data/Roman/grizli/sims/',                                \n",
    "                 field=\"field_0017\", root='sim_v3',z2=6.0, sources=sources)"
   ]
  },
  {
   "cell_type": "markdown",
   "metadata": {},
   "source": [
    "## Loop over all objects and fit their redshifts\n",
    "[top](#Table-of-Contents)"
   ]
  },
  {
   "cell_type": "code",
   "execution_count": null,
   "metadata": {
    "ExecuteTime": {
     "end_time": "2022-02-16T18:46:42.519362Z",
     "start_time": "2022-02-16T18:46:42.516464Z"
    }
   },
   "outputs": [],
   "source": [
    "os.chdir(os.path.join(HOME_PATH, root, 'Extraction'))"
   ]
  },
  {
   "cell_type": "code",
   "execution_count": null,
   "metadata": {
    "ExecuteTime": {
     "end_time": "2022-02-14T00:07:59.325292Z",
     "start_time": "2022-02-14T00:07:59.295091Z"
    }
   },
   "outputs": [],
   "source": [
    "# Test \n",
    "#Nl = [id for id in phot['NUMBER']][:2]\n",
    "#Nl = [id for id in Roman_extract['NUMBER']][:2]\n",
    "\n",
    "# Large Test \n",
    "#Nl = [id for id in phot['NUMBER']][:10]\n",
    "#Nl = [id for id in Roman_extract['NUMBER']][:1000]\n",
    "\n",
    "# All sources\n",
    "#Nl = [id for id in phot['NUMBER']]        # original photometry Table\n",
    "Nl = [id for id in Roman_extract['NUMBER']] # cleaned Table\n",
    "\n",
    "# Problem, might need try/except in fitting\n",
    "print(Nl)\n",
    "\n",
    "#print(Roman_extract['MAG_AUTO'])"
   ]
  },
  {
   "cell_type": "code",
   "execution_count": null,
   "metadata": {},
   "outputs": [],
   "source": [
    "print()                                                                                     \n",
    "all_objects = muppy.get_objects()                                                           \n",
    "print(\"All objects = %i\" % (len(all_objects)))                                              \n",
    "sum1 = summary.summarize(all_objects)                                                       \n",
    "summary.print_(sum1)"
   ]
  },
  {
   "cell_type": "code",
   "execution_count": null,
   "metadata": {
    "ExecuteTime": {
     "end_time": "2022-02-03T07:03:00.486269Z",
     "start_time": "2022-02-03T02:42:16.656623Z"
    }
   },
   "outputs": [],
   "source": [
    "t0 = time.time()\n",
    "\n",
    "fwhm = 325 # km/s\n",
    "#t0 = utils.load_templates(fwhm=fwhm, line_complexes=True, fsps_templates=True) # redshift fits, fixed line ratios\n",
    "#t1 = utils.load_templates(fwhm=fwhm, line_complexes=False, fsps_templates=True) # final fits\n",
    "\n",
    "# Fitting templates\n",
    "\n",
    "# First is set with combined emission line complexes for the redshift fit \n",
    "# (don't allow infinite freedom) of the line ratios / fluxes\n",
    "temp0 = grizli.utils.load_templates(fwhm=fwhm, line_complexes=True, stars=False, \n",
    "                                     full_line_list=None,  continuum_list=None, \n",
    "                                     fsps_templates=True)\n",
    "\n",
    "# Second set has individual line templates for fitting the line fluxes\n",
    "temp1 = grizli.utils.load_templates(fwhm=fwhm, line_complexes=False, stars=False, \n",
    "                                     full_line_list=None, continuum_list=None, \n",
    "                                     fsps_templates=True)\n",
    "\n",
    "\n",
    "for id in Nl:\n",
    "\n",
    "    print(id)\n",
    "    \n",
    "    #beams = OrderedDict()\n",
    "\n",
    "    is_cgs, spectrum_1d, b = Roman.object_dispersers[id]\n",
    "    cutout = grizli.model.BeamCutout(Roman, b['A'], min_sens=0,) # min_mask=0) \n",
    "\n",
    "    cutout.beam.compute_model()  \n",
    "    cutout.contam = cutout.beam.cutout_from_full_image(Roman.model)\n",
    "    if id in Roman.object_dispersers:\n",
    "        cutout.contam -= cutout.beam.model\n",
    "\n",
    "    #beams[Roman.grism.instrument] = cutout\n",
    "\n",
    "    \n",
    "    #############################\n",
    "    # old lines of code (working)\n",
    "    #############################   \n",
    "    #cutout.write_fits() # still learning\n",
    "    #beam = 'beam__%05d.grism.A.fits' % (id)\n",
    "    #new_beam = beam.replace(\".fits\",\"_GLW.fits\")\n",
    "\n",
    "    #ext = 0\n",
    "    #hdu = pyfits.open(beam)\n",
    "    #hdu[ext].header['EXPTIME'] = hdu['SCI'].header['EXPTIME']\n",
    "    #hdu.writeto(new_beam,clobber=True)\n",
    "\n",
    "    #mb = multifit.MultiBeam([new_beam], fcontam=0.2, group_name=root, psf=False, min_sens=0.05)\n",
    "    #mb.write_master_fits()\n",
    "    \n",
    "    \n",
    "    ###########################\n",
    "    # new lines of code to test\n",
    "    ###########################\n",
    "    hdu = cutout.write_fits(get_hdu=True)\n",
    "    ext = 0\n",
    "    hdu[ext].header['EXPTIME'] = hdu['SCI'].header['EXPTIME']\n",
    "\n",
    "    beam = 'beam_%05d.grism.A.fits' % (id)\n",
    "    hdu.writeto(beam,clobber=True)\n",
    "\n",
    "    mb = multifit.MultiBeam([beam], fcontam=0.2, group_name=root, psf=False, min_sens=0.05)\n",
    "    mb.write_master_fits()\n",
    "    \n",
    "    # kludge\n",
    "    os.remove(beam)\n",
    "    ###########################\n",
    "    \n",
    "    \n",
    "    \n",
    "\n",
    "    fitting.run_all(id, temp0, temp1, fit_only_beams=True, fwhm=fwhm, zr=[0.05, 3.0], \n",
    "                    dz=[0.004, 0.0002], fitter=['nnls', 'bounded'], group_name=root)\n",
    "    \n",
    "    #memory_tracker.print_diff()\n",
    "    \n",
    "    print()\n",
    "    all_objects = muppy.get_objects()\n",
    "    print(\"All objects = %i\" % (len(all_objects)))\n",
    "    sum1 = summary.summarize(all_objects)\n",
    "    summary.print_(sum1)\n",
    "    \n",
    "\n",
    "t1 = time.time()\n",
    "\n",
    "print()\n",
    "print(\"Finished in %.1f seconds\" % (t1-t0))"
   ]
  },
  {
   "cell_type": "code",
   "execution_count": null,
   "metadata": {
    "ExecuteTime": {
     "end_time": "2022-02-03T14:13:16.700619Z",
     "start_time": "2022-02-03T14:13:16.670276Z"
    }
   },
   "outputs": [],
   "source": [
    "print(type(Roman))"
   ]
  },
  {
   "cell_type": "markdown",
   "metadata": {},
   "source": [
    "## Inspect Redshift Fitting Results\n",
    "[top](#Table-of-Contents)"
   ]
  },
  {
   "cell_type": "code",
   "execution_count": null,
   "metadata": {
    "ExecuteTime": {
     "end_time": "2022-02-19T18:38:59.276276Z",
     "start_time": "2022-02-19T18:38:59.267032Z"
    }
   },
   "outputs": [],
   "source": [
    "def redshift_analysis_od(root,id,save_lines=3):\n",
    "\n",
    "    full_obj = OrderedDict()\n",
    "   \n",
    "    full_hdu = pyfits.open('{0}_{1:05d}.full.fits'.format(root, id))\n",
    "    h0 = full_hdu[0].header\n",
    "    line_keys = ['ID','RA','DEC','REDSHIFT','NUMLINES']\n",
    "    #print(h0)\n",
    "    for lk in line_keys:\n",
    "        #h0[lk],h0.comments[lk]\n",
    "        #print(h0[lk],)\n",
    "        full_obj[lk] = h0[lk]\n",
    "    \n",
    "    # read all of the lines\n",
    "    #print(h0['NUMLINES'])\n",
    "    lines_list = []\n",
    "    for i in range(h0['NUMLINES']):\n",
    "        #print(i+1)\n",
    "        od = OrderedDict({\"line\":h0[\"LINE%03d\" % (i+1)],\n",
    "                          \"flux\":h0[\"FLUX%03d\" % (i+1)],\n",
    "                          \"err\":h0[\"ERR%03d\" % (i+1)]})                  \n",
    "        lines_list.append(od)\n",
    "                          \n",
    "                          \n",
    "    #print(lines_list)\n",
    "    line_tbl = Table(lines_list)\n",
    "    line_tbl.sort(\"flux\")\n",
    "    line_tbl.reverse()\n",
    "    \n",
    "    for i in range(save_lines):\n",
    "        try:\n",
    "            full_obj[\"LINE%03d\" % (i+1)] = line_tbl['line'][i]\n",
    "            full_obj[\"FLUX%03d\" % (i+1)] = line_tbl['flux'][i]\n",
    "            full_obj[\"ERR%03d\" % (i+1)] = line_tbl['err'][i]\n",
    "        except IndexError:\n",
    "            full_obj[\"LINE%03d\" % (i+1)] = \"None\"\n",
    "            full_obj[\"FLUX%03d\" % (i+1)] = 99.9\n",
    "            full_obj[\"ERR%03d\" % (i+1)] = -99.9\n",
    "    \n",
    "    \n",
    "    h1 = full_hdu['ZFIT_STACK'].header\n",
    "    zfit_keys = ['CHIMIN','DOF','Z02','Z16','Z50','Z84','Z97','ZWIDTH1',\n",
    "                 'ZWIDTH2','Z_RISK','MIN_RISK','Z_MAP','GAM_LOSS']\n",
    "    \n",
    "    for zfk in zfit_keys:\n",
    "        #h1[zfk],h1.comments[zfk]\n",
    "        #print(h1[zfk],)\n",
    "        full_obj[zfk] = h1[zfk]\n",
    "    \n",
    "    return full_obj\n",
    "    \n"
   ]
  },
  {
   "cell_type": "code",
   "execution_count": null,
   "metadata": {
    "ExecuteTime": {
     "end_time": "2022-02-16T18:46:56.512813Z",
     "start_time": "2022-02-16T18:46:56.504826Z"
    }
   },
   "outputs": [],
   "source": [
    "def plot_redshifts(tbl):\n",
    "\n",
    "    fig = plt.figure()\n",
    "    p1 = fig.add_subplot(111)\n",
    "    p1.scatter(tbl[\"ZWIDTH1\"], tbl[\"ZWIDTH2\"])\n",
    "\n",
    "    p1.plot([0.0001,10.0],[0.05,0.05],\"--\",c=\"k\")\n",
    "    p1.plot([0.05,0.05],[0.0001,10.0],\"--\",c=\"k\")\n",
    "\n",
    "    p1.set_xlabel(\"zwidth1 [16th and 84th p(z) percentile]\")\n",
    "    p1.set_ylabel(\"zwidth2 [2.5th and 97.5th p(z) percentile]\")\n",
    "    p1.set_xscale(\"log\")\n",
    "    p1.set_yscale(\"log\")\n",
    "    p1.set_xlim(0.0001,10.0)\n",
    "    p1.set_ylim(0.0001,10.0)\n",
    "\n",
    "    fig = plt.figure(figsize=(12,4))\n",
    "    p1 = fig.add_subplot(121)\n",
    "    p1.scatter(tbl[\"REDSHIFT\"], tbl[\"ZWIDTH1\"])\n",
    "    #p1.plot([0,3.5],[0.1,0.1],\"--\",c=\"k\")\n",
    "    p1.plot([0,3.5],[0.05,0.05],\"--\",c=\"k\")\n",
    "    p1.set_xlabel(\"Redshift\")\n",
    "    p1.set_ylabel(\"zwidth1 [16th and 84th p(z) percentile]\")\n",
    "    p1.set_yscale(\"log\")\n",
    "    p1.set_ylim(0.0001,10.0)\n",
    "\n",
    "    p2 = fig.add_subplot(122)\n",
    "    p2.scatter(tbl[\"REDSHIFT\"], tbl[\"ZWIDTH2\"])\n",
    "    #p2.plot([0,3.5],[0.1,0.1],\"--\",c=\"k\")\n",
    "    p2.plot([0,3.5],[0.05,0.05],\"--\",c=\"k\")\n",
    "    p2.set_xlabel(\"Redshift\")\n",
    "    p2.set_ylabel(\"zwidth2 [2.5th and 97.5th p(z) percentile]\")\n",
    "    p2.set_yscale(\"log\")\n",
    "    p2.set_ylim(0.0001,10.0)\n",
    "    \n",
    "    print(len(tbl))"
   ]
  },
  {
   "cell_type": "code",
   "execution_count": null,
   "metadata": {
    "ExecuteTime": {
     "end_time": "2022-02-16T18:46:58.321866Z",
     "start_time": "2022-02-16T18:46:58.311214Z"
    }
   },
   "outputs": [],
   "source": [
    "def plot_redshifts2(tbl,zcut=0.01):\n",
    "\n",
    "    filt1 = tbl[\"ZWIDTH1\"] < zcut\n",
    "    tbl_filt1 = tbl[filt1]\n",
    "\n",
    "    fig = plt.figure(figsize=(12,10))\n",
    "\n",
    "    p1 = fig.add_subplot(221)\n",
    "    p1.scatter(tbl[\"REDSHIFT\"], tbl[\"ZWIDTH1\"], s=2, c=\"k\")\n",
    "    p1.scatter(tbl_filt1[\"REDSHIFT\"], tbl_filt1[\"ZWIDTH1\"])\n",
    "    #p1.plot([0,3.5],[0.1,0.1],\"--\",c=\"k\")\n",
    "    p1.plot([0,3.5],[zcut,zcut],\"--\",c=\"k\")\n",
    "    p1.set_xlabel(\"Redshift\")\n",
    "    p1.set_ylabel(\"z$_{width1}$ [16th and 84th p(z) percentile]\")\n",
    "    p1.set_yscale(\"log\")\n",
    "    p1.set_ylim(0.0001,10.0)\n",
    "\n",
    "    p2 = fig.add_subplot(222)\n",
    "    p2.scatter(tbl[\"REDSHIFT\"], tbl[\"MAG_AUTO\"], s=2, c=\"k\")\n",
    "    p2.scatter(tbl_filt1[\"REDSHIFT\"], tbl_filt1[\"MAG_AUTO\"])\n",
    "    #p2.plot([0,3.5],[0.1,0.1],\"--\",c=\"k\")\n",
    "    #p2.plot([0,3.5],[0.05,0.05],\"--\",c=\"k\")\n",
    "    p2.set_xlabel(\"Redshift\")\n",
    "    p2.set_ylabel(\"Mag\")\n",
    "    #p2.set_yscale(\"log\")\n",
    "    #p2.set_ylim(0.0001,10.0)\n",
    "\n",
    "    filt2 = tbl[\"ZWIDTH2\"] < zcut\n",
    "    tbl_filt2 = tbl[filt2]\n",
    "\n",
    "    p3 = fig.add_subplot(223)\n",
    "    p3.scatter(tbl[\"REDSHIFT\"], tbl[\"ZWIDTH2\"], s=2, c=\"k\")\n",
    "    p3.scatter(tbl_filt2[\"REDSHIFT\"], tbl_filt2[\"ZWIDTH2\"])\n",
    "    #p3.plot([0,3.5],[0.1,0.1],\"--\",c=\"k\")\n",
    "    p3.plot([0,3.5],[zcut,zcut],\"--\",c=\"k\")\n",
    "    p3.set_xlabel(\"Redshift\")\n",
    "    p3.set_ylabel(\"z$_{width2}$ [2.5th and 97.5th p(z) percentile]\")\n",
    "    p3.set_yscale(\"log\")\n",
    "    p3.set_ylim(0.0001,10.0)\n",
    "\n",
    "    p4 = fig.add_subplot(224)\n",
    "    p4.scatter(tbl[\"REDSHIFT\"], tbl[\"MAG_AUTO\"], s=2, c=\"k\")\n",
    "    p4.scatter(tbl_filt2[\"REDSHIFT\"], tbl_filt2[\"MAG_AUTO\"])\n",
    "    #p4.plot([0,3.5],[0.1,0.1],\"--\",c=\"k\")\n",
    "    #p4.plot([0,3.5],[0.05,0.05],\"--\",c=\"k\")\n",
    "    p4.set_xlabel(\"Redshift\")\n",
    "    p4.set_ylabel(\"Mag\")\n",
    "    #p4.set_yscale(\"log\")\n",
    "    #p4.set_ylim(0.0001,10.0)\n",
    "\n",
    "    print(len(tbl))\n",
    "    print(len(tbl[filt1]))\n",
    "    print(len(tbl[filt2]))\n",
    "    \n",
    "    return filt1,filt2\n"
   ]
  },
  {
   "cell_type": "markdown",
   "metadata": {},
   "source": [
    "Important note:\n",
    "\n",
    "In the in initial catalog generation, I need RA and DEC or some other identifier to push along and tag the sources properly for their magnitudes and redshifts.  If I can map the sources correctly then I should be able to adjust any magnitude differences."
   ]
  },
  {
   "cell_type": "code",
   "execution_count": null,
   "metadata": {},
   "outputs": [],
   "source": []
  },
  {
   "cell_type": "code",
   "execution_count": null,
   "metadata": {
    "ExecuteTime": {
     "end_time": "2022-02-16T18:47:11.636735Z",
     "start_time": "2022-02-16T18:47:11.379878Z"
    }
   },
   "outputs": [],
   "source": [
    "os.chdir(os.path.join(HOME_PATH, root, 'Extraction'))\n",
    "\n",
    "# Find ids of all the extracted objects\n",
    "ids = []\n",
    "files = glob.glob('*full.fits')\n",
    "for file in files:\n",
    "    #print(file)\n",
    "    ids.append(int(file.replace(\".full.fits\",\"\").split(\"_\")[-1]))\n",
    "\n",
    "#print(files)\n",
    "\n",
    "ids.sort()\n",
    "#print(ids)\n",
    "print(\"N =\",len(ids))"
   ]
  },
  {
   "cell_type": "code",
   "execution_count": null,
   "metadata": {
    "ExecuteTime": {
     "end_time": "2022-02-16T18:47:13.464285Z",
     "start_time": "2022-02-16T18:47:13.458538Z"
    }
   },
   "outputs": [],
   "source": [
    "print(ids)"
   ]
  },
  {
   "cell_type": "code",
   "execution_count": null,
   "metadata": {
    "ExecuteTime": {
     "end_time": "2022-02-10T17:08:11.259357Z",
     "start_time": "2022-02-10T17:08:11.254193Z"
    }
   },
   "outputs": [],
   "source": [
    "#ids = [652, 653]"
   ]
  },
  {
   "cell_type": "markdown",
   "metadata": {},
   "source": [
    "Takes ~2 min to read 1000 files into a table"
   ]
  },
  {
   "cell_type": "code",
   "execution_count": null,
   "metadata": {
    "ExecuteTime": {
     "end_time": "2022-02-19T18:39:51.119828Z",
     "start_time": "2022-02-19T18:39:19.913560Z"
    }
   },
   "outputs": [],
   "source": [
    "redshift_rows = []\n",
    "for id in ids:\n",
    "    redshift_od = redshift_analysis_od(root,id,save_lines=5)\n",
    "    redshift_rows.append(redshift_od)\n",
    "\n",
    "redshift_fits = Table(redshift_rows)\n",
    "print(redshift_fits)"
   ]
  },
  {
   "cell_type": "code",
   "execution_count": null,
   "metadata": {
    "ExecuteTime": {
     "end_time": "2022-02-19T18:40:38.206788Z",
     "start_time": "2022-02-19T18:40:38.192946Z"
    }
   },
   "outputs": [],
   "source": [
    "print(redshift_fits.colnames)\n",
    "\n",
    "ind = 1\n",
    "print(redshift_fits['LINE%03d' % ind])\n",
    "print(redshift_fits['FLUX%03d' % ind])\n",
    "print(redshift_fits['ERR%03d' % ind])\n",
    "\n",
    "print(np.min(redshift_fits['FLUX%03d' % ind]))\n",
    "print(np.max(redshift_fits['FLUX%03d' % ind]))\n"
   ]
  },
  {
   "cell_type": "code",
   "execution_count": null,
   "metadata": {},
   "outputs": [],
   "source": []
  },
  {
   "cell_type": "markdown",
   "metadata": {},
   "source": [
    "### Description of tables\n",
    "\n",
    "The available tables for analysis\n",
    "\n",
    "phot          - SExtractor table\n",
    "Roman         - Grizli data\n",
    "Roman_all     - output of check_sims, all sources\n",
    "Roman_magcut  - output of check_sims, only sources above the magnitude cut\n",
    "Roman_extract - output of check_sims, only sources extracted\n",
    "redshift_fits - all the redshift fits of the Roman_extract (full.fits) read into a table\n",
    "primer        - original input sources and true redshifts\n",
    "\n",
    "\n",
    "Roman_extract, redshift_fits and primer need to be joined into one table\n",
    "\n",
    "Roman_extract and redshift_fits can be joined based on SExtractor id --> all_tbl\n",
    "primer needs to be joined based on RA,Dec  \n",
    "\n",
    "\n",
    "all_tbl         - join between Roman_extract and redshift_fits\n",
    "match_tbl       - join between all_tbl and primer\n",
    "match_clean_tbl - sources outside of match radius removed (>1\")"
   ]
  },
  {
   "cell_type": "code",
   "execution_count": null,
   "metadata": {
    "ExecuteTime": {
     "end_time": "2022-02-16T18:49:17.247503Z",
     "start_time": "2022-02-16T18:49:17.244466Z"
    }
   },
   "outputs": [],
   "source": [
    "print(redshift_fits.colnames)\n",
    "#print(redshift_fits['ID'])"
   ]
  },
  {
   "cell_type": "code",
   "execution_count": null,
   "metadata": {
    "ExecuteTime": {
     "end_time": "2022-02-16T18:49:19.103308Z",
     "start_time": "2022-02-16T18:49:19.100137Z"
    },
    "scrolled": true
   },
   "outputs": [],
   "source": [
    "print(Roman_extract.colnames)\n",
    "#print(Roman_extract['NUMBER','id'])"
   ]
  },
  {
   "cell_type": "code",
   "execution_count": null,
   "metadata": {
    "ExecuteTime": {
     "end_time": "2022-02-16T18:49:20.523368Z",
     "start_time": "2022-02-16T18:49:20.519645Z"
    }
   },
   "outputs": [],
   "source": [
    "print(primer.colnames)\n",
    "#print(primer['NUMBER'])"
   ]
  },
  {
   "cell_type": "code",
   "execution_count": null,
   "metadata": {
    "ExecuteTime": {
     "end_time": "2022-02-16T18:49:23.015343Z",
     "start_time": "2022-02-16T18:49:23.012819Z"
    }
   },
   "outputs": [],
   "source": [
    "Roman_extract.rename_column('NUMBER', 'ID')"
   ]
  },
  {
   "cell_type": "code",
   "execution_count": null,
   "metadata": {
    "ExecuteTime": {
     "end_time": "2022-02-19T18:40:50.979150Z",
     "start_time": "2022-02-19T18:40:50.935931Z"
    }
   },
   "outputs": [],
   "source": [
    "all_tbl = join(Roman_extract, redshift_fits, keys='ID')\n",
    "print(all_tbl)"
   ]
  },
  {
   "cell_type": "code",
   "execution_count": null,
   "metadata": {
    "ExecuteTime": {
     "end_time": "2022-02-19T18:40:57.608235Z",
     "start_time": "2022-02-19T18:40:56.674713Z"
    }
   },
   "outputs": [],
   "source": [
    "#plot_redshifts(all_tbl)\n",
    "zfilt1,zfilt2 = plot_redshifts2(all_tbl)\n",
    "#zfilt1,zfilt2 = plot_redshifts2(redshift_fits, zcut = 0.01)\n",
    "#zfilt1,zfilt2 = plot_redshifts2(redshift_fits, zcut = 0.005)\n",
    "#zfilt1,zfilt2 = plot_redshifts2(redshift_fits, zcut = 0.001)"
   ]
  },
  {
   "cell_type": "code",
   "execution_count": null,
   "metadata": {},
   "outputs": [],
   "source": []
  },
  {
   "cell_type": "markdown",
   "metadata": {},
   "source": [
    "<b>Skip</b> One matching method"
   ]
  },
  {
   "cell_type": "code",
   "execution_count": null,
   "metadata": {
    "ExecuteTime": {
     "end_time": "2022-02-09T08:09:42.687527Z",
     "start_time": "2022-02-09T08:09:37.564371Z"
    }
   },
   "outputs": [],
   "source": [
    "import astropy.units as u\n",
    "from astropy.coordinates import SkyCoord\n",
    "\n",
    "c_prime = SkyCoord(ra=primer[\"RA\"]*u.degree, dec=primer[\"DEC\"]*u.degree)\n",
    "c_all = SkyCoord(ra=all_tbl[\"RA\"]*u.degree, dec=all_tbl[\"DEC\"]*u.degree)\n",
    "#idx_c_prime, idx_c_all, d2d, d3d = c_all.search_around_sky(c_prime, 5*u.arcsec)\n",
    "idx_c_prime, idx_c_all, d2d, d3d = c_all.search_around_sky(c_prime, 1*u.deg)\n",
    "\n",
    "#np.all(d2d < 5*u.arcsec)\n",
    "\n",
    "#dist_filt = d2d < 1.0*u.arcsec\n",
    "dist_filt = d2d < 1.0*u.deg\n",
    "\n",
    "print(idx_c_prime[dist_filt])\n",
    "print(len(idx_c_prime[dist_filt]))\n",
    "print(idx_c_all[dist_filt])\n",
    "print(len(idx_c_all[dist_filt]))"
   ]
  },
  {
   "cell_type": "markdown",
   "metadata": {},
   "source": [
    "Another matching method (preferred)"
   ]
  },
  {
   "cell_type": "code",
   "execution_count": null,
   "metadata": {
    "ExecuteTime": {
     "end_time": "2022-02-19T18:41:08.668211Z",
     "start_time": "2022-02-19T18:41:08.469458Z"
    }
   },
   "outputs": [],
   "source": [
    "import astropy.units as u\n",
    "from astropy.coordinates import SkyCoord\n",
    "\n",
    "c_prime = SkyCoord(ra=primer[\"RA\"]*u.degree, dec=primer[\"DEC\"]*u.degree)\n",
    "c_all = SkyCoord(ra=all_tbl[\"RA\"]*u.degree, dec=all_tbl[\"DEC\"]*u.degree)\n",
    "\n",
    "idx, d2d, d3d = c_prime.match_to_catalog_sky(c_all)\n",
    "\n",
    "\n",
    "print(idx)\n",
    "print(d2d)\n",
    "print(len(idx))\n",
    "print(len(c_prime))\n",
    "print(len(c_all))\n",
    "\n",
    "filt = d2d < 1*u.arcsec\n",
    "\n",
    "fig = plt.figure()\n",
    "p1 = fig.add_subplot(111)\n",
    "p1.hist(d2d[filt].value*3600.,bins=20)"
   ]
  },
  {
   "cell_type": "code",
   "execution_count": null,
   "metadata": {
    "ExecuteTime": {
     "end_time": "2022-02-19T18:41:14.853974Z",
     "start_time": "2022-02-19T18:41:14.848837Z"
    }
   },
   "outputs": [],
   "source": [
    "primer['idx'] = idx\n",
    "primer['d2d'] = d2d\n",
    "print(primer.colnames)"
   ]
  },
  {
   "cell_type": "code",
   "execution_count": null,
   "metadata": {
    "ExecuteTime": {
     "end_time": "2022-02-19T18:41:19.049670Z",
     "start_time": "2022-02-19T18:41:19.044705Z"
    }
   },
   "outputs": [],
   "source": [
    "all_tbl['idx'] = np.arange(len(all_tbl))\n",
    "print(all_tbl.colnames)\n",
    "#print(all_tbl['idx'])"
   ]
  },
  {
   "cell_type": "code",
   "execution_count": null,
   "metadata": {
    "ExecuteTime": {
     "end_time": "2022-02-19T18:41:22.954606Z",
     "start_time": "2022-02-19T18:41:22.916278Z"
    }
   },
   "outputs": [],
   "source": [
    "match_tbl = join(all_tbl, primer, keys='idx')\n",
    "#print(match_tbl)"
   ]
  },
  {
   "cell_type": "code",
   "execution_count": null,
   "metadata": {
    "ExecuteTime": {
     "end_time": "2022-02-19T18:41:25.787426Z",
     "start_time": "2022-02-19T18:41:25.773011Z"
    }
   },
   "outputs": [],
   "source": [
    "#filt = match_tbl['d2d'] < 1.0*u.arcsec\n",
    "filt = match_tbl['d2d'] < 0.4*u.arcsec\n",
    "match_clean_tbl = match_tbl[filt]\n",
    "print(len(match_clean_tbl))"
   ]
  },
  {
   "cell_type": "code",
   "execution_count": null,
   "metadata": {
    "ExecuteTime": {
     "end_time": "2022-02-19T18:41:29.241921Z",
     "start_time": "2022-02-19T18:41:29.238645Z"
    }
   },
   "outputs": [],
   "source": [
    "z_fit = match_clean_tbl[\"REDSHIFT_1\"]\n",
    "z_true = match_clean_tbl[\"REDSHIFT_2\"]\n",
    "\n",
    "mag_fit  = match_clean_tbl[\"MAG_AUTO\"]\n",
    "mag_true = match_clean_tbl[\"MAG_F1600W\"]\n",
    "\n",
    "filt = match_clean_tbl[\"MAG_AUTO\"] < 24"
   ]
  },
  {
   "cell_type": "code",
   "execution_count": null,
   "metadata": {
    "ExecuteTime": {
     "end_time": "2022-02-19T18:41:30.841760Z",
     "start_time": "2022-02-19T18:41:30.353219Z"
    }
   },
   "outputs": [],
   "source": [
    "fig = plt.figure(figsize=(12,12))\n",
    "\n",
    "p1 = fig.add_subplot(221)\n",
    "p1.scatter(z_fit, z_true, s=5, c=\"k\")\n",
    "p1.scatter(z_fit[filt], z_true[filt], s=30, c=\"orange\",alpha=0.5)\n",
    "p1.plot([0.05,3.05],[0.0,3.0],\"--\",c=\"b\",alpha=0.5)\n",
    "p1.plot([0.0,3.0],[0.05,3.05],\"--\",c=\"b\",alpha=0.5)\n",
    "p1.set_xlim(0,3)\n",
    "p1.set_ylim(0,3)\n",
    "p1.set_xlabel(\"Fit redshift\")\n",
    "p1.set_ylabel(\"True redshift\")\n",
    "\n",
    "p2 = fig.add_subplot(222)\n",
    "p2.scatter(mag_fit, mag_true, s=5, c=\"k\")\n",
    "p2.plot([19.2,30.2],[19,30],\"--\",c=\"b\",alpha=0.5)\n",
    "p2.plot([19,30],[19.2,30.2],\"--\",c=\"b\",alpha=0.5)\n",
    "p2.set_xlim(19,30)\n",
    "p2.set_ylim(19,30)\n",
    "p2.set_xlabel(\"Measured mag\")\n",
    "p2.set_ylabel(\"True mag\")\n",
    "\n",
    "p3 = fig.add_subplot(223)\n",
    "p3.hist(z_fit)\n",
    "p3.set_xlabel(\"Fit redshift\")\n",
    "\n",
    "p4 = fig.add_subplot(224)\n",
    "p4.hist(z_true)\n",
    "p4.set_xlabel(\"True redshift\")"
   ]
  },
  {
   "cell_type": "code",
   "execution_count": null,
   "metadata": {
    "ExecuteTime": {
     "end_time": "2022-02-19T18:41:37.206130Z",
     "start_time": "2022-02-19T18:41:36.858501Z"
    }
   },
   "outputs": [],
   "source": [
    "dz = (z_true - z_fit)/(1+z_true)\n",
    "\n",
    "fig = plt.figure(figsize=(12,5))\n",
    "\n",
    "p1 = fig.add_subplot(111)\n",
    "p1.hist(dz,bins=100)\n",
    "\n",
    "#p1.hist(dz,bins=1000)\n",
    "#p1.set_xlim(-0.02,0.02)\n",
    "\n",
    "p1.set_xlabel(\"dz\")"
   ]
  },
  {
   "cell_type": "code",
   "execution_count": null,
   "metadata": {
    "ExecuteTime": {
     "end_time": "2022-02-19T18:42:35.599503Z",
     "start_time": "2022-02-19T18:42:32.116323Z"
    }
   },
   "outputs": [],
   "source": [
    "match_clean_tbl['SN001'] = match_clean_tbl['FLUX001']/match_clean_tbl['ERR001']\n",
    "match_clean_tbl['SN002'] = match_clean_tbl['FLUX002']/match_clean_tbl['ERR002']\n",
    "match_clean_tbl['SN003'] = match_clean_tbl['FLUX003']/match_clean_tbl['ERR003']\n",
    "match_clean_tbl['SN004'] = match_clean_tbl['FLUX004']/match_clean_tbl['ERR004']\n",
    "match_clean_tbl['SN005'] = match_clean_tbl['FLUX005']/match_clean_tbl['ERR005']\n",
    "\n",
    "fig = plt.figure(figsize=(12,5))\n",
    "p1 = fig.add_subplot(111)\n",
    "p1.hist(match_clean_tbl['SN001'],bins=400,label=\"LINE001\",alpha=0.7)\n",
    "p1.hist(match_clean_tbl['SN002'],bins=400,label=\"LINE002\",alpha=0.7)\n",
    "p1.hist(match_clean_tbl['SN003'],bins=200,label=\"LINE003\",alpha=0.7)\n",
    "p1.hist(match_clean_tbl['SN004'],bins=200,label=\"LINE005\",alpha=0.7)\n",
    "p1.hist(match_clean_tbl['SN005'],bins=200,label=\"LINE005\",alpha=0.7)\n",
    "p1.set_xlabel(\"S/N\")\n",
    "p1.set_xlim(0,15)\n",
    "p1.legend()"
   ]
  },
  {
   "cell_type": "code",
   "execution_count": null,
   "metadata": {
    "ExecuteTime": {
     "end_time": "2022-02-19T19:18:59.004192Z",
     "start_time": "2022-02-19T19:18:58.980956Z"
    }
   },
   "outputs": [],
   "source": [
    "filt1 = match_clean_tbl['SN001'] > 6.5\n",
    "print(\"Num. sources (S/N > 6.5) =\",len(match_clean_tbl['SN001'][filt1]))\n",
    "\n",
    "match_clean_sn65_tbl = match_clean_tbl[filt1]\n",
    "print(\"Num. sources w/ 2 lines (S/N > 3)\")\n",
    "filt2 = match_clean_sn65_tbl['SN002'] > 3\n",
    "print(len(match_clean_sn65_tbl[filt2]))\n",
    "\n",
    "print(\"Num. sources w/ 3 lines (S/N > 3)\")\n",
    "filt3 = match_clean_sn65_tbl['SN003'] > 3\n",
    "print(len(match_clean_sn65_tbl[filt3]))\n",
    "\n"
   ]
  },
  {
   "cell_type": "code",
   "execution_count": null,
   "metadata": {
    "ExecuteTime": {
     "end_time": "2022-02-19T19:14:11.633786Z",
     "start_time": "2022-02-19T19:14:11.626245Z"
    }
   },
   "outputs": [],
   "source": [
    "def sample_numbers(tbl, sn_key='SN001', sn=6.5, sigma_dz=0.005):\n",
    "    \n",
    "    filt = tbl[sn_key] > sn\n",
    "    \n",
    "    print('Num. sources =',len(tbl[sn_key]))\n",
    "    print('Num. sources (S/N > %.1f) =' % (sn),len(tbl[sn_key][filt]))\n",
    "    \n",
    "    z_fit = tbl[\"REDSHIFT_1\"][filt]\n",
    "    z_true = tbl[\"REDSHIFT_2\"][filt]\n",
    "\n",
    "    dz = (z_true - z_fit)/(1+z_true)\n",
    "\n",
    "    #zfilt = np.abs(dz) < sigma_dz\n",
    "    zfilt = np.abs(dz) < sigma_dz*(1+z_true)\n",
    "\n",
    "    tbl_sn = tbl[filt]\n",
    "    tbl_sn_dz = tbl_sn[zfilt]\n",
    "\n",
    "    print(\"Num. sources (dz < %.3f) =\" % (sigma_dz),len(z_fit[zfilt]))\n",
    "    print(\"Frac. sources (dz < %.3f) = %.4f\" % (sigma_dz,len(z_fit[zfilt])/len(z_fit)))\n",
    "    print()\n",
    "    \n",
    "    fig = plt.figure(figsize=(4,4))\n",
    "    p1 = fig.add_subplot(111)\n",
    "    p1.hist(z_fit,bins=15,label=\"all\")\n",
    "    p1.hist(z_fit[zfilt],bins=15,label=\"z < %.3f\" % (sigma_dz))\n",
    "    p1.set_xlabel(\"redshift\")\n",
    "    p1.legend()\n",
    "    plt.show()\n",
    "    "
   ]
  },
  {
   "cell_type": "code",
   "execution_count": null,
   "metadata": {
    "ExecuteTime": {
     "end_time": "2022-02-19T19:14:12.761611Z",
     "start_time": "2022-02-19T19:14:12.179262Z"
    }
   },
   "outputs": [],
   "source": [
    "sample_numbers(match_clean_tbl, sn_key='SN001', sn=6.5, sigma_dz=0.005)\n",
    "sample_numbers(match_clean_tbl, sn_key='SN001', sn=5.0, sigma_dz=0.005)\n",
    "sample_numbers(match_clean_tbl, sn_key='SN001', sn=3.0, sigma_dz=0.005)"
   ]
  },
  {
   "cell_type": "code",
   "execution_count": null,
   "metadata": {
    "ExecuteTime": {
     "end_time": "2022-02-19T18:42:55.050820Z",
     "start_time": "2022-02-19T18:42:54.661826Z"
    }
   },
   "outputs": [],
   "source": [
    "fig = plt.figure(figsize=(12,5))\n",
    "\n",
    "p1 = fig.add_subplot(111)\n",
    "#p1.hist(dz,bins=100)\n",
    "\n",
    "p1.hist(dz,bins=200)\n",
    "#p1.set_xlim(-0.02,0.02)\n",
    "\n",
    "p1.set_xlabel(\"dz\")"
   ]
  },
  {
   "cell_type": "code",
   "execution_count": null,
   "metadata": {
    "ExecuteTime": {
     "end_time": "2022-02-19T18:42:58.032304Z",
     "start_time": "2022-02-19T18:42:58.023185Z"
    }
   },
   "outputs": [],
   "source": [
    "from collections import Counter\n",
    "\n",
    "def emline_bar_chart(data,title=\"\"):\n",
    "\n",
    "    c1 = Counter(data)\n",
    "    c2 = OrderedDict(c1.most_common())\n",
    "\n",
    "    ind = np.arange(len(c1))\n",
    "    width=0.75\n",
    "\n",
    "    fig = plt.figure()\n",
    "    p1 = fig.add_subplot(111)\n",
    "    p1.bar(ind, c2.values(), width)\n",
    "    p1.set_xticks(ind)\n",
    "    p1.set_xticklabels(c2.keys(), rotation = 90)\n",
    "    p1.set_title(title)\n",
    "    plt.show()\n",
    "    \n",
    "def emline_bar_chart2(data1,data2,title=\"\"):\n",
    "\n",
    "    c1 = Counter(data1)\n",
    "    c1o = OrderedDict(c1.most_common())\n",
    "    \n",
    "    c2 = Counter(data2)\n",
    "    c2o = OrderedDict(c2.most_common())\n",
    "    \n",
    "   \n",
    "    ind1 = np.arange(len(c1))\n",
    "    ind2 = np.arange(len(c2))\n",
    "    width=0.75\n",
    "\n",
    "    fig = plt.figure(figsize=(12,6))\n",
    "    p1 = fig.add_subplot(121)\n",
    "    p1.bar(ind1, c1o.values(), width)\n",
    "    p1.set_xticks(ind1)\n",
    "    p1.set_xticklabels(c1o.keys(), rotation = 90)\n",
    "    p1.set_title(title)\n",
    "    \n",
    "    p2 = fig.add_subplot(122)\n",
    "    p2.bar(ind2, c2o.values(), width)\n",
    "    p2.set_xticks(ind2)\n",
    "    p2.set_xticklabels(c2o.keys(), rotation = 90)\n",
    "    p2.set_title(title)\n",
    "    plt.show()\n",
    "    \n",
    "    plt.show()\n"
   ]
  },
  {
   "cell_type": "code",
   "execution_count": null,
   "metadata": {
    "ExecuteTime": {
     "end_time": "2022-02-19T18:43:41.802828Z",
     "start_time": "2022-02-19T18:43:40.490110Z"
    }
   },
   "outputs": [],
   "source": [
    "emline_bar_chart2(match_clean_tbl['LINE001'],match_clean_sn65_dz005_tbl['LINE001'], \n",
    "                  title = \"1st brightest line\")\n",
    "\n",
    "#emline_bar_chart(match_clean_tbl['LINE001'],title = \"1st brightest line\")\n",
    "emline_bar_chart(match_clean_tbl['LINE002'],title = \"2nd brightest line\")\n",
    "emline_bar_chart(match_clean_tbl['LINE003'],title = \"3rd brightest line\")\n",
    "emline_bar_chart(match_clean_tbl['LINE004'],title = \"4th brightest line\")\n",
    "emline_bar_chart(match_clean_tbl['LINE005'],title = \"5th brightest line\")"
   ]
  },
  {
   "cell_type": "code",
   "execution_count": null,
   "metadata": {
    "ExecuteTime": {
     "end_time": "2022-02-10T16:56:29.624236Z",
     "start_time": "2022-02-10T16:56:29.518886Z"
    }
   },
   "outputs": [],
   "source": [
    "print(dir())\n",
    "#print(__dict__)"
   ]
  },
  {
   "cell_type": "code",
   "execution_count": null,
   "metadata": {
    "ExecuteTime": {
     "end_time": "2022-02-03T14:15:00.422603Z",
     "start_time": "2022-02-03T14:15:00.233092Z"
    }
   },
   "outputs": [],
   "source": [
    "os.chdir(os.path.join(HOME_PATH, root, 'Prep'))\n",
    "\n",
    "#primer_cat = \"ATLAS_1deg_subsample_cat_random_primer.cat\"\n",
    "#primer_cat = \"ATLAS_1deg_subsample_primer_small.lis\"\n",
    "print(primer_cat)\n",
    "primer = Table.read(primer_cat, format='ascii.sextractor')\n",
    "primer[:10].show_in_notebook()\n",
    "print(len(primer))\n",
    "print(primer.colnames)"
   ]
  },
  {
   "cell_type": "code",
   "execution_count": null,
   "metadata": {
    "ExecuteTime": {
     "end_time": "2022-02-03T15:49:40.335435Z",
     "start_time": "2022-02-03T15:49:40.326597Z"
    }
   },
   "outputs": [],
   "source": [
    "os.chdir(os.path.join(HOME_PATH, root, 'Extraction'))\n",
    "\n",
    "full_hdu = pyfits.open('{0}_{1:05d}.full.fits'.format(root, id))\n",
    "#full_hdu.info()\n",
    "print('id = {0}'.format(id))\n",
    "print('N = {0}'.format(len(ids)))"
   ]
  },
  {
   "cell_type": "code",
   "execution_count": null,
   "metadata": {
    "ExecuteTime": {
     "end_time": "2022-02-03T15:49:44.105823Z",
     "start_time": "2022-02-03T15:49:44.039425Z"
    }
   },
   "outputs": [],
   "source": [
    "print(\"Number of extensions\", len(full_hdu))\n",
    "full_hdu['ZFIT_STACK'] # ext=1\n",
    "full_hdu['COVAR']      # ext=2\n",
    "full_hdu['TEMPL']      # ext=3\n",
    "full_hdu['SEG']        # ext=4"
   ]
  },
  {
   "cell_type": "code",
   "execution_count": null,
   "metadata": {
    "ExecuteTime": {
     "end_time": "2022-02-03T15:49:46.461844Z",
     "start_time": "2022-02-03T15:49:46.451687Z"
    }
   },
   "outputs": [],
   "source": [
    "print(\"Number of extensions =\",len(full_hdu))\n",
    "head = full_hdu[0].header\n",
    "full_hdu[0].header"
   ]
  },
  {
   "cell_type": "code",
   "execution_count": null,
   "metadata": {
    "ExecuteTime": {
     "end_time": "2022-02-03T18:47:01.217951Z",
     "start_time": "2022-02-03T18:47:01.200905Z"
    }
   },
   "outputs": [],
   "source": [
    "print(\"Number of extensions =\",len(full_hdu))\n",
    "full_hdu['ZFIT_STACK'].header"
   ]
  },
  {
   "cell_type": "code",
   "execution_count": null,
   "metadata": {
    "ExecuteTime": {
     "end_time": "2022-02-03T16:43:05.960630Z",
     "start_time": "2022-02-03T16:43:05.949625Z"
    }
   },
   "outputs": [],
   "source": [
    "os.chdir(os.path.join(HOME_PATH, root, 'Extraction'))\n",
    "\n",
    "\n",
    "def process_full_fits(root,id):\n",
    "    full_hdu = pyfits.open('{0}_{1:05d}.full.fits'.format(root, id))\n",
    "    head = full_hdu[0].header\n",
    "    \n",
    "    numlines = head['NUMLINES']\n",
    "    redshift = head['REDSHIFT']\n",
    "    \n",
    "    lines_list = []\n",
    "    \n",
    "    for i in range(numlines):\n",
    "        line_list.append(OrderedDict({\"line\":head[\"LINE%03d\" % (i+1)],\n",
    "                                      \"flux\":head[\"FLUX%03d\" % (i+1)],\n",
    "                                      \"err\":head[\"ERR%03d\" % (i+1)]}))\n",
    "    line_tbl = Tabel(line_list)\n",
    "    line_tbl.sort(\"flux\")\n",
    "    line_tbl.reverse()\n",
    "    \n",
    "    return line_tbl[:3] # return 3 brightest lines\n",
    "        \n",
    "#####################    \n",
    "    \n",
    "\n",
    "# Find ids of all the extracted objects\n",
    "ids = []\n",
    "files = glob.glob('*full.fits')\n",
    "for file in files:\n",
    "    #print(file)\n",
    "    ids.append(int(file.replace(\".full.fits\",\"\").split(\"_\")[-1]))\n",
    "\n",
    "#print(files)\n",
    "\n",
    "ids.sort()\n",
    "print(ids)\n",
    "print(\"N =\",len(ids))\n",
    "\n",
    "\n",
    "\n",
    "N = head['NUMLINES']\n",
    "\n",
    "line_list = []\n",
    "for i in range(N):\n",
    "    line_list.append(OrderedDict({\"line\":head[\"LINE%03d\" % (i+1)],\n",
    "                                  \"flux\":head[\"FLUX%03d\" % (i+1)],\n",
    "                                  \"err\":head[\"ERR%03d\" % (i+1)]}))\n",
    "    \n",
    "#print(line_list)\n",
    "\n",
    "line_tbl = Table(line_list)\n",
    "\n",
    "\n",
    "line_tbl[\"SN\"] = line_tbl[\"flux\"]/line_tbl[\"err\"]\n",
    "print(line_tbl)\n",
    "\n",
    "\n",
    "filt = line_tbl[\"SN\"] > 2.0\n",
    "print(line_tbl[filt])\n",
    "    \n",
    "    "
   ]
  },
  {
   "cell_type": "code",
   "execution_count": null,
   "metadata": {
    "ExecuteTime": {
     "end_time": "2022-02-03T18:05:00.128182Z",
     "start_time": "2022-02-03T18:05:00.110703Z"
    }
   },
   "outputs": [],
   "source": [
    "N = head['NUMLINES']\n",
    "\n",
    "line_list = []\n",
    "for i in range(N):\n",
    "    line_list.append(OrderedDict({\"line\":head[\"LINE%03d\" % (i+1)],\n",
    "                      \"flux\":head[\"FLUX%03d\" % (i+1)],\n",
    "                      \"err\":head[\"ERR%03d\" % (i+1)]}))\n",
    "    \n",
    "#print(line_list)\n",
    "\n",
    "line_tbl = Table(line_list)\n",
    "\n",
    "\n",
    "line_tbl[\"sn\"] = line_tbl[\"flux\"]/line_tbl[\"err\"]\n",
    "print(line_tbl)\n",
    "\n",
    "#filt = line_tbl[\"SN\"] > 2.0\n",
    "#print(line_tbl[filt])\n",
    "line_tbl.sort(\"flux\")\n",
    "line_tbl.reverse()\n",
    "\n",
    "print(line_tbl)\n",
    "\n",
    "print(line_tbl[:3])"
   ]
  },
  {
   "cell_type": "code",
   "execution_count": null,
   "metadata": {
    "ExecuteTime": {
     "end_time": "2021-09-29T17:57:30.391521Z",
     "start_time": "2021-09-29T17:57:30.165213Z"
    }
   },
   "outputs": [],
   "source": [
    "os.chdir(os.path.join(HOME_PATH, root, 'Extraction'))\n",
    "\n",
    "id = 25\n",
    "\n",
    "f_1d = '{0}_{1:05d}.1D.fits'.format(root, id)\n",
    "#print(f_1d)\n",
    "oned_hdu = pyfits.open(f_1d)\n",
    "print(oned_hdu[1].header)\n",
    "print(oned_hdu.info())\n",
    "grism = Table(oned_hdu['GRISM'].data)\n",
    "print(grism.colnames)\n",
    "\n",
    "signal = np.sum(grism['flux'])\n",
    "noise = np.sqrt(np.sum(grism['err']**2))\n",
    "print(signal)\n",
    "print(noise)\n",
    "\n",
    "print(signal/noise)\n",
    "\n",
    "#full_hdu = pyfits.open('{0}_{1:05d}.full.fits'.format(root, id))\n",
    "#print(full_hdu.info())\n",
    "print(grism['line'])\n",
    "plt.plot(grism['flat'])"
   ]
  },
  {
   "cell_type": "code",
   "execution_count": null,
   "metadata": {
    "ExecuteTime": {
     "end_time": "2021-09-29T17:57:35.734850Z",
     "start_time": "2021-09-29T17:57:35.720099Z"
    }
   },
   "outputs": [],
   "source": [
    "S_N = []\n",
    "for id in phot['NUMBER']:\n",
    "    f_1d = '{0}_{1:05d}.1D.fits'.format(root, id)\n",
    "    oned_hdu = pyfits.open(f_1d)\n",
    "    grism = Table(oned_hdu['GRISM'].data)\n",
    "\n",
    "    signal = np.sum(grism['flux'])\n",
    "    noise = np.sqrt(np.sum(grism['err']**2))\n",
    "    S_N.append(signal/noise)\n",
    "\n",
    "phot['S_N'] = np.array(S_N)"
   ]
  },
  {
   "cell_type": "code",
   "execution_count": null,
   "metadata": {
    "ExecuteTime": {
     "end_time": "2021-07-29T05:34:35.435414Z",
     "start_time": "2021-07-29T05:34:35.429418Z"
    }
   },
   "outputs": [],
   "source": [
    "print(phot['S_N'])"
   ]
  },
  {
   "cell_type": "code",
   "execution_count": null,
   "metadata": {
    "ExecuteTime": {
     "end_time": "2021-07-29T05:39:03.404751Z",
     "start_time": "2021-07-29T05:39:03.189174Z"
    }
   },
   "outputs": [],
   "source": [
    "plt.scatter(phot['S_N'],phot['MAG_AUTO'])"
   ]
  },
  {
   "cell_type": "code",
   "execution_count": null,
   "metadata": {
    "ExecuteTime": {
     "end_time": "2021-07-29T05:41:28.415533Z",
     "start_time": "2021-07-29T05:41:28.113827Z"
    }
   },
   "outputs": [],
   "source": [
    "plt.hist(phot['S_N'],bins=10,range=[0,20])"
   ]
  },
  {
   "cell_type": "code",
   "execution_count": null,
   "metadata": {
    "ExecuteTime": {
     "end_time": "2021-07-29T05:44:26.573649Z",
     "start_time": "2021-07-29T05:44:26.565538Z"
    }
   },
   "outputs": [],
   "source": [
    "filt = phot['S_N'] < 6.5\n",
    "print(len(phot[filt]))"
   ]
  },
  {
   "cell_type": "markdown",
   "metadata": {},
   "source": [
    "# Appendix"
   ]
  },
  {
   "cell_type": "markdown",
   "metadata": {},
   "source": [
    "## Extract a single 2D spectrum \n",
    "Science, model and contamination based on RA and Dec\n",
    "\n",
    "[top](#Table-of-Contents)"
   ]
  },
  {
   "cell_type": "code",
   "execution_count": null,
   "metadata": {
    "ExecuteTime": {
     "end_time": "2022-02-03T01:43:19.718581Z",
     "start_time": "2022-02-03T01:43:19.439770Z"
    }
   },
   "outputs": [],
   "source": [
    "## Find the object ID near coordinates (r0,d0), \n",
    "## SExtractor IDs might not be constant across platforms\n",
    "\n",
    "#small \n",
    "#r0,d0 = 9.9667504,  0.0240604 # 19.94\n",
    "#r0,d0 = 9.9542018, -0.0588458 # 21.10\n",
    "#r0,d0 = 9.9490562, -0.0373860 # 22.13\n",
    "#r0,d0 = 9.9465051, -0.0405907 # 23.01\n",
    "#r0,d0 = 9.9589560,  0.0124919 # 23.98\n",
    "\n",
    "#random                                MAG    ATLAS NUMBER\n",
    "#r0,d0 = 10.0011107466,  0.0149484929 # 18.49  23961 continuum\n",
    "#r0,d0 = 10.0412372492,  0.0029643496 # 19.87  8063 mostly continuum\n",
    "#r0,d0 = 10.005562076,  -0.0566183098 # 20.79  8990 continuum\n",
    "#r0,d0 =  9.9664018228, -0.0055298638 # 20.91  606 continuum\n",
    "#r0,d0 = 10.0265397928, -0.0393050944 # 20.97  2118 emission, probably Ha (good!!!), modspec=1752\n",
    "#r0,d0 =  9.958860925,  -0.0350264133 # 20.98 23115 \n",
    "#r0,d0 = 10.0098736134, -0.0298934341 # 21.95  2388 emission\n",
    "#r0,d0 =  9.9912782697, -0.0334312864 # 22.92  21289 emission or contaminate?\n",
    "#r0,d0 = 10.0110716308,  0.05128653   # 23.97  12314 ?\n",
    "\n",
    "# 2118 old\n",
    "# 1571 new\n",
    "r0,d0 = 10.0265397928, -0.0393050944 # 20.97  Ha (good!!!)\n",
    "\n",
    "\n",
    "dr = np.sqrt((phot['X_WORLD']-r0)**2*np.cos(d0/180*np.pi)**2 + \n",
    "             (phot['Y_WORLD']-d0)**2)*3600.\n",
    "id = phot['NUMBER'][np.argmin(dr)]\n",
    "obj_mag = phot['MAG_AUTO'][np.argmin(dr)]\n",
    "print('ID:%d, mag=%.2f, dr=%.2f\"' %(id, obj_mag, np.min(dr)))\n",
    "\n",
    "beams = OrderedDict()\n",
    "\n",
    "\n",
    "ix = Roman.catalog['id'] == id\n",
    "x0, y0 = Roman.catalog['x_flt'][ix][0], Roman.catalog['y_flt'][ix][0]\n",
    "print(Roman.direct.instrument, x0, y0)\n",
    "#print(Roman.wcs.pscale)\n",
    "#dim = 18*0.135/sim.flt_wcs.pscale \n",
    "#beam = grizli.model.BeamCutout(id=id, x=x0, y=y0, \n",
    "#                               cutout_dimensions=np.cast[int]((dim, dim)), \n",
    "#                               conf=sim.conf, GrismFLT=sim)\n",
    "\n",
    "print(Roman.object_dispersers[id])\n",
    "\n",
    "is_cgs, spectrum_1d, b = Roman.object_dispersers[id]\n",
    "#print(b)\n",
    "\n",
    "cutout = grizli.model.BeamCutout(Roman, b['A'], min_sens=0,) # min_mask=0) \n",
    "\n",
    "cutout.beam.compute_model()  \n",
    "cutout.contam = cutout.beam.cutout_from_full_image(Roman.model)\n",
    "if id in Roman.object_dispersers:\n",
    "    cutout.contam -= cutout.beam.model\n",
    "\n",
    "print(dir(cutout.beam))\n",
    "#print(cutout.contam)\n",
    "#print(cutout.beam.model)\n",
    "#print(dir(cutout.beam))\n",
    "print(cutout.beam.seg)\n",
    "print(cutout.beam.seg.shape)\n",
    "\n",
    "fig = plt.figure()\n",
    "p1 = fig.add_subplot(111)\n",
    "p1.imshow(cutout.grism.data['SCI']*1, origin='lower',cmap='gray_r')\n",
    "#p1.imshow(cutout.grism.data['ERR']*1)#,vmin=-0.1,vmax=0.1, origin='lower',cmap='gray_r')\n",
    "    \n",
    "beams[Roman.grism.instrument] = cutout\n",
    "\n",
    "cutout.write_fits() # still learning about the output"
   ]
  },
  {
   "cell_type": "markdown",
   "metadata": {},
   "source": [
    "## aXeSIM predictions based on conf file\n",
    "[top](#Table-of-Contents)"
   ]
  },
  {
   "cell_type": "code",
   "execution_count": null,
   "metadata": {
    "ExecuteTime": {
     "end_time": "2022-01-06T02:14:29.132771Z",
     "start_time": "2022-01-06T02:14:29.130446Z"
    }
   },
   "outputs": [],
   "source": [
    "os.chdir(os.path.join(HOME_PATH, root, 'Prep'))"
   ]
  },
  {
   "cell_type": "code",
   "execution_count": null,
   "metadata": {
    "ExecuteTime": {
     "end_time": "2022-01-06T02:11:19.815793Z",
     "start_time": "2022-01-06T02:11:19.813425Z"
    }
   },
   "outputs": [],
   "source": [
    "from grizli import grismconf"
   ]
  },
  {
   "cell_type": "code",
   "execution_count": null,
   "metadata": {
    "ExecuteTime": {
     "end_time": "2022-01-06T02:11:22.270158Z",
     "start_time": "2022-01-06T02:11:22.235382Z"
    }
   },
   "outputs": [],
   "source": [
    "# This one gives the error\n",
    "import os\n",
    "os.chdir(\"/Users/gwalth/data/Roman/grizli/grizli/CONF\")\n",
    "conf = grismconf.load_grism_config(\"./Roman.det1.07242020.conf\")\n",
    "\n",
    "# This one works!\n",
    "#conf = grismconf.load_grism_config(\"../../../grizli/CONF/Roman.det1.07242020.conf\")\n",
    "#conf = grismconf.load_grism_config(\"../../../grizli/CONF/Roman_bad/Roman.det1.07242020.conf\")\n",
    "\n",
    "dx = conf.dxlam[\"A\"]\n",
    "print(dx)\n",
    "dy,lam = conf.get_beam_trace(x=x0,y=y0,dx=dx)\n",
    "print(dy)\n",
    "print(lam)"
   ]
  },
  {
   "cell_type": "code",
   "execution_count": null,
   "metadata": {
    "ExecuteTime": {
     "end_time": "2022-01-06T02:11:32.002370Z",
     "start_time": "2022-01-06T02:11:31.453748Z"
    }
   },
   "outputs": [],
   "source": [
    "conf.show_beams()"
   ]
  },
  {
   "cell_type": "code",
   "execution_count": null,
   "metadata": {
    "ExecuteTime": {
     "end_time": "2021-06-24T16:47:04.994829Z",
     "start_time": "2021-06-24T16:47:04.991040Z"
    }
   },
   "outputs": [],
   "source": [
    "print(os.getcwd())"
   ]
  },
  {
   "cell_type": "code",
   "execution_count": null,
   "metadata": {
    "ExecuteTime": {
     "end_time": "2022-01-06T02:14:36.296741Z",
     "start_time": "2022-01-06T02:14:36.278075Z"
    }
   },
   "outputs": [],
   "source": [
    "for i in range(1,19): \n",
    "    conf = grismconf.load_grism_config(\"../../../grizli/CONF/Roman.det%i.07242020.conf\" % (i)) \n",
    "    #conf = grismconf.load_grism_config(\"../../../grizli/CONF/Roman_bad/Roman.det%i.07242020.conf\" % (i))\n",
    "    dx = conf.dxlam[\"A\"]\n",
    "    print(dx)\n",
    "    dy,lam = conf.get_beam_trace(x=x0,y=y0,dx=dx)\n",
    "    print(dy)\n",
    "    print(lam)\n",
    "    conf.show_beams()"
   ]
  },
  {
   "cell_type": "markdown",
   "metadata": {},
   "source": [
    "## Show 2D beam\n",
    "[top](#Table-of-Contents)"
   ]
  },
  {
   "cell_type": "code",
   "execution_count": null,
   "metadata": {
    "ExecuteTime": {
     "end_time": "2022-02-03T01:43:33.991740Z",
     "start_time": "2022-02-03T01:43:33.778431Z"
    }
   },
   "outputs": [],
   "source": [
    "## Spectrum with lines & noise\n",
    "#spectrum_file = os.path.join(os.path.dirname(grizli.__file__), 'data/erb2010.dat')\n",
    "#spectrum_file = '../../../grizli/templates/erb2010.dat'\n",
    "#erb = np.loadtxt(spectrum_file, unpack=True)\n",
    "#z = 2.0 # test redshift\n",
    "\n",
    "## normalize spectrum to unity to use normalization defined in the direct image\n",
    "#import pysynphot as S\n",
    "#spec = S.ArraySpectrum(erb[0], erb[1], fluxunits='flam')\n",
    "#spec = spec.redshift(z).renorm(1., 'flam', S.ObsBandpass('wfc3,ir,f140w'))\n",
    "#spec.convert('flam') # bug in pysynphot, now units being converted automatically above? (11/10/16)\n",
    "\n",
    "fig = plt.figure(figsize=(14,4))\n",
    "for i, key in enumerate(beams.keys()):\n",
    "    #     beams[key].compute_model(beams[key].thumb, id=beams[key].id, \n",
    "    #                              xspec=spec.wave, yspec=spec.flux)\n",
    "    #print(key)\n",
    "    #beams[key].beam.compute_model(spectrum_1d=[spec.wave, spec.flux]) \n",
    "    #beams[key].beam.compute_model()\n",
    "    \n",
    "    gdata = beams[key].grism.data['SCI']*1\n",
    "    gmodel = beams[key].model\n",
    "    gcontam = beams[key].contam\n",
    "    \n",
    "    print(gdata)\n",
    "    print(gmodel)\n",
    "    print(gcontam)\n",
    "    \n",
    "    print(np.min(gdata),np.max(gdata))\n",
    "    print(np.min(gmodel),np.max(gmodel))\n",
    "    print(np.min(gcontam),np.max(gcontam))\n",
    "    \n",
    "    print(gdata.shape)\n",
    "    print(gmodel.shape)\n",
    "    print(gcontam.shape)\n",
    "    \n",
    "    axl = fig.add_subplot(321+i*2)\n",
    "    #axl.imshow(beams[key].model + beams[key].grism.data['SCI']*1, interpolation='Nearest', \n",
    "    #       origin='lower', vmin=-0.006, vmax=0.16, cmap='gray_r', aspect='auto')\n",
    "    \n",
    "    axl.imshow(beams[key].grism.data['SCI']*1, interpolation='Nearest', \n",
    "           origin='lower', vmin=-0.1,vmax=0.1, cmap='gray_r', aspect='auto')\n",
    "    \n",
    "    \n",
    "    axr = fig.add_subplot(321+i*2+1)\n",
    "    #axr.imshow(beams[key].contam + beams[key].grism.data['SCI'] + beams[key].model, \n",
    "    #           interpolation='Nearest', \n",
    "    #           origin='lower', vmin=-1, vmax=2, cmap='gray_r', aspect='auto')\n",
    "\n",
    "    axr.imshow(beams[key].contam , \n",
    "               interpolation='Nearest', \n",
    "               origin='lower', vmin=-0.1,vmax=0.1, cmap='gray_r', aspect='auto')\n",
    "    \n",
    "    #axl.set_title('%s - %s' %(key, beams[key].grism.filter))\n",
    "    #for ax in [axl, axr]:\n",
    "    #    beams[key].beam.twod_axis_labels(wscale=1.e4, mpl_axis=ax)\n",
    "    #    beams[key].beam.twod_xlim(1.3,1.75, wscale=1.e4, mpl_axis=ax)\n",
    "    #    if i < 2:\n",
    "    #        ax.set_xticklabels([])\n",
    "    #    else:\n",
    "    #        ax.set_xlabel(r'$\\lambda$')\n",
    "\n",
    "fig.tight_layout(pad=0.5)"
   ]
  },
  {
   "cell_type": "code",
   "execution_count": 14,
   "metadata": {
    "ExecuteTime": {
     "end_time": "2022-02-03T01:43:42.195081Z",
     "start_time": "2022-02-03T01:43:42.189538Z"
    }
   },
   "outputs": [],
   "source": [
    "def ab2flux(mab,eff_wav):\n",
    "    c = 2.9979E10 # cm/s\n",
    "    Ang = 1E-8    # cm\n",
    "    Jy = 1E-23    # erg/s/cm^2/Hz\n",
    "    \n",
    "    # mab = -2.5*np.log10(fnu) - 48.6 \n",
    "    fnu = 10**(-0.4*(mab + 48.6))          # erg/s/cm^2/Hz\n",
    "    flambda = fnu*(c/(eff_wav*Ang)**2)*Ang # erg/s/cm^2/Ang\n",
    "   \n",
    "    #print(\"%.2f AB\" % (mab))\n",
    "    #print(\"%.2e erg/s/cm^2/Hz\" % (fnu))\n",
    "    #print(\"%.2e Jy\" % (fnu/Jy))\n",
    "    #print(\"%.4f uJy\" % (fnu/(1e-6*Jy)))\n",
    "    #print(\"%.1f nJy\" % (fnu/(1e-9*Jy)))\n",
    "    #print()\n",
    "    #print(\"%.2e erg/s/cm^2/Ang\" % (flambda))\n",
    "    #print()\n",
    "    \n",
    "    return flambda"
   ]
  },
  {
   "cell_type": "code",
   "execution_count": null,
   "metadata": {
    "ExecuteTime": {
     "end_time": "2022-02-03T01:43:42.821743Z",
     "start_time": "2022-02-03T01:43:42.807002Z"
    }
   },
   "outputs": [],
   "source": [
    "# determine flux in Ang for the source in the direct image\n",
    "\n",
    "mab = phot[phot['NUMBER']==id]['MAG_AUTO'][0]\n",
    "\n",
    "f_scale = ab2flux(mab,15800.)"
   ]
  },
  {
   "cell_type": "markdown",
   "metadata": {},
   "source": [
    "## Simple SN calculations based on the spcontetc\n",
    "[top](#Table-of-Contents)"
   ]
  },
  {
   "cell_type": "code",
   "execution_count": 15,
   "metadata": {
    "ExecuteTime": {
     "end_time": "2022-02-03T01:43:46.511571Z",
     "start_time": "2022-02-03T01:43:46.507713Z"
    }
   },
   "outputs": [],
   "source": [
    "# Per pix S/N=1\n",
    "mag_per_pix_w0 = 21.9       # 1.00 um\n",
    "mag_per_pix_w1 = 21.9       # 1.93 um\n",
    "mag_per_pix_deepest = 22.7  # 1.34 um"
   ]
  },
  {
   "cell_type": "code",
   "execution_count": 16,
   "metadata": {
    "ExecuteTime": {
     "end_time": "2022-02-03T01:43:47.266018Z",
     "start_time": "2022-02-03T01:43:47.262276Z"
    }
   },
   "outputs": [
    {
     "data": {
      "text/plain": [
       "5.042054612716202e-19"
      ]
     },
     "execution_count": 16,
     "metadata": {},
     "output_type": "execute_result"
    }
   ],
   "source": [
    "ab2flux(mag_per_pix_w0,10000.)\n",
    "ab2flux(mag_per_pix_deepest,13400.)"
   ]
  },
  {
   "cell_type": "code",
   "execution_count": 18,
   "metadata": {
    "ExecuteTime": {
     "end_time": "2022-02-03T01:43:50.512395Z",
     "start_time": "2022-02-03T01:43:50.259715Z"
    }
   },
   "outputs": [
    {
     "name": "stdout",
     "output_type": "stream",
     "text": [
      "/Users/gwalth/data/Roman/grizli/sims\n",
      " col1   col2   col3    col4      col5    col6    col7 \n",
      "------ ------ ----- ---------- ------- ------- -------\n",
      "   1.0 0.8657 117.1  5139800.0 21.1989 20.5715 21.3113\n",
      "1.0581 0.8747 115.9  6604600.0 21.4656 20.8438  21.578\n",
      "1.1162 0.8837 114.7  7990600.0 21.6669 21.0506 21.7792\n",
      "1.1744 0.8928 113.6  9035700.0 21.7948 21.1841 21.9072\n",
      "1.2325 0.9019 112.4  9767600.0 21.8738 21.2686 21.9862\n",
      "1.2906 0.9111 111.3 10058000.0 21.9001 21.3004 22.0125\n",
      "1.3487 0.9202 110.2 10102000.0 21.8995 21.3052 22.0118\n",
      "   ...    ...   ...        ...     ...     ...     ...\n",
      "1.5812 0.9574 105.9  8608500.0 21.7043 21.1315 21.8166\n",
      "1.6394 0.9668 104.9  8131600.0 21.6371 21.0696 21.7495\n",
      "1.6975 0.9762 103.9  7587000.0 21.5566 20.9943 21.6689\n",
      "1.7556 0.9857 102.9  7023200.0 21.4675 20.9105 21.5799\n",
      "1.8137 0.9952 101.9  6384100.0 21.3587 20.8069 21.4711\n",
      "1.8719 1.0047 100.9  5873500.0  21.263 20.7164 21.3754\n",
      "  1.93 1.0143 100.0  5326700.0 21.1518 20.6103 21.2641\n",
      "Length = 17 rows\n"
     ]
    },
    {
     "data": {
      "image/png": "[encoded data removed]",
      "text/plain": [
       "<Figure size 1000x600 with 1 Axes>"
      ]
     },
     "metadata": {},
     "output_type": "display_data"
    }
   ],
   "source": [
    "print(os.getcwd())\n",
    "spcontetc_1n = Table.read(\"etc/spcontetc_1n_0.2.dat\",format=\"ascii\")\n",
    "spcontetc_8n = Table.read(\"etc/spcontetc_8n_0.2.dat\",format=\"ascii\")\n",
    "#spcontetc_1n = Table.read(\"../etc/spcontetc_1n_0.5.dat\",format=\"ascii\")\n",
    "#spcontetc_8n = Table.read(\"../etc/spcontetc_8n_0.5.dat\",format=\"ascii\")\n",
    "print(spcontetc_1n)\n",
    "\n",
    "#|  um  | arcsec |      |exp per Jy|per pix |per resl|1e4 km/s|\n",
    "fig = plt.figure()\n",
    "p = fig.add_subplot(111)\n",
    "#for n in range(5,8):\n",
    "for n in range(5,7):\n",
    "    #p.plot(spcontetc_1n['col1'],spcontetc_1n['col%i' % (n)]) # AB\n",
    "    #p.plot(spcontetc_8n['col1'],spcontetc_8n['col%i' % (n)]) # AB\n",
    "    \n",
    "    f1 = ab2flux(spcontetc_1n['col%i' % (n)],spcontetc_1n['col1']*1e4)\n",
    "    f8 = ab2flux(spcontetc_8n['col%i' % (n)],spcontetc_8n['col1']*1e4)\n",
    "    \n",
    "    p.plot(spcontetc_1n['col1'],f1)  \n",
    "    #p.plot(spcontetc_8n['col1'],f8) \n",
    "\n",
    "    \n",
    "\n",
    "#p.set_ylim(0e-18,2e-18)\n",
    "p.set_xlabel(r'$\\lambda$ [micron]')\n",
    "p.set_ylabel(r'Flux [erg s$^{-1}$ cm$^{-2}$ Ang$^{-1}$]')\n",
    "#p.set_ylabel(r'Mag [AB]')\n",
    "\n",
    "#p.invert_yaxis()\n",
    "    \n",
    "plt.show()"
   ]
  },
  {
   "cell_type": "markdown",
   "metadata": {},
   "source": [
    "Roughly estimated from spcontetc (>1.4 micron):\n",
    "\n",
    "<span style=\"color:red\">5 sigma limit = 1.75e-18 erg/s/cm^2/Ang</span>\n",
    "\n",
    "<span style=\"color:red\">1 sigma limit = 1.00e-18 erg/s/cm^2/Ang</span>\n"
   ]
  },
  {
   "cell_type": "markdown",
   "metadata": {},
   "source": [
    "## Simple SN calculations based on the pzcaletc\n",
    "[top](#Table-of-Contents)"
   ]
  },
  {
   "cell_type": "code",
   "execution_count": 19,
   "metadata": {
    "ExecuteTime": {
     "end_time": "2022-02-03T01:43:55.234577Z",
     "start_time": "2022-02-03T01:43:55.037412Z"
    }
   },
   "outputs": [
    {
     "name": "stdout",
     "output_type": "stream",
     "text": [
      "/Users/gwalth/data/Roman/grizli/sims\n",
      " col1      col2        col3    ...    col10       col11       col12   \n",
      "------ ----------- ----------- ... ----------- ----------- -----------\n",
      "   1.0 2.71013e-19 3.55783e-19 ... 1.52512e-18 1.70082e-18 1.87693e-18\n",
      "1.0332 2.29307e-19 3.00404e-19 ... 1.28054e-18 1.42783e-18 1.57547e-18\n",
      "1.0664 1.95075e-19  2.5503e-19 ...  1.0811e-18 1.20524e-18  1.3297e-18\n",
      "1.0996  1.7056e-19 2.22525e-19 ... 9.38094e-19 1.04565e-18 1.15347e-18\n",
      "1.1329 1.53269e-19 1.99562e-19 ... 8.36668e-19  9.3244e-19 1.02845e-18\n",
      "1.1661 1.40447e-19 1.82501e-19 ...  7.6096e-19 8.47925e-19 9.35111e-19\n",
      "1.1993 1.30661e-19 1.69451e-19 ... 7.02705e-19 7.82881e-19 8.63265e-19\n",
      "   ...         ...         ... ...         ...         ...         ...\n",
      "1.7307 1.33815e-19 1.68921e-19 ... 6.44427e-19 7.16022e-19 7.87834e-19\n",
      "1.7639 1.38904e-19 1.75097e-19 ... 6.64681e-19 7.38401e-19 8.12348e-19\n",
      "1.7971 1.45273e-19 1.82872e-19 ... 6.90779e-19 7.67264e-19 8.43986e-19\n",
      "1.8304 1.51233e-19 1.90114e-19 ... 7.14626e-19 7.93618e-19 8.72856e-19\n",
      "1.8636 1.56967e-19 1.97055e-19 ... 7.37123e-19 8.18464e-19  9.0006e-19\n",
      "1.8968   1.634e-19 2.04858e-19 ... 7.62615e-19 8.46626e-19 9.30903e-19\n",
      "  1.93 1.71754e-19 2.15048e-19 ... 7.96717e-19 8.84337e-19 9.72235e-19\n",
      "Length = 29 rows\n"
     ]
    },
    {
     "data": {
      "image/png": "[encoded data removed]",
      "text/plain": [
       "<Figure size 1000x600 with 1 Axes>"
      ]
     },
     "metadata": {},
     "output_type": "display_data"
    }
   ],
   "source": [
    "print(os.getcwd())\n",
    "pzcaletc_1n = Table.read(\"etc/pzcaletc_1n.dat\",format=\"ascii\")\n",
    "pzcaletc_8n = Table.read(\"etc/pzcaletc_8n.dat\",format=\"ascii\")\n",
    "print(pzcaletc_1n)\n",
    "\n",
    "fig = plt.figure()\n",
    "p = fig.add_subplot(111)\n",
    "#for n in range(2,13):\n",
    "for n in range(2,3):\n",
    "    #p.plot(pzcaletc_1n['col1'],pzcaletc_1n['col%i' % (n)]) # W/m^2\n",
    "    p.plot(pzcaletc_1n['col1'],pzcaletc_1n['col%i' % (n)]*1000.) # erg/s/cm^2\n",
    "    p.plot(pzcaletc_8n['col1'],pzcaletc_8n['col%i' % (n)]*1000.) # erg/s/cm^2\n",
    "\n",
    "    \n",
    "#p.legend(fontsize=14)\n",
    "#p.set_xlim(w1-0.05, w2+0.05)\n",
    "#p.set_ylim(-1e-21,3e-20)\n",
    "p.set_xlabel(r'$\\lambda$ [micron]')\n",
    "p.set_ylabel(r'Flux [erg s$^{-1}$ cm$^{-2}$]')\n",
    "    \n",
    "plt.show()"
   ]
  },
  {
   "cell_type": "markdown",
   "metadata": {},
   "source": [
    "## Simple SN calculations based on the apttables2021\n",
    "[top](#Table-of-Contents)"
   ]
  },
  {
   "cell_type": "code",
   "execution_count": 20,
   "metadata": {
    "ExecuteTime": {
     "end_time": "2022-02-03T01:43:59.587098Z",
     "start_time": "2022-02-03T01:43:58.942675Z"
    }
   },
   "outputs": [
    {
     "name": "stdout",
     "output_type": "stream",
     "text": [
      "/Users/gwalth/data/Roman/grizli/sims\n"
     ]
    },
    {
     "data": {
      "image/png": "[encoded data removed]",
      "text/plain": [
       "<Figure size 1000x600 with 1 Axes>"
      ]
     },
     "metadata": {},
     "output_type": "display_data"
    }
   ],
   "source": [
    "print(os.getcwd())\n",
    "apt_rad0_0_zod1_2 = Table.read(\"apttables2021/grism/spec_half-light-rad0.0_zod1.2.dat\",format=\"ascii\",\n",
    "                               names=('AB','1.05','1.20','1.40','1.60','1.80','2.00'))\n",
    "apt_rad0_2_zod1_2 = Table.read(\"apttables2021/grism/spec_half-light-rad0.2_zod1.2.dat\",format=\"ascii\",\n",
    "                               names=('AB','1.05','1.20','1.40','1.60','1.80','2.00'))\n",
    "apt_rad0_3_zod1_2 = Table.read(\"apttables2021/grism/spec_half-light-rad0.3_zod1.2.dat\",format=\"ascii\",\n",
    "                               names=('AB','1.05','1.20','1.40','1.60','1.80','2.00'))\n",
    "#print(apt_rad0_0_zod1_2)\n",
    "#print(apt_rad0_2_zod1_2)\n",
    "#print(apt_rad0_3_zod1_2)\n",
    "\n",
    "fig = plt.figure()\n",
    "p = fig.add_subplot(111)\n",
    "\n",
    "wlist = ['1.05','1.20','1.40','1.60','1.80','2.00']\n",
    "\n",
    "#for w in wlist:\n",
    "#    p.plot(apt_rad0_0_zod1_2[w],apt_rad0_0_zod1_2['AB'],label=w) \n",
    "\n",
    "p.scatter(apt_rad0_0_zod1_2['1.20'],apt_rad0_0_zod1_2['AB'],label='half-light radius 0.0')\n",
    "p.scatter(apt_rad0_2_zod1_2['1.20'],apt_rad0_0_zod1_2['AB'],label='half-light radius 0.2')\n",
    "p.scatter(apt_rad0_3_zod1_2['1.20'],apt_rad0_0_zod1_2['AB'],label='half-light radius 0.3')\n",
    "    \n",
    "p.legend(fontsize=14)\n",
    "p.set_xscale(\"log\")\n",
    "\n",
    "#p.set_xlim(0,2000)\n",
    "#p.set_ylim(20,22)\n",
    "    \n",
    "plt.show()"
   ]
  },
  {
   "cell_type": "code",
   "execution_count": 21,
   "metadata": {
    "ExecuteTime": {
     "end_time": "2022-02-03T01:44:03.306897Z",
     "start_time": "2022-02-03T01:44:02.565578Z"
    }
   },
   "outputs": [
    {
     "name": "stdout",
     "output_type": "stream",
     "text": [
      "1.05\n",
      "[16.9065836   1.27383247]\n",
      "20.063862085214456\n",
      "\n",
      "1.20\n",
      "[17.18572913  1.27166514]\n",
      "20.3376357493578\n",
      "\n",
      "1.40\n",
      "[17.07030217  1.27266754]\n",
      "20.224693289505403\n",
      "\n",
      "1.60\n",
      "[16.71749973  1.27527391]\n",
      "19.878350918078727\n",
      "\n",
      "1.80\n",
      "[16.27650476  1.27830027]\n",
      "19.44485697276647\n",
      "\n",
      "2.00\n",
      "[16.03502399  1.27968244]\n",
      "19.20680200026952\n",
      "\n"
     ]
    },
    {
     "data": {
      "image/png": "[encoded data removed]",
      "text/plain": [
       "<Figure size 1000x600 with 1 Axes>"
      ]
     },
     "metadata": {},
     "output_type": "display_data"
    }
   ],
   "source": [
    "##############\n",
    "# My crude ETC\n",
    "# based on \n",
    "# https://roman.gsfc.nasa.gov/science/apttables2021/table-grism.html\n",
    "##############\n",
    "\n",
    "# notes:\n",
    "# might need a fit cutoff to t = 1e7 \n",
    "\n",
    "from scipy.optimize import leastsq\n",
    "\n",
    "t = 301.\n",
    "\n",
    "param = [1,0]\n",
    "err = 1.0\n",
    "\n",
    "# y = ax + b\n",
    "line_fn = lambda p,x: p[1]*x+p[0]\n",
    "\n",
    "err_fn = lambda p: (line_fn(p,x) - y)/err\n",
    "\n",
    "wlist = ['1.05','1.20','1.40','1.60','1.80','2.00'] # microns\n",
    "\n",
    "mag_ab_5sig = []\n",
    "\n",
    "fig = plt.figure()\n",
    "p = fig.add_subplot(111)\n",
    "\n",
    "#x = np.log10(apt_rad0_0_zod1_2['1.20'])\n",
    "y = apt_rad0_2_zod1_2['AB']\n",
    "for w in wlist:\n",
    "    print(w)\n",
    "    x = np.log10(apt_rad0_2_zod1_2[w])\n",
    "\n",
    "    sol = leastsq(err_fn,param,full_output=1)\n",
    "    print(sol[0])\n",
    "\n",
    "    mag_ab = line_fn(sol[0],np.log10(t))\n",
    "    print(mag_ab)\n",
    "    mag_ab_5sig.append(mag_ab)\n",
    "    print()\n",
    "\n",
    "    logt = np.arange(2.0,8.6,0.1)\n",
    "    mag = line_fn(sol[0],logt)\n",
    "    \n",
    "\n",
    "    p.plot(10**logt,mag,c=\"k\")\n",
    "    p.scatter(10**x,y,label=w,s=50,alpha=0.7)\n",
    "    \n",
    "p.legend(fontsize=14)\n",
    "p.set_xscale(\"log\")\n",
    "\n",
    "p.set_xlim(400,2.5e8)\n",
    "p.set_ylim(20.8,27.2)\n",
    "\n",
    "p.invert_yaxis()\n",
    "plt.show()"
   ]
  },
  {
   "cell_type": "code",
   "execution_count": 22,
   "metadata": {
    "ExecuteTime": {
     "end_time": "2022-02-03T01:44:06.022326Z",
     "start_time": "2022-02-03T01:44:05.734739Z"
    }
   },
   "outputs": [
    {
     "data": {
      "image/png": "[encoded data removed]",
      "text/plain": [
       "<Figure size 1000x400 with 2 Axes>"
      ]
     },
     "metadata": {},
     "output_type": "display_data"
    }
   ],
   "source": [
    "fig = plt.figure(figsize=(10,4))\n",
    "p1 = fig.add_subplot(121)\n",
    "\n",
    "warr = 1e4*np.array([float(w0) for w0 in wlist]) # Angstroms\n",
    "\n",
    "\n",
    "mag_ab_5sig = np.array(mag_ab_5sig)\n",
    "\n",
    "p1.plot(warr,mag_ab_5sig)\n",
    "p1.set_xlabel(r'$\\lambda$ [Ang]')\n",
    "p1.set_ylabel(r'mag [AB]')\n",
    "p1.invert_yaxis()\n",
    "\n",
    "\n",
    "#p.set_xlim(0,2000)\n",
    "#p.set_ylim(20,22)\n",
    "p2 = fig.add_subplot(122)\n",
    "\n",
    "#flux_5sig = [ab2flux(mag_ab_5sig[i],w0) for i,w0 in enumerate(warr)]\n",
    "flux_5sig = ab2flux(mag_ab_5sig,warr) \n",
    "p2.plot(warr,flux_5sig)\n",
    "\n",
    "p2.set_xlabel(r'$\\lambda$ [Ang]')\n",
    "p2.set_ylabel(r'Flux [erg s$^{-1}$ cm$^{-2}$ Ang$^{-1}$]')\n",
    "    \n",
    "plt.show()"
   ]
  },
  {
   "cell_type": "markdown",
   "metadata": {},
   "source": [
    "Comparison between spcontetc and apttables2021"
   ]
  },
  {
   "cell_type": "code",
   "execution_count": 23,
   "metadata": {
    "ExecuteTime": {
     "end_time": "2022-02-03T01:44:09.699806Z",
     "start_time": "2022-02-03T01:44:09.370386Z"
    }
   },
   "outputs": [
    {
     "name": "stdout",
     "output_type": "stream",
     "text": [
      "/Users/gwalth/data/Roman/grizli/sims\n",
      " col1   col2   col3    col4      col5    col6    col7 \n",
      "------ ------ ----- ---------- ------- ------- -------\n",
      "   1.0 0.8657 117.1  5139800.0 21.1989 20.5715 21.3113\n",
      "1.0581 0.8747 115.9  6604600.0 21.4656 20.8438  21.578\n",
      "1.1162 0.8837 114.7  7990600.0 21.6669 21.0506 21.7792\n",
      "1.1744 0.8928 113.6  9035700.0 21.7948 21.1841 21.9072\n",
      "1.2325 0.9019 112.4  9767600.0 21.8738 21.2686 21.9862\n",
      "1.2906 0.9111 111.3 10058000.0 21.9001 21.3004 22.0125\n",
      "1.3487 0.9202 110.2 10102000.0 21.8995 21.3052 22.0118\n",
      "   ...    ...   ...        ...     ...     ...     ...\n",
      "1.5812 0.9574 105.9  8608500.0 21.7043 21.1315 21.8166\n",
      "1.6394 0.9668 104.9  8131600.0 21.6371 21.0696 21.7495\n",
      "1.6975 0.9762 103.9  7587000.0 21.5566 20.9943 21.6689\n",
      "1.7556 0.9857 102.9  7023200.0 21.4675 20.9105 21.5799\n",
      "1.8137 0.9952 101.9  6384100.0 21.3587 20.8069 21.4711\n",
      "1.8719 1.0047 100.9  5873500.0  21.263 20.7164 21.3754\n",
      "  1.93 1.0143 100.0  5326700.0 21.1518 20.6103 21.2641\n",
      "Length = 17 rows\n"
     ]
    },
    {
     "data": {
      "image/png": "[encoded data removed]",
      "text/plain": [
       "<Figure size 1000x600 with 1 Axes>"
      ]
     },
     "metadata": {},
     "output_type": "display_data"
    }
   ],
   "source": [
    "print(os.getcwd())\n",
    "spcontetc_1n = Table.read(\"etc/spcontetc_1n_0.2.dat\",format=\"ascii\")\n",
    "spcontetc_8n = Table.read(\"etc/spcontetc_8n_0.2.dat\",format=\"ascii\")\n",
    "#spcontetc_1n = Table.read(\"../etc/spcontetc_1n_0.5.dat\",format=\"ascii\")\n",
    "#spcontetc_8n = Table.read(\"../etc/spcontetc_8n_0.5.dat\",format=\"ascii\")\n",
    "print(spcontetc_1n)\n",
    "\n",
    "fig = plt.figure()\n",
    "p = fig.add_subplot(111)\n",
    "#for n in range(5,8):\n",
    "for n in range(5,7):\n",
    "    #p.plot(spcontetc_1n['col1'],spcontetc_1n['col%i' % (n)]) # AB\n",
    "    #p.plot(spcontetc_8n['col1'],spcontetc_8n['col%i' % (n)]) # AB\n",
    "    \n",
    "    f1 = ab2flux(spcontetc_1n['col%i' % (n)],spcontetc_1n['col1']*1e4)\n",
    "    f8 = ab2flux(spcontetc_8n['col%i' % (n)],spcontetc_8n['col1']*1e4)\n",
    "    \n",
    "    p.plot(spcontetc_1n['col1'],f1,label='spcontetc 0.2\"')  \n",
    "    #p.plot(spcontetc_8n['col1'],f8) \n",
    "\n",
    "\n",
    "p.plot(warr/1e4,flux_5sig,label=\"apttables2021\")\n",
    "\n",
    "#p.set_ylim(0e-18,2e-18)\n",
    "p.set_xlabel(r'$\\lambda$ [micron]')\n",
    "p.set_ylabel(r'Flux [erg s$^{-1}$ cm$^{-2}$ Ang$^{-1}$]')\n",
    "#p.set_ylabel(r'Mag [AB]')\n",
    "\n",
    "#p.invert_yaxis()\n",
    "p.legend()\n",
    "    \n",
    "plt.show()"
   ]
  },
  {
   "cell_type": "code",
   "execution_count": 24,
   "metadata": {
    "ExecuteTime": {
     "end_time": "2022-02-03T01:44:15.359422Z",
     "start_time": "2022-02-03T01:44:14.526762Z"
    }
   },
   "outputs": [
    {
     "name": "stdout",
     "output_type": "stream",
     "text": [
      "/Users/gwalth/data/Roman/grizli/sims\n",
      "[-89.73592326  77.61208193]\n",
      "[-83.6428632   70.94594587]\n",
      "[-78.20641729  64.87689421]\n",
      "[-73.46963447  59.36232707]\n",
      "[-69.28273412  54.34397954]\n",
      "[-65.72085523  49.79099686]\n",
      "[-62.64147186  45.65285153]\n",
      "[-60.05724564  41.89840377]\n",
      "[-57.95166067  38.49699191]\n",
      "[-56.24834874  35.41336941]\n",
      "[-54.93318715  32.62060131]\n",
      "[-54.01679502  30.09920097]\n",
      "[-53.34708151  27.81057906]\n",
      "[-53.00846767  25.74680748]\n",
      "[-52.91265734  23.88085463]\n",
      "[-52.97789776  22.18950959]\n",
      "[-53.16897768  20.65338192]\n",
      "[-53.48210357  19.26091405]\n",
      "[-53.73410632  17.98106236]\n",
      "[-53.9253553   16.80236472]\n",
      "[-53.98302069  15.70915605]\n",
      "[-53.81022041  14.6822372 ]\n",
      "[-53.36483199  13.70985933]\n",
      "[-52.56235365  12.77654852]\n",
      "[-51.44862146  11.88220921]\n",
      "[-49.9025894   11.00754667]\n",
      "[-47.98663786  10.15628615]\n",
      "[-45.71173246   9.32432037]\n",
      "[-43.14690747   8.51575659]\n",
      "[-40.24825771   7.72247578]\n",
      "[-37.22931989   6.96405922]\n",
      "[-34.07105941   6.2363996 ]\n",
      "[-30.91143484   5.5511502 ]\n",
      "[-27.79044612   4.90831098]\n",
      "[-24.73225697   4.30797751]\n",
      "[-21.86066213   3.76170748]\n",
      "[-19.14257409   3.26185942]\n",
      "[-16.67524392   2.81617032]\n",
      "[-14.40725713   2.41680771]\n",
      "[-12.40764776   2.0678788 ]\n",
      "[-10.6250016    1.76155114]\n",
      "[ 1.76902839e+01 -1.34083285e+00  7.04479935e-02 -1.74094064e-03]\n",
      "4\n",
      "[ 3.40599971e+01 -3.67249321e+00  1.79629588e-01 -3.38909938e-03]\n",
      "4\n",
      "[ 4.09108370e+01 -4.55768542e+00  2.16769076e-01 -3.86064909e-03]\n",
      "4\n",
      "[ 5.04234670e+01 -5.91509575e+00  2.81316180e-01 -4.85388813e-03]\n",
      "4\n",
      "{'sol55': array([ 1.76902839e+01, -1.34083285e+00,  7.04479935e-02, -1.74094064e-03]), 'sol75': array([ 3.40599971e+01, -3.67249321e+00,  1.79629588e-01, -3.38909938e-03]), 'sol100': array([ 4.09108370e+01, -4.55768542e+00,  2.16769076e-01, -3.86064909e-03]), 'sol141': array([ 5.04234670e+01, -5.91509575e+00,  2.81316180e-01, -4.85388813e-03])}\n",
      "[ 5.04234670e+01 -5.91509575e+00  2.81316180e-01 -4.85388813e-03]\n",
      "[ 4.79234670e+01 -5.91509575e+00  2.81316180e-01 -4.85388813e-03]\n",
      "[0.04173636+0.02816056j 0.04173636-0.02816056j 0.03995523+0.j        ]\n"
     ]
    },
    {
     "data": {
      "image/png": "[encoded data removed]",
      "text/plain": [
       "<Figure size 1000x600 with 1 Axes>"
      ]
     },
     "metadata": {},
     "output_type": "display_data"
    }
   ],
   "source": [
    "def poly_n(p, x):\n",
    "    p = np.array(p)\n",
    "    y = np.zeros((x.shape[0],))\n",
    "    for n in np.arange(p.shape[0]):\n",
    "        y += p[n]*x**n\n",
    "    return y\n",
    "\n",
    "def solve_for_y(poly_coeffs, y):\n",
    "    pc = poly_coeffs.copy()\n",
    "    print(pc)\n",
    "    pc[0] -= y\n",
    "    print(pc)\n",
    "    return np.roots(pc)\n",
    "\n",
    "\n",
    "print(os.getcwd())\n",
    "apt_SN_55sec_zod1_2 = Table.read(\"apttables2021/imaging/ap_phot_2pix_0.22rad_SN_55sec_zod1.2x.dat\",format=\"ascii\",\n",
    "                               names=('AB','F062','F087','F106','F129','F158','F184','F146','F213'))\n",
    "apt_SN_75sec_zod1_2 = Table.read(\"apttables2021/imaging/ap_phot_2pix_0.22rad_SN_75sec_zod1.2x.dat\",format=\"ascii\",\n",
    "                               names=('AB','F062','F087','F106','F129','F158','F184','F146','F213'))\n",
    "apt_SN_100sec_zod1_2 = Table.read(\"apttables2021/imaging/ap_phot_2pix_0.22rad_SN_100sec_zod1.2x.dat\",format=\"ascii\",\n",
    "                               names=('AB','F062','F087','F106','F129','F158','F184','F146','F213'))\n",
    "\n",
    "\n",
    "img_table = Table()\n",
    "img_table['AB'] = apt_SN_55sec_zod1_2['AB']\n",
    "img_table['55'] = apt_SN_55sec_zod1_2['F158']\n",
    "img_table['75'] = apt_SN_75sec_zod1_2['F158']\n",
    "img_table['100'] = apt_SN_100sec_zod1_2['F158']\n",
    "\n",
    "\n",
    "#print(img_table)\n",
    "\n",
    "t = 141\n",
    "\n",
    "# SNR ~ t^(0.5)\n",
    "# time\n",
    "x = np.sqrt(np.array([55.,75.,100.]))\n",
    "param = [1, 0]\n",
    "err = 1.0\n",
    "\n",
    "line_fn = lambda p,x: p[1]*x+p[0]\n",
    "\n",
    "err_fn = lambda p: (line_fn(p,x) - y)/err\n",
    "\n",
    "fig = plt.figure()\n",
    "p = fig.add_subplot(111)\n",
    "\n",
    "SN = [] # at t\n",
    "\n",
    "###################\n",
    "# fit for SNR and t\n",
    "###################\n",
    "for i,y in enumerate(img_table['55','75','100']):\n",
    "\n",
    "    # SNR\n",
    "    y = np.array(list(y))\n",
    "    \n",
    "    sol = leastsq(err_fn,param,full_output=1)\n",
    "    print(sol[0])\n",
    "    \n",
    "    t0 = np.arange(50,200,0.1)\n",
    "    snr = line_fn(sol[0],np.sqrt(t0))\n",
    "    \n",
    "    mag = np.ones(snr.shape)*img_table['AB'][i]\n",
    "\n",
    "    p.plot(mag,snr,c=\"k\")\n",
    "    \n",
    "    SN.append(line_fn(sol[0],np.sqrt(t)))\n",
    "\n",
    "img_table['141'] = SN\n",
    "\n",
    "\n",
    "\n",
    "param = [1,1,1,1]\n",
    "# mag\n",
    "x = img_table['AB']\n",
    "#print(x)\n",
    "err = np.ones(x.shape)\n",
    "#err[:5] = 0.01\n",
    "#err[-5:] = 0.01\n",
    "\n",
    "err_fn2 = lambda p: (poly_n(p,x) - y)/err\n",
    "#####################\n",
    "# fit for SNR and mag\n",
    "#####################\n",
    "\n",
    "dict = {}\n",
    "\n",
    "for i,t0 in enumerate(['55','75','100','141']):\n",
    "    \n",
    "    # SNR\n",
    "    y = 2.5*np.log10(img_table[t0])\n",
    "    \n",
    "    sol = leastsq(err_fn2,param,full_output=1)\n",
    "    print(sol[0])\n",
    "    \n",
    "    mag = np.arange(16.5,26.5,0.1)\n",
    "    snr = 10**(0.4*poly_n(sol[0],mag))\n",
    "    \n",
    "    p.plot(mag,snr,c=\"k\")\n",
    "    print(len(sol[0]))\n",
    "    \n",
    "    dict['sol%s' % t0] = sol[0]\n",
    "\n",
    "#################\n",
    "# solving for s/n\n",
    "#################\n",
    "print(dict)\n",
    "sol0 = dict['sol141']\n",
    "print(solve_for_y(sol0,2.5*np.log10(10.0)))\n",
    "\n",
    "\n",
    "p.scatter(img_table['AB'],img_table['55'],label='55 sec')\n",
    "p.scatter(img_table['AB'],img_table['75'],label='75 sec')\n",
    "p.scatter(img_table['AB'],img_table['100'],label='100 sec')\n",
    "p.scatter(img_table['AB'],SN,label='141 sec')\n",
    "\n",
    "\n",
    "p.plot([17,27],[10,10],\"-\",c=\"k\",alpha=0.5)\n",
    "p.plot([17,27],[5,5],\"--\",c=\"k\",alpha=0.5)\n",
    "p.plot([17,27],[3,3],\"-.\",c=\"k\",alpha=0.5)\n",
    "\n",
    "p.legend(fontsize=14)\n",
    "p.set_yscale(\"log\")\n",
    "\n",
    "#p.set_xlim(0,2000)\n",
    "#p.set_ylim(20,22)\n",
    "#p.invert_yaxis()\n",
    "    \n",
    "plt.show()"
   ]
  },
  {
   "cell_type": "code",
   "execution_count": 25,
   "metadata": {
    "ExecuteTime": {
     "end_time": "2022-02-03T01:44:18.878490Z",
     "start_time": "2022-02-03T01:44:18.493974Z"
    }
   },
   "outputs": [
    {
     "name": "stdout",
     "output_type": "stream",
     "text": [
      "/Users/gwalth/data/Roman/grizli/sims\n"
     ]
    },
    {
     "data": {
      "image/png": "[encoded data removed]",
      "text/plain": [
       "<Figure size 1000x600 with 1 Axes>"
      ]
     },
     "metadata": {},
     "output_type": "display_data"
    }
   ],
   "source": [
    "print(os.getcwd())\n",
    "apt_SN_55sec_zod1_2 = Table.read(\"apttables2021/imaging/ap_phot_2pix_0.22rad_SN_55sec_zod1.2x.dat\",format=\"ascii\",\n",
    "                               names=('AB','F062','F087','F106','F129','F158','F184','F146','F213'))\n",
    "apt_SN_75sec_zod1_2 = Table.read(\"apttables2021/imaging/ap_phot_2pix_0.22rad_SN_75sec_zod1.2x.dat\",format=\"ascii\",\n",
    "                               names=('AB','F062','F087','F106','F129','F158','F184','F146','F213'))\n",
    "apt_SN_100sec_zod1_2 = Table.read(\"apttables2021/imaging/ap_phot_2pix_0.22rad_SN_100sec_zod1.2x.dat\",format=\"ascii\",\n",
    "                               names=('AB','F062','F087','F106','F129','F158','F184','F146','F213'))\n",
    "#print(apt_rad0_0_zod1_2)\n",
    "#print(apt_rad0_2_zod1_2)\n",
    "#print(apt_rad0_3_zod1_2)\n",
    "\n",
    "fig = plt.figure()\n",
    "p = fig.add_subplot(111)\n",
    "\n",
    "flist = ['F062','F087','F106','F129','F158','F184','F146','F213']\n",
    "\n",
    "#for f in flist:\n",
    "#    p.scatter(apt_SN_55sec_zod1_2['AB'],apt_SN_55sec_zod1_2[f],label=f) \n",
    "    #p.scatter(apt_SN_75sec_zod1_2['AB'],apt_SN_75sec_zod1_2[f],label=f)\n",
    "    #p.scatter(apt_SN_100sec_zod1_2['AB'],apt_SN_100sec_zod1_2[f],label=f) \n",
    "\n",
    "p.scatter(apt_SN_55sec_zod1_2['AB'],apt_SN_55sec_zod1_2['F158'],label='55 sec')\n",
    "p.scatter(apt_SN_75sec_zod1_2['AB'],apt_SN_75sec_zod1_2['F158'],label='75 sec')\n",
    "p.scatter(apt_SN_100sec_zod1_2['AB'],apt_SN_100sec_zod1_2['F158'],label='100 sec')\n",
    "\n",
    "\n",
    "p.plot([17,27],[10,10],\"-\",c=\"k\",alpha=0.5)\n",
    "p.plot([17,27],[5,5],\"--\",c=\"k\",alpha=0.5)\n",
    "p.plot([17,27],[3,3],\"-.\",c=\"k\",alpha=0.5)\n",
    "\n",
    "p.legend(fontsize=14)\n",
    "p.set_yscale(\"log\")\n",
    "\n",
    "#p.set_xlim(0,2000)\n",
    "#p.set_ylim(20,22)\n",
    "#p.invert_yaxis()\n",
    "    \n",
    "plt.show()"
   ]
  },
  {
   "cell_type": "markdown",
   "metadata": {},
   "source": [
    "## Roman Sensitivity Function\n",
    "\n",
    "[top](#Table-of-Contents)"
   ]
  },
  {
   "cell_type": "code",
   "execution_count": null,
   "metadata": {
    "ExecuteTime": {
     "end_time": "2022-02-03T01:44:27.257129Z",
     "start_time": "2022-02-03T01:44:27.251506Z"
    }
   },
   "outputs": [],
   "source": [
    "print(os.getcwd())\n",
    "print(HOME_PATH)\n",
    "#os.chdir(os.path.join(HOME_PATH, root, 'Extraction'))"
   ]
  },
  {
   "cell_type": "markdown",
   "metadata": {},
   "source": [
    "### Gabe's Roman sensitivity function"
   ]
  },
  {
   "cell_type": "code",
   "execution_count": null,
   "metadata": {
    "ExecuteTime": {
     "end_time": "2022-02-03T01:44:31.696400Z",
     "start_time": "2022-02-03T01:44:31.683200Z"
    }
   },
   "outputs": [],
   "source": [
    "sens_file = HOME_PATH + '/grizli/CONF/Roman.G150.v1.6.sens.fits' # Gabe's\n",
    "sens_cat1 = Table.read(sens_file)\n",
    "print(sens_cat1.colnames)"
   ]
  },
  {
   "cell_type": "markdown",
   "metadata": {},
   "source": [
    "### Anahita's Roman sensitivity function"
   ]
  },
  {
   "cell_type": "code",
   "execution_count": null,
   "metadata": {
    "ExecuteTime": {
     "end_time": "2022-02-03T01:44:33.935419Z",
     "start_time": "2022-02-03T01:44:33.922630Z"
    }
   },
   "outputs": [],
   "source": [
    "sens_file = HOME_PATH + '/grizli/CONF/sens_0720_2020.fits'\n",
    "sens_cat2 = Table.read(sens_file)\n",
    "print(sens_cat2.colnames)"
   ]
  },
  {
   "cell_type": "code",
   "execution_count": null,
   "metadata": {
    "ExecuteTime": {
     "end_time": "2022-02-03T01:44:35.424388Z",
     "start_time": "2022-02-03T01:44:35.205888Z"
    }
   },
   "outputs": [],
   "source": [
    "fig = plt.figure()\n",
    "\n",
    "p1 = fig.add_subplot(111)\n",
    "#p1.errorbar(sens_cat1['WAVELENGTH'],sens_cat1['SENSITIVITY'],yerr=sens_cat1['ERROR'])\n",
    "#p1.errorbar(sens_cat2['WAVELENGTH'],sens_cat2['SENSITIVITY'],yerr=sens_cat2['ERROR'])\n",
    "p1.plot(sens_cat1['WAVELENGTH'],sens_cat1['SENSITIVITY'],label=\"Pandeia\")\n",
    "p1.plot(sens_cat2['WAVELENGTH'],sens_cat2['SENSITIVITY'],label=\"Anahita's\")\n",
    "#p1.plot(pzcaletc_1n['col1']*1e4,1./(pzcaletc_1n['col%i' % (n)]*1000.)) # erg/s/cm^2\n",
    "#p1.plot(pzcaletc_8n['col1']*1e4,1./(pzcaletc_8n['col%i' % (n)]*1000.)) # erg/s/cm^2\n",
    "p1.set_xlim(8750,20750)\n",
    "p1.set_ylabel(\"e-/s per erg/s/cm$^2$/Ang\") # according to axe_manual\n",
    "p1.legend()"
   ]
  },
  {
   "cell_type": "markdown",
   "metadata": {},
   "source": [
    "## 1D Spectral Extraction\n",
    "[top](#Table-of-Contents)"
   ]
  },
  {
   "cell_type": "code",
   "execution_count": null,
   "metadata": {
    "ExecuteTime": {
     "end_time": "2022-02-03T01:44:38.944617Z",
     "start_time": "2022-02-03T01:44:38.242924Z"
    }
   },
   "outputs": [],
   "source": [
    "from scipy import integrate\n",
    "\n",
    "### Plot 1D spectra\n",
    "fig = plt.figure(figsize=(6,18))\n",
    "p1 = fig.add_subplot(311)\n",
    "p2 = fig.add_subplot(312)\n",
    "p3 = fig.add_subplot(313)\n",
    "for i, key in enumerate(beams.keys()):\n",
    "    print(key)\n",
    "    print()\n",
    "    w, f, e = beams[key].beam.optimal_extract(beams[key].model+beams[key].grism.data['SCI'], bin=0)\n",
    "    #w, f, e = beams[key].beam.optimal_extract(beams[key].grism.data['SCI'], \n",
    "    #                                          ivar=1./(beams[key].grism.data['ERR'])**2,bin=0)\n",
    "    \n",
    "    # normalize to the magnitude in the direct image\n",
    "    print(\"sum = %.2e\" % (np.nansum(f)))\n",
    "    print(\"mean = %.2e\" % (np.nanmean(f)))\n",
    "    print(\"median = %.2e\" % (np.nanmedian(f)))\n",
    "    print(\"std = %.2e\" % (np.nanstd(f)))\n",
    "    print(\"min = %.2e\" % (np.nanmin(f)))\n",
    "    print(\"max = %.2e\" % (np.nanmax(f)))\n",
    "    \n",
    "    \n",
    "    print(\"S/N = %.2f\" % (np.nanmax(f)/np.sqrt(np.nansum(e**2))))\n",
    "    print()\n",
    "    #\n",
    "\n",
    "    \n",
    "    # Method 1\n",
    "    scale = f_scale/np.nansum(f)\n",
    "    f = f * scale\n",
    "    e = e * scale\n",
    "    # Method 2\n",
    "    #f = (f/np.nanmedian(f)) * f_scale\n",
    "    # Method 3\n",
    "    #skysub = f - np.nanmedian(f)\n",
    "    #f = (skysub/np.nansum(skysub)) * f_scale\n",
    "    \n",
    "    print(\"sum = %.2e\" % (np.nansum(f)))\n",
    "    print(\"mean = %.2e\" % (np.nanmean(f)))\n",
    "    print(\"median = %.2e\" % (np.nanmedian(f)))\n",
    "    print(\"std = %.2e\" % (np.nanstd(f)))\n",
    "    print(\"min = %.2e\" % (np.nanmin(f)))\n",
    "    print(\"max = %.2e\" % (np.nanmax(f)))\n",
    "    print(\"S/N = %.2f\" % (np.nanmax(f)/np.sqrt(np.nansum(e**2))))\n",
    "    print()\n",
    "    \n",
    "    \n",
    "    percent = [1,25,50,75,95,99,99.9]\n",
    "    for per in percent:\n",
    "        print(\"P(%s) = %.2e\" % (per,np.nanpercentile(f, per)))\n",
    "    print()\n",
    "        \n",
    "    N = len(f)\n",
    "        \n",
    "    print(\"Chunk  W0  W1  Sum  Mean  Median  STD  Min  Max  S/N\")\n",
    "    \n",
    "    #chunks = 50. # depends on the width of the line?\n",
    "    chunks = 70.\n",
    "    for chunk in np.arange(chunks):\n",
    "        #print(\"Chunk = %i\" % (chunk+1))\n",
    "        f_sect = f[int(chunk*N/chunks):int((chunk+1)*N/chunks)]\n",
    "        e_sect = e[int(chunk*N/chunks):int((chunk+1)*N/chunks)]\n",
    "        w_sect = w[int(chunk*N/chunks):int((chunk+1)*N/chunks)]\n",
    "        w_sect0 = w_sect[0]/1.e4\n",
    "        w_sect1 = w_sect[-1]/1.e4\n",
    "        \n",
    "        print(\"%3i  %.3f  %.3f  %.2e  %.2e  %.2e  %.2e  %.2e  %.2e  %6.1f\" % (chunk+1, w_sect0, w_sect1, np.nansum(f_sect), \n",
    "              np.nanmean(f_sect), np.nanmedian(f_sect), np.nanstd(f_sect), np.nanmin(f_sect), \n",
    "              np.nanmax(f_sect), np.nansum(f_sect)/np.sqrt(np.nansum(e_sect**2))))\n",
    "        #print()\n",
    "        \n",
    "        \n",
    "    #print(\"S/N =\",np.nanmax(f)/np.nanstd(f))\n",
    "    \n",
    "    m_noi = np.nanmean(e)\n",
    "    S_N = f/m_noi\n",
    "    \n",
    "    \n",
    "    # plot spectrum\n",
    "    p1.plot(w/1.e4, f, c=\"k\") # linestyle='steps-mid')\n",
    "    p1.plot(w/1.e4, e, c=\"r\") # linestyle='steps-mid')\n",
    "    p1.plot([w[0]/1e4,w[-1]/1e4],[m_noi,m_noi], c=\"g\")\n",
    "\n",
    "    # plot line\n",
    "    p2.plot(w/1.e4, f, c=\"k\") # linestyle='steps-mid')\n",
    "    p2.plot(w/1.e4, e, c=\"r\") # linestyle='steps-mid')\n",
    "    #print(f)\n",
    "    \n",
    "    # S/N of line\n",
    "    p3.plot(w/1.e4, S_N, c=\"b\") # linestyle='steps-mid')\n",
    "    \n",
    "    # Line flux and S/N\n",
    "    print()\n",
    "    w1 = 1.24\n",
    "    w2 = 1.26\n",
    "    #w1 = 1.36\n",
    "    #w2 = 1.37\n",
    "    #w1 = 1.48\n",
    "    #w2 = 1.52\n",
    "    i1 = np.argmin(np.abs(w/1.e4-w1))\n",
    "    i2 = np.argmin(np.abs(w/1.e4-w2))\n",
    "    print(i1,i2)\n",
    "    \n",
    "    win = w2 - w1\n",
    "    i0 = np.argmin(np.abs(w/1.e4-(w1-win)))\n",
    "    i3 = np.argmin(np.abs(w/1.e4-(w2+win)))\n",
    "    print(i0,i3)\n",
    "    print()\n",
    "    \n",
    "\n",
    "    dw = w[1] - w[0]\n",
    "    print(dw)\n",
    "    \n",
    "    \n",
    "    line_flux = np.sum(f[i0:i1])*dw\n",
    "    line_error = np.sqrt(np.sum((e[i0:i1]*dw)**2))\n",
    "    print(\"Flux =\", line_flux)\n",
    "    print(\"Error =\", line_error)\n",
    "    print(\"S/N =\", line_flux/line_error)\n",
    "    print()\n",
    "        \n",
    "    \n",
    "    line_flux = np.sum(f[i1:i2])*dw\n",
    "    line_error = np.sqrt(np.sum((e[i1:i2]*dw)**2))\n",
    "    print(\"Flux =\", line_flux)\n",
    "    print(\"Error =\", line_error)\n",
    "    print(\"S/N =\", line_flux/line_error)\n",
    "    \n",
    "    \n",
    "    print(integrate.trapz(f[i1:i2],w[i1:i2]))\n",
    "    \n",
    "    print()\n",
    "    \n",
    "    line_flux = np.sum(f[i2:i3])*dw\n",
    "    line_error = np.sqrt(np.sum((e[i2:i3]*dw)**2))\n",
    "    print(\"Flux =\", line_flux)\n",
    "    print(\"Error =\", line_error)\n",
    "    print(\"S/N =\", line_flux/line_error)\n",
    "    print()\n",
    "        \n",
    "\n",
    "    \n",
    "    #y0 = np.nanmin(f)\n",
    "    #y1 = np.nanmax(f)\n",
    "    #print(y0,y1)\n",
    "    \n",
    "    #z = 1.726\n",
    "    #lines = [4861.,5007.,6563.]\n",
    "    #for line in lines:\n",
    "    #    wobs = line/1e4*(1+z)\n",
    "    #    p.plot([wobs,wobs],[y0,y1],\"--\",c=\"r\")\n",
    "    print()\n",
    "    print(\"Size =\", len(f))\n",
    "    print(\"NaNs = \", np.sum(np.isnan(f)))\n",
    "    #print(np.nanmedian(f))\n",
    "\n",
    "#p.legend(fontsize=14)\n",
    "p1.set_xlim(0.9, 2.05)\n",
    "#p.set_ylim(0.0,0.025)\n",
    "#p1.set_ylim(-2e-22,6e-22) # shows noise level\n",
    "p1.set_xlabel(r'$\\lambda$ [micron]')\n",
    "p1.set_ylabel(r'F$_{\\lambda}$ [erg s$^{-1}$ cm$^{-2}$ $\\AA^{-1}$]')\n",
    "\n",
    "#p.legend(fontsize=14)\n",
    "p2.set_xlim(w1-0.05, w2+0.05)\n",
    "p2.set_ylim(-1e-21,3e-20)\n",
    "#p2.set_ylim(-1e-21,1e-21)\n",
    "p2.set_xlabel(r'$\\lambda$ [micron]')\n",
    "p2.set_ylabel(r'F$_{\\lambda}$ [erg s$^{-1}$ cm$^{-2}$ $\\AA^{-1}$]')\n",
    "\n",
    "p3.set_xlim(w1-0.05, w2+0.05)\n",
    "p3.set_ylim(-20,120.)\n",
    "p3.set_xlabel(r'$\\lambda$ [micron]')\n",
    "p3.set_ylabel(r'S/N')"
   ]
  },
  {
   "cell_type": "code",
   "execution_count": null,
   "metadata": {
    "ExecuteTime": {
     "end_time": "2022-02-03T01:44:54.861547Z",
     "start_time": "2022-02-03T01:44:54.450221Z"
    }
   },
   "outputs": [],
   "source": [
    "sens_file = HOME_PATH + '/grizli/CONF/sens_0720_2020.fits'\n",
    "sens_cat2 = Table.read(sens_file)\n",
    "print(sens_cat2.colnames)\n",
    "\n",
    "from scipy import interpolate\n",
    "\n",
    "R1 = interpolate.interp1d(sens_cat1['WAVELENGTH'],sens_cat1['SENSITIVITY'])\n",
    "w10,w11 = sens_cat1['WAVELENGTH'][0],sens_cat1['WAVELENGTH'][-1]\n",
    "\n",
    "R2 = interpolate.interp1d(sens_cat2['WAVELENGTH'],sens_cat2['SENSITIVITY'])\n",
    "w20,w21 = sens_cat2['WAVELENGTH'][0],sens_cat2['WAVELENGTH'][-1]\n",
    "\n",
    "fig = plt.figure()\n",
    "p1 = fig.add_subplot(111)\n",
    "\n",
    "for i, key in enumerate(beams.keys()):\n",
    "    print(key)\n",
    "    print()\n",
    "    w, f, e = beams[key].beam.optimal_extract(beams[key].model+beams[key].grism.data['SCI'], bin=0)\n",
    "    #w, f, e = beams[key].beam.optimal_extract(beams[key].grism.data['SCI'], \n",
    "    #                                          ivar=1./(beams[key].grism.data['ERR'])**2,bin=0)\n",
    "    \n",
    "    print(w)\n",
    "    \n",
    "    # Method 4\n",
    "    \n",
    "    i10 = np.argmin(np.abs(w-w10))\n",
    "    i11 = np.argmin(np.abs(w-w11))\n",
    "    \n",
    "    i20 = np.argmin(np.abs(w-w10))\n",
    "    i21 = np.argmin(np.abs(w-w11))\n",
    "    \n",
    "    w1 = w[i10:i11]\n",
    "    f1 = f[i10:i11]\n",
    "    e1 = e[i10:i11]\n",
    "    \n",
    "    w2 = w[i20:i21]\n",
    "    f2 = f[i20:i21]\n",
    "    e2 = e[i20:i21]\n",
    "    \n",
    "    response1 = [R1(w_el) for w_el in w1]\n",
    "    \n",
    "    response2 = [R2(w_el) for w_el in w2]\n",
    "    \n",
    "    flux1 = f1/response1\n",
    "    noise1 = e1/response1\n",
    "    \n",
    "    flux2 = f2/response2\n",
    "    noise2 = e2/response2\n",
    "    \n",
    "    \n",
    "    # plot spectrum\n",
    "    p1.plot(w1/1.e4, flux1, c=\"k\") # linestyle='steps-mid')\n",
    "    #p1.plot(w1/1.e4, noise1, c=\"r\") # linestyle='steps-mid')\n",
    "    p1.plot(w2/1.e4, flux2, c=\"g\") # linestyle='steps-mid')\n",
    "    #p1.plot(w2/1.e4, noise2, c=\"r\") # linestyle='steps-mid')\n",
    "\n",
    "#p.legend(fontsize=14)\n",
    "p1.set_xlim(0.9, 2.05)\n",
    "#p.set_ylim(0.0,0.025)\n",
    "#p1.set_ylim(-2e-22,6e-22) # shows noise level\n",
    "p1.set_xlabel(r'$\\lambda$ [micron]')\n",
    "p1.set_ylabel(r'F$_{\\lambda}$ [erg s$^{-1}$ cm$^{-2}$ $\\AA^{-1}$]')\n",
    "\n"
   ]
  },
  {
   "cell_type": "code",
   "execution_count": null,
   "metadata": {
    "ExecuteTime": {
     "end_time": "2022-02-03T01:45:04.534583Z",
     "start_time": "2022-02-03T01:45:03.631546Z"
    }
   },
   "outputs": [],
   "source": [
    "#/Users/gwalth/Dropbox/Research/sims/Galacticus/new_spectra\n",
    "#SPEC_PATH = \"/Users/gwalth/Dropbox/Research/aXeSIM/Roman/aXeSIM_Roman/SIMDATA/new_spectra\"\n",
    "#SPEC_PATH = \"/Users/gwalth/Dropbox/Research/sims/Galacticus/bkup_2022.0120/spectra\"\n",
    "SPEC_PATH = \"/Users/gwalth/Dropbox/Research/sims/Galacticus/sed_galacticus_ForGreg\"\n",
    "# ATLAS number 2118, modspec=1752\n",
    "#primer_number=2118 # old\n",
    "primer_number=1571 \n",
    "\n",
    "#specdat = SPEC_PATH + \"/ATLAS_1deg_subsample_spec_%06d.dat\" % (primer_number)\n",
    "specdat = SPEC_PATH + \"/ATLAS_1deg_spec_%06d.dat\" % (primer_number)\n",
    "specdata = Table.read(specdat,format=\"ascii\",names=('wave','flux'))\n",
    "print(specdata)\n",
    "\n",
    "fig = plt.figure()\n",
    "p1 = fig.add_subplot(111)\n",
    "p1.plot(specdata[\"wave\"],specdata[\"flux\"],label=\"Input spectra\")\n",
    "# [Ang] [erg/s/cm^2/Ang]\n",
    "p1.set_xlim(8750,20750)\n",
    "p1.set_yscale(\"log\")\n",
    "#p1.set_ylabel(\"e-/s per erg/s/cm$^2$/Ang\") # according to axe_manual\n",
    "#p1.legend()"
   ]
  },
  {
   "cell_type": "code",
   "execution_count": null,
   "metadata": {
    "ExecuteTime": {
     "end_time": "2022-02-03T01:45:11.117114Z",
     "start_time": "2022-02-03T01:45:11.030707Z"
    }
   },
   "outputs": [],
   "source": [
    "beam = 'beam__%05d.grism.A.fits' % (id)\n",
    "#new_beam = '{0}_{1:05d}.beams.fits'.format(root, id)\n",
    "new_beam = beam.replace(\".fits\",\"_GLW.fits\")\n",
    "\n",
    "hdu = pyfits.open(beam)\n",
    "print(hdu[0].header)\n",
    "hdu.info()\n",
    "\n",
    "\n",
    "ext = 0\n",
    "hdu[ext].header['EXPTIME'] = hdu['SCI'].header['EXPTIME']\n",
    "hdu.writeto(new_beam,clobber=True)\n",
    "hdu.info()"
   ]
  },
  {
   "cell_type": "code",
   "execution_count": null,
   "metadata": {
    "ExecuteTime": {
     "end_time": "2022-02-03T02:09:06.096705Z",
     "start_time": "2022-02-03T02:09:05.006931Z"
    }
   },
   "outputs": [],
   "source": [
    "#mb = multifit.MultiBeam([old_beam], fcontam=0.2, group_name=root, psf=False, min_sens=0.05)\n",
    "mb = multifit.MultiBeam([new_beam], fcontam=0.2, group_name=root, psf=False, min_sens=0.05)\n",
    "mb.write_master_fits()\n",
    "\n",
    "####################################################################################\n",
    "# Limited set of red stellar templates\n",
    "#tstar = grizli.utils.load_templates(fwhm=1200, line_complexes=True, \n",
    "#                                    fsps_templates=True, stars=True)\n",
    "\n",
    "# Fit spectral types.  Just makes the plot now, outputs not saved \n",
    "#fig, result, tfit = mb.xfit_star(tstar=tstar, fit_background=False,\n",
    "#                                 spline_correction=True, spline_args={'Rspline':5})\n",
    "####################################################################################\n",
    "\n",
    "#fwhm = 325 # km/s\n",
    "fwhm = 650 # km/s\n",
    "\n",
    "# Fitting templates\n",
    "\n",
    "# First is set with combined emission line complexes for the redshift fit \n",
    "# (don't allow infinite freedom) of the line ratios / fluxes\n",
    "t0 = grizli.utils.load_templates(fwhm=fwhm, line_complexes=True, stars=False, \n",
    "                                     full_line_list=None,  continuum_list=None, \n",
    "                                     fsps_templates=True)\n",
    "\n",
    "# Second set has individual line templates for fitting the line fluxes\n",
    "t1 = grizli.utils.load_templates(fwhm=fwhm, line_complexes=False, stars=False, \n",
    "                                     full_line_list=None, continuum_list=None, \n",
    "                                     fsps_templates=True)\n",
    "\n",
    "\n",
    "#fit = mb.xfit_redshift(templates=t0, zr=[0.65, 1.6], dz=[0.004, 0.0002], fitter='nnls')\n",
    "\n",
    "###################################################################################\n",
    "#hdu, fig = mb.drizzle_grisms_and_PAs(fcontam=0.2, flambda=False, kernel='point', \n",
    "#                                     size=32, zfit=tfit, diff=True)"
   ]
  },
  {
   "cell_type": "code",
   "execution_count": null,
   "metadata": {
    "ExecuteTime": {
     "end_time": "2022-01-24T19:51:26.782225Z",
     "start_time": "2022-01-24T19:51:26.766573Z"
    }
   },
   "outputs": [],
   "source": [
    "print(fit.keys())"
   ]
  },
  {
   "cell_type": "markdown",
   "metadata": {},
   "source": [
    "## Velocity resolution\n",
    "[top](#Table-of-Contents)"
   ]
  },
  {
   "cell_type": "code",
   "execution_count": null,
   "metadata": {
    "ExecuteTime": {
     "end_time": "2022-02-02T06:35:03.099510Z",
     "start_time": "2022-02-02T06:35:03.075024Z"
    }
   },
   "outputs": [],
   "source": [
    "# https://wfirst.ipac.caltech.edu/sims/Param_db.html#wfi_grism\n",
    "# R = 461*wav # wav in microns (2pix)\n",
    "\n",
    "c = 3e5 # km/s\n",
    "\n",
    "# R = wav/delta_wav\n",
    "# u = delta_wav/wav*c\n",
    "# u = c/R\n",
    "\n",
    "# u = (z - z0)*c/(1+z0)\n",
    "# u = dz*c/(1+z0)\n",
    "# dz = u(1+z0)/c\n",
    "# dz = delta_wav/wav * (1+z0)\n",
    "\n",
    "\n",
    "u = lambda wav: c/(461*wav)\n",
    "\n",
    "winc = 0.25\n",
    "w = np.arange(1.0,2.0+winc,winc)\n",
    "for w0 in w:\n",
    "    print(\"v = %.2f km/s (%.2f micron)\" % (u(w0),w0))\n",
    "\n",
    "print()   \n",
    "for w0 in w:\n",
    "    print(\"R = %.2f (%.2f micron)\" % (461*w0,w0))\n",
    "\n",
    "print()\n",
    "z = 0.\n",
    "print(\"z = %.2f\" % (z))\n",
    "for w0 in w:\n",
    "    print(\"dz = %.6f (%.2f micron)\" % (u(w0)*(1+z)/c,w0))\n",
    "\n",
    "    \n",
    "# R = wav/delta_wav\n",
    "# R = 461*wav # microns\n",
    "# 1/delta_wav = 461\n",
    "# delta_wav = 1/461. \n",
    "print()\n",
    "print(\"delta_wav = %.7f microns\" % (1/461.))\n",
    "print(\"delta_wav = %.3f Angstroms\" % (1/461.*10000.))\n",
    "\n",
    "\n"
   ]
  },
  {
   "cell_type": "code",
   "execution_count": null,
   "metadata": {
    "ExecuteTime": {
     "end_time": "2022-02-03T02:09:36.190675Z",
     "start_time": "2022-02-03T02:09:36.186714Z"
    }
   },
   "outputs": [],
   "source": [
    "# dz = delta_wav/wav * (1+z0)\n",
    "\n",
    "dz = 10/12400.* (1+0.88615)\n",
    "print(dz)"
   ]
  },
  {
   "cell_type": "markdown",
   "metadata": {},
   "source": [
    "## Fit redshift to source\n",
    "[top](#Table-of-Contents)"
   ]
  },
  {
   "cell_type": "code",
   "execution_count": null,
   "metadata": {
    "ExecuteTime": {
     "end_time": "2022-02-03T02:09:55.081806Z",
     "start_time": "2022-02-03T02:09:42.390952Z"
    }
   },
   "outputs": [],
   "source": [
    "fitting.run_all(id, t0, t1, fit_only_beams=True, fwhm=fwhm, zr=[0.05, 3.0], \n",
    "                dz=[0.004, 0.0002], fitter=['nnls', 'bounded'], group_name=root)"
   ]
  },
  {
   "cell_type": "markdown",
   "metadata": {},
   "source": [
    "## Display Redshift Fit\n",
    "[top](#Table-of-Contents)"
   ]
  },
  {
   "cell_type": "code",
   "execution_count": null,
   "metadata": {
    "ExecuteTime": {
     "end_time": "2022-02-03T02:09:59.568710Z",
     "start_time": "2022-02-03T02:09:58.343024Z"
    }
   },
   "outputs": [],
   "source": [
    "display_grizli(root, id, w0=0.8, w1=2.0, labels=1)"
   ]
  },
  {
   "cell_type": "markdown",
   "metadata": {},
   "source": [
    "## Compare to primer"
   ]
  },
  {
   "cell_type": "code",
   "execution_count": null,
   "metadata": {
    "ExecuteTime": {
     "end_time": "2022-02-03T02:10:19.507519Z",
     "start_time": "2022-02-03T02:10:19.495066Z"
    }
   },
   "outputs": [],
   "source": [
    "print(root,id)\n",
    "\n",
    "# Primer redshift\n",
    "filt = primer[\"NUMBER\"] == primer_number # ATLAS NUMBER\n",
    "z_true = primer[\"REDSHIFT\"][filt]\n",
    "print(\"z_true = %.6f\" % (z_true))\n",
    "\n",
    "\n",
    "# Redshift fit to the spectrum\n",
    "full_hdu = pyfits.open('{0}_{1:05d}.full.fits'.format(root, id))\n",
    "head = full_hdu[0].header\n",
    "z_fit = head['REDSHIFT']\n",
    "print(\"z_fit  = %.6f\" % (z_fit))\n",
    "\n",
    "dz = z_true - z_fit\n",
    "print(\"dz     = %.6f\" % (dz))"
   ]
  },
  {
   "cell_type": "code",
   "execution_count": null,
   "metadata": {
    "ExecuteTime": {
     "end_time": "2022-02-03T01:49:46.709887Z",
     "start_time": "2022-02-03T01:49:46.695552Z"
    }
   },
   "outputs": [],
   "source": [
    "#print(primer)\n",
    "print(primer.keys())\n",
    "modspec_number = 8127\n",
    "#print(primer_number)\n",
    "#print(primer[modspec_number-1])\n",
    "\n",
    "filt = primer[\"NUMBER\"] == primer_number # ATLAS NUMBER\n",
    "print(primer[filt])\n",
    "print(primer[\"REDSHIFT\"][filt])\n",
    "\n",
    "filt = primer[\"SPECTEMP\"] == modspec_number # MODSPEC NUMBER\n",
    "print(primer[filt])"
   ]
  },
  {
   "cell_type": "markdown",
   "metadata": {},
   "source": [
    "## Parallel Tests\n",
    "[top](#Table-of-Contents)"
   ]
  },
  {
   "cell_type": "code",
   "execution_count": null,
   "metadata": {
    "ExecuteTime": {
     "end_time": "2021-10-29T16:23:55.046353Z",
     "start_time": "2021-10-29T16:23:54.899178Z"
    }
   },
   "outputs": [],
   "source": [
    "import multiprocessing as mp\n",
    "import time\n",
    "\n",
    "import numpy as np\n",
    "#from time import time\n",
    "\n",
    "def howmany_within_range(row, minimum, maximum):\n",
    "    \"\"\"Returns how many numbers lie within `maximum` and `minimum` in a given `row`\"\"\"\n",
    "    count = 0\n",
    "    for n in row:\n",
    "        if minimum <= n <= maximum:\n",
    "            count = count + 1\n",
    "    return count\n",
    "\n",
    "# Prepare data\n",
    "np.random.RandomState(100)\n",
    "arr = np.random.randint(0, 10, size=[200000, 5])\n",
    "data = arr.tolist()\n",
    "data[:5]"
   ]
  },
  {
   "cell_type": "code",
   "execution_count": null,
   "metadata": {
    "ExecuteTime": {
     "end_time": "2021-10-29T16:23:58.238735Z",
     "start_time": "2021-10-29T16:23:58.231080Z"
    }
   },
   "outputs": [],
   "source": [
    "mp.cpu_count()"
   ]
  },
  {
   "cell_type": "code",
   "execution_count": null,
   "metadata": {
    "ExecuteTime": {
     "end_time": "2021-10-29T16:24:07.571555Z",
     "start_time": "2021-10-29T16:24:07.304056Z"
    }
   },
   "outputs": [],
   "source": [
    "t0 = time.time()\n",
    "results = [howmany_within_range(row, 4, 8) for row in data]\n",
    "t1 = time.time()\n",
    "print(t1-t0,\"seconds\")\n",
    "print(results[:10])"
   ]
  },
  {
   "cell_type": "code",
   "execution_count": null,
   "metadata": {
    "ExecuteTime": {
     "end_time": "2021-10-29T16:25:01.953808Z",
     "start_time": "2021-10-29T16:24:14.922978Z"
    }
   },
   "outputs": [],
   "source": [
    "t0 = time.time()\n",
    "# Step 1: Init multiprocessing.Pool()\n",
    "pool = mp.Pool(mp.cpu_count())\n",
    "\n",
    "# Step 2: `pool.apply` the `howmany_within_range()`\n",
    "results = [pool.apply(howmany_within_range, args=(row, 4, 8)) for row in data]\n",
    "\n",
    "# Step 3: Don't forget to close\n",
    "pool.close()    \n",
    "\n",
    "t1 = time.time()\n",
    "print(t1-t0,\"seconds\")\n",
    "print(results[:10])"
   ]
  },
  {
   "cell_type": "markdown",
   "metadata": {},
   "source": [
    "## Parallel Redshift Fitting Tests\n",
    "[top](#Table-of-Contents)"
   ]
  },
  {
   "cell_type": "code",
   "execution_count": null,
   "metadata": {
    "ExecuteTime": {
     "end_time": "2021-10-29T20:37:33.237085Z",
     "start_time": "2021-10-29T20:34:14.779816Z"
    }
   },
   "outputs": [],
   "source": [
    "\n",
    "#def fit_redshift_parallel(id, grismflt, temp0, temp1, fwhm, root):\n",
    "def fit_redshift_parallel(id, fwhm, root):\n",
    "    print(id)\n",
    "    \n",
    "    #beams = OrderedDict()\n",
    "\n",
    "    is_cgs, spectrum_1d, b = Roman.object_dispersers[id]\n",
    "    cutout = grizli.model.BeamCutout(Roman, b['A'], min_sens=0,) # min_mask=0) \n",
    "\n",
    "    cutout.beam.compute_model()  \n",
    "    cutout.contam = cutout.beam.cutout_from_full_image(Roman.model)\n",
    "    if id in Roman.object_dispersers:\n",
    "        cutout.contam -= cutout.beam.model\n",
    "\n",
    "    #beams[Roman.grism.instrument] = cutout\n",
    "\n",
    "    cutout.write_fits() # still learning\n",
    "\n",
    "    beam = 'beam__%05d.grism.A.fits' % (id)\n",
    "    new_beam = beam.replace(\".fits\",\"_GLW.fits\")\n",
    "\n",
    "    ext = 0\n",
    "    hdu = pyfits.open(beam)\n",
    "    hdu[ext].header['EXPTIME'] = hdu['SCI'].header['EXPTIME']\n",
    "    hdu.writeto(new_beam,clobber=True)\n",
    "\n",
    "    mb = multifit.MultiBeam([new_beam], fcontam=0.2, group_name=root, psf=False, min_sens=0.05)\n",
    "    mb.write_master_fits()\n",
    "\n",
    "    fitting.run_all(id, temp0, temp1, fit_only_beams=True, fwhm=fwhm, zr=[0.05, 3.0], \n",
    "                    dz=[0.004, 0.0002], fitter=['nnls', 'bounded'], group_name=root)\n",
    "    \n",
    "    return 1\n",
    "\n",
    "def collect_result(result):\n",
    "    global results\n",
    "    results.append(result)\n",
    "        \n",
    "    \n",
    "fwhm = 325 # km/s\n",
    "temp0 = utils.load_templates(fwhm=fwhm, line_complexes=True, fsps_templates=True) # redshift fits, fixed line ratios\n",
    "temp1 = utils.load_templates(fwhm=fwhm, line_complexes=False, fsps_templates=True) # final fits\n",
    "\n",
    "#for id in phot['NUMBER'][:3]:\n",
    "\n",
    "# This breaks if there is a magnitude cut!!!\n",
    "#Narr = phot['NUMBER']\n",
    "\n",
    "#t0 = time.time()\n",
    "Narr = phot['NUMBER'][:5]\n",
    "#[fit_redshift_parallel(id, Roman, temp0, temp1, fwhm, root) for id in Narr]\n",
    "#t1 = time.time()\n",
    "#print(t1-t0,\"seconds\")\n",
    "\n",
    "\n",
    "## version 1 \n",
    "#t0 = time.time()\n",
    "## Step 1: Init multiprocessing.Pool()\n",
    "#pool = mp.Pool(mp.cpu_count())\n",
    "\n",
    "## Step 2: `pool.apply` the `fit_redshift_parallel()`\n",
    "##[pool.apply(fit_redshift_parallel, args=(id, Roman, temp0, temp1, fwhm, root)) for id in Narr]\n",
    "\n",
    "#[pool.apply(fit_redshift_parallel, args=(id, fwhm, root)) for id in Narr]\n",
    "\n",
    "## Step 3: Don't forget to close\n",
    "#pool.close()\n",
    "#t1 = time.time()\n",
    "#print(t1-t0,\"seconds\")\n",
    "\n",
    "\n",
    "# version 2 \n",
    "t0 = time.time()\n",
    "# Step 1: Init multiprocessing.Pool()\n",
    "pool = mp.Pool(mp.cpu_count())\n",
    "\n",
    "results = []\n",
    "# Step 3: Use loop to parallelize\n",
    "for id in Narr:\n",
    "    pool.apply_async(fit_redshift_parallel, args=(id, fwhm, root), callback=collect_result)\n",
    "\n",
    "# Step 4: Close Pool and let all the processes complete    \n",
    "pool.close()\n",
    "pool.join()  # postpones the execution of next line of code until all processes in the queue are done.\n",
    "\n",
    "t1 = time.time()\n",
    "print(t1-t0,\"seconds\")\n"
   ]
  },
  {
   "cell_type": "code",
   "execution_count": null,
   "metadata": {
    "ExecuteTime": {
     "end_time": "2021-10-29T20:48:05.314159Z",
     "start_time": "2021-10-29T20:48:05.301212Z"
    }
   },
   "outputs": [],
   "source": [
    "def fit_redshift_parallel(id, fwhm, root):\n",
    "    print(id)\n",
    "    \n",
    "    #beams = OrderedDict()\n",
    "\n",
    "    is_cgs, spectrum_1d, b = Roman.object_dispersers[id]\n",
    "    cutout = grizli.model.BeamCutout(Roman, b['A'], min_sens=0,) # min_mask=0) \n",
    "\n",
    "    cutout.beam.compute_model()  \n",
    "    cutout.contam = cutout.beam.cutout_from_full_image(Roman.model)\n",
    "    if id in Roman.object_dispersers:\n",
    "        cutout.contam -= cutout.beam.model\n",
    "\n",
    "    #beams[Roman.grism.instrument] = cutout\n",
    "\n",
    "    cutout.write_fits() # still learning\n",
    "\n",
    "    beam = 'beam__%05d.grism.A.fits' % (id)\n",
    "    new_beam = beam.replace(\".fits\",\"_GLW.fits\")\n",
    "\n",
    "    ext = 0\n",
    "    hdu = pyfits.open(beam)\n",
    "    hdu[ext].header['EXPTIME'] = hdu['SCI'].header['EXPTIME']\n",
    "    hdu.writeto(new_beam,clobber=True)\n",
    "\n",
    "    mb = multifit.MultiBeam([new_beam], fcontam=0.2, group_name=root, psf=False, min_sens=0.05)\n",
    "    mb.write_master_fits()\n",
    "\n",
    "    fitting.run_all(id, temp0, temp1, fit_only_beams=True, fwhm=fwhm, zr=[0.05, 3.0], \n",
    "                    dz=[0.004, 0.0002], fitter=['nnls', 'bounded'], group_name=root)\n",
    "    \n",
    "    return 1\n",
    "\n",
    "def collect_result(result):\n",
    "    global results\n",
    "    results.append(result)\n",
    "        "
   ]
  },
  {
   "cell_type": "code",
   "execution_count": null,
   "metadata": {
    "ExecuteTime": {
     "end_time": "2021-10-29T20:48:09.205313Z",
     "start_time": "2021-10-29T20:48:07.496196Z"
    }
   },
   "outputs": [],
   "source": [
    "fwhm = 325 # km/s\n",
    "temp0 = utils.load_templates(fwhm=fwhm, line_complexes=True, fsps_templates=True) # redshift fits, fixed line ratios\n",
    "temp1 = utils.load_templates(fwhm=fwhm, line_complexes=False, fsps_templates=True) # final fits"
   ]
  },
  {
   "cell_type": "code",
   "execution_count": null,
   "metadata": {
    "ExecuteTime": {
     "end_time": "2021-10-29T21:12:56.088331Z",
     "start_time": "2021-10-29T20:48:24.553111Z"
    }
   },
   "outputs": [],
   "source": [
    "t0 = time.time()\n",
    "# This breaks if there is a magnitude cut!!!\n",
    "Narr = phot['NUMBER'][:40]\n",
    "[fit_redshift_parallel(id, fwhm, root) for id in Narr]\n",
    "t1 = time.time()\n",
    "print(t1-t0,\"seconds\")\n"
   ]
  },
  {
   "cell_type": "code",
   "execution_count": null,
   "metadata": {
    "ExecuteTime": {
     "end_time": "2021-10-29T23:03:22.585706Z",
     "start_time": "2021-10-29T23:03:03.641588Z"
    }
   },
   "outputs": [],
   "source": [
    "Narr = phot['NUMBER'][:40]\n",
    "\n",
    "# version 1 \n",
    "t0 = time.time()\n",
    "# Step 1: Init multiprocessing.Pool()\n",
    "pool = mp.Pool(mp.cpu_count())\n",
    "\n",
    "# Step 2: `pool.apply` the `fit_redshift_parallel()`\n",
    "#[pool.apply(fit_redshift_parallel, args=(id, Roman, temp0, temp1, fwhm, root)) for id in Narr]\n",
    "\n",
    "[pool.apply(fit_redshift_parallel, args=(id, fwhm, root)) for id in Narr]\n",
    "\n",
    "# Step 3: Don't forget to close\n",
    "pool.close()\n",
    "t1 = time.time()\n",
    "print(t1-t0,\"seconds\")\n",
    "\n"
   ]
  },
  {
   "cell_type": "code",
   "execution_count": null,
   "metadata": {
    "ExecuteTime": {
     "end_time": "2021-10-29T23:03:26.034525Z",
     "start_time": "2021-10-29T23:03:25.987344Z"
    }
   },
   "outputs": [],
   "source": [
    "print(results)"
   ]
  },
  {
   "cell_type": "code",
   "execution_count": null,
   "metadata": {
    "ExecuteTime": {
     "end_time": "2021-10-29T23:03:22.585706Z",
     "start_time": "2021-10-29T23:03:03.641588Z"
    }
   },
   "outputs": [],
   "source": [
    "Narr = phot['NUMBER'][:40]\n",
    "\n",
    "# version 2 \n",
    "t0 = time.time()\n",
    "# Step 1: Init multiprocessing.Pool()\n",
    "pool = mp.Pool(mp.cpu_count())\n",
    "\n",
    "results = []\n",
    "# Step 3: Use loop to parallelize\n",
    "for id in Narr:\n",
    "    pool.apply_async(fit_redshift_parallel, args=(id, fwhm, root), callback=collect_result)\n",
    "\n",
    "# Step 4: Close Pool and let all the processes complete    \n",
    "pool.close()\n",
    "pool.join()  # postpones the execution of next line of code until all processes in the queue are done.\n",
    "\n",
    "t1 = time.time()\n",
    "print(t1-t0,\"seconds\")\n"
   ]
  },
  {
   "cell_type": "markdown",
   "metadata": {},
   "source": [
    "## Coordinates check\n",
    "[top](#Table-of-Contents)"
   ]
  },
  {
   "cell_type": "code",
   "execution_count": null,
   "metadata": {
    "ExecuteTime": {
     "end_time": "2022-02-03T01:47:54.982108Z",
     "start_time": "2022-02-03T01:47:54.701756Z"
    }
   },
   "outputs": [],
   "source": [
    "fig = plt.figure(figsize=[10,10])\n",
    "\n",
    "mag_limit = 25\n",
    "\n",
    "filt_pri = primer['MAG_F1600W'] < mag_limit\n",
    "filt_sex = phot['MAG_AUTO'] < mag_limit\n",
    "\n",
    "ax = fig.add_subplot(111)\n",
    "ax.scatter(primer['RA'][filt_pri], primer['DEC'][filt_pri], s=20,\n",
    "               edgecolor='green', facecolor='none', alpha=0.8, label=\"Primer\")\n",
    "ax.scatter(phot['X_WORLD'][filt_sex], phot['Y_WORLD'][filt_sex], s=100,\n",
    "               edgecolor='orange', facecolor='none', alpha=0.7, label=\"SExtractor\")\n",
    "\n",
    "ax.set_xlabel(\"RA [deg]\")\n",
    "ax.set_ylabel(\"Dec [deg]\")\n",
    "ax.invert_xaxis()\n",
    "\n",
    "ax.legend(loc=1)"
   ]
  },
  {
   "cell_type": "markdown",
   "metadata": {},
   "source": [
    "<span style=\"color:red\">\n",
    "Different sims may have different WCS centers!\n",
    "</span>\n",
    "Use this test as a way to check the correct center was used.\n",
    "\n",
    "\n",
    "aXeSIM conf | hdf5\n",
    ":----------:|:---:\n",
    "Roman.G150.wcs_v1.RN0.conf | galacticus_ATLAS_1deg2_subsample.hdf5  \n",
    "Roman.G150.wcs_v2.RN0.conf | galacticus_ForGreg.hdf5"
   ]
  },
  {
   "cell_type": "markdown",
   "metadata": {},
   "source": [
    "## SED check\n",
    "\n",
    "[top](#Table-of-Contents)"
   ]
  },
  {
   "cell_type": "code",
   "execution_count": null,
   "metadata": {
    "ExecuteTime": {
     "end_time": "2022-02-03T01:48:03.469447Z",
     "start_time": "2022-02-03T01:48:02.622185Z"
    }
   },
   "outputs": [],
   "source": [
    "#/Users/gwalth/Dropbox/Research/sims/Galacticus/new_spectra\n",
    "#SPEC_PATH = \"/Users/gwalth/Dropbox/Research/aXeSIM/Roman/aXeSIM_Roman/SIMDATA/new_spectra\"\n",
    "#SPEC_PATH = \"/Users/gwalth/Dropbox/Research/sims/Galacticus/bkup_2022.0120/spectra\"\n",
    "SPEC_PATH = \"/Users/gwalth/Dropbox/Research/sims/Galacticus/sed_galacticus_ForGreg\"\n",
    "# ATLAS number 2118, modspec=1752\n",
    "#number = 2118 # old\n",
    "number = 1571\n",
    "\n",
    "#specdat = SPEC_PATH + \"/ATLAS_1deg_subsample_spec_%06d.dat\" % (number)\n",
    "specdat = SPEC_PATH + \"/ATLAS_1deg_spec_%06d.dat\" % (number)\n",
    "print(specdat)\n",
    "specdata = Table.read(specdat,format=\"ascii\",names=('wave','flux'))\n",
    "print(specdata)\n",
    "\n",
    "fig = plt.figure()\n",
    "p1 = fig.add_subplot(111)\n",
    "p1.plot(specdata[\"wave\"],specdata[\"flux\"],label=\"Input spectra\")\n",
    "# [Ang] [erg/s/cm^2/Ang]\n",
    "p1.set_xlim(8750,20750)\n",
    "p1.set_yscale(\"log\")\n",
    "\n",
    "p1.set_xlabel(\"Wavelength [Ang]\")\n",
    "#p1.set_ylabel(\"e-/s per erg/s/cm$^2$/Ang\") # according to axe_manual\n",
    "#p1.legend()"
   ]
  },
  {
   "cell_type": "code",
   "execution_count": null,
   "metadata": {
    "ExecuteTime": {
     "end_time": "2022-02-03T01:48:10.774370Z",
     "start_time": "2022-02-03T01:48:10.770604Z"
    }
   },
   "outputs": [],
   "source": [
    "SPEC_PATH = \"/Users/gwalth/Dropbox/Research/sims/Galacticus/sed_galacticus_ForGreg\"\n",
    "AXE_PATH = \"/Users/gwalth/data/Roman/grizli/my_roman_sims/Prep/\"\n",
    "\n",
    "axe_image = \"Roman_ATLAS_1deg_random2022_2022-01-27T06:04:27_RN0_v6_images.fits\"\n",
    "axe_spec = \"Roman_ATLAS_1deg_random2022_2022-01-27T06:04:27_RN0_v6_spectra.fits\""
   ]
  },
  {
   "cell_type": "code",
   "execution_count": null,
   "metadata": {
    "ExecuteTime": {
     "end_time": "2022-02-03T01:48:22.818693Z",
     "start_time": "2022-02-03T01:48:12.632336Z"
    }
   },
   "outputs": [],
   "source": [
    "f = AXE_PATH + axe_spec\n",
    "pf = pyfits.open(f)\n",
    "N = len(pf)\n",
    "\n",
    "#number = 2118 # old\n",
    "number = 1571\n",
    "\n",
    "for i in np.arange(N)+1:\n",
    "    \n",
    "    head = pf[i].header\n",
    "    \n",
    "    specname = head['SPECNAME']\n",
    "    extname = head['EXTNAME']\n",
    "    mag_ab = head['MAG_AB']\n",
    "    \n",
    "    number_found = int(specname.split(\"_\")[-1])\n",
    "    if number == number_found:\n",
    "        print(i,number_found)\n",
    "    \n",
    "    # SPECNAME= 'ATLAS_1deg_spec_029260' / Name of spectrum \n",
    "\n",
    "    #tab = pf[ext].data\n",
    "    #flux = tab[\"flux\"]\n",
    "    #wav = tab[\"wav_nm\"]"
   ]
  },
  {
   "cell_type": "code",
   "execution_count": null,
   "metadata": {
    "ExecuteTime": {
     "end_time": "2022-02-03T01:48:36.528957Z",
     "start_time": "2022-02-03T01:48:29.180652Z"
    }
   },
   "outputs": [],
   "source": [
    "f = AXE_PATH + axe_spec\n",
    "#f = axe_spec\n",
    "#ext = 4468 # old\n",
    "ext = 8127\n",
    "pf = pyfits.open(f)\n",
    "print(len(pf))\n",
    "\n",
    "#print(key)\n",
    "\n",
    "tab = pf[ext].data\n",
    "\n",
    "flux = tab[\"flux\"]\n",
    "wav = tab[\"wav_nm\"]\n",
    "\n",
    "\n",
    "delta_wav = 1/461. # microns\n",
    "delta_wav *= 1000. # nm\n",
    "\n",
    "\n",
    "################################################\n",
    "# convolve with the resolution of the instrument\n",
    "################################################\n",
    "# from iris_snr_sim (essentially from Tuan Do)\n",
    "\n",
    "delt = 2.0*(delta_wav)/(wav[1]-wav[0])\n",
    "\n",
    "\n",
    "stddev = delt/2*sqrt(2*log(2))\n",
    "psf_func = models.Gaussian1D(amplitude=1.0, stddev=stddev)\n",
    "x = np.arange(4*int(delt)+1)-2*int(delt)\n",
    "psf = psf_func(x)\n",
    "psf /= psf.sum() # normalize\n",
    "\n",
    "new_flux = np.convolve(flux, psf,mode='same')\n",
    "\n",
    "\n",
    "fig = plt.figure()\n",
    "p1 = fig.add_subplot(111)\n",
    "p1.plot(wav,flux,label=\"aXeSIM spectra\",c=\"r\",alpha=0.5)\n",
    "p1.plot(wav,new_flux,label=\"Convolved spectra\",c=\"g\",alpha=0.8)\n",
    "# [nm] [erg/s/cm^2/Ang]\n",
    "\n",
    "#######################\n",
    "#######################\n",
    "#######################\n",
    "\n",
    "# ATLAS number 2118, modspec=1752\n",
    "#number = 2118 # old\n",
    "number = 1571 # new\n",
    "\n",
    "#specdat = SPEC_PATH + \"/ATLAS_1deg_subsample_spec_%06d.dat\" % (number)\n",
    "specdat = SPEC_PATH + \"/ATLAS_1deg_spec_%06d.dat\" % (number)\n",
    "print(specdat)\n",
    "specdata = Table.read(specdat,format=\"ascii\",names=('wave','flux'))\n",
    "print(specdata)\n",
    "\n",
    "p1.plot(specdata[\"wave\"]/10.,specdata[\"flux\"],label=\"Input spectra\")\n",
    "# [Ang] [erg/s/cm^2/Ang]\n",
    "\n",
    "######################\n",
    "sens_file = HOME_PATH + '/grizli/CONF/sens_0720_2020.fits'\n",
    "sens_cat2 = Table.read(sens_file)\n",
    "print(sens_cat2.colnames)\n",
    "\n",
    "from scipy import interpolate\n",
    "\n",
    "R = interpolate.interp1d(sens_cat2['WAVELENGTH'],sens_cat2['SENSITIVITY'])\n",
    "w0,w1 = sens_cat2['WAVELENGTH'][0],sens_cat2['WAVELENGTH'][-1]\n",
    "\n",
    "w, f, e = beams[key].beam.optimal_extract(beams[key].model+beams[key].grism.data['SCI'], bin=0)\n",
    "#w, f, e = beams[key].beam.optimal_extract(beams[key].grism.data['SCI'], \n",
    "#                                          ivar=1./(beams[key].grism.data['ERR'])**2,bin=0)\n",
    "    \n",
    "#print(w)\n",
    "    \n",
    "# Method 4\n",
    "\n",
    "i0 = np.argmin(np.abs(w-w0))\n",
    "i1 = np.argmin(np.abs(w-w1))\n",
    "\n",
    "w = w[i0:i1]\n",
    "f = f[i0:i1]\n",
    "e = e[i0:i1]\n",
    "    \n",
    "response = [R(w_el) for w_el in w]\n",
    "    \n",
    "flux2 = f/response\n",
    "noise2 = e/response\n",
    "    \n",
    "# plot spectrum\n",
    "p1.plot(w/10., flux2, c=\"orange\", label=\"extracted spectra\") # linestyle='steps-mid')\n",
    "# factor of 10 off, could be WAV_AB being wrong (i.e. 1600 instead of 160)\n",
    "\n",
    "p1.set_xlim(875.0,2075.0)\n",
    "#p1.set_ylim(1e-15,1e-21)\n",
    "p1.set_yscale(\"log\")\n",
    "p1.set_xlabel(\"Wavelength [nm]\")\n",
    "#p1.set_ylabel(\"e-/s per erg/s/cm$^2$/Ang\") # according to axe_manual\n",
    "\n",
    "p1.legend(loc=1)\n",
    "\n",
    "\n",
    "\n",
    "pf[ext].header"
   ]
  },
  {
   "cell_type": "code",
   "execution_count": null,
   "metadata": {
    "ExecuteTime": {
     "end_time": "2022-01-20T23:11:17.116712Z",
     "start_time": "2022-01-20T23:11:17.102073Z"
    }
   },
   "outputs": [],
   "source": [
    "f = AXE_PATH + axe_image\n",
    "\n",
    "ext = 3\n",
    "pf = pyfits.open(f)\n",
    "print(len(pf))\n",
    "pf[ext].header\n",
    "\n",
    "#tab = pf[ext].data\n",
    "\n",
    "#fig = plt.figure()\n",
    "#p1 = fig.add_subplot(111)\n",
    "#p1.plot(tab[\"wav_nm\"],tab[\"flux\"],label=\"Input spectra\")\n",
    "## [Ang] [erg/s/cm^2/Ang]\n",
    "#p1.set_xlim(875.0,2075.0)\n",
    "#p1.set_yscale(\"log\")\n",
    "##p1.set_ylabel(\"e-/s per erg/s/cm$^2$/Ang\") # according to axe_manual\n",
    "##p1.legend()"
   ]
  },
  {
   "cell_type": "code",
   "execution_count": null,
   "metadata": {},
   "outputs": [],
   "source": []
  }
 ],
 "metadata": {
  "kernelspec": {
   "display_name": "Python 3 (ipykernel)",
   "language": "python",
   "name": "python3"
  },
  "language_info": {
   "codemirror_mode": {
    "name": "ipython",
    "version": 3
   },
   "file_extension": ".py",
   "mimetype": "text/x-python",
   "name": "python",
   "nbconvert_exporter": "python",
   "pygments_lexer": "ipython3",
   "version": "3.9.16"
  }
 },
 "nbformat": 4,
 "nbformat_minor": 4
}
