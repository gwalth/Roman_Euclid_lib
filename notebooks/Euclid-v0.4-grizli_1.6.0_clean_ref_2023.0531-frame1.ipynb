{
 "cells": [
  {
   "cell_type": "markdown",
   "metadata": {},
   "source": [
    "# Euclid Grizli Pipeline using grizli 1.6.0 (2023.0217)"
   ]
  },
  {
   "cell_type": "markdown",
   "metadata": {},
   "source": [
    "### Euclid Parameters and Requirements\n",
    "https://sci.esa.int/web/euclid/-/euclid-nisp-instrument\n",
    "\n",
    "https://www.euclid.caltech.edu/page/technical-details"
   ]
  },
  {
   "cell_type": "markdown",
   "metadata": {},
   "source": [
    "### Wide Survey Imaging\n",
    "(20,000 deg^2 = 2pi sr)\n",
    "\n",
    "RIZ <= 24.5 AB (10 sigma, extended source)\n",
    "\n",
    "YJH <= 24 AB (5 sigma)\n",
    "\n",
    "### Deep Survey Imaging\n",
    "(40 deg^2)\n",
    "\n",
    "RIZ <= 26.5 AB (10 sigma)\n",
    "\n",
    "YJH <= 26 AB (5 sigma)\n",
    "\n",
    "\n",
    "https://sci.esa.int/c/portal/doc.cfm?fobjectid=46064\n",
    "\n",
    "https://www.euclid.caltech.edu/page/62\n",
    "\n",
    "https://ui.adsabs.harvard.edu/abs/2022A%26A...662A.112E/abstract"
   ]
  },
  {
   "cell_type": "markdown",
   "metadata": {},
   "source": [
    "## To-Do"
   ]
  },
  {
   "cell_type": "markdown",
   "metadata": {},
   "source": [
    "# Table of Contents\n",
    "\n",
    "1. Setup\n",
    "    1. [Import Python modules](#Import-Python-modules)\n",
    "    2. [Install templates for redshift fitting](#Install-templates-for-redshift-fitting)\n",
    "    3. [Python Helper Functions](#Python-Helper-Functions) \n",
    "    4. [Path to my simulation directories](#Path-to-my-simulation-directories)\n",
    "2. [Find sources in the direct image](#Find-sources-in-the-direct-image)\n",
    "3. [Read SExtractor Photometry of Direct Images](#Read-SExtractor-Photometry-of-Direct-Images)\n",
    "4. [Euclid object simulation](#Euclid-object-simulation)\n",
    "5. [Check simulation](#Check-simulation)\n",
    "6. [Show direct images and slitless spectra](#Show-direct-images-and-slitless-spectra)\n",
    "7. [Loop over all objects and fit their redshifts](#Loop-over-all-objects-and-fit-their-redshifts)\n",
    "8. [Inspect Redshift Fitting Results](#Inspect-Redshift-Fitting-Results)\n",
    "9. [Extract a single 2D spectrum](#Extract-a-single-2D-spectrum)\n",
    "10. [1D Spectral Extraction](#1D-Spectral-Extraction)\n",
    "11. [Display Redshift Fit](#Display-Redshift-Fit)\n",
    "\n",
    "Appendix - Old\n",
    "1. [aXeSIM predictions based on conf file](#aXeSIM-predictions-based-on-conf-file)\n",
    "2. [Show 2D beam](#Show-2D-beam)\n",
    "3. [Simple SN calculations based on the spcontetc](#Simple-SN-calculations-based-on-the-spcontetc)\n",
    "4. [Simple SN calculations based on the pzcaletc](#Simple-SN-calculations-based-on-the-pzcaletc)\n",
    "5. [Simple SN calculations based on the apttables2021](#Simple-SN-calculations-based-on-the-apttables2021)\n",
    "6. [Roman and Euclid Sensitivity Function](#Roman-and-Euclid-Sensitivity-Function)\n",
    "7. [Velocity resolution](#Velocity-resolution)\n",
    "8. [Fit redshift to source](#Fit-redshift-to-source)\n",
    "9. [Coordinates Check](#Coordinates-check)\n",
    "10. [SED Check](#SED-check)\n",
    "\n",
    "[top](#Table-of-Contents)"
   ]
  },
  {
   "cell_type": "markdown",
   "metadata": {},
   "source": [
    "# Setup"
   ]
  },
  {
   "cell_type": "code",
   "execution_count": null,
   "metadata": {
    "ExecuteTime": {
     "end_time": "2022-02-23T15:49:28.403484Z",
     "start_time": "2022-02-23T15:49:27.765180Z"
    }
   },
   "outputs": [],
   "source": [
    "%matplotlib inline"
   ]
  },
  {
   "cell_type": "markdown",
   "metadata": {},
   "source": [
    "## Import Python modules\n",
    "[top](#Table-of-Contents)"
   ]
  },
  {
   "cell_type": "code",
   "execution_count": null,
   "metadata": {
    "ExecuteTime": {
     "end_time": "2021-12-09T19:25:59.760541Z",
     "start_time": "2021-12-09T19:25:59.755767Z"
    }
   },
   "outputs": [],
   "source": [
    "# Only use if you are editing the Python code while running the Jupyter notebook.\n",
    "import importlib\n",
    "importlib.reload(grizli_functions)"
   ]
  },
  {
   "cell_type": "code",
   "execution_count": null,
   "metadata": {
    "ExecuteTime": {
     "end_time": "2022-02-23T15:49:30.361588Z",
     "start_time": "2022-02-23T15:49:29.129636Z"
    }
   },
   "outputs": [],
   "source": [
    "import grizli_functions\n",
    "#from grizli_functions import wcs_pixel_scale, check_sims, create_circular_mask\n",
    "from grizli_functions import add_noise, wcs_pixel_scale, check_sims, display_grizli\n",
    "from grizli_functions import fake_euclid_direct, fake_euclid_ref, total_image\n",
    "from grizli_functions import euclid_det, read_slitless_headers \n",
    "from grizli_functions import write_individual_slitless, plot_slitless, map_src_to_det\n",
    "print(grizli_functions.__file__)\n",
    "# import jwst failure is ok!"
   ]
  },
  {
   "cell_type": "code",
   "execution_count": null,
   "metadata": {
    "ExecuteTime": {
     "end_time": "2022-02-23T15:49:38.318310Z",
     "start_time": "2022-02-23T15:49:36.561321Z"
    }
   },
   "outputs": [],
   "source": [
    "import glob, os, sys, time\n",
    "from collections import OrderedDict\n",
    "\n",
    "import matplotlib as mpl    \n",
    "import matplotlib.pyplot as plt\n",
    "from matplotlib.gridspec import GridSpec\n",
    "from matplotlib.ticker import MultipleLocator\n",
    "\n",
    "from IPython.display import Image\n",
    "\n",
    "mpl.rcParams['figure.figsize'] = (10.0, 6.0)\n",
    "mpl.rcParams['font.size'] = 14\n",
    "mpl.rcParams['savefig.dpi'] = 72\n",
    "\n",
    "import numpy as np\n",
    "#from math import cos, sin, atan2, pi\n",
    "from math import sqrt, log\n",
    "\n",
    "import astropy\n",
    "import astropy.io.fits as pyfits\n",
    "from astropy import wcs\n",
    "from astropy.table import Table, unique, join\n",
    "from astropy.modeling import models\n",
    "\n",
    "import drizzlepac\n",
    "import photutils\n",
    "\n",
    "import grizli\n",
    "import grizli.model\n",
    "import grizli.multifit\n",
    "from grizli import utils, multifit, fitting\n",
    "import grizli.fake_image\n",
    "from grizli.pipeline import auto_script\n",
    "from grizli import prep\n",
    "\n",
    "print('\\n Python version: ', sys.version)\n",
    "print('\\n Grizli version: ', grizli.__version__)\n",
    "print('\\n Astropy version: ', astropy.__version__)"
   ]
  },
  {
   "cell_type": "code",
   "execution_count": null,
   "metadata": {},
   "outputs": [],
   "source": [
    "####################################\n",
    "# constants\n",
    "####################################\n",
    "Jy = 1.0E-23        # erg/s/cm^2/Hz\n",
    "mJy = 1e-3          # Jy\n",
    "uJy = 1e-6          # Jy\n",
    "Mpc = 3.086e24      # cm\n",
    "Ang = 1E-8          # cm\n",
    "mu = 1E-4           # cm\n",
    "\n",
    "c_km = 2.9979E5     # km/s\n",
    "c = 2.9979E10       # cm/s\n",
    "h = 6.626068E-27    # cm^2*g/s           # erg s \n",
    "k = 1.3806503E-16   # cm^2*g/(s^2*K)"
   ]
  },
  {
   "cell_type": "markdown",
   "metadata": {},
   "source": [
    "## Install templates for redshift fitting\n",
    "[top](#Table-of-Contents)\n",
    "\n",
    "Run only once for the install"
   ]
  },
  {
   "cell_type": "markdown",
   "metadata": {},
   "source": [
    "#### WFC3 and ACS calibs"
   ]
  },
  {
   "cell_type": "code",
   "execution_count": null,
   "metadata": {},
   "outputs": [],
   "source": [
    "grizli.utils.fetch_default_calibs()"
   ]
  },
  {
   "cell_type": "markdown",
   "metadata": {},
   "source": [
    "#### WFC3 PSF and Pickles stars"
   ]
  },
  {
   "cell_type": "code",
   "execution_count": null,
   "metadata": {},
   "outputs": [],
   "source": [
    "grizli.utils.fetch_config_files()"
   ]
  },
  {
   "cell_type": "markdown",
   "metadata": {},
   "source": [
    "#### Templates used in fitting"
   ]
  },
  {
   "cell_type": "code",
   "execution_count": null,
   "metadata": {},
   "outputs": [],
   "source": [
    "grizli.utils.symlink_templates(force=False)"
   ]
  },
  {
   "cell_type": "markdown",
   "metadata": {},
   "source": [
    "# Python Helper Functions\n",
    "[top](#Table-of-Contents)"
   ]
  },
  {
   "cell_type": "code",
   "execution_count": null,
   "metadata": {
    "ExecuteTime": {
     "end_time": "2022-02-23T15:49:46.591625Z",
     "start_time": "2022-02-23T15:49:46.586799Z"
    }
   },
   "outputs": [],
   "source": [
    "emlines = [[\"OVI\",         1038.0],         # 0\n",
    "           [\"Ly$\\\\alpha$\", 1215.67],        # 1\n",
    "           [\"CIV\",     1550.0],             # 2\n",
    "           [\"CIII]\",   1909.],              # 3\n",
    "           [\"CII]\",    2327.],              # 4\n",
    "           [\"MgII\",    2796.4],             # 5\n",
    "           [\"MgII\",    2803.5],             # 6\n",
    "           [\"NeV\",     3326.],              # 7\n",
    "           [\"[OII]\",   3727.],  # O2        # 8\n",
    "           [\"[NeIII]\", 3868.7],             # 9\n",
    "           [\"H$\\gamma$\",  4340.5],  # Hg    # 10\n",
    "           [\"[OIII]\",  4363.0],  # O31      # 11\n",
    "           [\"H$\\\\beta$\",   4861.3],  # Hb   # 12\n",
    "           [\"[OIII]\",  4959.0],  # O32      # 13\n",
    "           [\"[OIII]\",  5007.0],  # O33      # 14\n",
    "           [\"[NII]\",   6548.1],             # 15\n",
    "           [\"H$\\\\alpha$\",  6562.8],  # Ha   # 16\n",
    "           [\"[NII]\",   6583.0],             # 17\n",
    "           [\"[SII]\",   6717.0],             # 18\n",
    "           [\"[SII]\",   6731.0],             # 19\n",
    "           [\"P$\\\\delta$\", 10049.8],  # Pd   # 20\n",
    "           [\"P$\\\\gamma$\", 10938.0],  # Pg   # 21\n",
    "           [\"P$\\\\beta$\",  12818.1],  # Pb   # 22\n",
    "           [\"P$\\\\alpha$\", 18750.1],  # Pa   # 23 \n",
    "           [\"Br$\\\\delta$\", 19440.0],  # Br-d (wikipedia, not exact)\n",
    "           [\"Br$\\\\gamma$\", 21660.0],  # Br-g (wikipedia, not exact)\n",
    "           [\"Br$\\\\beta$\",  26250.0],  # Br-b (wikipedia, not exact)\n",
    "           [\"Br$\\\\alpha$\", 40510.0],  # Br-a (wikipedia, not exact) \n",
    "          ]\n",
    "\n",
    "# http://hyperphysics.phy-astr.gsu.edu/hbase/Tables/hydspec.html\n",
    "# http://articles.adsabs.harvard.edu//full/1934ApJ....80...19M/0000022.000.html\n"
   ]
  },
  {
   "cell_type": "markdown",
   "metadata": {},
   "source": [
    "## (TESTING) Reload Core Grizli Python Functions - SKIP\n",
    "\n",
    "Only use if you are editing the Python code while running the Jupyter notebook."
   ]
  },
  {
   "cell_type": "code",
   "execution_count": null,
   "metadata": {
    "ExecuteTime": {
     "end_time": "2021-07-26T02:06:40.690315Z",
     "start_time": "2021-07-26T02:06:40.682958Z"
    }
   },
   "outputs": [],
   "source": [
    "import importlib\n",
    "importlib.reload(grizli.grismconf)"
   ]
  },
  {
   "cell_type": "code",
   "execution_count": null,
   "metadata": {
    "ExecuteTime": {
     "end_time": "2021-07-26T02:06:41.453411Z",
     "start_time": "2021-07-26T02:06:41.400953Z"
    }
   },
   "outputs": [],
   "source": [
    "import importlib\n",
    "importlib.reload(grizli.pipeline.auto_script)"
   ]
  },
  {
   "cell_type": "code",
   "execution_count": null,
   "metadata": {
    "ExecuteTime": {
     "end_time": "2021-07-26T02:06:41.974498Z",
     "start_time": "2021-07-26T02:06:41.968205Z"
    }
   },
   "outputs": [],
   "source": [
    "import importlib\n",
    "importlib.reload(grizli.model)"
   ]
  },
  {
   "cell_type": "code",
   "execution_count": null,
   "metadata": {
    "ExecuteTime": {
     "end_time": "2021-07-26T04:44:46.415038Z",
     "start_time": "2021-07-26T04:44:46.320478Z"
    }
   },
   "outputs": [],
   "source": [
    "import importlib\n",
    "importlib.reload(grizli.multifit)"
   ]
  },
  {
   "cell_type": "code",
   "execution_count": null,
   "metadata": {
    "ExecuteTime": {
     "end_time": "2021-07-26T02:06:43.170156Z",
     "start_time": "2021-07-26T02:06:43.139899Z"
    },
    "scrolled": true
   },
   "outputs": [],
   "source": [
    "import importlib\n",
    "importlib.reload(grizli.fitting)"
   ]
  },
  {
   "cell_type": "code",
   "execution_count": null,
   "metadata": {
    "ExecuteTime": {
     "end_time": "2021-07-26T02:06:43.761646Z",
     "start_time": "2021-07-26T02:06:43.754842Z"
    },
    "scrolled": true
   },
   "outputs": [],
   "source": [
    "import importlib\n",
    "importlib.reload(grizli.utils)"
   ]
  },
  {
   "cell_type": "markdown",
   "metadata": {},
   "source": [
    "# Start processing here!"
   ]
  },
  {
   "cell_type": "markdown",
   "metadata": {},
   "source": [
    "## Path to my simulation directories\n",
    "[top](#Table-of-Contents)"
   ]
  },
  {
   "cell_type": "code",
   "execution_count": null,
   "metadata": {
    "ExecuteTime": {
     "end_time": "2022-02-23T15:50:39.433998Z",
     "start_time": "2022-02-23T15:50:39.428933Z"
    }
   },
   "outputs": [],
   "source": [
    "#os.chdir('../')\n",
    "#os.chdir('/Users/gwalth/data/Roman/grizli/sims/')\n",
    "os.chdir('/Users/gwalth/data/Roman/grizli/sims/Euclid')\n",
    "\n",
    "#os.chdir('/local/RomanSims/grizli/sims/') # cygnusd\n",
    "HOME_PATH = os.getcwd()\n",
    "print('HOME_PATH = ', HOME_PATH)\n",
    "#root = \"SIM_10_18_22\"\n",
    "#root = \"SIM_12_23_22\"\n",
    "root = \"TestPoints\""
   ]
  },
  {
   "cell_type": "markdown",
   "metadata": {},
   "source": [
    "## Input files"
   ]
  },
  {
   "cell_type": "code",
   "execution_count": null,
   "metadata": {},
   "outputs": [],
   "source": [
    "os.chdir(os.path.join(HOME_PATH, root, 'Prep'))"
   ]
  },
  {
   "cell_type": "code",
   "execution_count": null,
   "metadata": {},
   "outputs": [],
   "source": [
    "#slitless_files = glob.glob('EUC_SIM_*.fits')\n",
    "#slitless_files.sort()\n",
    "#print(len(slitless_files))\n",
    "\n",
    "# First test\n",
    "slitless_files = ['NISPS_TIPS_TestPoints_highSNR_mod1_14324_2023_05_26_frame1.fits']\n",
    "catalog_files = ['TestPoints_highSNR_mod1_14324.fits']\n",
    "\n",
    "print(slitless_files)\n",
    "print(catalog_files)"
   ]
  },
  {
   "cell_type": "code",
   "execution_count": null,
   "metadata": {},
   "outputs": [],
   "source": [
    "slitless_files = glob.glob(\"EUC_SIM_NISR*.fits\")\n",
    "catalog_files = glob.glob(\"CATALOG*.fits\")\n",
    "print(slitless_files)\n",
    "print(catalog_files)"
   ]
  },
  {
   "cell_type": "markdown",
   "metadata": {},
   "source": [
    "## Directory Structure\n",
    "\n",
    "I was structing it similar to Grizli with Prep, RAW and Extraction directories.  If this were real mission data, the stage that we recieved from Anihita would have been drizzled images and spectra which would go into the Prep directories.\n",
    "\n",
    "This is just showing that we have the right directories and we can find all of the files."
   ]
  },
  {
   "cell_type": "code",
   "execution_count": null,
   "metadata": {},
   "outputs": [],
   "source": [
    "# Clean\n",
    "os.chdir(os.path.join(HOME_PATH, root, 'Prep'))\n",
    "\n",
    "!rm *_direct.fits\n",
    "!rm *_slitless.fits\n",
    "!rm *_wcs.fits\n",
    "!rm *_final*.fits\n",
    "!rm *_final.cat\n",
    "!rm Euclid_GrismFLT.pickle"
   ]
  },
  {
   "cell_type": "code",
   "execution_count": null,
   "metadata": {},
   "outputs": [],
   "source": [
    "# detector header names\n",
    "all_det = euclid_det()"
   ]
  },
  {
   "cell_type": "code",
   "execution_count": null,
   "metadata": {},
   "outputs": [],
   "source": [
    "## Write individual files for each extension of the slitless spectra\n",
    "# Grizli is easier to manage when writing out all of the files. \n",
    "# At some point we'll want to read the data extensions directly into Grizli, \n",
    "# this is currently a kludge.\n",
    "all_slitless = [write_individual_slitless(sf) for sf in slitless_files]\n",
    "print(all_slitless)"
   ]
  },
  {
   "cell_type": "code",
   "execution_count": null,
   "metadata": {},
   "outputs": [],
   "source": [
    "os.chdir(os.path.join(HOME_PATH, root, 'Prep'))\n",
    "\n",
    "file = \"Euclid_DET11_slitless.fits\"\n",
    "pf = pyfits.open(file)\n",
    "\n",
    "data = pf['SCI'].data - 1024.\n",
    "X = data.flatten()\n",
    "\n",
    "data = pf['ERR'].data\n",
    "Y = data.flatten()\n",
    "\n",
    "fig = plt.figure()\n",
    "\n",
    "ax1 = fig.add_subplot(121)\n",
    "ax1.hist(X,bins=20, range=(0,2000))\n",
    "ax1.set_yscale(\"log\")\n",
    "\n",
    "ax2 = fig.add_subplot(122)\n",
    "ax2.hist(Y,bins=20, range=(0,100))\n",
    "ax2.set_yscale(\"log\")\n"
   ]
  },
  {
   "cell_type": "code",
   "execution_count": null,
   "metadata": {},
   "outputs": [],
   "source": [
    "# Plot the slitless extensions\n",
    "plot_slitless(slitless_files[0], vmin=500, vmax=1700, verb=0)"
   ]
  },
  {
   "cell_type": "code",
   "execution_count": null,
   "metadata": {},
   "outputs": [],
   "source": [
    "## Read slitless headers and plot the image coordinates of the detectors relative to each other\n",
    "heads = read_slitless_headers(slitless_files[0], verb=0, plot=0)\n",
    "print(heads)"
   ]
  },
  {
   "cell_type": "markdown",
   "metadata": {},
   "source": [
    "## Read the source catalog"
   ]
  },
  {
   "cell_type": "code",
   "execution_count": null,
   "metadata": {
    "ExecuteTime": {
     "end_time": "2022-02-23T16:13:28.569453Z",
     "start_time": "2022-02-23T16:13:27.935763Z"
    }
   },
   "outputs": [],
   "source": [
    "os.chdir(os.path.join(HOME_PATH, root, 'Prep'))\n",
    "\n",
    "print(catalog_files)\n",
    "primer = Table.read(catalog_files[0]) \n",
    "print(primer.colnames)\n",
    "print(len(primer))"
   ]
  },
  {
   "cell_type": "code",
   "execution_count": null,
   "metadata": {},
   "outputs": [],
   "source": [
    "filt = primer['RA'] < 200.\n",
    "print(filt)\n",
    "print(primer[filt])\n",
    "\n",
    "index = np.arange(len(primer))\n",
    "print(index[filt])\n",
    "primer.remove_row(index[filt][0])\n",
    "\n",
    "#filt = primer['VIS'] == -99\n",
    "#print(primer[filt])\n",
    "\n",
    "#filt = primer['NIR_Y'] == -99\n",
    "#print(primer[filt])\n",
    "\n",
    "#filt = primer['NIR_J'] == -99\n",
    "#print(primer[filt])\n",
    "\n",
    "#filt = primer['NIR_H'] == -99\n",
    "#print(primer[filt])"
   ]
  },
  {
   "cell_type": "code",
   "execution_count": null,
   "metadata": {},
   "outputs": [],
   "source": [
    "print([col for col in primer.colnames if \"TU_\" in col])\n",
    "Euclid_bands = ['VIS','NIR_Y','NIR_J','NIR_H']\n",
    "Euclid_bands_flux = ['TU_FNU_VIS_MAG', 'TU_FNU_Y_NISP_MAG', 'TU_FNU_J_NISP_MAG', 'TU_FNU_H_NISP_MAG'] "
   ]
  },
  {
   "cell_type": "code",
   "execution_count": null,
   "metadata": {},
   "outputs": [],
   "source": [
    "for bk,fk in zip(Euclid_bands,Euclid_bands_flux):\n",
    "    fnu_Jy = primer[fk] # Jy    \n",
    "    mab = -2.5*np.log10(fnu_Jy) + 8.90   # Jy --> AB mag            \n",
    "    mab[np.isinf(mab)]=-99.\n",
    "    primer[bk] = mab    "
   ]
  },
  {
   "cell_type": "code",
   "execution_count": null,
   "metadata": {},
   "outputs": [],
   "source": [
    "primer[:10].show_in_notebook()"
   ]
  },
  {
   "cell_type": "code",
   "execution_count": null,
   "metadata": {},
   "outputs": [],
   "source": [
    "primer[Euclid_bands][:10].show_in_notebook()"
   ]
  },
  {
   "cell_type": "code",
   "execution_count": null,
   "metadata": {},
   "outputs": [],
   "source": [
    "primer[Euclid_bands_flux][:10].show_in_notebook()"
   ]
  },
  {
   "cell_type": "markdown",
   "metadata": {},
   "source": [
    "## Plot the magnitude histogram of sources"
   ]
  },
  {
   "cell_type": "code",
   "execution_count": null,
   "metadata": {},
   "outputs": [],
   "source": [
    "primer['TU_FNU_VIS_MAG'] # Jy\n",
    "primer['TU_FNU_Y_NISP_MAG'] # Jy\n",
    "primer['TU_FNU_J_NISP_MAG'] # Jy\n",
    "primer['TU_FNU_H_NISP_MAG'] # Jy\n",
    "primer['VIS'] # mag\n",
    "primer['NIR_Y'] # mag\n",
    "primer['NIR_J'] # mag\n",
    "primer['NIR_H'] # mag\n",
    "\n",
    "fig = plt.figure(figsize=(7,5))\n",
    "\n",
    "p1 = fig.add_subplot(111)\n",
    "p1.hist(primer['VIS'], bins=50, range=(15,30), alpha=0.6, label=\"VIS\")\n",
    "p1.hist(primer['NIR_Y'], bins=50, range=(15,30), alpha=0.6, label=\"NIR_Y\")\n",
    "p1.hist(primer['NIR_J'], bins=50, range=(15,30), alpha=0.6, label=\"NIR_J\")\n",
    "p1.hist(primer['NIR_H'], bins=50, range=(15,30), alpha=0.6, label=\"NIR_H\")\n",
    "p1.set_xlabel(\"mag\")\n",
    "p1.legend()\n",
    "plt.show()"
   ]
  },
  {
   "cell_type": "markdown",
   "metadata": {},
   "source": [
    "## Plot the RA and Dec distribution across the detectors"
   ]
  },
  {
   "cell_type": "code",
   "execution_count": null,
   "metadata": {},
   "outputs": [],
   "source": [
    "fig = plt.figure()\n",
    "\n",
    "p1 = fig.add_subplot(111)\n",
    "p1.scatter(primer['RA'],primer['DEC'])\n",
    "p1.set_aspect(1.)\n",
    "p1.set_xlabel(\"RA [deg]\")\n",
    "p1.set_ylabel(\"Dec [deg]\")\n",
    "\n",
    "plt.show()"
   ]
  },
  {
   "cell_type": "code",
   "execution_count": null,
   "metadata": {},
   "outputs": [],
   "source": [
    "os.chdir(os.path.join(HOME_PATH, root, 'Prep', 'Input_Thumbnails'))\n",
    "direct_thumbnail_files = glob.glob('NIS_catalog_file_??.thm.beamA.fits')\n",
    "direct_thumbnail_files.sort()\n",
    "print(direct_thumbnail_files)\n",
    "print(len(direct_thumbnail_files))"
   ]
  },
  {
   "cell_type": "code",
   "execution_count": null,
   "metadata": {},
   "outputs": [],
   "source": [
    "os.chdir(os.path.join(HOME_PATH, root, 'Prep', 'Input_Thumbnails'))\n",
    "## Map the sources the sources from the catalog to the detectors \n",
    "#det_tbl, det_dict = map_src_to_det(plot=0)\n",
    "det_dict = map_src_to_det(primer, heads, plot=0)"
   ]
  },
  {
   "cell_type": "markdown",
   "metadata": {},
   "source": [
    "## Print each of the detectors WCS header information"
   ]
  },
  {
   "cell_type": "code",
   "execution_count": null,
   "metadata": {},
   "outputs": [],
   "source": [
    "from astropy import wcs\n",
    "\n",
    "os.chdir(os.path.join(HOME_PATH, root, 'Prep'))\n",
    "wcs_temp = \"Euclid_DET%s_wcs.fits\"\n",
    "\n",
    "for i in range(0,4): \n",
    "    for j in range(0,4):\n",
    "        print(i+1,j+1)\n",
    "        num = '%i%i' % (i+1,j+1)\n",
    "        hdu = pyfits.open(wcs_temp % (num), ignore_missing_simple=True)    \n",
    "        head = hdu[0].header\n",
    "        #print(head)\n",
    "        print(head['CRVAL1'],head['CRVAL2'],head['CRPIX1'],head['CRPIX2'])"
   ]
  },
  {
   "cell_type": "code",
   "execution_count": null,
   "metadata": {},
   "outputs": [],
   "source": [
    "primer[\"TU_FNU_H_NISP_MAG\",\"NIR_H\"][:10].show_in_notebook()"
   ]
  },
  {
   "cell_type": "code",
   "execution_count": null,
   "metadata": {},
   "outputs": [],
   "source": [
    "#    # effective wavelength (pivot wavelength)\n",
    "#    # http://www.astro.ljmu.ac.uk/~ikb/research/mags-fluxes/\n",
    "#    numerator = integrate.trapz(tran,wav)\n",
    "#    denominator = integrate.trapz(tran/wav**2,wav)\n",
    "#    effwav_sq = numerator/denominator\n",
    "#    effwav = np.sqrt(effwav_sq)\n",
    "\n",
    "from scipy import integrate\n",
    "\n",
    "def calc_pivot(wav,tran):\n",
    "    \n",
    "    numerator = integrate.trapz(tran * wav, wav)\n",
    "    denominator = integrate.trapz(tran / wav, wav)    \n",
    "    pivot = np.sqrt(numerator/denominator)\n",
    "    \n",
    "    return pivot"
   ]
  },
  {
   "cell_type": "markdown",
   "metadata": {},
   "source": [
    "## Create input table for the reference image"
   ]
  },
  {
   "cell_type": "code",
   "execution_count": null,
   "metadata": {},
   "outputs": [],
   "source": [
    "thumb_temp = 'NIS_catalog_file_%s.thm.beamA.fits'\n",
    "os.chdir(os.path.join(HOME_PATH, root, 'Prep', 'Input_Thumbnails'))\n",
    "\n",
    "source_ids = []\n",
    "thumbs = []\n",
    "\n",
    "for i in range(0,4): \n",
    "    for j in range(0,4):\n",
    "        num = '%i%i' % (i+1,j+1)\n",
    "        hdus = pyfits.open(thumb_temp % (num))\n",
    "        source_ids += [h.header['EXTNAME'] for h in hdus[1:]]\n",
    "        thumbs += [h.data for h in hdus[1:]]\n",
    "        \n",
    "#print(source_ids)\n",
    "print(len(source_ids))\n",
    "\n",
    "#print(set(source_ids))\n",
    "print(len(set(source_ids)))\n",
    "\n",
    "print(sys.getsizeof([]),\"bytes\")\n",
    "print(sys.getsizeof([1]),\"bytes\") \n",
    "print(sys.getsizeof(source_ids),\"bytes\")   \n",
    "\n",
    "src_tbl = Table([source_ids,thumbs], names=['SOURCE_ID','THUMB'])\n",
    "all_tbl = join(src_tbl, primer, keys='SOURCE_ID')\n",
    "final_tbl = unique(all_tbl, keys='SOURCE_ID') # look for duplicate entries\n",
    "\n",
    "print(len(all_tbl))\n",
    "print(len(final_tbl))\n",
    "#world = [[ra,dec] for ra,dec in det_tbl['RA','DEC']]\n",
    "#world = [[ra,dec] for ra,dec in det_tbl['RA','DEC']]\n",
    "ra = all_tbl['RA']\n",
    "dec = all_tbl['DEC']\n",
    "\n",
    "ra_avg = np.mean(ra)\n",
    "dec_avg = np.mean(dec)\n",
    "print(ra_avg)\n",
    "print(dec_avg)"
   ]
  },
  {
   "cell_type": "code",
   "execution_count": null,
   "metadata": {},
   "outputs": [],
   "source": [
    "print(sys.getsizeof(source_ids),\"bytes\")  "
   ]
  },
  {
   "cell_type": "code",
   "execution_count": null,
   "metadata": {},
   "outputs": [],
   "source": [
    "all_tbl[:10].show_in_notebook()"
   ]
  },
  {
   "cell_type": "code",
   "execution_count": null,
   "metadata": {},
   "outputs": [],
   "source": [
    "print(primer)\n",
    "print(primer.colnames)"
   ]
  },
  {
   "cell_type": "markdown",
   "metadata": {},
   "source": [
    "## Create reference images"
   ]
  },
  {
   "cell_type": "code",
   "execution_count": null,
   "metadata": {},
   "outputs": [],
   "source": [
    "# Mauri et al. 2020\n",
    "# (ropper et al. 2016\n",
    "os.chdir(os.path.join(HOME_PATH, root, 'Prep', 'Input_Thumbnails'))\n",
    "\n",
    "# noise characteristics of \"direct image\"\n",
    "# Scaramella et al. 2022 - Euclid preparation I. The Euclid Wide Survey\n",
    "# RGS000, RGS180, RGS000_rot, RGS180_rot\n",
    "spec_exptime = 574 # seconds\n",
    "spec_gain = 2.0"
   ]
  },
  {
   "cell_type": "code",
   "execution_count": null,
   "metadata": {
    "scrolled": true
   },
   "outputs": [],
   "source": [
    "nexp = 4 \n",
    "\n",
    "# VIS \n",
    "readnoise = 4.5  # e-\n",
    "background = 1.2 # e-/s\n",
    "#pixel_size = 12. # um\n",
    "dir_gain = 1.0   # e-/photon\n",
    "\n",
    "# VIS\n",
    "flux_key = \"TU_FNU_VIS_MAG\"\n",
    "mag_key = \"VIS\"\n",
    "dir_exptime = 570 # seconds\n",
    "wav_cen = 7102.613 # calculated from pivot\n",
    "wav_width = 9000. - 5600.\n",
    "eff_tot = 0.70\n",
    "#eff_tot = 0.74\n",
    "output = \"Euclid_VIS_ref.fits\"\n",
    "filt = \"VIS\"\n",
    "instr = \"VIS\"\n",
    "\n",
    "test_fluxes_vis, test_mags_vis = fake_euclid_ref(all_tbl, ra_cen = ra_avg, dec_cen = dec_avg, \n",
    "                                         pixel_scale = 0.3, flux_key=flux_key, mag_key=mag_key, \n",
    "                                         gain=dir_gain, background=background, exptime=dir_exptime, \n",
    "                                         nexp=nexp, readnoise=readnoise, wav_cen=wav_cen, \n",
    "                                         wav_width=wav_width, eff_tot=eff_tot, output=output, \n",
    "                                         filt=filt, instr = instr)\n"
   ]
  },
  {
   "cell_type": "code",
   "execution_count": null,
   "metadata": {
    "scrolled": true
   },
   "outputs": [],
   "source": [
    "#dir_exptime = 448\n",
    "#nexp = 1\n",
    "nexp = 4\n",
    "\n",
    "# NISP\n",
    "readnoise = 6.   # e-\n",
    "background = 1.2 # e-/s\n",
    "\n",
    "#background = 0 # e-/s\n",
    "#readnoise = 0\n",
    "dir_gain = 1.0   # e-/photon\n",
    "\n",
    "# Y\n",
    "flux_key = \"TU_FNU_Y_NISP_MAG\"\n",
    "mag_key = \"NIR_Y\"\n",
    "dir_exptime = 112. # seconds\n",
    "wav_cen = 10809. # Ang\n",
    "wav_width = 2627. # Ang\n",
    "eff_tot = 0.772\n",
    "output = \"Euclid_NISP_Y_ref.fits\"\n",
    "filt = \"NISP_Y\"\n",
    "instr = \"NISP\"\n",
    "\n",
    "test_fluxes_nisp_y, test_mags_nisp_y = fake_euclid_ref(all_tbl, ra_cen = ra_avg, dec_cen = dec_avg, \n",
    "                                         pixel_scale = 0.3, flux_key=flux_key, mag_key=mag_key, \n",
    "                                         gain=dir_gain, background=background, exptime=dir_exptime, \n",
    "                                         nexp=nexp, readnoise=readnoise, wav_cen=wav_cen, \n",
    "                                         wav_width=wav_width, eff_tot=eff_tot, output=output,\n",
    "                                         filt=filt, instr = instr)\n",
    "\n",
    "# J\n",
    "flux_key = \"TU_FNU_J_NISP_MAG\"\n",
    "mag_key = \"NIR_J\"\n",
    "dir_exptime = 112. # seconds\n",
    "wav_cen = 13673. # Ang\n",
    "wav_width = 3994. # Ang\n",
    "eff_tot = 0.790\n",
    "output = \"Euclid_NISP_J_ref.fits\"\n",
    "filt = \"NISP_J\"\n",
    "instr = \"NISP\"\n",
    "\n",
    "test_fluxes_nisp_j, test_mags_nisp_j = fake_euclid_ref(all_tbl, ra_cen = ra_avg, dec_cen = dec_avg, \n",
    "                                         pixel_scale = 0.3, flux_key=flux_key, mag_key=mag_key, \n",
    "                                         gain=dir_gain, background=background, exptime=dir_exptime, \n",
    "                                         nexp=nexp, readnoise=readnoise, wav_cen=wav_cen, \n",
    "                                         wav_width=wav_width, eff_tot=eff_tot, output=output,\n",
    "                                         filt=filt, instr = instr)\n",
    "# H\n",
    "flux_key = \"TU_FNU_H_NISP_MAG\"\n",
    "mag_key = \"NIR_H\"\n",
    "wav_cen = 17714. # Ang\n",
    "wav_width = 4999. # Ang\n",
    "dir_exptime = 112. # seconds\n",
    "eff_tot = 0.782\n",
    "output = \"Euclid_NISP_H_ref.fits\"\n",
    "filt = \"NISP_H\"\n",
    "instr = \"NISP\"\n",
    "\n",
    "test_fluxes_nisp_h, test_mags_nisp_h = fake_euclid_ref(all_tbl, ra_cen = ra_avg, dec_cen = dec_avg, \n",
    "                                         pixel_scale = 0.3, flux_key=flux_key, mag_key=mag_key, \n",
    "                                         gain=dir_gain, background=background, exptime=dir_exptime, \n",
    "                                         nexp=nexp, readnoise=readnoise, wav_cen=wav_cen, \n",
    "                                         wav_width=wav_width, eff_tot=eff_tot, output=output,\n",
    "                                         filt=filt, instr = instr)\n",
    "#print(all_direct)\n",
    "# should label direct with \"_direct\""
   ]
  },
  {
   "cell_type": "code",
   "execution_count": null,
   "metadata": {},
   "outputs": [],
   "source": [
    "os.chdir(os.path.join(HOME_PATH, root, 'Prep'))\n",
    "ref_files = [\"Euclid_VIS_ref.fits\", \"Euclid_NISP_Y_ref.fits\", \"Euclid_NISP_J_ref.fits\",\n",
    "             \"Euclid_NISP_H_ref.fits\"]\n",
    "total_image(ref_files, output=\"Euclid_total_ref.fits\", img_ext='REF') "
   ]
  },
  {
   "cell_type": "code",
   "execution_count": null,
   "metadata": {
    "ExecuteTime": {
     "end_time": "2022-02-23T15:54:36.792049Z",
     "start_time": "2022-02-23T15:54:36.554120Z"
    }
   },
   "outputs": [],
   "source": [
    "# remove segmentation FITS to redo \"next\" step\n",
    "os.chdir(os.path.join(HOME_PATH, root, 'Prep'))\n",
    "!rm *_seg.fits"
   ]
  },
  {
   "cell_type": "code",
   "execution_count": null,
   "metadata": {
    "ExecuteTime": {
     "end_time": "2022-02-23T16:13:10.557605Z",
     "start_time": "2022-02-23T16:12:57.902966Z"
    },
    "scrolled": true
   },
   "outputs": [],
   "source": [
    "## Make SExtractor catalog\n",
    "os.chdir(os.path.join(HOME_PATH, root, 'Prep'))\n",
    "\n",
    "# Euclid (Schirmer et al. 2022, XVIII. The NISP photometric system)\n",
    "#mag_zero = 25.04 # +- 0.05 mag   Y \n",
    "#mag_zero = 25.26 # +- 0.05 mag   J\n",
    "#mag_zero = 25.21 # +- 0.05 mag   H\n",
    "\n",
    "#           VIS   Y      J      H      total\n",
    "mag_zero = [25.6, 25.04, 25.26, 25.21, 26.0]\n",
    "\n",
    "det_img = \"Euclid_total_ref.fits\"\n",
    "\n",
    "all_cat = []\n",
    "all_seg = []\n",
    "all_bkg = []\n",
    "\n",
    "all_ref_files = ref_files + [det_img]\n",
    "\n",
    "for i,ref in enumerate(all_ref_files):\n",
    "\n",
    "    prefix = ref.replace(\".fits\",\"\")\n",
    "    \n",
    "    sex = \"Euclid.sex\"\n",
    "             \n",
    "    cat = prefix + \".cat\" \n",
    "    #wht = prefix + \"_wht.fits\"\n",
    "    seg = prefix + \"_seg.fits\"\n",
    "    bkg = prefix + \"_bkg.fits\"\n",
    "    #aper = prefix + \"_aper.fits\"\n",
    "    \n",
    "    all_cat.append(cat)\n",
    "    all_seg.append(seg)\n",
    "    all_bkg.append(bkg)\n",
    "        \n",
    "    if not os.path.exists(seg):\n",
    "    \n",
    "        det_wht = det_img + \"[2]\"\n",
    "        wht = ref + \"[2]\"\n",
    "        det_ext = det_img + \"[1]\"\n",
    "        ref_ext = ref + \"[1]\"\n",
    "\n",
    "        \n",
    "        checkimage_name = seg + \",\" + bkg\n",
    "\n",
    "        # detection image\n",
    "        sex_str = 'sex ' + det_ext + \",\" + ref_ext + ' -c ' + sex + \\\n",
    "                  ' -WEIGHT_IMAGE ' + det_wht + \",\" + wht + \\\n",
    "                  ' -CHECKIMAGE_NAME ' + checkimage_name + ' -CATALOG_NAME ' + cat + \\\n",
    "                  ' -MAG_ZEROPOINT %.2f' % (mag_zero[i])\n",
    "        \n",
    "        # single image\n",
    "        #sex_str = 'sex ' + ref_ext + ' -c ' + sex + ' -WEIGHT_IMAGE ' + wht + \\\n",
    "        #          ' -CHECKIMAGE_NAME ' + checkimage_name + ' -CATALOG_NAME ' + cat + \\\n",
    "        #          ' -MAG_ZEROPOINT %.2f' % (mag_zero[i])\n",
    "        print(sex_str)\n",
    "        os.system(sex_str)\n",
    "            \n",
    "    else:\n",
    "        print(\"Skipping...\")\n",
    "        \n",
    "\n",
    "# awk '{ printf \"circle(%f, %f, 0.00007) # text={%.3f}\\n\", $4, $5, $42 }' Euclid_VIS_ref.cat > Euclid_VIS_ref.reg\n",
    "# awk '{ printf \"circle(%f, %f, 0.00007) # text={%.3f}\\n\", $4, $5, $42 }' Euclid_NISP_Y_ref.cat > Euclid_NISP_Y_ref.reg\n",
    "# awk '{ printf \"circle(%f, %f, 0.00007) # text={%.3f}\\n\", $4, $5, $42 }' Euclid_NISP_J_ref.cat > Euclid_NISP_J_ref.reg\n",
    "# awk '{ printf \"circle(%f, %f, 0.00007) # text={%.3f}\\n\", $4, $5, $42 }' Euclid_NISP_H_ref.cat > Euclid_NISP_H_ref.reg"
   ]
  },
  {
   "cell_type": "code",
   "execution_count": null,
   "metadata": {},
   "outputs": [],
   "source": [
    "\n",
    "test_fluxes = [test_fluxes_vis, test_fluxes_nisp_y, test_fluxes_nisp_j, test_fluxes_nisp_h]\n",
    "test_mags = [test_mags_vis, test_mags_nisp_y, test_mags_nisp_j, test_mags_nisp_h]\n",
    "\n",
    "for i,zp in enumerate(mag_zero[:-1]):\n",
    "    \n",
    "    mag = -2.5 * np.log10(test_fluxes[i]) + zp\n",
    "\n",
    "\n",
    "    fig = plt.figure(figsize=(4,4))\n",
    "    ax = fig.add_subplot(111)\n",
    "    ax.scatter(mag,test_mags[i])\n",
    "    ax.plot([9,25],[9,25],c=\"tab:red\")\n",
    "    \n",
    "    #ax.set_title(cat)\n",
    "    ax.set_xlabel(\"ZP derived magnitudes\")\n",
    "    ax.set_ylabel(\"input magnitudes\")\n",
    "\n",
    "    plt.show()"
   ]
  },
  {
   "cell_type": "code",
   "execution_count": null,
   "metadata": {},
   "outputs": [],
   "source": [
    "all_direct = all_ref_files"
   ]
  },
  {
   "cell_type": "code",
   "execution_count": null,
   "metadata": {},
   "outputs": [],
   "source": [
    "dir()\n",
    "print(all_direct)\n",
    "print(all_slitless)"
   ]
  },
  {
   "cell_type": "markdown",
   "metadata": {},
   "source": [
    "## Add all of the header metadata needed for Grizli"
   ]
  },
  {
   "cell_type": "code",
   "execution_count": null,
   "metadata": {},
   "outputs": [],
   "source": [
    "print(dir_exptime)\n",
    "print(spec_exptime)\n",
    "print(nexp)"
   ]
  },
  {
   "cell_type": "code",
   "execution_count": null,
   "metadata": {},
   "outputs": [],
   "source": [
    "os.chdir(os.path.join(HOME_PATH, root, 'Prep'))\n",
    "\n",
    "suffix = \"_final\"\n",
    "\n",
    "all_final_direct = []\n",
    "all_final_slitless = []"
   ]
  },
  {
   "cell_type": "markdown",
   "metadata": {},
   "source": [
    "## Subtract 1024 from science and sqrt(error), and adjust header keys"
   ]
  },
  {
   "cell_type": "code",
   "execution_count": null,
   "metadata": {
    "ExecuteTime": {
     "end_time": "2022-02-23T15:51:11.491502Z",
     "start_time": "2022-02-23T15:51:01.959582Z"
    },
    "scrolled": true
   },
   "outputs": [],
   "source": [
    "###############\n",
    "### SPECTRA ###\n",
    "###############\n",
    "for slitless in all_slitless[0]:\n",
    "    \n",
    "    new_slitless = slitless.replace(\".fits\",suffix+\".fits\")\n",
    "    all_final_slitless.append(new_slitless)\n",
    "        \n",
    "    hdu = pyfits.open(slitless)\n",
    "    hdu.info()\n",
    "\n",
    "    ext = 0\n",
    "    #hdu[ext].header['INSTRUME'] = 'NISP' \n",
    "    hdu[ext].header['INSTRUME'] = 'NISP-GLWv1' \n",
    "    # v2:\n",
    "    # - optical model looks the same for each detector\n",
    "    # - sensitivity for each detector (are they different?)\n",
    "    hdu[ext].header['FILTER'] = 'RED'\n",
    "    hdu[ext].header['EXPTIME'] = spec_exptime\n",
    "\n",
    "    ext = 1\n",
    "    #hdu[ext].header['INSTRUME'] = 'NISP'\n",
    "    hdu[ext].header['INSTRUME'] = 'NISP-GLWv1'\n",
    "    hdu[ext].header['FILTER'] = 'RED'\n",
    "    hdu[ext].header['EXTVER'] = ext\n",
    "    hdu[ext].header['EXPTIME'] = spec_exptime\n",
    "\n",
    "    sci = hdu[ext].data\n",
    "    #hdu[ext].data = sci/spec_exptime/gain\n",
    "    hdu[ext].data = (sci-1024.)/spec_exptime/spec_gain\n",
    "\n",
    "\n",
    "    ext = 2\n",
    "    chi2 = hdu[ext].data\n",
    "    hdu[ext].data = np.sqrt(chi2)/spec_exptime/spec_gain\n",
    "\n",
    "    hdu.writeto(new_slitless, overwrite=True, output_verify='fix')\n",
    "    print(\"Writing\",new_slitless)\n"
   ]
  },
  {
   "cell_type": "code",
   "execution_count": null,
   "metadata": {},
   "outputs": [],
   "source": [
    "print(all_final_direct)\n",
    "print(all_final_slitless)"
   ]
  },
  {
   "cell_type": "markdown",
   "metadata": {},
   "source": [
    "## Check the pixel scale of the images"
   ]
  },
  {
   "cell_type": "code",
   "execution_count": null,
   "metadata": {
    "ExecuteTime": {
     "end_time": "2022-02-23T16:13:24.968915Z",
     "start_time": "2022-02-23T16:13:24.944355Z"
    }
   },
   "outputs": [],
   "source": [
    "os.chdir(os.path.join(HOME_PATH, root, 'Prep'))\n",
    "\n",
    "#for i in range(4):\n",
    "#    for j in range(4):\n",
    "#        num = '%i%i' % (i+1,j+1)\n",
    "#        new_direct = \"Euclid_DET%s%s.fits\" % (num,suffix)\n",
    "#        new_slitless = \"Euclid_DET%s_slitless%s.fits\"  % (num,suffix)\n",
    "\n",
    "for direct in all_final_direct:        \n",
    "    wcs_pixel_scale(direct)\n",
    "\n",
    "for slitless in all_final_slitless:\n",
    "    wcs_pixel_scale(slitless)"
   ]
  },
  {
   "cell_type": "code",
   "execution_count": null,
   "metadata": {},
   "outputs": [],
   "source": [
    "all_phot = []\n",
    "\n",
    "for cat in all_cat:\n",
    "    #print(cat)\n",
    "    phot = Table.read(cat, format='ascii.sextractor') # ref_cat in multimission\n",
    "    all_phot.append(phot)\n",
    "    print(cat,\" number_of_sources =\",len(phot))\n",
    "print()\n",
    "print(phot.colnames)"
   ]
  },
  {
   "cell_type": "code",
   "execution_count": null,
   "metadata": {
    "scrolled": true
   },
   "outputs": [],
   "source": [
    "fig = plt.figure(figsize=(12,12))\n",
    "\n",
    "k = 0\n",
    "ax = []\n",
    "for i,phot in enumerate(all_phot):\n",
    "    \n",
    "    cat = all_cat[i]\n",
    "\n",
    "    #print(phot[\"MAG_AUTO\"])\n",
    "    #print(phot[\"FLUX_AUTO\"])\n",
    "\n",
    "    if len(phot) > 0:    \n",
    "        print(np.min(phot[\"MAG_AUTO\"]),np.max(phot[\"MAG_AUTO\"]))\n",
    "        #print(np.min(phot[\"FLUX_AUTO\"]),np.max(phot[\"FLUX_AUTO\"]))\n",
    "\n",
    "    \n",
    "    ax = fig.add_subplot(4,4,k+1)\n",
    "    ax.hist(phot[\"MAG_AUTO\"],range=(10,32),bins=44)\n",
    "    #ax.hist(phot[\"MAG_AUTO\"],bins=20)\n",
    "    #ax.hist(phot[\"FLUX_AUTO\"],bins=20)\n",
    "\n",
    "\n",
    "    ax.set_xlabel(cat)\n",
    "    ax.set_ylabel(\"N\")\n",
    "    ax.set_xlim(10,32)\n",
    "    \n",
    "    k += 1\n",
    "    \n",
    "plt.show()"
   ]
  },
  {
   "cell_type": "code",
   "execution_count": null,
   "metadata": {},
   "outputs": [],
   "source": [
    "for phot in all_phot:\n",
    "    print(phot)"
   ]
  },
  {
   "cell_type": "code",
   "execution_count": null,
   "metadata": {},
   "outputs": [],
   "source": [
    "plot_labels = 1\n",
    "mag_cut = 17.\n",
    "\n",
    "fig = plt.figure(figsize=(12,12))\n",
    "\n",
    "k = 0\n",
    "#for direct,phot in zip(all_direct,all_phot):\n",
    "for direct,phot in zip(all_ref_files,all_phot):\n",
    "\n",
    "\n",
    "    hdu = pyfits.open(direct)\n",
    "    img = hdu[1].data\n",
    "    \n",
    "    p1 = fig.add_subplot(4,4,k+1)\n",
    "    p1.imshow(img,origin=\"lower\",vmin=-0.1,vmax=0.1)\n",
    "    p1.scatter(phot[\"X_IMAGE\"],phot[\"Y_IMAGE\"],fc=\"None\",ec=\"r\",s=60,lw=0.3)\n",
    "\n",
    "    if plot_labels:\n",
    "        for j,src in enumerate(phot['MAG_AUTO']):\n",
    "        #for j,src in enumerate(phot['NUMBER']):\n",
    "        #for j,src in enumerate(phot['FLUX_AUTO']):\n",
    "            if src < mag_cut:\n",
    "                p1.text(phot['X_IMAGE'][j],phot['Y_IMAGE'][j],src)\n",
    "            \n",
    "    \n",
    "    k += 1\n",
    "plt.show()"
   ]
  },
  {
   "cell_type": "code",
   "execution_count": null,
   "metadata": {},
   "outputs": [],
   "source": [
    "from astropy.table import Table, join, vstack\n",
    "import astropy.units as u\n",
    "from astropy.coordinates import SkyCoord\n",
    "\n",
    "verb = 1\n",
    "search_rad = 0.6\n",
    "\n",
    "if verb:\n",
    "    fig = plt.figure(figsize=(12,12))\n",
    "\n",
    "all_phot_matched_clean = []\n",
    "    \n",
    "k = 0\n",
    "for i,phot in enumerate(all_phot):\n",
    "    \n",
    "    #print(all_final_direct[i])\n",
    "    print(\"Total number of sources found =\",len(phot))\n",
    "    print(\"Search primer and all_tbl for RA/DEC matches\")\n",
    "    \n",
    "    if len(phot) > 0:\n",
    "        c_prime = SkyCoord(ra=primer[\"RA\"]*u.degree, dec=primer[\"DEC\"]*u.degree)\n",
    "        c_phot = SkyCoord(ra=phot[\"X_WORLD\"], dec=phot[\"Y_WORLD\"])\n",
    "\n",
    "        #idx, d2d, d3d = c_prime.match_to_catalog_sky(c_phot)\n",
    "        idx, d2d, d3d = c_phot.match_to_catalog_sky(c_prime)\n",
    "\n",
    "        filt = d2d < 1*u.arcsec\n",
    "\n",
    "        if verb:\n",
    "            p1 = fig.add_subplot(4,4,k+1)\n",
    "            p1.hist(d2d[filt].value*3600.,bins=25)\n",
    "        \n",
    "        #primer['idx'] = idx\n",
    "        #primer['d2d'] = d2d\n",
    "\n",
    "        phot['idx'] = idx\n",
    "        phot['d2d'] = d2d\n",
    "        #print(primer.colnames)\n",
    "        \n",
    "        #phot['idx'] = np.arange(len(phot))\n",
    "        primer['idx'] = np.arange(len(primer))\n",
    "        #print(all_tbl.colnames)\n",
    "        #print(all_tbl['idx'])\n",
    "        \n",
    "        print(\"Join all_tbl and primer tables\")\n",
    "        match_tbl = join(phot, primer, keys='idx')\n",
    "        #print(match_tbl)\n",
    "        #print(match_tbl.colnames)\n",
    "        \n",
    "        print(\"Select only sources < %.2f arcsec\" % (search_rad))\n",
    "        #filt = match_tbl['d2d'] < 1.0*u.arcsec\n",
    "        clean_filt = match_tbl['d2d'] < search_rad*u.arcsec\n",
    "        match_clean_tbl = match_tbl[clean_filt]\n",
    "        print(list(match_clean_tbl['idx']))\n",
    "        print(\"Number of matches =\",len(match_clean_tbl))\n",
    "        print()\n",
    "        \n",
    "        if not i: print(match_clean_tbl.colnames)\n",
    "        \n",
    "    else:\n",
    "        match_clean_tbl = []\n",
    "    \n",
    "    all_phot_matched_clean.append(match_clean_tbl)\n",
    "    \n",
    "    k+=1\n",
    "        "
   ]
  },
  {
   "cell_type": "code",
   "execution_count": null,
   "metadata": {
    "scrolled": true
   },
   "outputs": [],
   "source": [
    "plot_labels = 0\n",
    "\n",
    "fig = plt.figure(figsize=(12,12))\n",
    "\n",
    "k = 0    \n",
    "#for direct,match_clean_tbl in zip(all_direct,all_phot_matched_clean):\n",
    "for direct,match_clean_tbl in zip(all_ref_files,all_phot_matched_clean):\n",
    "\n",
    "\n",
    "    hdu = pyfits.open(direct)\n",
    "    img = hdu[1].data\n",
    "\n",
    "    p1 = fig.add_subplot(4,4,k+1)\n",
    "    p1.imshow(img,origin=\"lower\",vmin=-0.1,vmax=0.1)\n",
    "    #p1.scatter(phot[\"X_IMAGE\"],phot[\"Y_IMAGE\"],fc=\"None\",ec=\"r\",s=60)\n",
    "    if len(match_clean_tbl) > 0:\n",
    "        p1.scatter(match_clean_tbl['X_IMAGE'],match_clean_tbl['Y_IMAGE'],lw=0.3,fc=\"None\",ec=\"r\",s=60)\n",
    "    \n",
    "    if plot_labels and len(match_clean_tbl) > 0:\n",
    "        for j,src in enumerate(match_clean_tbl['SOURCE_ID']):\n",
    "            #print(j)\n",
    "            p1.text(match_clean_tbl['X_IMAGE'][j],match_clean_tbl['Y_IMAGE'][j],src)\n",
    "    k += 1\n",
    "plt.show()"
   ]
  },
  {
   "cell_type": "code",
   "execution_count": null,
   "metadata": {},
   "outputs": [],
   "source": [
    "print([col for col in primer.colnames if \"TU_\" in col])\n",
    "Euclid_bands = ['VIS','NIR_Y','NIR_J','NIR_H']\n",
    "Euclid_bands_flux = ['TU_FNU_VIS_MAG', 'TU_FNU_Y_NISP_MAG', 'TU_FNU_J_NISP_MAG', 'TU_FNU_H_NISP_MAG']"
   ]
  },
  {
   "cell_type": "code",
   "execution_count": null,
   "metadata": {},
   "outputs": [],
   "source": [
    "print(\"N =\",len(all_phot_matched_clean))\n",
    "print()\n",
    "\n",
    "verb = 0\n",
    "\n",
    "for i,match_clean_tbl in enumerate(all_phot_matched_clean[:-1]):  \n",
    "    zps = []\n",
    "    mags = []\n",
    "    \n",
    "    if len(match_clean_tbl) > 0:\n",
    "        print(\"i =\",i)\n",
    "                \n",
    "        for k,row in enumerate(match_clean_tbl):\n",
    "            \n",
    "            #ind = np.argmax(match_clean_tbl['FLUX_AUTO'])\n",
    "\n",
    "            #print(\"ind =\",ind)\n",
    "            dn = row['FLUX_AUTO']\n",
    "            mag = row[Euclid_bands[i]]\n",
    "            flux = row[Euclid_bands_flux[i]]\n",
    "\n",
    "            ## mag = -2.5 * log10(dn/exptime) + zp\n",
    "            zp = mag + 2.5*np.log10(dn)\n",
    "            \n",
    "            \n",
    "            mags.append(mag)\n",
    "            zps.append(zp)\n",
    "            if verb:\n",
    "                print(k)\n",
    "                print(\"dn =\", dn)\n",
    "                print(\"mag =\", mag)\n",
    "                print(\"flux =\", flux)\n",
    "                print(\"zp =\", zp)\n",
    "                print()\n",
    "\n",
    "    print(\"Magnitudes:\")\n",
    "    print(\"min = %.3f\" % (np.nanmin(mags)))\n",
    "    print(\"max = %.3f\" % (np.nanmax(mags)))\n",
    "    print()\n",
    "\n",
    "    print(\"Zeropoint:\")\n",
    "    print(\"mean   = %.3f\" % (np.nanmean(zps)))\n",
    "    print(\"median = %.3f\" % (np.nanmedian(zps)))\n",
    "    print(\"std    = %.3f\" % (np.nanstd(zps)))\n",
    "    print(\"min    = %.3f\" % (np.nanmin(zps)))\n",
    "    print(\"max    = %.3f\" % (np.nanmax(zps)))\n",
    "\n",
    "\n",
    "    fig = plt.figure()\n",
    "    ax = fig.add_subplot(111)\n",
    "    ax.scatter(mags,zps)\n",
    "    plt.show()"
   ]
  },
  {
   "cell_type": "code",
   "execution_count": null,
   "metadata": {},
   "outputs": [],
   "source": [
    "rms = 0.15\n",
    "zp = 25.13\n",
    "mag = - 2.5*np.log10(5*rms) + zp\n",
    "print(mag)"
   ]
  },
  {
   "cell_type": "markdown",
   "metadata": {},
   "source": [
    "## Euclid object simulation\n",
    "[top](#Table-of-Contents)"
   ]
  },
  {
   "cell_type": "code",
   "execution_count": null,
   "metadata": {},
   "outputs": [],
   "source": [
    "import importlib\n",
    "importlib.reload(grizli.model)"
   ]
  },
  {
   "cell_type": "code",
   "execution_count": null,
   "metadata": {},
   "outputs": [],
   "source": [
    "import grizli.model"
   ]
  },
  {
   "cell_type": "code",
   "execution_count": null,
   "metadata": {},
   "outputs": [],
   "source": [
    "print(all_final_slitless)\n",
    "print(all_ref_files)\n",
    "print(all_seg)\n",
    "#print(all_phot_matched_clean)\n",
    "print(all_phot_matched_clean[-1]['NUMBER','X_IMAGE','Y_IMAGE','MAG_AUTO'])"
   ]
  },
  {
   "cell_type": "code",
   "execution_count": null,
   "metadata": {},
   "outputs": [],
   "source": [
    "print(all_ref_files[3])\n",
    "print(all_seg[-1])\n",
    "print(all_phot_matched_clean[-1])"
   ]
  },
  {
   "cell_type": "code",
   "execution_count": null,
   "metadata": {},
   "outputs": [],
   "source": [
    "import importlib\n",
    "importlib.reload(grizli.grismconf)"
   ]
  },
  {
   "cell_type": "code",
   "execution_count": null,
   "metadata": {},
   "outputs": [],
   "source": [
    "import grizli.grismconf"
   ]
  },
  {
   "cell_type": "code",
   "execution_count": null,
   "metadata": {
    "ExecuteTime": {
     "end_time": "2022-02-23T16:18:58.391200Z",
     "start_time": "2022-02-23T16:13:44.730039Z"
    },
    "scrolled": true
   },
   "outputs": [],
   "source": [
    "###################\n",
    "# Reference image #\n",
    "###################\n",
    "\n",
    "T0 = time.time()\n",
    "\n",
    "os.chdir(os.path.join(HOME_PATH, root, 'Prep'))\n",
    "\n",
    "# allow simulation of objects at the edges\n",
    "pad=200 # pixels\n",
    "#pad = 800 # I think this may be optimal given the spectra size (only seems to add 10-20 spectra)\n",
    "\n",
    "mag_limit = 30 \n",
    "\n",
    "all_euclid = []\n",
    "\n",
    "#for i in range(len(all_final_slitless)):\n",
    "for i in range(len(all_final_slitless)):\n",
    "#for i in [0]:\n",
    "\n",
    "    \n",
    "    t0 = time.time()\n",
    "\n",
    "    Euclid = grizli.model.GrismFLT(grism_file=all_final_slitless[i], verbose=True, pad=pad,  \n",
    "                                   ref_file=all_ref_files[3], ref_ext=1, # NISP_H\n",
    "                                   seg_file=all_seg[-1], # total\n",
    "                                   #shrink_segimage=False)\n",
    "                                   shrink_segimage=True)\n",
    "\n",
    "    Euclid_cat = Euclid.blot_catalog(all_phot_matched_clean[-1], sextractor=True) \n",
    "    #Euclid_cat = Euclid.blot_catalog(all_phot[i], sextractor=True) \n",
    "    Euclid.catalog = Euclid_cat\n",
    "\n",
    "    mask = Euclid_cat['MAG_AUTO'] < mag_limit\n",
    "    print('N=%d' %(mask.sum()))\n",
    "    #Euclid.compute_full_model(verbose=True)\n",
    "    #Euclid.compute_full_model(compute_beams=['A'], mask=mask, verbose=False)\n",
    "    Euclid.compute_full_model(ids=Euclid_cat['NUMBER'][mask], mags=Euclid_cat['MAG_AUTO'][mask], verbose=True)\n",
    "    #Euclid.compute_full_model(ids=Euclid_cat['NUMBER'][mask], mags=Euclid_cat['MAG_AUTO'][mask], verbose=True)\n",
    "\n",
    "    all_euclid.append(Euclid)\n",
    "    \n",
    "    t1 = time.time()\n",
    "    \n",
    "    print(\"Detector finished in %.1f seconds\" % (t1-t0))\n",
    "    \n",
    "    \n",
    "T1 = time.time()\n",
    "\n",
    "print()\n",
    "print(\"Finished in %.1f seconds\" % (T1-T0))"
   ]
  },
  {
   "cell_type": "code",
   "execution_count": null,
   "metadata": {},
   "outputs": [],
   "source": [
    "import importlib\n",
    "importlib.reload(grizli.model)"
   ]
  },
  {
   "cell_type": "code",
   "execution_count": null,
   "metadata": {},
   "outputs": [],
   "source": [
    "import grizli.model"
   ]
  },
  {
   "cell_type": "code",
   "execution_count": null,
   "metadata": {},
   "outputs": [],
   "source": [
    "print(all_euclid)"
   ]
  },
  {
   "cell_type": "code",
   "execution_count": null,
   "metadata": {},
   "outputs": [],
   "source": [
    "t0 = time.time()\n",
    "\n",
    "print(all_euclid)\n",
    "\n",
    "import pickle\n",
    "\n",
    "# ~ 5GB file\n",
    "with open('Euclid_GrismFLT.pickle', 'wb') as f:\n",
    "    # Pickle the 'data' dictionary using the highest protocol available.\n",
    "    pickle.dump(all_euclid, f, pickle.HIGHEST_PROTOCOL)\n",
    "    \n",
    "t1 = time.time()\n",
    "\n",
    "print()\n",
    "print(\"Finished in %.1f seconds\" % (t1-t0))"
   ]
  },
  {
   "cell_type": "code",
   "execution_count": null,
   "metadata": {
    "ExecuteTime": {
     "end_time": "2022-02-16T18:46:11.236775Z",
     "start_time": "2022-02-16T18:46:06.421524Z"
    }
   },
   "outputs": [],
   "source": [
    "t0 = time.time()\n",
    "\n",
    "import pickle\n",
    "\n",
    "with open('Euclid_GrismFLT.pickle', 'rb') as f:\n",
    "    # The protocol version used is detected automatically, so we do not\n",
    "    # have to specify it.\n",
    "    all_euclid = pickle.load(f)\n",
    "    \n",
    "t1 = time.time()\n",
    "\n",
    "print()\n",
    "print(\"Finished in %.1f seconds\" % (t1-t0))"
   ]
  },
  {
   "cell_type": "code",
   "execution_count": null,
   "metadata": {
    "ExecuteTime": {
     "end_time": "2022-02-16T18:46:14.367006Z",
     "start_time": "2022-02-16T18:46:14.312648Z"
    }
   },
   "outputs": [],
   "source": [
    "print(all_euclid)\n",
    "print(type(all_euclid))\n",
    "print(len(all_euclid))\n",
    "#print(all_euclid[0].__dict__)"
   ]
  },
  {
   "cell_type": "markdown",
   "metadata": {},
   "source": [
    "## Check simulation\n",
    "[top](#Table-of-Contents)\n",
    "\n",
    "Possible problem with the aXeSIM conf file.  This function checks if the OrderDict exists within GrismFLT class."
   ]
  },
  {
   "cell_type": "code",
   "execution_count": null,
   "metadata": {
    "ExecuteTime": {
     "end_time": "2022-02-16T18:46:21.433377Z",
     "start_time": "2022-02-16T18:46:21.430867Z"
    }
   },
   "outputs": [],
   "source": [
    "mag_limit = 30"
   ]
  },
  {
   "cell_type": "code",
   "execution_count": null,
   "metadata": {
    "ExecuteTime": {
     "end_time": "2022-02-16T18:46:22.318444Z",
     "start_time": "2022-02-16T18:46:22.300311Z"
    }
   },
   "outputs": [],
   "source": [
    "all_euclid_srcs = []\n",
    "\n",
    "for i,euclid in enumerate(all_euclid):\n",
    "    #Euclid_all,Euclid_magcut,Euclid_extract = check_sims(euclid, mag_limit)\n",
    "    #print(euclid.catalog[\"MAG_AUTO\"])\n",
    "    #print(euclid.object_dispersers)\n",
    "    #print(len(euclid.object_dispersers))\n",
    "    #print(euclid.object_dispersers[93])\n",
    "    #############################################\n",
    "    # These are the actual Source Extractor IDs #\n",
    "    #############################################\n",
    "    #for id in euclid.object_dispersers:\n",
    "        #print(id)\n",
    "        #print(id, euclid.object_dispersers[id])\n",
    "        #print(len(euclid.object_dispersers[id]))\n",
    "    #print([(j,id) for j,id in enumerate(euclid.object_dispersers)])\n",
    "    #sim.object_dispersers.index(id)\n",
    "    #print(all_det[i])\n",
    "    all_euclid_srcs.append(check_sims2(euclid, mag_limit))\n"
   ]
  },
  {
   "cell_type": "code",
   "execution_count": null,
   "metadata": {},
   "outputs": [],
   "source": [
    "print(all_euclid_srcs)"
   ]
  },
  {
   "cell_type": "code",
   "execution_count": null,
   "metadata": {
    "ExecuteTime": {
     "end_time": "2022-02-10T23:48:44.979965Z",
     "start_time": "2022-02-10T23:48:44.958256Z"
    }
   },
   "outputs": [],
   "source": [
    "# Euclid_extract\n",
    "det11 = all_euclid_srcs[0][2]\n",
    "\n",
    "fig = plt.figure(figsize=(4,4))\n",
    "ax1 = fig.add_subplot(111)\n",
    "ax1.hist(det11[\"MAG_AUTO\"],bins=15)\n",
    "plt.show()\n",
    "\n",
    "filt = det11[\"MAG_AUTO\"] < 17.0\n",
    "print(det11[\"NUMBER\",\"ra\",\"dec\",\"MAG_AUTO\"][filt])"
   ]
  },
  {
   "cell_type": "code",
   "execution_count": null,
   "metadata": {},
   "outputs": [],
   "source": [
    "r0,d0 = 228.68820022, 6.3239380205 # mag=16.7511"
   ]
  },
  {
   "cell_type": "markdown",
   "metadata": {},
   "source": [
    "## Extract a single 2D spectrum \n",
    "Science, model and contamination based on RA and Dec\n",
    "\n",
    "[top](#Table-of-Contents)"
   ]
  },
  {
   "cell_type": "code",
   "execution_count": null,
   "metadata": {
    "ExecuteTime": {
     "end_time": "2022-02-03T01:43:19.718581Z",
     "start_time": "2022-02-03T01:43:19.439770Z"
    },
    "scrolled": true
   },
   "outputs": [],
   "source": [
    "det_ind = 0 # DET11\n",
    "Euclid = all_euclid[det_ind]\n",
    "phot = all_phot[det_ind]\n",
    "\n",
    "## Find the object ID near coordinates (r0,d0), \n",
    "## SExtractor IDs might not be constant across platforms\n",
    "\n",
    "dr = np.sqrt((phot['X_WORLD']-r0)**2*np.cos(d0/180*np.pi)**2 + \n",
    "             (phot['Y_WORLD']-d0)**2)*3600.\n",
    "id = phot['NUMBER'][np.argmin(dr)]\n",
    "obj_mag = phot['MAG_AUTO'][np.argmin(dr)]\n",
    "print('ID:%d, mag=%.2f, dr=%.2f\"' %(id, obj_mag, np.min(dr)))\n",
    "\n",
    "beams = OrderedDict()\n",
    "\n",
    "ix = Euclid.catalog['id'] == id\n",
    "x0, y0 = Euclid.catalog['x_flt'][ix][0], Euclid.catalog['y_flt'][ix][0]\n",
    "print(Euclid.direct.instrument, x0, y0)\n",
    "#print(Roman.wcs.pscale)\n",
    "#dim = 18*0.135/sim.flt_wcs.pscale \n",
    "#beam = grizli.model.BeamCutout(id=id, x=x0, y=y0, \n",
    "#                               cutout_dimensions=np.cast[int]((dim, dim)), \n",
    "#                               conf=sim.conf, GrismFLT=sim)\n",
    "\n",
    "print(Euclid.object_dispersers[id])\n",
    "\n",
    "is_cgs, spectrum_1d, b = Euclid.object_dispersers[id]\n",
    "#print(b)\n",
    "\n",
    "cutout = grizli.model.BeamCutout(Euclid, b['A'], min_sens=0,) # min_mask=0) \n",
    "\n",
    "cutout.beam.compute_model()  \n",
    "cutout.contam = cutout.beam.cutout_from_full_image(Euclid.model)\n",
    "if id in Euclid.object_dispersers:\n",
    "    cutout.contam -= cutout.beam.model\n",
    "\n",
    "print(dir(cutout.beam))\n",
    "#print(cutout.contam)\n",
    "#print(cutout.beam.model)\n",
    "#print(dir(cutout.beam))\n",
    "print(cutout.beam.seg)\n",
    "print(cutout.beam.seg.shape)\n",
    "\n",
    "img = cutout.grism.data['SCI']*1\n",
    "X = img.flatten()\n",
    "std = np.std(X)\n",
    "med = np.median(X)\n",
    "\n",
    "sig = 1.\n",
    "vmin = med-sig*std\n",
    "vmax = med+sig*std\n",
    "\n",
    "fig = plt.figure()\n",
    "p1 = fig.add_subplot(111)\n",
    "p1.imshow(cutout.grism.data['SCI']*1, origin='lower',cmap='gray_r',vmin=vmin,vmax=vmax)\n",
    "p1.set_xlabel(\"X [pixels]\")\n",
    "p1.set_ylabel(\"Y [pixels]\")\n",
    "\n",
    "#p1.imshow(cutout.grism.data['ERR']*1)#,vmin=-0.1,vmax=0.1, origin='lower',cmap='gray_r')\n",
    "    \n",
    "beams[Euclid.grism.instrument] = cutout\n",
    "\n",
    "cutout.write_fits() # still learning about the output"
   ]
  },
  {
   "cell_type": "markdown",
   "metadata": {},
   "source": [
    "## 1D Spectral Extraction\n",
    "[top](#Table-of-Contents)"
   ]
  },
  {
   "cell_type": "code",
   "execution_count": null,
   "metadata": {},
   "outputs": [],
   "source": [
    "print(beams.keys())\n",
    "key = \"NISP-GLWv1\"\n",
    "print(beams[key].grism.data.keys())"
   ]
  },
  {
   "cell_type": "code",
   "execution_count": null,
   "metadata": {
    "scrolled": true
   },
   "outputs": [],
   "source": [
    "from scipy import integrate\n",
    "\n",
    "### Plot 1D spectra\n",
    "\n",
    "fig = plt.figure(figsize=(6,4))\n",
    "p1 = fig.add_subplot(111)\n",
    "key = \"NISP-GLWv1\"\n",
    "w, f, e = beams[key].beam.optimal_extract(beams[key].grism.data['SCI'], bin=0)\n",
    "#w, f, e = beams[key].beam.optimal_extract(beams[key].grism.data['SCI'], \n",
    "#                                          ivar=1./(beams[key].grism.data['ERR'])**2,bin=0)\n",
    "\n",
    "#sf = f/np.nanmax(f)\n",
    "sf = f\n",
    "std = np.nanstd(sf)\n",
    "med = np.nanmedian(sf)\n",
    "\n",
    "sig = 2.\n",
    "y0 = med-sig*std\n",
    "y1 = med+sig*std\n",
    "\n",
    "p1.text(0.05,0.9,\"ID = %i\" % (id),transform=p1.transAxes)\n",
    "p1.plot(w/1.e4, sf, c=\"k\") # linestyle='steps-mid')\n",
    "\n",
    "#p1.plot(w/1.e4, e, c=\"r\") # linestyle='steps-mid')\n",
    "p1.set_ylabel(\"Flux [Arbitrary]\")\n",
    "p1.set_xlabel(\"Wavelength [um]\")\n",
    "\n",
    "p1.set_ylim(y0,y1)"
   ]
  },
  {
   "cell_type": "code",
   "execution_count": null,
   "metadata": {
    "ExecuteTime": {
     "end_time": "2022-02-03T01:43:42.195081Z",
     "start_time": "2022-02-03T01:43:42.189538Z"
    }
   },
   "outputs": [],
   "source": [
    "def ab2flux(mab,eff_wav):\n",
    "    c = 2.9979E10 # cm/s\n",
    "    Ang = 1E-8    # cm\n",
    "    Jy = 1E-23    # erg/s/cm^2/Hz\n",
    "    \n",
    "    # mab = -2.5*np.log10(fnu) - 48.6 \n",
    "    fnu = 10**(-0.4*(mab + 48.6))          # erg/s/cm^2/Hz\n",
    "    flambda = fnu*(c/(eff_wav*Ang)**2)*Ang # erg/s/cm^2/Ang\n",
    "   \n",
    "    #print(\"%.2f AB\" % (mab))\n",
    "    #print(\"%.2e erg/s/cm^2/Hz\" % (fnu))\n",
    "    #print(\"%.2e Jy\" % (fnu/Jy))\n",
    "    #print(\"%.4f uJy\" % (fnu/(1e-6*Jy)))\n",
    "    #print(\"%.1f nJy\" % (fnu/(1e-9*Jy)))\n",
    "    #print()\n",
    "    #print(\"%.2e erg/s/cm^2/Ang\" % (flambda))\n",
    "    #print()\n",
    "    \n",
    "    return flambda"
   ]
  },
  {
   "cell_type": "code",
   "execution_count": null,
   "metadata": {},
   "outputs": [],
   "source": [
    "print(os.environ['GRIZLI'])"
   ]
  },
  {
   "cell_type": "code",
   "execution_count": null,
   "metadata": {},
   "outputs": [],
   "source": [
    "######################\n",
    "#HOME_PATH = \"/Users/gwalth/data/Roman/grizli/\"\n",
    "GRIZLI_PATH = os.environ['GRIZLI']\n",
    "sens_file = GRIZLI_PATH + '/CONF/Euclid/CONF11/SENS_A.fits'\n",
    "sens_tbl = Table.read(sens_file)\n",
    "print(sens_tbl.colnames)\n",
    "\n",
    "from scipy import interpolate\n",
    "\n",
    "R = interpolate.interp1d(sens_tbl['WAVELENGTH'],sens_tbl['SENSITIVITY'])\n",
    "w0,w1 = sens_tbl['WAVELENGTH'][0],sens_tbl['WAVELENGTH'][-1]\n",
    "\n",
    "w, f, e = beams[key].beam.optimal_extract(beams[key].grism.data['SCI'], bin=0)\n",
    "#w, f, e = beams[key].beam.optimal_extract(beams[key].grism.data['SCI'], \n",
    "#                                          ivar=1./(beams[key].grism.data['ERR'])**2,bin=0)\n",
    "\n",
    "i0 = np.argmin(np.abs(w-w0))\n",
    "i1 = np.argmin(np.abs(w-w1))\n",
    "\n",
    "w = w[i0:i1]\n",
    "f = f[i0:i1]\n",
    "e = e[i0:i1]\n",
    "    \n",
    "response = [R(w_el) for w_el in w]\n",
    "    \n",
    "flux2 = f/response\n",
    "noise2 = e/response\n",
    "\n",
    "fig = plt.figure()\n",
    "p1 = fig.add_subplot(111)\n",
    "# plot spectrum\n",
    "p1.plot(w/10., flux2, c=\"orange\", label=\"extracted spectra\") # linestyle='steps-mid')\n",
    "# factor of 10 off, could be WAV_AB being wrong (i.e. 1600 instead of 160)\n",
    "\n",
    "p1.set_xlim(1190,1910.0)\n",
    "p1.set_ylim(1e-15,1e-13)\n",
    "p1.set_yscale(\"log\")\n",
    "p1.set_xlabel(\"Wavelength [nm]\")\n",
    "#p1.set_ylabel(\"e-/s per erg/s/cm$^2$/Ang\") # according to axe_manual\n",
    "\n",
    "p1.legend(loc=1)\n",
    "plt.show()"
   ]
  },
  {
   "cell_type": "code",
   "execution_count": null,
   "metadata": {},
   "outputs": [],
   "source": [
    "from scipy import integrate\n",
    "\n",
    "### Plot 1D spectra\n",
    "\n",
    "fig = plt.figure(figsize=(6,4))\n",
    "p1 = fig.add_subplot(111)\n",
    "key = \"NISP-GLWv1\"\n",
    "w, f, e = beams[key].beam.optimal_extract(beams[key].grism.data['SCI'], bin=0)\n",
    "#w, f, e = beams[key].beam.optimal_extract(beams[key].grism.data['SCI'], \n",
    "#                                          ivar=1./(beams[key].grism.data['ERR'])**2,bin=0)\n",
    "\n",
    "#sf = f/np.nanmax(f)\n",
    "sf = f\n",
    "std = np.nanstd(sf)\n",
    "med = np.nanmedian(sf)\n",
    "\n",
    "sig = 2.\n",
    "y0 = med-sig*std\n",
    "y1 = med+sig*std\n",
    "\n",
    "p1.text(0.05,0.9,\"ID = %i\" % (id),transform=p1.transAxes)\n",
    "p1.plot(w/1.e4, sf, c=\"k\") # linestyle='steps-mid')\n",
    "\n",
    "#p1.plot(w/1.e4, e, c=\"r\") # linestyle='steps-mid')\n",
    "p1.set_ylabel(\"Flux [Arbitrary]\")\n",
    "p1.set_xlabel(\"Wavelength [um]\")\n",
    "\n",
    "p1.set_ylim(y0,y1)"
   ]
  },
  {
   "cell_type": "code",
   "execution_count": null,
   "metadata": {},
   "outputs": [],
   "source": []
  },
  {
   "cell_type": "code",
   "execution_count": null,
   "metadata": {},
   "outputs": [],
   "source": []
  },
  {
   "cell_type": "markdown",
   "metadata": {},
   "source": [
    "## Loop over all objects and fit their redshifts\n",
    "[top](#Table-of-Contents)"
   ]
  },
  {
   "cell_type": "code",
   "execution_count": null,
   "metadata": {
    "ExecuteTime": {
     "end_time": "2022-02-16T18:46:42.519362Z",
     "start_time": "2022-02-16T18:46:42.516464Z"
    }
   },
   "outputs": [],
   "source": [
    "os.chdir(os.path.join(HOME_PATH, root, 'Extractions'))"
   ]
  },
  {
   "cell_type": "code",
   "execution_count": null,
   "metadata": {},
   "outputs": [],
   "source": [
    "total_Nl = 0\n",
    "\n",
    "all_Nl = []\n",
    "for i,euclid_srcs in enumerate(all_euclid_srcs):\n",
    "    euclid_all,euclid_magcut,euclid_extract = euclid_srcs\n",
    "    Nl = [id for id in euclid_extract['NUMBER']]\n",
    "    print(all_det[i],\"number_of_sources =\",len(Nl))\n",
    "    all_Nl.append(Nl)\n",
    "    \n",
    "    total_Nl += len(Nl)\n",
    "\n",
    "print()\n",
    "print(\"Total sources for all detectors =\",  total_Nl)\n",
    "print(all_Nl)"
   ]
  },
  {
   "cell_type": "code",
   "execution_count": null,
   "metadata": {
    "ExecuteTime": {
     "end_time": "2021-07-26T02:06:43.170156Z",
     "start_time": "2021-07-26T02:06:43.139899Z"
    },
    "scrolled": true
   },
   "outputs": [],
   "source": [
    "import importlib\n",
    "importlib.reload(grizli.fitting)"
   ]
  },
  {
   "cell_type": "code",
   "execution_count": null,
   "metadata": {
    "ExecuteTime": {
     "end_time": "2021-07-26T04:44:46.415038Z",
     "start_time": "2021-07-26T04:44:46.320478Z"
    }
   },
   "outputs": [],
   "source": [
    "import importlib\n",
    "importlib.reload(grizli.multifit)"
   ]
  },
  {
   "cell_type": "code",
   "execution_count": null,
   "metadata": {},
   "outputs": [],
   "source": [
    "# subset\n",
    "all_Nl = [all_Nl[0]]"
   ]
  },
  {
   "cell_type": "code",
   "execution_count": null,
   "metadata": {
    "ExecuteTime": {
     "end_time": "2022-02-03T07:03:00.486269Z",
     "start_time": "2022-02-03T02:42:16.656623Z"
    }
   },
   "outputs": [],
   "source": [
    "T0 = time.time()\n",
    "\n",
    "os.chdir(os.path.join(HOME_PATH, root, 'Extractions'))\n",
    "\n",
    "#fwhm = 395 # km/s\n",
    "fwhm = 400 # km/s\n",
    "\n",
    "#t0 = utils.load_templates(fwhm=fwhm, line_complexes=True, fsps_templates=True) # redshift fits, fixed line ratios\n",
    "#t1 = utils.load_templates(fwhm=fwhm, line_complexes=False, fsps_templates=True) # final fits\n",
    "\n",
    "# Fitting templates\n",
    "\n",
    "# First is set with combined emission line complexes for the redshift fit \n",
    "# (don't allow infinite freedom) of the line ratios / fluxes\n",
    "temp0 = grizli.utils.load_templates(fwhm=fwhm, line_complexes=True, stars=False, \n",
    "                                     full_line_list=None,  continuum_list=None, \n",
    "                                     fsps_templates=True)\n",
    "\n",
    "# Second set has individual line templates for fitting the line fluxes\n",
    "temp1 = grizli.utils.load_templates(fwhm=fwhm, line_complexes=False, stars=False, \n",
    "                                     full_line_list=None, continuum_list=None, \n",
    "                                     fsps_templates=True)\n",
    "\n",
    "#print(temp0)\n",
    "#print(len(temp0))\n",
    "#print(temp1)\n",
    "#print(len(temp1))\n",
    "\n",
    "for i,Nl in enumerate(all_Nl):\n",
    "    \n",
    "    print(\"Fitting redshifts for %s\" % (all_det[i]))\n",
    "    euclid = all_euclid[i]\n",
    "    \n",
    "    group_name = root + \"_\" + all_det[i]\n",
    "    \n",
    "    t0 = time.time()\n",
    "    \n",
    "    if not os.path.exists(all_det[i]):\n",
    "        os.mkdir(all_det[i])    \n",
    "    os.chdir(all_det[i])\n",
    "\n",
    "    for j,id in enumerate(Nl):\n",
    "\n",
    "        print(\"id =\",id)\n",
    "        print(\"%i of %i\" % (j+1,len(Nl)))\n",
    "    \n",
    "        #beams = OrderedDict()\n",
    "\n",
    "        is_cgs, spectrum_1d, b = euclid.object_dispersers[id]\n",
    "        cutout = grizli.model.BeamCutout(euclid, b['A'], min_sens=0,) # min_mask=0) \n",
    "\n",
    "        cutout.beam.compute_model()  \n",
    "        cutout.contam = cutout.beam.cutout_from_full_image(euclid.model)\n",
    "        if id in euclid.object_dispersers:\n",
    "            cutout.contam -= cutout.beam.model\n",
    "\n",
    "        hdu = cutout.write_fits(get_hdu=True)\n",
    "        ext = 0\n",
    "        hdu[ext].header['EXPTIME'] = hdu['SCI'].header['EXPTIME']\n",
    "\n",
    "        beam = 'beam_%05d.grism.A.fits' % (id)\n",
    "        hdu.writeto(beam,overwrite=True)\n",
    "\n",
    "        mb = multifit.MultiBeam([beam], fcontam=0.2, group_name=group_name, psf=False, min_sens=0.05)\n",
    "        mb.write_master_fits()\n",
    "    \n",
    "        # kludge\n",
    "        os.remove(beam)\n",
    "        ###########################\n",
    "        \n",
    "        fitting.run_all(id, temp0, temp1, fit_only_beams=True, fwhm=fwhm, zr=[0.05, 3.0], \n",
    "                        dz=[0.004, 0.0002], fitter=['nnls', 'bounded'], group_name=group_name)\n",
    "    \n",
    "\n",
    "    os.chdir(\"..\")\n",
    "    \n",
    "    t1 = time.time()\n",
    "    print()\n",
    "    print(\"Finished %s in %.1f seconds\" % (all_det[i],t1-t0))\n",
    "    print()\n",
    "    \n",
    "    \n",
    "T1 = time.time()\n",
    "\n",
    "print()\n",
    "print(\"Finished in %.1f seconds\" % (T1-T0))"
   ]
  },
  {
   "cell_type": "code",
   "execution_count": null,
   "metadata": {},
   "outputs": [],
   "source": [
    "print(os.getcwd())"
   ]
  },
  {
   "cell_type": "code",
   "execution_count": null,
   "metadata": {},
   "outputs": [],
   "source": [
    "os.chdir(os.path.join(HOME_PATH, root, 'Extractions'))"
   ]
  },
  {
   "cell_type": "code",
   "execution_count": null,
   "metadata": {},
   "outputs": [],
   "source": [
    "#id = 29\n",
    "#det = 11\n",
    "\n",
    "full = \"DET%i/%s_DET%i_%05d.full.fits\" % (det,root,det,id)\n",
    "row = \"DET%i/%s_DET%i_%05d.row.fits\" % (det,root,det,id)\n",
    "oned = \"DET%i/%s_DET%i_%05d.1D.fits\" % (det,root,det,id)\n",
    "\n",
    "\n",
    "hdu = pyfits.open(full)\n",
    "hdu.info()\n",
    "head = hdu[0].header\n",
    "ra = head[\"RA\"]\n",
    "dec = head[\"DEC\"]\n",
    "print(ra,dec)\n",
    "\n",
    "hdu = pyfits.open(row)\n",
    "hdu.info()\n",
    "#hdu[0].header\n",
    "\n",
    "hdu = pyfits.open(oned)\n",
    "hdu.info()\n",
    "hdu[0].header"
   ]
  },
  {
   "cell_type": "code",
   "execution_count": null,
   "metadata": {},
   "outputs": [],
   "source": [
    "prefix = '{0}_DET{1}_{2:05d}'.format(root,det,id)\n",
    "#display_grizli(prefix, path=\"DET%i\" % (det), dispersers=[\"RED\"], \n",
    "#               w0=1.18, w1=1.92)\n",
    "display_grizli(prefix, path=\"DET%i\" % (det), dispersers=[\"RED\"], \n",
    "               w0=1.18, w1=1.92, ) #norm=1e-19)\n"
   ]
  },
  {
   "cell_type": "code",
   "execution_count": null,
   "metadata": {},
   "outputs": [],
   "source": [
    "#print(primer)\n",
    "print(primer.colnames)\n",
    "#print([col for col in primer.colnames if \"TU_\" in col])\n",
    "#bands = [col for col in primer.colnames if \"_MAG\" in col]\n",
    "bands = [col for col in primer.colnames if \"TU_\" in col]\n",
    "\n",
    "\n",
    "Euclid_bands = ['TU_FNU_VIS_MAG', 'TU_FNU_Y_NISP_MAG', 'TU_FNU_J_NISP_MAG', 'TU_FNU_H_NISP_MAG']\n",
    "print(ra,dec)\n",
    "\n",
    "dr = np.sqrt((primer['RA']-ra)**2*np.cos(dec/180*np.pi)**2 + \n",
    "             (primer['DEC']-dec)**2)*3600.\n",
    "\n",
    "ind = np.argmin(dr)\n",
    "source_id = primer['SOURCE_ID'][ind]\n",
    "obj_mag = primer['TU_FNU_H_NISP_MAG'][ind]\n",
    "print('SOURCE_ID:%d, H_mag=%.2f, dr=%.2f\"' % (source_id, obj_mag, np.min(dr)))\n",
    "print(primer['Z_OBS'][ind])\n",
    "fnu = primer['TU_FNU_VIS_MAG', 'TU_FNU_Y_NISP_MAG', 'TU_FNU_J_NISP_MAG', 'TU_FNU_H_NISP_MAG'][ind]\n",
    "\n",
    "fnu = np.array(list(fnu))\n",
    "#print(dir(fnu))\n",
    "#print(primer[bands][ind])\n",
    "print(fnu)\n",
    "\n",
    "Jy = 1e-23 # erg/s/cm^2/Hz\n",
    "\n",
    "m = -2.5*np.log10(fnu*Jy)-48.60\n",
    "print(m)\n",
    "\n",
    "primer_small = primer['SOURCE_ID','RA','DEC','TU_FNU_VIS_MAG', 'TU_FNU_Y_NISP_MAG', 'TU_FNU_J_NISP_MAG', \n",
    "                      'TU_FNU_H_NISP_MAG']\n",
    "\n",
    "tbl = Table(rows=primer_small[ind])\n",
    "#print(tbl.colnames)\n",
    "print(tbl)\n",
    "print()\n",
    "\n",
    "# rename columns\n",
    "tbl.rename_column(\"SOURCE_ID\",\"id\")   \n",
    "tbl.rename_column(\"RA\",\"ra\")   \n",
    "tbl.rename_column(\"DEC\",\"dec\")   \n",
    "\n",
    "for col in tbl.colnames:\n",
    "    if \"TU_FNU_\" in col:\n",
    "        print(col)\n",
    "        new_col = col.replace(\"TU_FNU_\",\"\").replace(\"_MAG\",\"_FLUX\")\n",
    "        print(new_col)\n",
    "        tbl.rename_column(col,new_col)    \n",
    "print()\n",
    "    \n",
    "# adjust flux and add errors\n",
    "for col in tbl.colnames:\n",
    "    if \"_FLUX\" in col:\n",
    "        print(col)\n",
    "        tbl[col] /= 1e-6\n",
    "        #row[col]\n",
    "        new_col = col + \"ERR\"\n",
    "        tbl[new_col] = 0.5\n",
    "\n",
    "tbl[\"z_spec\"] = -1.0\n",
    "        \n",
    "#print(tbl)\n",
    "\n",
    "euclid_phot_file = \"Euclid_phot.fits\"\n",
    "tbl.write(euclid_phot_file, overwrite=True)            \n",
    "tbl.show_in_notebook()"
   ]
  },
  {
   "cell_type": "code",
   "execution_count": null,
   "metadata": {},
   "outputs": [],
   "source": [
    "# Requires eazy-py:  https://github.com/gbrammer/eazy-py\n",
    "import eazy\n",
    "print('\\n Eazy-py version: ', eazy.__version__)"
   ]
  },
  {
   "cell_type": "code",
   "execution_count": null,
   "metadata": {},
   "outputs": [],
   "source": [
    "# Preparation for eazy-py\n",
    "eazy.symlink_eazy_inputs()"
   ]
  },
  {
   "cell_type": "code",
   "execution_count": null,
   "metadata": {},
   "outputs": [],
   "source": [
    "### Initialize **eazy.photoz** object\n",
    "\n",
    "params = {}\n",
    "\n",
    "translate_file = 'Euclid_phot.translate'\n",
    "params['CATALOG_FILE'] = 'Euclid_phot.fits'\n",
    "params['MAIN_OUTPUT_FILE'] = 'Euclid_phot.eazypy'\n",
    "params['TEMPLATES_FILE'] = 'templates/fsps_full/tweak_fsps_QSF_12_v3.param'\n",
    "\n",
    "# Galactic extinction\n",
    "params['MW_EBV'] = 0.0\n",
    "params['Z_STEP'] = 0.002\n",
    "params['Z_MAX'] = 3.\n",
    "params['FIX_ZSPEC']='n'\n",
    "#params['PRIOR_FILTER'] = 205\n",
    "\n",
    "ez = eazy.photoz.PhotoZ(param_file=None, translate_file=translate_file, \n",
    "                        zeropoint_file=None, params=params, \n",
    "                        load_prior=True, load_products=False)"
   ]
  },
  {
   "cell_type": "code",
   "execution_count": null,
   "metadata": {},
   "outputs": [],
   "source": [
    "from grizli.pipeline import photoz\n",
    "## Grism fitting arguments created in Grizli-Pipeline\n",
    "#args = np.load('fit_args.npy', allow_pickle=True)[0]\n",
    "\n",
    "## First-pass redshift templates, similar to the eazy templates but \n",
    "## with separate emission lines\n",
    "#t0 = args['t0'] # read earlier\n",
    "\n",
    "#############\n",
    "## Make a helper object for generating photometry in a format that grizli \n",
    "## understands. \n",
    "\n",
    "## Passing the parameters precomputes a function to quickly interpolate\n",
    "## the templates through the broad-band filters.  It's not required, \n",
    "## but makes the fitting much faster.\n",
    "## \n",
    "## `zgrid` defaults to ez.zgrid, be explicit here to show you can \n",
    "## change it. \n",
    "print(ez.zgrid)\n",
    "\n",
    "phot_obj = photoz.EazyPhot(ez, grizli_templates=temp0, zgrid=ez.zgrid) "
   ]
  },
  {
   "cell_type": "code",
   "execution_count": null,
   "metadata": {},
   "outputs": [],
   "source": [
    "ez.fit_parallel(n_proc=4)\n",
    "ez.error_residuals()\n",
    "\n",
    "print('Get physical parameters')\n",
    "ez.standard_output()"
   ]
  },
  {
   "cell_type": "code",
   "execution_count": null,
   "metadata": {},
   "outputs": [],
   "source": [
    "# Show SEDs with best-fit templates and p(z)\n",
    "ez.show_fit(0, id_is_idx=True)"
   ]
  },
  {
   "cell_type": "code",
   "execution_count": null,
   "metadata": {},
   "outputs": [],
   "source": [
    "### Spline templates for dummy grism continuum fits\n",
    "wspline = np.arange(4200, 2.5e4)\n",
    "Rspline = 50\n",
    "df_spl = len(utils.log_zgrid(zr=[wspline[0], wspline[-1]], dz=1./Rspline))\n",
    "tspline = utils.bspline_templates(wspline, df=df_spl+2, log=True, clip=0.0001)"
   ]
  },
  {
   "cell_type": "code",
   "execution_count": null,
   "metadata": {},
   "outputs": [],
   "source": [
    "print(source_id) # primer\n",
    "print(id)        # sims.catalog\n",
    "\n",
    "catalog = all_euclid[0].catalog[\"NUMBER\"]\n",
    "idx = list(catalog).index(id)\n",
    "print(idx)\n",
    "#print(list(catalog[indices]))\n",
    "#print(all_euclid[0].catalog[indices])"
   ]
  },
  {
   "cell_type": "code",
   "execution_count": null,
   "metadata": {},
   "outputs": [],
   "source": [
    "## This isn't necessary for general fitting, but \n",
    "## load the grism spectrum here for demonstrating the grism/photometry scaling\n",
    "group_name = root + \"_DET%i\" % (det)\n",
    "beams_file = \"%s_DET%i_%05d.beams.fits\" % (root,det,id)\n",
    "mb = multifit.MultiBeam(beams_file, fcontam=0.2, group_name=group_name)"
   ]
  },
  {
   "cell_type": "code",
   "execution_count": null,
   "metadata": {},
   "outputs": [],
   "source": [
    "# Generate the `phot` dictionary\n",
    "phot, ii, dd = phot_obj.get_phot_dict(mb.ra, mb.dec)\n",
    "label = \"Euclid Catalog ID: {0}, dr={1:.2f}, zphot={2:.3f}\"\n",
    "print(label.format(ez.cat['id'][ii], dd, ez.zbest[ii]))\n",
    "\n",
    "print('\\n`phot` keys:', list(phot.keys()))\n",
    "for k in phot:\n",
    "    print('\\n'+k+':\\n', phot[k])\n",
    "    \n",
    "# Initialize photometry for the MultiBeam object\n",
    "mb.set_photometry(**phot)"
   ]
  },
  {
   "cell_type": "code",
   "execution_count": null,
   "metadata": {},
   "outputs": [],
   "source": [
    "# parametric template fit to get reasonable background\n",
    "sfit = mb.template_at_z(templates=tspline, fit_background=True, \n",
    "                        include_photometry=False)\n",
    "fig = mb.oned_figure(tfit=sfit)\n",
    "\n",
    "ax = fig.axes[0]\n",
    "ax.errorbar(mb.photom_pivot/1.e4, mb.photom_flam/1.e-19, \n",
    "            mb.photom_eflam/1.e-19, \n",
    "            marker='s', color='k', alpha=0.4, linestyle='None',\n",
    "            label='Euclid photometry')\n",
    "\n",
    "ax.legend(loc='upper left', fontsize=8)\n",
    "\n",
    "ax.set_ylim(0,100)\n",
    "ax.set_xlim(0.6,1.9)\n",
    "\n",
    "print(mb.photom_pivot/1.e4)\n",
    "print(mb.photom_flam/1.e-19)"
   ]
  },
  {
   "cell_type": "code",
   "execution_count": null,
   "metadata": {},
   "outputs": [],
   "source": [
    "## First example:  no rescaling\n",
    "z_phot = ez.zbest[0]\n",
    "\n",
    "# Reset scale parameter\n",
    "if hasattr(mb,'pscale'):\n",
    "    delattr(mb, 'pscale')\n",
    "    \n",
    "#t1 = args['t1']\n",
    "tfit = mb.template_at_z(z=z_phot)\n",
    "print('No rescaling, chi-squared={0:.1f}'.format(tfit['chi2']))\n",
    "fig = fitting.full_sed_plot(mb, tfit, zfit=None, bin=4)"
   ]
  },
  {
   "cell_type": "code",
   "execution_count": null,
   "metadata": {},
   "outputs": [],
   "source": [
    "# Reset scale parameter\n",
    "if hasattr(mb,'pscale'):\n",
    "    delattr(mb, 'pscale')\n",
    "\n",
    "# Template rescaling, simple multiplicative factor\n",
    "scl = mb.scale_to_photometry(order=0)\n",
    "\n",
    "# has funny units of polynomial coefficients times 10**power, \n",
    "# see `grizli.fitting.GroupFitter.compute_scale_array`\n",
    "# Scale value is the inverse, so, e.g., \n",
    "# scl.x = [8.89] means scale the grism spectrum by 10/8.89=1.12\n",
    "print(scl.x) \n",
    "\n",
    "mb.pscale = scl.x \n",
    "\n",
    "# Redo template fit\n",
    "tfit = mb.template_at_z(z=z_phot)\n",
    "print(z_phot)\n",
    "print('Simple scaling, chi-squared={0:.1f}'.format(tfit['chi2']))\n",
    "fig = fitting.full_sed_plot(mb, tfit, zfit=None, bin=4)"
   ]
  },
  {
   "cell_type": "code",
   "execution_count": null,
   "metadata": {},
   "outputs": [],
   "source": [
    "# Reset scale parameter\n",
    "if hasattr(mb,'pscale'):\n",
    "    delattr(mb, 'pscale')\n",
    "    mb.compute_model()\n",
    "\n",
    "# Template rescaling, linear fit\n",
    "scl = mb.scale_to_photometry(order=0)\n",
    "\n",
    "# has funny units of polynomial coefficients times 10**power, \n",
    "# see `grizli.fitting.GroupFitter.compute_scale_array`\n",
    "# Scale value is the inverse, so, e.g., \n",
    "# scl.x = [8.89] means scale the grism spectrum by 10/8.89=1.12\n",
    "print(scl.x) \n",
    "\n",
    "mb.pscale = scl.x \n",
    "\n",
    "# Redo template fit\n",
    "tfit = mb.template_at_z(z=z_phot)\n",
    "print('Simple scaling, chi-squared={0:.1f}'.format(tfit['chi2']))\n",
    "fig = fitting.full_sed_plot(mb, tfit, zfit=None, bin=4)"
   ]
  },
  {
   "cell_type": "code",
   "execution_count": null,
   "metadata": {},
   "outputs": [],
   "source": [
    "if hasattr(mb,'pscale'):\n",
    "    delattr(mb, 'pscale')\n",
    "    mb.compute_model()\n",
    "\n",
    "# Now run the full redshift fit script with the photometry, which will also do the scaling\n",
    "order=0\n",
    "#fitting.run_all_parallel(id, phot=phot, verbose=False, \n",
    "#                         scale_photometry=order+1, zr=[0.05, 3.0])\n",
    "\n",
    "fitting.run_all(id, temp0, temp1, phot=phot, scale_photometry=order+1, fit_only_beams=True, fwhm=fwhm, \n",
    "                zr=[0.05, 3.0], dz=[0.008, 0.0004], fitter=['nnls', 'bounded'], group_name=group_name)\n",
    "\n",
    "#fitting.run_all(id, temp0, temp1, fit_only_beams=True, fwhm=fwhm, zr=[0.05, 3.0], \n",
    "#                        dz=[0.004, 0.0002], fitter=['nnls', 'bounded'], group_name=group_name)\n",
    "    \n"
   ]
  },
  {
   "cell_type": "code",
   "execution_count": null,
   "metadata": {},
   "outputs": [],
   "source": [
    "zfit = pyfits.open('{0}_DET{1}_{2:05d}.full.fits'.format(root, det, id))\n",
    "z_grism = zfit['ZFIT_STACK'].header['Z_MAP']\n",
    "print('Best redshift: {0:.4f}'.format(z_grism))\n",
    "\n",
    "# Compare PDFs\n",
    "pztab = utils.GTable.gread(zfit['ZFIT_STACK'])\n",
    "plt.plot(pztab['zgrid'], pztab['pdf'], label='grism+Euclid')\n",
    "\n",
    "plt.plot(ez.zgrid, np.exp(ez.lnp[0,:]), label='photo-z')\n",
    "\n",
    "plt.semilogy()\n",
    "plt.xlim(z_grism-0.05, z_grism+0.05); plt.ylim(1.e-10, 1000)\n",
    "plt.xlabel(r'$z$'); plt.ylabel(r'$p(z)$')\n",
    "plt.grid()\n",
    "plt.legend()"
   ]
  },
  {
   "cell_type": "code",
   "execution_count": null,
   "metadata": {},
   "outputs": [],
   "source": []
  },
  {
   "cell_type": "code",
   "execution_count": null,
   "metadata": {},
   "outputs": [],
   "source": []
  },
  {
   "cell_type": "code",
   "execution_count": null,
   "metadata": {},
   "outputs": [],
   "source": []
  },
  {
   "cell_type": "code",
   "execution_count": null,
   "metadata": {},
   "outputs": [],
   "source": []
  },
  {
   "cell_type": "markdown",
   "metadata": {},
   "source": [
    "## Extract a single 2D spectrum \n",
    "Science, model and contamination based on RA and Dec\n",
    "\n",
    "[top](#Table-of-Contents)"
   ]
  },
  {
   "cell_type": "code",
   "execution_count": null,
   "metadata": {
    "ExecuteTime": {
     "end_time": "2022-02-03T01:43:19.718581Z",
     "start_time": "2022-02-03T01:43:19.439770Z"
    },
    "scrolled": true
   },
   "outputs": [],
   "source": [
    "det_ind = 0 # DET11\n",
    "Euclid = all_euclid[det_ind]\n",
    "phot = all_phot[det_ind]\n",
    "\n",
    "## Find the object ID near coordinates (r0,d0), \n",
    "## SExtractor IDs might not be constant across platforms\n",
    "\n",
    "#r0,d0 = 228.6882041, 6.2969624 # cont src\n",
    "#r0,d0 = 228.6882147, 6.3239512 #  emission line src\n",
    "#r0,d0 = 228.6881854, 6.3209442\n",
    "#r0,d0 = 228.6882128, 6.3028898 \n",
    "#r0,d0 = 228.6881973, 6.3179116 \n",
    "r0,d0 = 228.6881976, 6.3149738 \n",
    "\n",
    "\n",
    "dr = np.sqrt((phot['X_WORLD']-r0)**2*np.cos(d0/180*np.pi)**2 + \n",
    "             (phot['Y_WORLD']-d0)**2)*3600.\n",
    "id = phot['NUMBER'][np.argmin(dr)]\n",
    "obj_mag = phot['MAG_AUTO'][np.argmin(dr)]\n",
    "print('ID:%d, mag=%.2f, dr=%.2f\"' %(id, obj_mag, np.min(dr)))\n",
    "\n",
    "beams = OrderedDict()\n",
    "\n",
    "ix = Euclid.catalog['id'] == id\n",
    "x0, y0 = Euclid.catalog['x_flt'][ix][0], Euclid.catalog['y_flt'][ix][0]\n",
    "print(Euclid.direct.instrument, x0, y0)\n",
    "#print(Roman.wcs.pscale)\n",
    "#dim = 18*0.135/sim.flt_wcs.pscale \n",
    "#beam = grizli.model.BeamCutout(id=id, x=x0, y=y0, \n",
    "#                               cutout_dimensions=np.cast[int]((dim, dim)), \n",
    "#                               conf=sim.conf, GrismFLT=sim)\n",
    "\n",
    "print(Euclid.object_dispersers[id])\n",
    "\n",
    "is_cgs, spectrum_1d, b = Euclid.object_dispersers[id]\n",
    "#print(b)\n",
    "\n",
    "cutout = grizli.model.BeamCutout(Euclid, b['A'], min_sens=0,) # min_mask=0) \n",
    "\n",
    "cutout.beam.compute_model()  \n",
    "cutout.contam = cutout.beam.cutout_from_full_image(Euclid.model)\n",
    "if id in Euclid.object_dispersers:\n",
    "    cutout.contam -= cutout.beam.model\n",
    "\n",
    "print(dir(cutout.beam))\n",
    "#print(cutout.contam)\n",
    "#print(cutout.beam.model)\n",
    "#print(dir(cutout.beam))\n",
    "print(cutout.beam.seg)\n",
    "print(cutout.beam.seg.shape)\n",
    "\n",
    "img = cutout.grism.data['SCI']*1\n",
    "X = img.flatten()\n",
    "std = np.std(X)\n",
    "med = np.median(X)\n",
    "\n",
    "sig = 1.\n",
    "vmin = med-sig*std\n",
    "vmax = med+sig*std\n",
    "\n",
    "fig = plt.figure()\n",
    "p1 = fig.add_subplot(111)\n",
    "p1.imshow(cutout.grism.data['SCI']*1, origin='lower',cmap='gray_r',vmin=vmin,vmax=vmax)\n",
    "p1.set_xlabel(\"X [pixels]\")\n",
    "p1.set_ylabel(\"Y [pixels]\")\n",
    "\n",
    "#p1.imshow(cutout.grism.data['ERR']*1)#,vmin=-0.1,vmax=0.1, origin='lower',cmap='gray_r')\n",
    "    \n",
    "beams[Euclid.grism.instrument] = cutout\n",
    "\n",
    "cutout.write_fits() # still learning about the output"
   ]
  },
  {
   "cell_type": "markdown",
   "metadata": {},
   "source": [
    "## 1D Spectral Extraction\n",
    "[top](#Table-of-Contents)"
   ]
  },
  {
   "cell_type": "code",
   "execution_count": null,
   "metadata": {},
   "outputs": [],
   "source": [
    "from scipy import integrate\n",
    "\n",
    "### Plot 1D spectra\n",
    "fig = plt.figure(figsize=(10,6))\n",
    "p1 = fig.add_subplot(111)\n",
    "key = \"NISP-GLWv1\"\n",
    "w, f, e = beams[key].beam.optimal_extract(beams[key].grism.data['SCI'], bin=0)\n",
    "#w, f, e = beams[key].beam.optimal_extract(beams[key].grism.data['SCI'], \n",
    "#                                          ivar=1./(beams[key].grism.data['ERR'])**2,bin=0)\n",
    "\n",
    "\n",
    "#sf = f/np.nanmax(f)\n",
    "sf = f\n",
    "std = np.nanstd(sf)\n",
    "med = np.nanmedian(sf)\n",
    "\n",
    "sig = 2.\n",
    "y0 = med-sig*std\n",
    "y1 = med+sig*std\n",
    "\n",
    "p1.text(0.05,0.9,\"ID = %i\" % (id),transform=p1.transAxes)\n",
    "p1.plot(w/1.e4, sf, c=\"k\") # linestyle='steps-mid')\n",
    "\n",
    "#p1.plot(w/1.e4, e, c=\"r\") # linestyle='steps-mid')\n",
    "p1.set_ylabel(\"Flux [Arbitrary]\")\n",
    "p1.set_xlabel(\"Wavelength [um]\")\n",
    "\n",
    "p1.set_ylim(y0,y1)"
   ]
  },
  {
   "cell_type": "markdown",
   "metadata": {},
   "source": [
    "## Display Redshift Fit\n",
    "[top](#Table-of-Contents)"
   ]
  },
  {
   "cell_type": "code",
   "execution_count": null,
   "metadata": {},
   "outputs": [],
   "source": [
    "det_ind = 0\n",
    "os.chdir(os.path.join(HOME_PATH, root, 'Extractions',all_det[det_ind]))\n",
    "group_name = root + \"_\" + all_det[det_ind]"
   ]
  },
  {
   "cell_type": "code",
   "execution_count": null,
   "metadata": {
    "ExecuteTime": {
     "end_time": "2022-02-03T02:09:59.568710Z",
     "start_time": "2022-02-03T02:09:58.343024Z"
    }
   },
   "outputs": [],
   "source": [
    "display_grizli(group_name, id, w0=1.15, w1=1.95, labels=1)"
   ]
  },
  {
   "cell_type": "code",
   "execution_count": null,
   "metadata": {},
   "outputs": [],
   "source": []
  },
  {
   "cell_type": "code",
   "execution_count": null,
   "metadata": {},
   "outputs": [],
   "source": []
  },
  {
   "cell_type": "code",
   "execution_count": null,
   "metadata": {},
   "outputs": [],
   "source": []
  },
  {
   "cell_type": "code",
   "execution_count": null,
   "metadata": {},
   "outputs": [],
   "source": []
  },
  {
   "cell_type": "code",
   "execution_count": null,
   "metadata": {},
   "outputs": [],
   "source": [
    "#########################\n",
    "# copy sextractor files #\n",
    "#########################\n",
    "\n",
    "# cd ~/data/Roman/grizli/my_roman_sims/Prep\n",
    "\n",
    "# rsync -avz Roman.param cygnusc.ipac.caltech.edu:/home/gwalth/data/Roman/grizli/sims/sim_v2/Prep\n",
    "# rsync -avz Roman.sex   cygnusc.ipac.caltech.edu:/home/gwalth/data/Roman/grizli/sims/sim_v2/Prep\n",
    "# rsync -avz default.nnw cygnusc.ipac.caltech.edu:/home/gwalth/data/Roman/grizli/sims/sim_v2/Prep"
   ]
  },
  {
   "cell_type": "code",
   "execution_count": null,
   "metadata": {},
   "outputs": [],
   "source": [
    "##############################\n",
    "# compare branch differences #\n",
    "##############################\n",
    "\n",
    "# git diff roman_sims_v1_gwalth..master -- *.py\n",
    "\n",
    "# cd ~/python/grizli_1.3.2/grizli\n",
    "\n",
    "# rsync -avz grismconf.py cygnusc.ipac.caltech.edu:/home/gwalth/python/src/grizli/grizli\n",
    "# rsync -avz model.py     cygnusc.ipac.caltech.edu:/home/gwalth/python/src/grizli/grizli\n",
    "# rsync -avz multifit.py  cygnusc.ipac.caltech.edu:/home/gwalth/python/src/grizli/grizli\n",
    "# rsync -avz utils.py     cygnusc.ipac.caltech.edu:/home/gwalth/python/src/grizli/grizli\n"
   ]
  },
  {
   "cell_type": "code",
   "execution_count": null,
   "metadata": {},
   "outputs": [],
   "source": [
    "#########################\n",
    "# copy grism conf files #\n",
    "#########################\n",
    "\n",
    "# cd ~/data/Roman/grizli/grizli/CONF\n",
    "\n",
    "# rsync -avz Roman.G150-v?-GLW.conf cygnusc.ipac.caltech.edu:/home/gwalth/data/Roman/grizli/grizli/CONF\n",
    "# rsync -avz sens_0720_2020.fits    cygnusc.ipac.caltech.edu:/home/gwalth/data/Roman/grizli/grizli/CONF"
   ]
  },
  {
   "cell_type": "code",
   "execution_count": null,
   "metadata": {},
   "outputs": [],
   "source": []
  },
  {
   "cell_type": "code",
   "execution_count": null,
   "metadata": {},
   "outputs": [],
   "source": []
  },
  {
   "cell_type": "code",
   "execution_count": null,
   "metadata": {},
   "outputs": [],
   "source": []
  },
  {
   "cell_type": "markdown",
   "metadata": {},
   "source": [
    "# Appendix - Old"
   ]
  },
  {
   "cell_type": "markdown",
   "metadata": {},
   "source": [
    "## aXeSIM predictions based on conf file\n",
    "[top](#Table-of-Contents)"
   ]
  },
  {
   "cell_type": "code",
   "execution_count": null,
   "metadata": {
    "ExecuteTime": {
     "end_time": "2022-01-06T02:14:29.132771Z",
     "start_time": "2022-01-06T02:14:29.130446Z"
    }
   },
   "outputs": [],
   "source": [
    "os.chdir(os.path.join(HOME_PATH, root, 'Prep'))"
   ]
  },
  {
   "cell_type": "code",
   "execution_count": null,
   "metadata": {
    "ExecuteTime": {
     "end_time": "2022-01-06T02:11:19.815793Z",
     "start_time": "2022-01-06T02:11:19.813425Z"
    }
   },
   "outputs": [],
   "source": [
    "from grizli import grismconf"
   ]
  },
  {
   "cell_type": "code",
   "execution_count": null,
   "metadata": {
    "ExecuteTime": {
     "end_time": "2022-01-06T02:11:22.270158Z",
     "start_time": "2022-01-06T02:11:22.235382Z"
    }
   },
   "outputs": [],
   "source": [
    "# This one gives the error\n",
    "import os\n",
    "os.chdir(\"/Users/gwalth/data/Roman/grizli/grizli/CONF\")\n",
    "conf = grismconf.load_grism_config(\"./Euclid.Gred.0.conf\")\n",
    "\n",
    "# This one works!\n",
    "#conf = grismconf.load_grism_config(\"../../../grizli/CONF/Roman.det1.07242020.conf\")\n",
    "#conf = grismconf.load_grism_config(\"../../../grizli/CONF/Roman_bad/Roman.det1.07242020.conf\")\n",
    "\n",
    "dx = conf.dxlam[\"A\"]\n",
    "print(dx)\n",
    "x0,y0 = 1024,1024\n",
    "\n",
    "dy,lam = conf.get_beam_trace(x=x0,y=y0,dx=dx)\n",
    "print(dy)\n",
    "print(lam)"
   ]
  },
  {
   "cell_type": "code",
   "execution_count": null,
   "metadata": {
    "ExecuteTime": {
     "end_time": "2022-01-06T02:11:32.002370Z",
     "start_time": "2022-01-06T02:11:31.453748Z"
    },
    "scrolled": true
   },
   "outputs": [],
   "source": [
    "conf.show_beams()"
   ]
  },
  {
   "cell_type": "code",
   "execution_count": null,
   "metadata": {
    "ExecuteTime": {
     "end_time": "2022-01-06T02:11:22.270158Z",
     "start_time": "2022-01-06T02:11:22.235382Z"
    }
   },
   "outputs": [],
   "source": [
    "# This one gives the error\n",
    "import os\n",
    "os.chdir(\"/Users/gwalth/data/Roman/grizli/grizli/CONF/CONF11\")\n",
    "conf = grismconf.load_grism_config(\"./NISP_RGS000_21.conf\")\n",
    "#conf = grismconf.load_grism_config(\"./NISP_RGS000_21.conf.beamA\")\n",
    "\n",
    "# This one works!\n",
    "#conf = grismconf.load_grism_config(\"../../../grizli/CONF/Roman.det1.07242020.conf\")\n",
    "#conf = grismconf.load_grism_config(\"../../../grizli/CONF/Roman_bad/Roman.det1.07242020.conf\")\n",
    "\n",
    "dx = conf.dxlam[\"A\"]\n",
    "print(dx)\n",
    "x0,y0 = 1024,1024\n",
    "\n",
    "dy,lam = conf.get_beam_trace(x=x0,y=y0,dx=dx)\n",
    "print(dy)\n",
    "print(lam)"
   ]
  },
  {
   "cell_type": "code",
   "execution_count": null,
   "metadata": {
    "ExecuteTime": {
     "end_time": "2022-01-06T02:11:32.002370Z",
     "start_time": "2022-01-06T02:11:31.453748Z"
    }
   },
   "outputs": [],
   "source": [
    "conf.show_beams()"
   ]
  },
  {
   "cell_type": "code",
   "execution_count": null,
   "metadata": {
    "ExecuteTime": {
     "end_time": "2021-06-24T16:47:04.994829Z",
     "start_time": "2021-06-24T16:47:04.991040Z"
    }
   },
   "outputs": [],
   "source": [
    "print(os.getcwd())"
   ]
  },
  {
   "cell_type": "markdown",
   "metadata": {},
   "source": [
    "## Show 2D beam\n",
    "[top](#Table-of-Contents)"
   ]
  },
  {
   "cell_type": "code",
   "execution_count": null,
   "metadata": {
    "ExecuteTime": {
     "end_time": "2022-02-03T01:43:33.991740Z",
     "start_time": "2022-02-03T01:43:33.778431Z"
    }
   },
   "outputs": [],
   "source": [
    "## Spectrum with lines & noise\n",
    "#spectrum_file = os.path.join(os.path.dirname(grizli.__file__), 'data/erb2010.dat')\n",
    "#spectrum_file = '../../../grizli/templates/erb2010.dat'\n",
    "#erb = np.loadtxt(spectrum_file, unpack=True)\n",
    "#z = 2.0 # test redshift\n",
    "\n",
    "## normalize spectrum to unity to use normalization defined in the direct image\n",
    "#import pysynphot as S\n",
    "#spec = S.ArraySpectrum(erb[0], erb[1], fluxunits='flam')\n",
    "#spec = spec.redshift(z).renorm(1., 'flam', S.ObsBandpass('wfc3,ir,f140w'))\n",
    "#spec.convert('flam') # bug in pysynphot, now units being converted automatically above? (11/10/16)\n",
    "\n",
    "fig = plt.figure(figsize=(14,4))\n",
    "for i, key in enumerate(beams.keys()):\n",
    "    #     beams[key].compute_model(beams[key].thumb, id=beams[key].id, \n",
    "    #                              xspec=spec.wave, yspec=spec.flux)\n",
    "    #print(key)\n",
    "    #beams[key].beam.compute_model(spectrum_1d=[spec.wave, spec.flux]) \n",
    "    #beams[key].beam.compute_model()\n",
    "    \n",
    "    gdata = beams[key].grism.data['SCI']*1\n",
    "    gmodel = beams[key].model\n",
    "    gcontam = beams[key].contam\n",
    "    \n",
    "    print(gdata)\n",
    "    print(gmodel)\n",
    "    print(gcontam)\n",
    "    \n",
    "    print(np.min(gdata),np.max(gdata))\n",
    "    print(np.min(gmodel),np.max(gmodel))\n",
    "    print(np.min(gcontam),np.max(gcontam))\n",
    "    \n",
    "    print(gdata.shape)\n",
    "    print(gmodel.shape)\n",
    "    print(gcontam.shape)\n",
    "    \n",
    "    axl = fig.add_subplot(321+i*2)\n",
    "    #axl.imshow(beams[key].model + beams[key].grism.data['SCI']*1, interpolation='Nearest', \n",
    "    #       origin='lower', vmin=-0.006, vmax=0.16, cmap='gray_r', aspect='auto')\n",
    "    \n",
    "    axl.imshow(beams[key].grism.data['SCI']*1, interpolation='Nearest', \n",
    "           origin='lower', vmin=-0.1,vmax=0.1, cmap='gray_r', aspect='auto')\n",
    "    \n",
    "    \n",
    "    axr = fig.add_subplot(321+i*2+1)\n",
    "    #axr.imshow(beams[key].contam + beams[key].grism.data['SCI'] + beams[key].model, \n",
    "    #           interpolation='Nearest', \n",
    "    #           origin='lower', vmin=-1, vmax=2, cmap='gray_r', aspect='auto')\n",
    "\n",
    "    axr.imshow(beams[key].contam , \n",
    "               interpolation='Nearest', \n",
    "               origin='lower', vmin=-0.1,vmax=0.1, cmap='gray_r', aspect='auto')\n",
    "    \n",
    "    #axl.set_title('%s - %s' %(key, beams[key].grism.filter))\n",
    "    #for ax in [axl, axr]:\n",
    "    #    beams[key].beam.twod_axis_labels(wscale=1.e4, mpl_axis=ax)\n",
    "    #    beams[key].beam.twod_xlim(1.3,1.75, wscale=1.e4, mpl_axis=ax)\n",
    "    #    if i < 2:\n",
    "    #        ax.set_xticklabels([])\n",
    "    #    else:\n",
    "    #        ax.set_xlabel(r'$\\lambda$')\n",
    "\n",
    "fig.tight_layout(pad=0.5)"
   ]
  },
  {
   "cell_type": "code",
   "execution_count": null,
   "metadata": {
    "ExecuteTime": {
     "end_time": "2022-02-03T01:43:42.195081Z",
     "start_time": "2022-02-03T01:43:42.189538Z"
    }
   },
   "outputs": [],
   "source": [
    "def ab2flux(mab,eff_wav):\n",
    "    c = 2.9979E10 # cm/s\n",
    "    Ang = 1E-8    # cm\n",
    "    Jy = 1E-23    # erg/s/cm^2/Hz\n",
    "    \n",
    "    # mab = -2.5*np.log10(fnu) - 48.6 \n",
    "    fnu = 10**(-0.4*(mab + 48.6))          # erg/s/cm^2/Hz\n",
    "    flambda = fnu*(c/(eff_wav*Ang)**2)*Ang # erg/s/cm^2/Ang\n",
    "   \n",
    "    #print(\"%.2f AB\" % (mab))\n",
    "    #print(\"%.2e erg/s/cm^2/Hz\" % (fnu))\n",
    "    #print(\"%.2e Jy\" % (fnu/Jy))\n",
    "    #print(\"%.4f uJy\" % (fnu/(1e-6*Jy)))\n",
    "    #print(\"%.1f nJy\" % (fnu/(1e-9*Jy)))\n",
    "    #print()\n",
    "    #print(\"%.2e erg/s/cm^2/Ang\" % (flambda))\n",
    "    #print()\n",
    "    \n",
    "    return flambda"
   ]
  },
  {
   "cell_type": "code",
   "execution_count": null,
   "metadata": {
    "ExecuteTime": {
     "end_time": "2022-02-03T01:43:42.821743Z",
     "start_time": "2022-02-03T01:43:42.807002Z"
    }
   },
   "outputs": [],
   "source": [
    "# determine flux in Ang for the source in the direct image\n",
    "\n",
    "mab = phot[phot['NUMBER']==id]['MAG_AUTO'][0]\n",
    "\n",
    "f_scale = ab2flux(mab,15800.)"
   ]
  },
  {
   "cell_type": "markdown",
   "metadata": {},
   "source": [
    "## Simple SN calculations based on the spcontetc\n",
    "[top](#Table-of-Contents)"
   ]
  },
  {
   "cell_type": "code",
   "execution_count": null,
   "metadata": {
    "ExecuteTime": {
     "end_time": "2022-02-03T01:43:46.511571Z",
     "start_time": "2022-02-03T01:43:46.507713Z"
    }
   },
   "outputs": [],
   "source": [
    "# Per pix S/N=1\n",
    "mag_per_pix_w0 = 21.9       # 1.00 um\n",
    "mag_per_pix_w1 = 21.9       # 1.93 um\n",
    "mag_per_pix_deepest = 22.7  # 1.34 um"
   ]
  },
  {
   "cell_type": "code",
   "execution_count": null,
   "metadata": {
    "ExecuteTime": {
     "end_time": "2022-02-03T01:43:47.266018Z",
     "start_time": "2022-02-03T01:43:47.262276Z"
    }
   },
   "outputs": [],
   "source": [
    "ab2flux(mag_per_pix_w0,10000.)\n",
    "ab2flux(mag_per_pix_deepest,13400.)"
   ]
  },
  {
   "cell_type": "code",
   "execution_count": null,
   "metadata": {
    "ExecuteTime": {
     "end_time": "2022-02-03T01:43:50.512395Z",
     "start_time": "2022-02-03T01:43:50.259715Z"
    }
   },
   "outputs": [],
   "source": [
    "print(os.getcwd())\n",
    "spcontetc_1n = Table.read(\"../etc/spcontetc_1n_0.2.dat\",format=\"ascii\")\n",
    "spcontetc_8n = Table.read(\"../etc/spcontetc_8n_0.2.dat\",format=\"ascii\")\n",
    "#spcontetc_1n = Table.read(\"../etc/spcontetc_1n_0.5.dat\",format=\"ascii\")\n",
    "#spcontetc_8n = Table.read(\"../etc/spcontetc_8n_0.5.dat\",format=\"ascii\")\n",
    "print(spcontetc_1n)\n",
    "\n",
    "#|  um  | arcsec |      |exp per Jy|per pix |per resl|1e4 km/s|\n",
    "fig = plt.figure()\n",
    "p = fig.add_subplot(111)\n",
    "#for n in range(5,8):\n",
    "for n in range(5,7):\n",
    "    #p.plot(spcontetc_1n['col1'],spcontetc_1n['col%i' % (n)]) # AB\n",
    "    #p.plot(spcontetc_8n['col1'],spcontetc_8n['col%i' % (n)]) # AB\n",
    "    \n",
    "    f1 = ab2flux(spcontetc_1n['col%i' % (n)],spcontetc_1n['col1']*1e4)\n",
    "    f8 = ab2flux(spcontetc_8n['col%i' % (n)],spcontetc_8n['col1']*1e4)\n",
    "    \n",
    "    p.plot(spcontetc_1n['col1'],f1)  \n",
    "    #p.plot(spcontetc_8n['col1'],f8) \n",
    "\n",
    "    \n",
    "\n",
    "#p.set_ylim(0e-18,2e-18)\n",
    "p.set_xlabel(r'$\\lambda$ [micron]')\n",
    "p.set_ylabel(r'Flux [erg s$^{-1}$ cm$^{-2}$ Ang$^{-1}$]')\n",
    "#p.set_ylabel(r'Mag [AB]')\n",
    "\n",
    "#p.invert_yaxis()\n",
    "    \n",
    "plt.show()"
   ]
  },
  {
   "cell_type": "markdown",
   "metadata": {},
   "source": [
    "Roughly estimated from spcontetc (>1.4 micron):\n",
    "\n",
    "<span style=\"color:red\">5 sigma limit = 1.75e-18 erg/s/cm^2/Ang</span>\n",
    "\n",
    "<span style=\"color:red\">1 sigma limit = 1.00e-18 erg/s/cm^2/Ang</span>\n"
   ]
  },
  {
   "cell_type": "markdown",
   "metadata": {},
   "source": [
    "## Simple SN calculations based on the pzcaletc\n",
    "[top](#Table-of-Contents)"
   ]
  },
  {
   "cell_type": "code",
   "execution_count": null,
   "metadata": {
    "ExecuteTime": {
     "end_time": "2022-02-03T01:43:55.234577Z",
     "start_time": "2022-02-03T01:43:55.037412Z"
    }
   },
   "outputs": [],
   "source": [
    "print(os.getcwd())\n",
    "pzcaletc_1n = Table.read(\"../etc/pzcaletc_1n.dat\",format=\"ascii\")\n",
    "pzcaletc_8n = Table.read(\"../etc/pzcaletc_8n.dat\",format=\"ascii\")\n",
    "print(pzcaletc_1n)\n",
    "\n",
    "fig = plt.figure()\n",
    "p = fig.add_subplot(111)\n",
    "#for n in range(2,13):\n",
    "for n in range(2,3):\n",
    "    #p.plot(pzcaletc_1n['col1'],pzcaletc_1n['col%i' % (n)]) # W/m^2\n",
    "    p.plot(pzcaletc_1n['col1'],pzcaletc_1n['col%i' % (n)]*1000.) # erg/s/cm^2\n",
    "    p.plot(pzcaletc_8n['col1'],pzcaletc_8n['col%i' % (n)]*1000.) # erg/s/cm^2\n",
    "\n",
    "    \n",
    "#p.legend(fontsize=14)\n",
    "#p.set_xlim(w1-0.05, w2+0.05)\n",
    "#p.set_ylim(-1e-21,3e-20)\n",
    "p.set_xlabel(r'$\\lambda$ [micron]')\n",
    "p.set_ylabel(r'Flux [erg s$^{-1}$ cm$^{-2}$]')\n",
    "    \n",
    "plt.show()"
   ]
  },
  {
   "cell_type": "markdown",
   "metadata": {},
   "source": [
    "## Simple SN calculations based on the apttables2021\n",
    "[top](#Table-of-Contents)"
   ]
  },
  {
   "cell_type": "code",
   "execution_count": null,
   "metadata": {
    "ExecuteTime": {
     "end_time": "2022-02-03T01:43:59.587098Z",
     "start_time": "2022-02-03T01:43:58.942675Z"
    }
   },
   "outputs": [],
   "source": [
    "print(os.getcwd())\n",
    "apt_rad0_0_zod1_2 = Table.read(\"../apttables2021/grism/spec_half-light-rad0.0_zod1.2.dat\",format=\"ascii\",\n",
    "                               names=('AB','1.05','1.20','1.40','1.60','1.80','2.00'))\n",
    "apt_rad0_2_zod1_2 = Table.read(\"../apttables2021/grism/spec_half-light-rad0.2_zod1.2.dat\",format=\"ascii\",\n",
    "                               names=('AB','1.05','1.20','1.40','1.60','1.80','2.00'))\n",
    "apt_rad0_3_zod1_2 = Table.read(\"../apttables2021/grism/spec_half-light-rad0.3_zod1.2.dat\",format=\"ascii\",\n",
    "                               names=('AB','1.05','1.20','1.40','1.60','1.80','2.00'))\n",
    "#print(apt_rad0_0_zod1_2)\n",
    "#print(apt_rad0_2_zod1_2)\n",
    "#print(apt_rad0_3_zod1_2)\n",
    "\n",
    "fig = plt.figure()\n",
    "p = fig.add_subplot(111)\n",
    "\n",
    "wlist = ['1.05','1.20','1.40','1.60','1.80','2.00']\n",
    "\n",
    "#for w in wlist:\n",
    "#    p.plot(apt_rad0_0_zod1_2[w],apt_rad0_0_zod1_2['AB'],label=w) \n",
    "\n",
    "p.scatter(apt_rad0_0_zod1_2['1.20'],apt_rad0_0_zod1_2['AB'],label='half-light radius 0.0')\n",
    "p.scatter(apt_rad0_2_zod1_2['1.20'],apt_rad0_0_zod1_2['AB'],label='half-light radius 0.2')\n",
    "p.scatter(apt_rad0_3_zod1_2['1.20'],apt_rad0_0_zod1_2['AB'],label='half-light radius 0.3')\n",
    "    \n",
    "p.legend(fontsize=14)\n",
    "p.set_xscale(\"log\")\n",
    "\n",
    "#p.set_xlim(0,2000)\n",
    "#p.set_ylim(20,22)\n",
    "    \n",
    "plt.show()"
   ]
  },
  {
   "cell_type": "code",
   "execution_count": null,
   "metadata": {
    "ExecuteTime": {
     "end_time": "2022-02-03T01:44:03.306897Z",
     "start_time": "2022-02-03T01:44:02.565578Z"
    }
   },
   "outputs": [],
   "source": [
    "##############\n",
    "# My crude ETC\n",
    "# based on \n",
    "# https://roman.gsfc.nasa.gov/science/apttables2021/table-grism.html\n",
    "##############\n",
    "\n",
    "# notes:\n",
    "# might need a fit cutoff to t = 1e7 \n",
    "\n",
    "from scipy.optimize import leastsq\n",
    "\n",
    "t = 301.\n",
    "\n",
    "param = [1,0]\n",
    "err = 1.0\n",
    "\n",
    "# y = ax + b\n",
    "line_fn = lambda p,x: p[1]*x+p[0]\n",
    "\n",
    "err_fn = lambda p: (line_fn(p,x) - y)/err\n",
    "\n",
    "wlist = ['1.05','1.20','1.40','1.60','1.80','2.00'] # microns\n",
    "\n",
    "mag_ab_5sig = []\n",
    "\n",
    "fig = plt.figure()\n",
    "p = fig.add_subplot(111)\n",
    "\n",
    "#x = np.log10(apt_rad0_0_zod1_2['1.20'])\n",
    "y = apt_rad0_2_zod1_2['AB']\n",
    "for w in wlist:\n",
    "    print(w)\n",
    "    x = np.log10(apt_rad0_2_zod1_2[w])\n",
    "\n",
    "    sol = leastsq(err_fn,param,full_output=1)\n",
    "    print(sol[0])\n",
    "\n",
    "    mag_ab = line_fn(sol[0],np.log10(t))\n",
    "    print(mag_ab)\n",
    "    mag_ab_5sig.append(mag_ab)\n",
    "    print()\n",
    "\n",
    "    logt = np.arange(2.0,8.6,0.1)\n",
    "    mag = line_fn(sol[0],logt)\n",
    "    \n",
    "\n",
    "    p.plot(10**logt,mag,c=\"k\")\n",
    "    p.scatter(10**x,y,label=w,s=50,alpha=0.7)\n",
    "    \n",
    "p.legend(fontsize=14)\n",
    "p.set_xscale(\"log\")\n",
    "\n",
    "p.set_xlim(400,2.5e8)\n",
    "p.set_ylim(20.8,27.2)\n",
    "\n",
    "p.invert_yaxis()\n",
    "plt.show()"
   ]
  },
  {
   "cell_type": "code",
   "execution_count": null,
   "metadata": {
    "ExecuteTime": {
     "end_time": "2022-02-03T01:44:06.022326Z",
     "start_time": "2022-02-03T01:44:05.734739Z"
    }
   },
   "outputs": [],
   "source": [
    "fig = plt.figure(figsize=(10,4))\n",
    "p1 = fig.add_subplot(121)\n",
    "\n",
    "warr = 1e4*np.array([float(w0) for w0 in wlist]) # Angstroms\n",
    "\n",
    "\n",
    "mag_ab_5sig = np.array(mag_ab_5sig)\n",
    "\n",
    "p1.plot(warr,mag_ab_5sig)\n",
    "p1.set_xlabel(r'$\\lambda$ [Ang]')\n",
    "p1.set_ylabel(r'mag [AB]')\n",
    "p1.invert_yaxis()\n",
    "\n",
    "\n",
    "#p.set_xlim(0,2000)\n",
    "#p.set_ylim(20,22)\n",
    "p2 = fig.add_subplot(122)\n",
    "\n",
    "#flux_5sig = [ab2flux(mag_ab_5sig[i],w0) for i,w0 in enumerate(warr)]\n",
    "flux_5sig = ab2flux(mag_ab_5sig,warr) \n",
    "p2.plot(warr,flux_5sig)\n",
    "\n",
    "p2.set_xlabel(r'$\\lambda$ [Ang]')\n",
    "p2.set_ylabel(r'Flux [erg s$^{-1}$ cm$^{-2}$ Ang$^{-1}$]')\n",
    "    \n",
    "plt.show()"
   ]
  },
  {
   "cell_type": "markdown",
   "metadata": {},
   "source": [
    "Comparison between spcontetc and apttables2021"
   ]
  },
  {
   "cell_type": "code",
   "execution_count": null,
   "metadata": {
    "ExecuteTime": {
     "end_time": "2022-02-03T01:44:09.699806Z",
     "start_time": "2022-02-03T01:44:09.370386Z"
    }
   },
   "outputs": [],
   "source": [
    "print(os.getcwd())\n",
    "spcontetc_1n = Table.read(\"../etc/spcontetc_1n_0.2.dat\",format=\"ascii\")\n",
    "spcontetc_8n = Table.read(\"../etc/spcontetc_8n_0.2.dat\",format=\"ascii\")\n",
    "#spcontetc_1n = Table.read(\"../etc/spcontetc_1n_0.5.dat\",format=\"ascii\")\n",
    "#spcontetc_8n = Table.read(\"../etc/spcontetc_8n_0.5.dat\",format=\"ascii\")\n",
    "print(spcontetc_1n)\n",
    "\n",
    "fig = plt.figure()\n",
    "p = fig.add_subplot(111)\n",
    "#for n in range(5,8):\n",
    "for n in range(5,7):\n",
    "    #p.plot(spcontetc_1n['col1'],spcontetc_1n['col%i' % (n)]) # AB\n",
    "    #p.plot(spcontetc_8n['col1'],spcontetc_8n['col%i' % (n)]) # AB\n",
    "    \n",
    "    f1 = ab2flux(spcontetc_1n['col%i' % (n)],spcontetc_1n['col1']*1e4)\n",
    "    f8 = ab2flux(spcontetc_8n['col%i' % (n)],spcontetc_8n['col1']*1e4)\n",
    "    \n",
    "    p.plot(spcontetc_1n['col1'],f1,label='spcontetc 0.2\"')  \n",
    "    #p.plot(spcontetc_8n['col1'],f8) \n",
    "\n",
    "\n",
    "p.plot(warr/1e4,flux_5sig,label=\"apttables2021\")\n",
    "\n",
    "#p.set_ylim(0e-18,2e-18)\n",
    "p.set_xlabel(r'$\\lambda$ [micron]')\n",
    "p.set_ylabel(r'Flux [erg s$^{-1}$ cm$^{-2}$ Ang$^{-1}$]')\n",
    "#p.set_ylabel(r'Mag [AB]')\n",
    "\n",
    "#p.invert_yaxis()\n",
    "p.legend()\n",
    "    \n",
    "plt.show()"
   ]
  },
  {
   "cell_type": "code",
   "execution_count": null,
   "metadata": {
    "ExecuteTime": {
     "end_time": "2022-02-03T01:44:15.359422Z",
     "start_time": "2022-02-03T01:44:14.526762Z"
    }
   },
   "outputs": [],
   "source": [
    "def poly_n(p, x):\n",
    "    p = np.array(p)\n",
    "    y = np.zeros((x.shape[0],))\n",
    "    for n in np.arange(p.shape[0]):\n",
    "        y += p[n]*x**n\n",
    "    return y\n",
    "\n",
    "def solve_for_y(poly_coeffs, y):\n",
    "    pc = poly_coeffs.copy()\n",
    "    print(pc)\n",
    "    pc[0] -= y\n",
    "    print(pc)\n",
    "    return np.roots(pc)\n",
    "\n",
    "\n",
    "print(os.getcwd())\n",
    "apt_SN_55sec_zod1_2 = Table.read(\"../apttables2021/imaging/ap_phot_2pix_0.22rad_SN_55sec_zod1.2x.dat\",format=\"ascii\",\n",
    "                               names=('AB','F062','F087','F106','F129','F158','F184','F146','F213'))\n",
    "apt_SN_75sec_zod1_2 = Table.read(\"../apttables2021/imaging/ap_phot_2pix_0.22rad_SN_75sec_zod1.2x.dat\",format=\"ascii\",\n",
    "                               names=('AB','F062','F087','F106','F129','F158','F184','F146','F213'))\n",
    "apt_SN_100sec_zod1_2 = Table.read(\"../apttables2021/imaging/ap_phot_2pix_0.22rad_SN_100sec_zod1.2x.dat\",format=\"ascii\",\n",
    "                               names=('AB','F062','F087','F106','F129','F158','F184','F146','F213'))\n",
    "\n",
    "\n",
    "img_table = Table()\n",
    "img_table['AB'] = apt_SN_55sec_zod1_2['AB']\n",
    "img_table['55'] = apt_SN_55sec_zod1_2['F158']\n",
    "img_table['75'] = apt_SN_75sec_zod1_2['F158']\n",
    "img_table['100'] = apt_SN_100sec_zod1_2['F158']\n",
    "\n",
    "\n",
    "#print(img_table)\n",
    "\n",
    "t = 141\n",
    "\n",
    "# SNR ~ t^(0.5)\n",
    "# time\n",
    "x = np.sqrt(np.array([55.,75.,100.]))\n",
    "param = [1, 0]\n",
    "err = 1.0\n",
    "\n",
    "line_fn = lambda p,x: p[1]*x+p[0]\n",
    "\n",
    "err_fn = lambda p: (line_fn(p,x) - y)/err\n",
    "\n",
    "fig = plt.figure()\n",
    "p = fig.add_subplot(111)\n",
    "\n",
    "SN = [] # at t\n",
    "\n",
    "###################\n",
    "# fit for SNR and t\n",
    "###################\n",
    "for i,y in enumerate(img_table['55','75','100']):\n",
    "\n",
    "    # SNR\n",
    "    y = np.array(list(y))\n",
    "    \n",
    "    sol = leastsq(err_fn,param,full_output=1)\n",
    "    print(sol[0])\n",
    "    \n",
    "    t0 = np.arange(50,200,0.1)\n",
    "    snr = line_fn(sol[0],np.sqrt(t0))\n",
    "    \n",
    "    mag = np.ones(snr.shape)*img_table['AB'][i]\n",
    "\n",
    "    p.plot(mag,snr,c=\"k\")\n",
    "    \n",
    "    SN.append(line_fn(sol[0],np.sqrt(t)))\n",
    "\n",
    "img_table['141'] = SN\n",
    "\n",
    "\n",
    "\n",
    "param = [1,1,1,1]\n",
    "# mag\n",
    "x = img_table['AB']\n",
    "#print(x)\n",
    "err = np.ones(x.shape)\n",
    "#err[:5] = 0.01\n",
    "#err[-5:] = 0.01\n",
    "\n",
    "err_fn2 = lambda p: (poly_n(p,x) - y)/err\n",
    "#####################\n",
    "# fit for SNR and mag\n",
    "#####################\n",
    "\n",
    "dict = {}\n",
    "\n",
    "for i,t0 in enumerate(['55','75','100','141']):\n",
    "    \n",
    "    # SNR\n",
    "    y = 2.5*np.log10(img_table[t0])\n",
    "    \n",
    "    sol = leastsq(err_fn2,param,full_output=1)\n",
    "    print(sol[0])\n",
    "    \n",
    "    mag = np.arange(16.5,26.5,0.1)\n",
    "    snr = 10**(0.4*poly_n(sol[0],mag))\n",
    "    \n",
    "    p.plot(mag,snr,c=\"k\")\n",
    "    print(len(sol[0]))\n",
    "    \n",
    "    dict['sol%s' % t0] = sol[0]\n",
    "\n",
    "#################\n",
    "# solving for s/n\n",
    "#################\n",
    "print(dict)\n",
    "sol0 = dict['sol141']\n",
    "print(solve_for_y(sol0,2.5*np.log10(10.0)))\n",
    "\n",
    "\n",
    "p.scatter(img_table['AB'],img_table['55'],label='55 sec')\n",
    "p.scatter(img_table['AB'],img_table['75'],label='75 sec')\n",
    "p.scatter(img_table['AB'],img_table['100'],label='100 sec')\n",
    "p.scatter(img_table['AB'],SN,label='141 sec')\n",
    "\n",
    "\n",
    "p.plot([17,27],[10,10],\"-\",c=\"k\",alpha=0.5)\n",
    "p.plot([17,27],[5,5],\"--\",c=\"k\",alpha=0.5)\n",
    "p.plot([17,27],[3,3],\"-.\",c=\"k\",alpha=0.5)\n",
    "\n",
    "p.legend(fontsize=14)\n",
    "p.set_yscale(\"log\")\n",
    "\n",
    "#p.set_xlim(0,2000)\n",
    "#p.set_ylim(20,22)\n",
    "#p.invert_yaxis()\n",
    "    \n",
    "plt.show()"
   ]
  },
  {
   "cell_type": "code",
   "execution_count": null,
   "metadata": {
    "ExecuteTime": {
     "end_time": "2022-02-03T01:44:18.878490Z",
     "start_time": "2022-02-03T01:44:18.493974Z"
    }
   },
   "outputs": [],
   "source": [
    "print(os.getcwd())\n",
    "apt_SN_55sec_zod1_2 = Table.read(\"../apttables2021/imaging/ap_phot_2pix_0.22rad_SN_55sec_zod1.2x.dat\",format=\"ascii\",\n",
    "                               names=('AB','F062','F087','F106','F129','F158','F184','F146','F213'))\n",
    "apt_SN_75sec_zod1_2 = Table.read(\"../apttables2021/imaging/ap_phot_2pix_0.22rad_SN_75sec_zod1.2x.dat\",format=\"ascii\",\n",
    "                               names=('AB','F062','F087','F106','F129','F158','F184','F146','F213'))\n",
    "apt_SN_100sec_zod1_2 = Table.read(\"../apttables2021/imaging/ap_phot_2pix_0.22rad_SN_100sec_zod1.2x.dat\",format=\"ascii\",\n",
    "                               names=('AB','F062','F087','F106','F129','F158','F184','F146','F213'))\n",
    "#print(apt_rad0_0_zod1_2)\n",
    "#print(apt_rad0_2_zod1_2)\n",
    "#print(apt_rad0_3_zod1_2)\n",
    "\n",
    "fig = plt.figure()\n",
    "p = fig.add_subplot(111)\n",
    "\n",
    "flist = ['F062','F087','F106','F129','F158','F184','F146','F213']\n",
    "\n",
    "#for f in flist:\n",
    "#    p.scatter(apt_SN_55sec_zod1_2['AB'],apt_SN_55sec_zod1_2[f],label=f) \n",
    "    #p.scatter(apt_SN_75sec_zod1_2['AB'],apt_SN_75sec_zod1_2[f],label=f)\n",
    "    #p.scatter(apt_SN_100sec_zod1_2['AB'],apt_SN_100sec_zod1_2[f],label=f) \n",
    "\n",
    "p.scatter(apt_SN_55sec_zod1_2['AB'],apt_SN_55sec_zod1_2['F158'],label='55 sec')\n",
    "p.scatter(apt_SN_75sec_zod1_2['AB'],apt_SN_75sec_zod1_2['F158'],label='75 sec')\n",
    "p.scatter(apt_SN_100sec_zod1_2['AB'],apt_SN_100sec_zod1_2['F158'],label='100 sec')\n",
    "\n",
    "\n",
    "p.plot([17,27],[10,10],\"-\",c=\"k\",alpha=0.5)\n",
    "p.plot([17,27],[5,5],\"--\",c=\"k\",alpha=0.5)\n",
    "p.plot([17,27],[3,3],\"-.\",c=\"k\",alpha=0.5)\n",
    "\n",
    "p.legend(fontsize=14)\n",
    "p.set_yscale(\"log\")\n",
    "\n",
    "#p.set_xlim(0,2000)\n",
    "#p.set_ylim(20,22)\n",
    "#p.invert_yaxis()\n",
    "    \n",
    "plt.show()"
   ]
  },
  {
   "cell_type": "markdown",
   "metadata": {},
   "source": [
    "## Roman and Euclid Sensitivity Function\n",
    "\n",
    "[top](#Table-of-Contents)"
   ]
  },
  {
   "cell_type": "code",
   "execution_count": null,
   "metadata": {
    "ExecuteTime": {
     "end_time": "2022-02-03T01:44:27.257129Z",
     "start_time": "2022-02-03T01:44:27.251506Z"
    }
   },
   "outputs": [],
   "source": [
    "import os\n",
    "print(os.getcwd())\n",
    "print(HOME_PATH)\n",
    "#os.chdir(os.path.join(HOME_PATH, root, 'Extraction'))"
   ]
  },
  {
   "cell_type": "markdown",
   "metadata": {},
   "source": [
    "### Gabe's Roman sensitivity function"
   ]
  },
  {
   "cell_type": "code",
   "execution_count": null,
   "metadata": {
    "ExecuteTime": {
     "end_time": "2022-02-03T01:44:31.696400Z",
     "start_time": "2022-02-03T01:44:31.683200Z"
    }
   },
   "outputs": [],
   "source": [
    "sens_file = HOME_PATH + '/../grizli/CONF/Roman.G150.v1.6.sens.fits' # Gabe's\n",
    "sens_cat1 = Table.read(sens_file)\n",
    "print(sens_cat1.colnames)"
   ]
  },
  {
   "cell_type": "markdown",
   "metadata": {},
   "source": [
    "### Anahita's Roman sensitivity function"
   ]
  },
  {
   "cell_type": "code",
   "execution_count": null,
   "metadata": {
    "ExecuteTime": {
     "end_time": "2022-02-03T01:44:33.935419Z",
     "start_time": "2022-02-03T01:44:33.922630Z"
    }
   },
   "outputs": [],
   "source": [
    "sens_file = HOME_PATH + '/../grizli/CONF/sens_0720_2020.fits'\n",
    "sens_cat2 = Table.read(sens_file)\n",
    "print(sens_cat2.colnames)"
   ]
  },
  {
   "cell_type": "markdown",
   "metadata": {},
   "source": [
    "### AstroDeep Euclid sensitivity function"
   ]
  },
  {
   "cell_type": "code",
   "execution_count": null,
   "metadata": {
    "scrolled": true
   },
   "outputs": [],
   "source": [
    "sens_file = HOME_PATH + '/../grizli/CONF/Euclid.Gred.1st.sens.0.fits'\n",
    "sens_cat3 = Table.read(sens_file)\n",
    "print(sens_cat3.colnames)"
   ]
  },
  {
   "cell_type": "markdown",
   "metadata": {},
   "source": [
    "### TIPS Euclid sensitivity function"
   ]
  },
  {
   "cell_type": "code",
   "execution_count": null,
   "metadata": {},
   "outputs": [],
   "source": [
    "sens_file = HOME_PATH + '/../grizli/CONF/CONF11/SENS_A.fits'\n",
    "sens_cat4 = Table.read(sens_file)\n",
    "print(sens_cat4.colnames)"
   ]
  },
  {
   "cell_type": "code",
   "execution_count": null,
   "metadata": {
    "ExecuteTime": {
     "end_time": "2022-02-03T01:44:35.424388Z",
     "start_time": "2022-02-03T01:44:35.205888Z"
    }
   },
   "outputs": [],
   "source": [
    "fig = plt.figure()\n",
    "\n",
    "p1 = fig.add_subplot(111)\n",
    "#p1.errorbar(sens_cat1['WAVELENGTH'],sens_cat1['SENSITIVITY'],yerr=sens_cat1['ERROR'])\n",
    "#p1.errorbar(sens_cat2['WAVELENGTH'],sens_cat2['SENSITIVITY'],yerr=sens_cat2['ERROR'])\n",
    "p1.plot(sens_cat1['WAVELENGTH'],sens_cat1['SENSITIVITY'],label=\"Roman (Pandeia)\")\n",
    "p1.plot(sens_cat2['WAVELENGTH'],sens_cat2['SENSITIVITY'],label=\"Roman (Anahita's)\")\n",
    "p1.plot(sens_cat3['WAVELENGTH'],sens_cat3['SENSITIVITY'],label=\"Euclid (AstroDeep)\")\n",
    "p1.plot(sens_cat4['WAVELENGTH'],sens_cat4['SENSITIVITY'],label=\"Euclid (TIPS)\")\n",
    "#p1.plot(pzcaletc_1n['col1']*1e4,1./(pzcaletc_1n['col%i' % (n)]*1000.)) # erg/s/cm^2\n",
    "#p1.plot(pzcaletc_8n['col1']*1e4,1./(pzcaletc_8n['col%i' % (n)]*1000.)) # erg/s/cm^2\n",
    "p1.set_xlim(8750,20750)\n",
    "p1.set_ylabel(\"e-/s per erg/s/cm$^2$/Ang\") # according to axe_manual\n",
    "p1.legend()"
   ]
  },
  {
   "cell_type": "code",
   "execution_count": null,
   "metadata": {
    "ExecuteTime": {
     "end_time": "2022-02-03T01:44:38.944617Z",
     "start_time": "2022-02-03T01:44:38.242924Z"
    }
   },
   "outputs": [],
   "source": [
    "from scipy import integrate\n",
    "\n",
    "### Plot 1D spectra\n",
    "fig = plt.figure(figsize=(6,18))\n",
    "p1 = fig.add_subplot(311)\n",
    "p2 = fig.add_subplot(312)\n",
    "p3 = fig.add_subplot(313)\n",
    "for i, key in enumerate(beams.keys()):\n",
    "    print(key)\n",
    "    print()\n",
    "    w, f, e = beams[key].beam.optimal_extract(beams[key].model+beams[key].grism.data['SCI'], bin=0)\n",
    "    #w, f, e = beams[key].beam.optimal_extract(beams[key].grism.data['SCI'], \n",
    "    #                                          ivar=1./(beams[key].grism.data['ERR'])**2,bin=0)\n",
    "    \n",
    "    # normalize to the magnitude in the direct image\n",
    "    print(\"sum = %.2e\" % (np.nansum(f)))\n",
    "    print(\"mean = %.2e\" % (np.nanmean(f)))\n",
    "    print(\"median = %.2e\" % (np.nanmedian(f)))\n",
    "    print(\"std = %.2e\" % (np.nanstd(f)))\n",
    "    print(\"min = %.2e\" % (np.nanmin(f)))\n",
    "    print(\"max = %.2e\" % (np.nanmax(f)))\n",
    "    \n",
    "    \n",
    "    print(\"S/N = %.2f\" % (np.nanmax(f)/np.sqrt(np.nansum(e**2))))\n",
    "    print()\n",
    "    #\n",
    "\n",
    "    \n",
    "    # Method 1\n",
    "    scale = f_scale/np.nansum(f)\n",
    "    f = f * scale\n",
    "    e = e * scale\n",
    "    # Method 2\n",
    "    #f = (f/np.nanmedian(f)) * f_scale\n",
    "    # Method 3\n",
    "    #skysub = f - np.nanmedian(f)\n",
    "    #f = (skysub/np.nansum(skysub)) * f_scale\n",
    "    \n",
    "    print(\"sum = %.2e\" % (np.nansum(f)))\n",
    "    print(\"mean = %.2e\" % (np.nanmean(f)))\n",
    "    print(\"median = %.2e\" % (np.nanmedian(f)))\n",
    "    print(\"std = %.2e\" % (np.nanstd(f)))\n",
    "    print(\"min = %.2e\" % (np.nanmin(f)))\n",
    "    print(\"max = %.2e\" % (np.nanmax(f)))\n",
    "    print(\"S/N = %.2f\" % (np.nanmax(f)/np.sqrt(np.nansum(e**2))))\n",
    "    print()\n",
    "    \n",
    "    \n",
    "    percent = [1,25,50,75,95,99,99.9]\n",
    "    for per in percent:\n",
    "        print(\"P(%s) = %.2e\" % (per,np.nanpercentile(f, per)))\n",
    "    print()\n",
    "        \n",
    "    N = len(f)\n",
    "        \n",
    "    print(\"Chunk  W0  W1  Sum  Mean  Median  STD  Min  Max  S/N\")\n",
    "    \n",
    "    #chunks = 50. # depends on the width of the line?\n",
    "    chunks = 70.\n",
    "    for chunk in np.arange(chunks):\n",
    "        #print(\"Chunk = %i\" % (chunk+1))\n",
    "        f_sect = f[int(chunk*N/chunks):int((chunk+1)*N/chunks)]\n",
    "        e_sect = e[int(chunk*N/chunks):int((chunk+1)*N/chunks)]\n",
    "        w_sect = w[int(chunk*N/chunks):int((chunk+1)*N/chunks)]\n",
    "        w_sect0 = w_sect[0]/1.e4\n",
    "        w_sect1 = w_sect[-1]/1.e4\n",
    "        \n",
    "        print(\"%3i  %.3f  %.3f  %.2e  %.2e  %.2e  %.2e  %.2e  %.2e  %6.1f\" % (chunk+1, w_sect0, w_sect1, np.nansum(f_sect), \n",
    "              np.nanmean(f_sect), np.nanmedian(f_sect), np.nanstd(f_sect), np.nanmin(f_sect), \n",
    "              np.nanmax(f_sect), np.nansum(f_sect)/np.sqrt(np.nansum(e_sect**2))))\n",
    "        #print()\n",
    "        \n",
    "        \n",
    "    #print(\"S/N =\",np.nanmax(f)/np.nanstd(f))\n",
    "    \n",
    "    m_noi = np.nanmean(e)\n",
    "    S_N = f/m_noi\n",
    "    \n",
    "    \n",
    "    # plot spectrum\n",
    "    p1.plot(w/1.e4, f, c=\"k\") # linestyle='steps-mid')\n",
    "    p1.plot(w/1.e4, e, c=\"r\") # linestyle='steps-mid')\n",
    "    p1.plot([w[0]/1e4,w[-1]/1e4],[m_noi,m_noi], c=\"g\")\n",
    "\n",
    "    # plot line\n",
    "    p2.plot(w/1.e4, f, c=\"k\") # linestyle='steps-mid')\n",
    "    p2.plot(w/1.e4, e, c=\"r\") # linestyle='steps-mid')\n",
    "    #print(f)\n",
    "    \n",
    "    # S/N of line\n",
    "    p3.plot(w/1.e4, S_N, c=\"b\") # linestyle='steps-mid')\n",
    "    \n",
    "    # Line flux and S/N\n",
    "    print()\n",
    "    w1 = 1.24\n",
    "    w2 = 1.26\n",
    "    #w1 = 1.36\n",
    "    #w2 = 1.37\n",
    "    #w1 = 1.48\n",
    "    #w2 = 1.52\n",
    "    i1 = np.argmin(np.abs(w/1.e4-w1))\n",
    "    i2 = np.argmin(np.abs(w/1.e4-w2))\n",
    "    print(i1,i2)\n",
    "    \n",
    "    win = w2 - w1\n",
    "    i0 = np.argmin(np.abs(w/1.e4-(w1-win)))\n",
    "    i3 = np.argmin(np.abs(w/1.e4-(w2+win)))\n",
    "    print(i0,i3)\n",
    "    print()\n",
    "    \n",
    "\n",
    "    dw = w[1] - w[0]\n",
    "    print(dw)\n",
    "    \n",
    "    \n",
    "    line_flux = np.sum(f[i0:i1])*dw\n",
    "    line_error = np.sqrt(np.sum((e[i0:i1]*dw)**2))\n",
    "    print(\"Flux =\", line_flux)\n",
    "    print(\"Error =\", line_error)\n",
    "    print(\"S/N =\", line_flux/line_error)\n",
    "    print()\n",
    "        \n",
    "    \n",
    "    line_flux = np.sum(f[i1:i2])*dw\n",
    "    line_error = np.sqrt(np.sum((e[i1:i2]*dw)**2))\n",
    "    print(\"Flux =\", line_flux)\n",
    "    print(\"Error =\", line_error)\n",
    "    print(\"S/N =\", line_flux/line_error)\n",
    "    \n",
    "    \n",
    "    print(integrate.trapz(f[i1:i2],w[i1:i2]))\n",
    "    \n",
    "    print()\n",
    "    \n",
    "    line_flux = np.sum(f[i2:i3])*dw\n",
    "    line_error = np.sqrt(np.sum((e[i2:i3]*dw)**2))\n",
    "    print(\"Flux =\", line_flux)\n",
    "    print(\"Error =\", line_error)\n",
    "    print(\"S/N =\", line_flux/line_error)\n",
    "    print()\n",
    "        \n",
    "\n",
    "    \n",
    "    #y0 = np.nanmin(f)\n",
    "    #y1 = np.nanmax(f)\n",
    "    #print(y0,y1)\n",
    "    \n",
    "    #z = 1.726\n",
    "    #lines = [4861.,5007.,6563.]\n",
    "    #for line in lines:\n",
    "    #    wobs = line/1e4*(1+z)\n",
    "    #    p.plot([wobs,wobs],[y0,y1],\"--\",c=\"r\")\n",
    "    print()\n",
    "    print(\"Size =\", len(f))\n",
    "    print(\"NaNs = \", np.sum(np.isnan(f)))\n",
    "    #print(np.nanmedian(f))\n",
    "\n",
    "#p.legend(fontsize=14)\n",
    "p1.set_xlim(0.9, 2.05)\n",
    "#p.set_ylim(0.0,0.025)\n",
    "#p1.set_ylim(-2e-22,6e-22) # shows noise level\n",
    "p1.set_xlabel(r'$\\lambda$ [micron]')\n",
    "p1.set_ylabel(r'F$_{\\lambda}$ [erg s$^{-1}$ cm$^{-2}$ $\\AA^{-1}$]')\n",
    "\n",
    "#p.legend(fontsize=14)\n",
    "p2.set_xlim(w1-0.05, w2+0.05)\n",
    "p2.set_ylim(-1e-21,3e-20)\n",
    "#p2.set_ylim(-1e-21,1e-21)\n",
    "p2.set_xlabel(r'$\\lambda$ [micron]')\n",
    "p2.set_ylabel(r'F$_{\\lambda}$ [erg s$^{-1}$ cm$^{-2}$ $\\AA^{-1}$]')\n",
    "\n",
    "p3.set_xlim(w1-0.05, w2+0.05)\n",
    "p3.set_ylim(-20,120.)\n",
    "p3.set_xlabel(r'$\\lambda$ [micron]')\n",
    "p3.set_ylabel(r'S/N')"
   ]
  },
  {
   "cell_type": "code",
   "execution_count": null,
   "metadata": {
    "ExecuteTime": {
     "end_time": "2022-02-03T01:44:54.861547Z",
     "start_time": "2022-02-03T01:44:54.450221Z"
    }
   },
   "outputs": [],
   "source": [
    "sens_file = HOME_PATH + '/grizli/CONF/sens_0720_2020.fits'\n",
    "sens_cat2 = Table.read(sens_file)\n",
    "print(sens_cat2.colnames)\n",
    "\n",
    "from scipy import interpolate\n",
    "\n",
    "R1 = interpolate.interp1d(sens_cat1['WAVELENGTH'],sens_cat1['SENSITIVITY'])\n",
    "w10,w11 = sens_cat1['WAVELENGTH'][0],sens_cat1['WAVELENGTH'][-1]\n",
    "\n",
    "R2 = interpolate.interp1d(sens_cat2['WAVELENGTH'],sens_cat2['SENSITIVITY'])\n",
    "w20,w21 = sens_cat2['WAVELENGTH'][0],sens_cat2['WAVELENGTH'][-1]\n",
    "\n",
    "fig = plt.figure()\n",
    "p1 = fig.add_subplot(111)\n",
    "\n",
    "for i, key in enumerate(beams.keys()):\n",
    "    print(key)\n",
    "    print()\n",
    "    w, f, e = beams[key].beam.optimal_extract(beams[key].model+beams[key].grism.data['SCI'], bin=0)\n",
    "    #w, f, e = beams[key].beam.optimal_extract(beams[key].grism.data['SCI'], \n",
    "    #                                          ivar=1./(beams[key].grism.data['ERR'])**2,bin=0)\n",
    "    \n",
    "    print(w)\n",
    "    \n",
    "    # Method 4\n",
    "    \n",
    "    i10 = np.argmin(np.abs(w-w10))\n",
    "    i11 = np.argmin(np.abs(w-w11))\n",
    "    \n",
    "    i20 = np.argmin(np.abs(w-w10))\n",
    "    i21 = np.argmin(np.abs(w-w11))\n",
    "    \n",
    "    w1 = w[i10:i11]\n",
    "    f1 = f[i10:i11]\n",
    "    e1 = e[i10:i11]\n",
    "    \n",
    "    w2 = w[i20:i21]\n",
    "    f2 = f[i20:i21]\n",
    "    e2 = e[i20:i21]\n",
    "    \n",
    "    response1 = [R1(w_el) for w_el in w1]\n",
    "    \n",
    "    response2 = [R2(w_el) for w_el in w2]\n",
    "    \n",
    "    flux1 = f1/response1\n",
    "    noise1 = e1/response1\n",
    "    \n",
    "    flux2 = f2/response2\n",
    "    noise2 = e2/response2\n",
    "    \n",
    "    \n",
    "    # plot spectrum\n",
    "    p1.plot(w1/1.e4, flux1, c=\"k\") # linestyle='steps-mid')\n",
    "    #p1.plot(w1/1.e4, noise1, c=\"r\") # linestyle='steps-mid')\n",
    "    p1.plot(w2/1.e4, flux2, c=\"g\") # linestyle='steps-mid')\n",
    "    #p1.plot(w2/1.e4, noise2, c=\"r\") # linestyle='steps-mid')\n",
    "\n",
    "#p.legend(fontsize=14)\n",
    "p1.set_xlim(0.9, 2.05)\n",
    "#p.set_ylim(0.0,0.025)\n",
    "#p1.set_ylim(-2e-22,6e-22) # shows noise level\n",
    "p1.set_xlabel(r'$\\lambda$ [micron]')\n",
    "p1.set_ylabel(r'F$_{\\lambda}$ [erg s$^{-1}$ cm$^{-2}$ $\\AA^{-1}$]')\n",
    "\n"
   ]
  },
  {
   "cell_type": "code",
   "execution_count": null,
   "metadata": {
    "ExecuteTime": {
     "end_time": "2022-02-03T01:45:04.534583Z",
     "start_time": "2022-02-03T01:45:03.631546Z"
    }
   },
   "outputs": [],
   "source": [
    "#/Users/gwalth/Dropbox/Research/sims/Galacticus/new_spectra\n",
    "#SPEC_PATH = \"/Users/gwalth/Dropbox/Research/aXeSIM/Roman/aXeSIM_Roman/SIMDATA/new_spectra\"\n",
    "#SPEC_PATH = \"/Users/gwalth/Dropbox/Research/sims/Galacticus/bkup_2022.0120/spectra\"\n",
    "SPEC_PATH = \"/Users/gwalth/Dropbox/Research/sims/Galacticus/sed_galacticus_ForGreg\"\n",
    "# ATLAS number 2118, modspec=1752\n",
    "#primer_number=2118 # old\n",
    "primer_number=1571 \n",
    "\n",
    "#specdat = SPEC_PATH + \"/ATLAS_1deg_subsample_spec_%06d.dat\" % (primer_number)\n",
    "specdat = SPEC_PATH + \"/ATLAS_1deg_spec_%06d.dat\" % (primer_number)\n",
    "specdata = Table.read(specdat,format=\"ascii\",names=('wave','flux'))\n",
    "print(specdata)\n",
    "\n",
    "fig = plt.figure()\n",
    "p1 = fig.add_subplot(111)\n",
    "p1.plot(specdata[\"wave\"],specdata[\"flux\"],label=\"Input spectra\")\n",
    "# [Ang] [erg/s/cm^2/Ang]\n",
    "p1.set_xlim(8750,20750)\n",
    "p1.set_yscale(\"log\")\n",
    "#p1.set_ylabel(\"e-/s per erg/s/cm$^2$/Ang\") # according to axe_manual\n",
    "#p1.legend()"
   ]
  },
  {
   "cell_type": "code",
   "execution_count": null,
   "metadata": {
    "ExecuteTime": {
     "end_time": "2022-02-03T01:45:11.117114Z",
     "start_time": "2022-02-03T01:45:11.030707Z"
    }
   },
   "outputs": [],
   "source": [
    "beam = 'beam__%05d.grism.A.fits' % (id)\n",
    "#new_beam = '{0}_{1:05d}.beams.fits'.format(root, id)\n",
    "new_beam = beam.replace(\".fits\",\"_GLW.fits\")\n",
    "\n",
    "hdu = pyfits.open(beam)\n",
    "print(hdu[0].header)\n",
    "hdu.info()\n",
    "\n",
    "\n",
    "ext = 0\n",
    "hdu[ext].header['EXPTIME'] = hdu['SCI'].header['EXPTIME']\n",
    "hdu.writeto(new_beam,clobber=True)\n",
    "hdu.info()"
   ]
  },
  {
   "cell_type": "code",
   "execution_count": null,
   "metadata": {
    "ExecuteTime": {
     "end_time": "2022-02-03T02:09:06.096705Z",
     "start_time": "2022-02-03T02:09:05.006931Z"
    }
   },
   "outputs": [],
   "source": [
    "#mb = multifit.MultiBeam([old_beam], fcontam=0.2, group_name=root, psf=False, min_sens=0.05)\n",
    "mb = multifit.MultiBeam([new_beam], fcontam=0.2, group_name=root, psf=False, min_sens=0.05)\n",
    "mb.write_master_fits()\n",
    "\n",
    "####################################################################################\n",
    "# Limited set of red stellar templates\n",
    "#tstar = grizli.utils.load_templates(fwhm=1200, line_complexes=True, \n",
    "#                                    fsps_templates=True, stars=True)\n",
    "\n",
    "# Fit spectral types.  Just makes the plot now, outputs not saved \n",
    "#fig, result, tfit = mb.xfit_star(tstar=tstar, fit_background=False,\n",
    "#                                 spline_correction=True, spline_args={'Rspline':5})\n",
    "####################################################################################\n",
    "\n",
    "#fwhm = 325 # km/s\n",
    "fwhm = 650 # km/s\n",
    "\n",
    "# Fitting templates\n",
    "\n",
    "# First is set with combined emission line complexes for the redshift fit \n",
    "# (don't allow infinite freedom) of the line ratios / fluxes\n",
    "t0 = grizli.utils.load_templates(fwhm=fwhm, line_complexes=True, stars=False, \n",
    "                                     full_line_list=None,  continuum_list=None, \n",
    "                                     fsps_templates=True)\n",
    "\n",
    "# Second set has individual line templates for fitting the line fluxes\n",
    "t1 = grizli.utils.load_templates(fwhm=fwhm, line_complexes=False, stars=False, \n",
    "                                     full_line_list=None, continuum_list=None, \n",
    "                                     fsps_templates=True)\n",
    "\n",
    "\n",
    "#fit = mb.xfit_redshift(templates=t0, zr=[0.65, 1.6], dz=[0.004, 0.0002], fitter='nnls')\n",
    "\n",
    "###################################################################################\n",
    "#hdu, fig = mb.drizzle_grisms_and_PAs(fcontam=0.2, flambda=False, kernel='point', \n",
    "#                                     size=32, zfit=tfit, diff=True)"
   ]
  },
  {
   "cell_type": "code",
   "execution_count": null,
   "metadata": {
    "ExecuteTime": {
     "end_time": "2022-01-24T19:51:26.782225Z",
     "start_time": "2022-01-24T19:51:26.766573Z"
    }
   },
   "outputs": [],
   "source": [
    "print(fit.keys())"
   ]
  },
  {
   "cell_type": "markdown",
   "metadata": {},
   "source": [
    "## Velocity resolution\n",
    "[top](#Table-of-Contents)"
   ]
  },
  {
   "cell_type": "code",
   "execution_count": null,
   "metadata": {
    "ExecuteTime": {
     "end_time": "2022-02-02T06:35:03.099510Z",
     "start_time": "2022-02-02T06:35:03.075024Z"
    }
   },
   "outputs": [],
   "source": [
    "# https://wfirst.ipac.caltech.edu/sims/Param_db.html#wfi_grism\n",
    "# R = 461*wav # wav in microns (2pix)\n",
    "\n",
    "# Euclid\n",
    "# R = 380*wav # wav in microns\n",
    "\n",
    "c = 3e5 # km/s\n",
    "\n",
    "# R = wav/delta_wav\n",
    "# u = delta_wav/wav*c\n",
    "# u = c/R\n",
    "\n",
    "# u = (z - z0)*c/(1+z0)\n",
    "# u = dz*c/(1+z0)\n",
    "# dz = u(1+z0)/c\n",
    "# dz = delta_wav/wav * (1+z0)\n",
    "\n",
    " \n",
    "R = 380 # Euclud\n",
    "#R = 461 # Roman\n",
    "\n",
    "u = lambda wav: c/(R*wav)\n",
    "\n",
    "winc = 0.25\n",
    "w = np.arange(1.0,2.0+winc,winc)\n",
    "for w0 in w:\n",
    "    print(\"v = %.2f km/s (%.2f micron)\" % (u(w0),w0))\n",
    "\n",
    "print()   \n",
    "for w0 in w:\n",
    "    print(\"R = %.2f (%.2f micron)\" % (R*w0,w0))\n",
    "\n",
    "print()\n",
    "z = 1.\n",
    "print(\"z = %.2f\" % (z))\n",
    "for w0 in w:\n",
    "    print(\"dz = %.6f (%.2f micron)\" % (u(w0)*(1+z)/c,w0))\n",
    "\n",
    "    \n",
    "# R = wav/delta_wav\n",
    "# R = 461*wav # microns\n",
    "# 1/delta_wav = 461\n",
    "# delta_wav = 1/461. \n",
    "print()\n",
    "print(\"delta_wav = %.7f microns\" % (1/R))\n",
    "print(\"delta_wav = %.3f Angstroms\" % (1/R*10000.))\n",
    "\n",
    "\n"
   ]
  },
  {
   "cell_type": "code",
   "execution_count": null,
   "metadata": {
    "ExecuteTime": {
     "end_time": "2022-02-03T02:09:36.190675Z",
     "start_time": "2022-02-03T02:09:36.186714Z"
    }
   },
   "outputs": [],
   "source": [
    "# dz = delta_wav/wav * (1+z0)\n",
    "\n",
    "dz = 10/12400.* (1+0.88615)\n",
    "print(dz)"
   ]
  },
  {
   "cell_type": "markdown",
   "metadata": {},
   "source": [
    "## Fit redshift to source\n",
    "[top](#Table-of-Contents)"
   ]
  },
  {
   "cell_type": "code",
   "execution_count": null,
   "metadata": {},
   "outputs": [],
   "source": [
    "beam = 'beam__%05d.grism.A.fits' % (id)\n",
    "#new_beam = '{0}_{1:05d}.beams.fits'.format(root, id)\n",
    "new_beam = beam.replace(\".fits\",\"_GLW.fits\")\n",
    "\n",
    "hdu = pyfits.open(beam)\n",
    "print(hdu[0].header)\n",
    "hdu.info()\n",
    "\n",
    "\n",
    "ext = 0\n",
    "hdu[ext].header['EXPTIME'] = hdu['SCI'].header['EXPTIME']\n",
    "hdu.writeto(new_beam,clobber=True)\n",
    "hdu.info()"
   ]
  },
  {
   "cell_type": "code",
   "execution_count": null,
   "metadata": {},
   "outputs": [],
   "source": [
    "#mb = multifit.MultiBeam([old_beam], fcontam=0.2, group_name=root, psf=False, min_sens=0.05)\n",
    "mb = multifit.MultiBeam([new_beam], fcontam=0.2, group_name=root, psf=False, min_sens=0.05)\n",
    "mb.write_master_fits()\n",
    "\n",
    "####################################################################################\n",
    "# Limited set of red stellar templates\n",
    "#tstar = grizli.utils.load_templates(fwhm=1200, line_complexes=True, \n",
    "#                                    fsps_templates=True, stars=True)\n",
    "\n",
    "# Fit spectral types.  Just makes the plot now, outputs not saved \n",
    "#fig, result, tfit = mb.xfit_star(tstar=tstar, fit_background=False,\n",
    "#                                 spline_correction=True, spline_args={'Rspline':5})\n",
    "####################################################################################\n",
    "\n",
    "#fwhm = 325 # km/s\n",
    "fwhm = 650 # km/s\n",
    "\n",
    "# Fitting templates\n",
    "\n",
    "# First is set with combined emission line complexes for the redshift fit \n",
    "# (don't allow infinite freedom) of the line ratios / fluxes\n",
    "t0 = grizli.utils.load_templates(fwhm=fwhm, line_complexes=True, stars=False, \n",
    "                                     full_line_list=None,  continuum_list=None, \n",
    "                                     fsps_templates=True)\n",
    "\n",
    "# Second set has individual line templates for fitting the line fluxes\n",
    "t1 = grizli.utils.load_templates(fwhm=fwhm, line_complexes=False, stars=False, \n",
    "                                     full_line_list=None, continuum_list=None, \n",
    "                                     fsps_templates=True)\n",
    "\n",
    "\n",
    "#fit = mb.xfit_redshift(templates=t0, zr=[0.65, 1.6], dz=[0.004, 0.0002], fitter='nnls')\n",
    "\n",
    "###################################################################################\n",
    "#hdu, fig = mb.drizzle_grisms_and_PAs(fcontam=0.2, flambda=False, kernel='point', \n",
    "#                                     size=32, zfit=tfit, diff=True)"
   ]
  },
  {
   "cell_type": "code",
   "execution_count": null,
   "metadata": {
    "ExecuteTime": {
     "end_time": "2022-02-03T02:09:55.081806Z",
     "start_time": "2022-02-03T02:09:42.390952Z"
    }
   },
   "outputs": [],
   "source": [
    "fitting.run_all(id, t0, t1, fit_only_beams=True, fwhm=fwhm, zr=[0.05, 3.0], \n",
    "                dz=[0.004, 0.0002], fitter=['nnls', 'bounded'], group_name=root)"
   ]
  },
  {
   "cell_type": "markdown",
   "metadata": {},
   "source": [
    "## Compare to primer"
   ]
  },
  {
   "cell_type": "code",
   "execution_count": null,
   "metadata": {
    "ExecuteTime": {
     "end_time": "2022-02-03T02:10:19.507519Z",
     "start_time": "2022-02-03T02:10:19.495066Z"
    }
   },
   "outputs": [],
   "source": [
    "print(root,id)\n",
    "\n",
    "# Primer redshift\n",
    "filt = primer[\"NUMBER\"] == primer_number # ATLAS NUMBER\n",
    "z_true = primer[\"REDSHIFT\"][filt]\n",
    "print(\"z_true = %.6f\" % (z_true))\n",
    "\n",
    "\n",
    "# Redshift fit to the spectrum\n",
    "full_hdu = pyfits.open('{0}_{1:05d}.full.fits'.format(root, id))\n",
    "head = full_hdu[0].header\n",
    "z_fit = head['REDSHIFT']\n",
    "print(\"z_fit  = %.6f\" % (z_fit))\n",
    "\n",
    "dz = z_true - z_fit\n",
    "print(\"dz     = %.6f\" % (dz))"
   ]
  },
  {
   "cell_type": "code",
   "execution_count": null,
   "metadata": {
    "ExecuteTime": {
     "end_time": "2022-02-03T01:49:46.709887Z",
     "start_time": "2022-02-03T01:49:46.695552Z"
    }
   },
   "outputs": [],
   "source": [
    "#print(primer)\n",
    "print(primer.keys())\n",
    "modspec_number = 8127\n",
    "#print(primer_number)\n",
    "#print(primer[modspec_number-1])\n",
    "\n",
    "filt = primer[\"NUMBER\"] == primer_number # ATLAS NUMBER\n",
    "print(primer[filt])\n",
    "print(primer[\"REDSHIFT\"][filt])\n",
    "\n",
    "filt = primer[\"SPECTEMP\"] == modspec_number # MODSPEC NUMBER\n",
    "print(primer[filt])"
   ]
  },
  {
   "cell_type": "markdown",
   "metadata": {},
   "source": [
    "## Coordinates check\n",
    "[top](#Table-of-Contents)"
   ]
  },
  {
   "cell_type": "code",
   "execution_count": null,
   "metadata": {
    "ExecuteTime": {
     "end_time": "2022-02-03T01:47:54.982108Z",
     "start_time": "2022-02-03T01:47:54.701756Z"
    }
   },
   "outputs": [],
   "source": [
    "fig = plt.figure(figsize=[10,10])\n",
    "\n",
    "mag_limit = 25\n",
    "\n",
    "filt_pri = primer['MAG_F1600W'] < mag_limit\n",
    "filt_sex = phot['MAG_AUTO'] < mag_limit\n",
    "\n",
    "ax = fig.add_subplot(111)\n",
    "ax.scatter(primer['RA'][filt_pri], primer['DEC'][filt_pri], s=20,\n",
    "               edgecolor='green', facecolor='none', alpha=0.8, label=\"Primer\")\n",
    "ax.scatter(phot['X_WORLD'][filt_sex], phot['Y_WORLD'][filt_sex], s=100,\n",
    "               edgecolor='orange', facecolor='none', alpha=0.7, label=\"SExtractor\")\n",
    "\n",
    "ax.set_xlabel(\"RA [deg]\")\n",
    "ax.set_ylabel(\"Dec [deg]\")\n",
    "ax.invert_xaxis()\n",
    "\n",
    "ax.legend(loc=1)"
   ]
  },
  {
   "cell_type": "markdown",
   "metadata": {},
   "source": [
    "<span style=\"color:red\">\n",
    "Different sims may have different WCS centers!\n",
    "</span>\n",
    "Use this test as a way to check the correct center was used.\n",
    "\n",
    "\n",
    "aXeSIM conf | hdf5\n",
    ":----------:|:---:\n",
    "Roman.G150.wcs_v1.RN0.conf | galacticus_ATLAS_1deg2_subsample.hdf5  \n",
    "Roman.G150.wcs_v2.RN0.conf | galacticus_ForGreg.hdf5"
   ]
  },
  {
   "cell_type": "markdown",
   "metadata": {},
   "source": [
    "## SED check\n",
    "\n",
    "[top](#Table-of-Contents)"
   ]
  },
  {
   "cell_type": "code",
   "execution_count": null,
   "metadata": {
    "ExecuteTime": {
     "end_time": "2022-02-03T01:48:03.469447Z",
     "start_time": "2022-02-03T01:48:02.622185Z"
    }
   },
   "outputs": [],
   "source": [
    "#/Users/gwalth/Dropbox/Research/sims/Galacticus/new_spectra\n",
    "#SPEC_PATH = \"/Users/gwalth/Dropbox/Research/aXeSIM/Roman/aXeSIM_Roman/SIMDATA/new_spectra\"\n",
    "#SPEC_PATH = \"/Users/gwalth/Dropbox/Research/sims/Galacticus/bkup_2022.0120/spectra\"\n",
    "SPEC_PATH = \"/Users/gwalth/Dropbox/Research/sims/Galacticus/sed_galacticus_ForGreg\"\n",
    "# ATLAS number 2118, modspec=1752\n",
    "#number = 2118 # old\n",
    "number = 1571\n",
    "\n",
    "#specdat = SPEC_PATH + \"/ATLAS_1deg_subsample_spec_%06d.dat\" % (number)\n",
    "specdat = SPEC_PATH + \"/ATLAS_1deg_spec_%06d.dat\" % (number)\n",
    "print(specdat)\n",
    "specdata = Table.read(specdat,format=\"ascii\",names=('wave','flux'))\n",
    "print(specdata)\n",
    "\n",
    "fig = plt.figure()\n",
    "p1 = fig.add_subplot(111)\n",
    "p1.plot(specdata[\"wave\"],specdata[\"flux\"],label=\"Input spectra\")\n",
    "# [Ang] [erg/s/cm^2/Ang]\n",
    "p1.set_xlim(8750,20750)\n",
    "p1.set_yscale(\"log\")\n",
    "\n",
    "p1.set_xlabel(\"Wavelength [Ang]\")\n",
    "#p1.set_ylabel(\"e-/s per erg/s/cm$^2$/Ang\") # according to axe_manual\n",
    "#p1.legend()"
   ]
  },
  {
   "cell_type": "code",
   "execution_count": null,
   "metadata": {
    "ExecuteTime": {
     "end_time": "2022-02-03T01:48:10.774370Z",
     "start_time": "2022-02-03T01:48:10.770604Z"
    }
   },
   "outputs": [],
   "source": [
    "SPEC_PATH = \"/Users/gwalth/Dropbox/Research/sims/Galacticus/sed_galacticus_ForGreg\"\n",
    "AXE_PATH = \"/Users/gwalth/data/Roman/grizli/my_roman_sims/Prep/\"\n",
    "\n",
    "axe_image = \"Roman_ATLAS_1deg_random2022_2022-01-27T06:04:27_RN0_v6_images.fits\"\n",
    "axe_spec = \"Roman_ATLAS_1deg_random2022_2022-01-27T06:04:27_RN0_v6_spectra.fits\""
   ]
  },
  {
   "cell_type": "code",
   "execution_count": null,
   "metadata": {
    "ExecuteTime": {
     "end_time": "2022-02-03T01:48:22.818693Z",
     "start_time": "2022-02-03T01:48:12.632336Z"
    }
   },
   "outputs": [],
   "source": [
    "f = AXE_PATH + axe_spec\n",
    "pf = pyfits.open(f)\n",
    "N = len(pf)\n",
    "\n",
    "#number = 2118 # old\n",
    "number = 1571\n",
    "\n",
    "for i in np.arange(N)+1:\n",
    "    \n",
    "    head = pf[i].header\n",
    "    \n",
    "    specname = head['SPECNAME']\n",
    "    extname = head['EXTNAME']\n",
    "    mag_ab = head['MAG_AB']\n",
    "    \n",
    "    number_found = int(specname.split(\"_\")[-1])\n",
    "    if number == number_found:\n",
    "        print(i,number_found)\n",
    "    \n",
    "    # SPECNAME= 'ATLAS_1deg_spec_029260' / Name of spectrum \n",
    "\n",
    "    #tab = pf[ext].data\n",
    "    #flux = tab[\"flux\"]\n",
    "    #wav = tab[\"wav_nm\"]"
   ]
  },
  {
   "cell_type": "code",
   "execution_count": null,
   "metadata": {
    "ExecuteTime": {
     "end_time": "2022-02-03T01:48:36.528957Z",
     "start_time": "2022-02-03T01:48:29.180652Z"
    }
   },
   "outputs": [],
   "source": [
    "f = AXE_PATH + axe_spec\n",
    "#f = axe_spec\n",
    "#ext = 4468 # old\n",
    "ext = 8127\n",
    "pf = pyfits.open(f)\n",
    "print(len(pf))\n",
    "\n",
    "#print(key)\n",
    "\n",
    "tab = pf[ext].data\n",
    "\n",
    "flux = tab[\"flux\"]\n",
    "wav = tab[\"wav_nm\"]\n",
    "\n",
    "\n",
    "delta_wav = 1/461. # microns\n",
    "delta_wav *= 1000. # nm\n",
    "\n",
    "\n",
    "################################################\n",
    "# convolve with the resolution of the instrument\n",
    "################################################\n",
    "# from iris_snr_sim (essentially from Tuan Do)\n",
    "\n",
    "delt = 2.0*(delta_wav)/(wav[1]-wav[0])\n",
    "\n",
    "\n",
    "stddev = delt/2*sqrt(2*log(2))\n",
    "psf_func = models.Gaussian1D(amplitude=1.0, stddev=stddev)\n",
    "x = np.arange(4*int(delt)+1)-2*int(delt)\n",
    "psf = psf_func(x)\n",
    "psf /= psf.sum() # normalize\n",
    "\n",
    "new_flux = np.convolve(flux, psf,mode='same')\n",
    "\n",
    "\n",
    "fig = plt.figure()\n",
    "p1 = fig.add_subplot(111)\n",
    "p1.plot(wav,flux,label=\"aXeSIM spectra\",c=\"r\",alpha=0.5)\n",
    "p1.plot(wav,new_flux,label=\"Convolved spectra\",c=\"g\",alpha=0.8)\n",
    "# [nm] [erg/s/cm^2/Ang]\n",
    "\n",
    "#######################\n",
    "#######################\n",
    "#######################\n",
    "\n",
    "# ATLAS number 2118, modspec=1752\n",
    "#number = 2118 # old\n",
    "number = 1571 # new\n",
    "\n",
    "#specdat = SPEC_PATH + \"/ATLAS_1deg_subsample_spec_%06d.dat\" % (number)\n",
    "specdat = SPEC_PATH + \"/ATLAS_1deg_spec_%06d.dat\" % (number)\n",
    "print(specdat)\n",
    "specdata = Table.read(specdat,format=\"ascii\",names=('wave','flux'))\n",
    "print(specdata)\n",
    "\n",
    "p1.plot(specdata[\"wave\"]/10.,specdata[\"flux\"],label=\"Input spectra\")\n",
    "# [Ang] [erg/s/cm^2/Ang]\n",
    "\n",
    "######################\n",
    "sens_file = HOME_PATH + '/grizli/CONF/sens_0720_2020.fits'\n",
    "sens_cat2 = Table.read(sens_file)\n",
    "print(sens_cat2.colnames)\n",
    "\n",
    "from scipy import interpolate\n",
    "\n",
    "R = interpolate.interp1d(sens_cat2['WAVELENGTH'],sens_cat2['SENSITIVITY'])\n",
    "w0,w1 = sens_cat2['WAVELENGTH'][0],sens_cat2['WAVELENGTH'][-1]\n",
    "\n",
    "w, f, e = beams[key].beam.optimal_extract(beams[key].model+beams[key].grism.data['SCI'], bin=0)\n",
    "#w, f, e = beams[key].beam.optimal_extract(beams[key].grism.data['SCI'], \n",
    "#                                          ivar=1./(beams[key].grism.data['ERR'])**2,bin=0)\n",
    "    \n",
    "#print(w)\n",
    "    \n",
    "# Method 4\n",
    "\n",
    "i0 = np.argmin(np.abs(w-w0))\n",
    "i1 = np.argmin(np.abs(w-w1))\n",
    "\n",
    "w = w[i0:i1]\n",
    "f = f[i0:i1]\n",
    "e = e[i0:i1]\n",
    "    \n",
    "response = [R(w_el) for w_el in w]\n",
    "    \n",
    "flux2 = f/response\n",
    "noise2 = e/response\n",
    "    \n",
    "# plot spectrum\n",
    "p1.plot(w/10., flux2, c=\"orange\", label=\"extracted spectra\") # linestyle='steps-mid')\n",
    "# factor of 10 off, could be WAV_AB being wrong (i.e. 1600 instead of 160)\n",
    "\n",
    "p1.set_xlim(875.0,2075.0)\n",
    "#p1.set_ylim(1e-15,1e-21)\n",
    "p1.set_yscale(\"log\")\n",
    "p1.set_xlabel(\"Wavelength [nm]\")\n",
    "#p1.set_ylabel(\"e-/s per erg/s/cm$^2$/Ang\") # according to axe_manual\n",
    "\n",
    "p1.legend(loc=1)\n",
    "\n",
    "\n",
    "\n",
    "pf[ext].header"
   ]
  },
  {
   "cell_type": "code",
   "execution_count": null,
   "metadata": {
    "ExecuteTime": {
     "end_time": "2022-01-20T23:11:17.116712Z",
     "start_time": "2022-01-20T23:11:17.102073Z"
    }
   },
   "outputs": [],
   "source": [
    "f = AXE_PATH + axe_image\n",
    "\n",
    "ext = 3\n",
    "pf = pyfits.open(f)\n",
    "print(len(pf))\n",
    "pf[ext].header\n",
    "\n",
    "#tab = pf[ext].data\n",
    "\n",
    "#fig = plt.figure()\n",
    "#p1 = fig.add_subplot(111)\n",
    "#p1.plot(tab[\"wav_nm\"],tab[\"flux\"],label=\"Input spectra\")\n",
    "## [Ang] [erg/s/cm^2/Ang]\n",
    "#p1.set_xlim(875.0,2075.0)\n",
    "#p1.set_yscale(\"log\")\n",
    "##p1.set_ylabel(\"e-/s per erg/s/cm$^2$/Ang\") # according to axe_manual\n",
    "##p1.legend()"
   ]
  },
  {
   "cell_type": "code",
   "execution_count": null,
   "metadata": {},
   "outputs": [],
   "source": [
    "conf_path = \"/Users/gwalth/data/Roman/grizli/grizli/templates/fsps/\"\n",
    "\n",
    "#L = glob.glob(conf_path + \"*_v3_nolines_???.dat\")\n",
    "L = glob.glob(conf_path + \"*_v3_???.dat\")\n",
    "\n",
    "print(L)\n",
    "\n",
    "fig = plt.figure()\n",
    "ax1 = fig.add_subplot(111)\n",
    "\n",
    "for l in L:\n",
    "    tbl = Table.read(l, format=\"ascii\")\n",
    "    #print(tbl)\n",
    "\n",
    "    ax1.plot(tbl[\"wave\"],tbl[\"flux\"])\n",
    "    \n",
    "ax1.set_xlim(3000,12500)\n",
    "ax1.set_ylim(1e-7,1e-1)\n",
    "ax1.set_yscale(\"log\")\n",
    "ax1.set_xlabel(\"Wavelength [Ang]\")\n",
    "plt.show()"
   ]
  },
  {
   "cell_type": "code",
   "execution_count": null,
   "metadata": {},
   "outputs": [],
   "source": []
  },
  {
   "cell_type": "code",
   "execution_count": 23,
   "metadata": {},
   "outputs": [],
   "source": [
    "conf_path = \"/Users/gwalth/data/Roman/grizli/grizli/CONF/Euclid/\"        # BEAMA\n",
    "#conf_path = \"/Users/gwalth/data/Roman/grizli/grizli/CONF/Euclid/CONF11/\"  # BEAM_A\n",
    "conf = \"NISP_RGS000_11.conf\""
   ]
  },
  {
   "cell_type": "code",
   "execution_count": 24,
   "metadata": {},
   "outputs": [
    {
     "name": "stdout",
     "output_type": "stream",
     "text": [
      "OrderedDict([('INSTRUMENT', 'NISP'), ('CAMERA', 'RGS000'), ('SCIENCE_EXT', 'SCI'), ('ERRORS_EXT', 'CHI2'), ('CRPIX1', 4578.750451), ('CRPIX2', 4331.375225), ('CRVAL1', 228.394192), ('CRVAL2', 6.590391), ('CD1_1', -8.303487e-05), ('CD1_2', 0.0), ('CD2_1', 0.0), ('CD2_2', 8.303487e-05), ('ORIENTAT', 0.0), ('REFX', 4578.750451), ('REFY', 4331.375225), ('GAIN', 0.5), ('RDNOISE', 'RN_11.fits'), ('DC', 'DC_11.fits'), ('QE', 'QE_11.fits'), ('NPIXX', 2048.0), ('NPIXY', 2048.0), ('FFNAME', 'None'), ('EXPNAME', 'None'), ('NBIT', 16.0), ('NL', 'None'), ('COSMAP', 'None'), ('REJECT', 'None'), ('REAL', 'True'), ('RDMODE', 'EuclidSlopeChi2'), ('S_FACTOR', 1.0), ('S_OFFSET', 1024.0), ('NGROUP', 15.0), ('NFRAME', 16.0), ('NDROP', 11.0), ('ETFRAME', 1.45408), ('TELAREA', 10000.0), ('POBJSIZE', 0.1), ('SMFACTOR', 1.0), ('BEAMA', array([-276.119403,  320.895522])), ('MMAG_EXTRACT_A', 35.0), ('MMAG_MARK_A', 35.0), ('PSFTHM_A', 'PSFTHM_A_11.fits'), ('XOFF_A', 0.0), ('YOFF_A', 0.0), ('DYDX_ORDER_A', 1.0), ('DYDX_A_0', 0.0), ('DYDX_A_1', 0.0), ('DISP_ORDER_A', 1.0), ('DLDP_A_0', 15200.0), ('DLDP_A_1', 13.4), ('SENSITIVITY_A', 'SENS_A.fits')])\n",
      "\n",
      "{'conf': OrderedDict([('INSTRUMENT', 'NISP'), ('CAMERA', 'RGS000'), ('SCIENCE_EXT', 'SCI'), ('ERRORS_EXT', 'CHI2'), ('CRPIX1', 4578.750451), ('CRPIX2', 4331.375225), ('CRVAL1', 228.394192), ('CRVAL2', 6.590391), ('CD1_1', -8.303487e-05), ('CD1_2', 0.0), ('CD2_1', 0.0), ('CD2_2', 8.303487e-05), ('ORIENTAT', 0.0), ('REFX', 4578.750451), ('REFY', 4331.375225), ('GAIN', 0.5), ('RDNOISE', 'RN_11.fits'), ('DC', 'DC_11.fits'), ('QE', 'QE_11.fits'), ('NPIXX', 2048.0), ('NPIXY', 2048.0), ('FFNAME', 'None'), ('EXPNAME', 'None'), ('NBIT', 16.0), ('NL', 'None'), ('COSMAP', 'None'), ('REJECT', 'None'), ('REAL', 'True'), ('RDMODE', 'EuclidSlopeChi2'), ('S_FACTOR', 1.0), ('S_OFFSET', 1024.0), ('NGROUP', 15.0), ('NFRAME', 16.0), ('NDROP', 11.0), ('ETFRAME', 1.45408), ('TELAREA', 10000.0), ('POBJSIZE', 0.1), ('SMFACTOR', 1.0), ('BEAMA', array([-276.119403,  320.895522])), ('MMAG_EXTRACT_A', 35.0), ('MMAG_MARK_A', 35.0), ('PSFTHM_A', 'PSFTHM_A_11.fits'), ('XOFF_A', 0.0), ('YOFF_A', 0.0), ('DYDX_ORDER_A', 1.0), ('DYDX_A_0', 0.0), ('DYDX_A_1', 0.0), ('DISP_ORDER_A', 1.0), ('DLDP_A_0', 15200.0), ('DLDP_A_1', 13.4), ('SENSITIVITY_A', 'SENS_A.fits')]), 'conf_dict': OrderedDict([('INSTRUMENT', 'NISP'), ('CAMERA', 'RGS000'), ('SCIENCE_EXT', 'SCI'), ('ERRORS_EXT', 'CHI2'), ('CRPIX1', 4578.750451), ('CRPIX2', 4331.375225), ('CRVAL1', 228.394192), ('CRVAL2', 6.590391), ('CD1_1', -8.303487e-05), ('CD1_2', 0.0), ('CD2_1', 0.0), ('CD2_2', 8.303487e-05), ('ORIENTAT', 0.0), ('REFX', 4578.750451), ('REFY', 4331.375225), ('GAIN', 0.5), ('RDNOISE', 'RN_11.fits'), ('DC', 'DC_11.fits'), ('QE', 'QE_11.fits'), ('NPIXX', 2048.0), ('NPIXY', 2048.0), ('FFNAME', 'None'), ('EXPNAME', 'None'), ('NBIT', 16.0), ('NL', 'None'), ('COSMAP', 'None'), ('REJECT', 'None'), ('REAL', 'True'), ('RDMODE', 'EuclidSlopeChi2'), ('S_FACTOR', 1.0), ('S_OFFSET', 1024.0), ('NGROUP', 15.0), ('NFRAME', 16.0), ('NDROP', 11.0), ('ETFRAME', 1.45408), ('TELAREA', 10000.0), ('POBJSIZE', 0.1), ('SMFACTOR', 1.0), ('BEAMA', array([-276.119403,  320.895522])), ('MMAG_EXTRACT_A', 35.0), ('MMAG_MARK_A', 35.0), ('PSFTHM_A', 'PSFTHM_A_11.fits'), ('XOFF_A', 0.0), ('YOFF_A', 0.0), ('DYDX_ORDER_A', 1.0), ('DYDX_A_0', 0.0), ('DYDX_A_1', 0.0), ('DISP_ORDER_A', 1.0), ('DLDP_A_0', 15200.0), ('DLDP_A_1', 13.4), ('SENSITIVITY_A', 'SENS_A.fits')]), 'conf_file': '/Users/gwalth/data/Roman/grizli/grizli/CONF/Euclid/NISP_RGS000_11.conf', 'orders': {'A': 1, 'B': -1, 'C': -1, 'D': -1, 'E': -1, 'F': -1, 'G': -1, 'H': -1, 'I': -1, 'J': -1}, 'xoff': 0.0, 'yoff': 0.0}\n",
      "['__class__', '__class_getitem__', '__contains__', '__delattr__', '__delitem__', '__dir__', '__doc__', '__eq__', '__format__', '__ge__', '__getattribute__', '__getitem__', '__gt__', '__hash__', '__init__', '__init_subclass__', '__ior__', '__iter__', '__le__', '__len__', '__lt__', '__ne__', '__new__', '__or__', '__reduce__', '__reduce_ex__', '__repr__', '__reversed__', '__ror__', '__setattr__', '__setitem__', '__sizeof__', '__str__', '__subclasshook__', 'clear', 'copy', 'fromkeys', 'get', 'items', 'keys', 'pop', 'popitem', 'setdefault', 'update', 'values']\n",
      "{'A': 1, 'B': -1, 'C': -1, 'D': -1, 'E': -1, 'F': -1, 'G': -1, 'H': -1, 'I': -1, 'J': -1}\n"
     ]
    }
   ],
   "source": [
    "from grizli.grismconf import aXeConf\n",
    "\n",
    "aXe = aXeConf(conf_file=conf_path + conf)\n",
    "print(aXe.conf)\n",
    "print()\n",
    "print(aXe.__dict__)\n",
    "print(dir(aXe.__dict__))\n",
    "\n",
    "aXe.get_beam_trace(100,100)\n",
    "aXe.count_beam_orders()\n",
    "print(aXe.orders)\n",
    "\n",
    "aXe.get_beams()\n"
   ]
  },
  {
   "cell_type": "code",
   "execution_count": null,
   "metadata": {},
   "outputs": [],
   "source": []
  }
 ],
 "metadata": {
  "kernelspec": {
   "display_name": "Python 3 (ipykernel)",
   "language": "python",
   "name": "python3"
  },
  "language_info": {
   "codemirror_mode": {
    "name": "ipython",
    "version": 3
   },
   "file_extension": ".py",
   "mimetype": "text/x-python",
   "name": "python",
   "nbconvert_exporter": "python",
   "pygments_lexer": "ipython3",
   "version": "3.9.16"
  }
 },
 "nbformat": 4,
 "nbformat_minor": 4
}
