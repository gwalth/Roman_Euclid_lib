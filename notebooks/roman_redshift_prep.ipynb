{
 "cells": [
  {
   "cell_type": "code",
   "execution_count": 1,
   "id": "4470c036",
   "metadata": {},
   "outputs": [],
   "source": [
    "import grizli                                                                              \n",
    "from grizli import multifit\n",
    "import glob,os\n",
    "\n",
    "import numpy as np\n",
    "\n",
    "from astropy.io import fits\n",
    "\n",
    "import matplotlib.pyplot as plt\n",
    "\n",
    "from collections import OrderedDict"
   ]
  },
  {
   "cell_type": "code",
   "execution_count": 8,
   "id": "85203220",
   "metadata": {},
   "outputs": [],
   "source": [
    "def frame_stats(file,clip=2.74e26):\n",
    "\n",
    "    pf = fits.open(file)\n",
    "    pf.info()\n",
    "    sci = pf['SCI'].data\n",
    "\n",
    "    X = sci.flatten()\n",
    "    print(\"Mean =\",np.nanmean(X))\n",
    "    print(\"Median =\",np.nanmedian(X))\n",
    "    print(\"Std =\",np.nanstd(X))\n",
    "    print(\"Min =\",np.nanmin(X))\n",
    "    print(\"Max =\",np.nanmax(X))\n",
    "    print(\"Total pixels =\",len(X))\n",
    "    filt = np.isnan(X)\n",
    "    print(\"NaNs =\",len(X[filt]))\n",
    "    filt = np.isinf(X)\n",
    "    print(\"Inf =\",len(X[filt]))\n",
    "    filt = X > clip\n",
    "    print(\"> %.2e = %i\" % (clip,len(X[filt])))\n",
    "    filt = X < -clip\n",
    "    print(\"< -%.2e = %i\" % (clip,len(X[filt])))\n",
    "    print(sci)"
   ]
  },
  {
   "cell_type": "code",
   "execution_count": null,
   "id": "59c339d5",
   "metadata": {},
   "outputs": [],
   "source": [
    "LOCAL_PATH = \"/local/RomanSims/grizli/sims/\"\n",
    "root = \"hlss_single_v5\"\n",
    "prefix = \"hlss\"\n",
    "#field = \"field_0022\"\n",
    "field = \"field_0021\""
   ]
  },
  {
   "cell_type": "code",
   "execution_count": null,
   "id": "138c6a63",
   "metadata": {},
   "outputs": [],
   "source": [
    "os.chdir(os.path.join(LOCAL_PATH, root, 'Extractions', field))              "
   ]
  },
  {
   "cell_type": "code",
   "execution_count": null,
   "id": "d8275cd5",
   "metadata": {},
   "outputs": [],
   "source": [
    "ind = 0\n",
    "L = glob.glob(\"*.beams.fits\")\n",
    "print(len(L))\n",
    "print(L[ind])\n",
    "frame_stats(L[ind],clip=2.74e26)"
   ]
  },
  {
   "cell_type": "code",
   "execution_count": 25,
   "id": "a7c79513",
   "metadata": {},
   "outputs": [],
   "source": [
    "LOCAL_PATH = \"/home/gwalth/data/Roman/grizli/sims/\"\n",
    "root = \"hlss_single_v5\"\n",
    "prefix = \"hlss\"\n",
    "#field = \"field_0022\"\n",
    "field = \"field_0021\""
   ]
  },
  {
   "cell_type": "code",
   "execution_count": 26,
   "id": "012b4d7d",
   "metadata": {},
   "outputs": [],
   "source": [
    "os.chdir(os.path.join(LOCAL_PATH, root, 'Prep', field))              "
   ]
  },
  {
   "cell_type": "code",
   "execution_count": 27,
   "id": "adecf5e3",
   "metadata": {},
   "outputs": [
    {
     "name": "stdout",
     "output_type": "stream",
     "text": [
      "Filename: Euclid_Roman_4deg2_field_0021_v5_slitless.fits\n",
      "No.    Name      Ver    Type      Cards   Dimensions   Format\n",
      "  0  PRIMARY       1 PrimaryHDU       8   ()      \n",
      "  1  SCI           1 ImageHDU        71   (4091, 4091)   float32   \n",
      "  2  ERR           1 ImageHDU        71   (4091, 4091)   float32   \n",
      "  3  DQ            1 ImageHDU        35   (4091, 4091)   int32   \n",
      "Mean = 2.5592439e+26\n",
      "Median = 0.0029069767\n",
      "Std = inf\n",
      "Min = 0.0\n",
      "Max = 1.9865078e+33\n",
      "Total pixels = 16736281\n",
      "NaNs = 0\n",
      "Inf = 0\n",
      "> 2.74e+26 = 28\n",
      "< -2.74e+26 = 0\n",
      "[[0.00041528 0.00041528 0.00083056 ... 0.00332226 0.00207641 0.00332226]\n",
      " [0.00083056 0.00083056 0.00041528 ... 0.00290698 0.00249169 0.00124585]\n",
      " [0.00083056 0.00124585 0.00124585 ... 0.00083056 0.00041528 0.00124585]\n",
      " ...\n",
      " [0.00083056 0.00207641 0.         ... 0.         0.         0.        ]\n",
      " [0.00041528 0.00083056 0.00124585 ... 0.         0.         0.        ]\n",
      " [0.00041528 0.00041528 0.00083056 ... 0.         0.         0.        ]]\n"
     ]
    }
   ],
   "source": [
    "f = \"Euclid_Roman_4deg2_%s_v5_slitless.fits\" % (field)\n",
    "frame_stats(f,clip=2.74e26)"
   ]
  },
  {
   "cell_type": "code",
   "execution_count": 30,
   "id": "4316ee60",
   "metadata": {},
   "outputs": [
    {
     "name": "stdout",
     "output_type": "stream",
     "text": [
      "Filename: Euclid_Roman_4deg2_field_0021_v5_slitless.fits\n",
      "No.    Name      Ver    Type      Cards   Dimensions   Format\n",
      "  0  PRIMARY       1 PrimaryHDU       8   ()      \n",
      "  1  SCI           1 ImageHDU        71   (4091, 4091)   float32   \n",
      "  2  ERR           1 ImageHDU        71   (4091, 4091)   float32   \n",
      "  3  DQ            1 ImageHDU        35   (4091, 4091)   int32   \n"
     ]
    },
    {
     "data": {
      "image/png": "[encoded data removed]",
      "text/plain": [
       "<Figure size 576x1152 with 2 Axes>"
      ]
     },
     "metadata": {
      "needs_background": "light"
     },
     "output_type": "display_data"
    }
   ],
   "source": [
    "#v0 = -0.1\n",
    "#v1 = 0.1\n",
    "v0 = -100\n",
    "v1 = 100\n",
    "\n",
    "pf = fits.open(f)\n",
    "pf.info()\n",
    "sci = pf['SCI'].data\n",
    "\n",
    "X = sci.flatten()\n",
    "\n",
    "fig = plt.figure(figsize=(8,16))\n",
    "\n",
    "ax1 = fig.add_subplot(211)\n",
    "ax1.imshow(sci, vmin=v0, vmax=v1)\n",
    "\n",
    "ax2 = fig.add_subplot(212)\n",
    "ax2.hist(X,bins=20)\n",
    "ax2.set_yscale(\"log\")\n",
    "\n",
    "plt.show()"
   ]
  },
  {
   "cell_type": "code",
   "execution_count": null,
   "id": "5db05294",
   "metadata": {},
   "outputs": [],
   "source": [
    "sim = multifit.GroupFLT(grism_files=glob.glob('*GrismFLT.fits'),                       \n",
    "                        catalog='{0}-ir.cat.fits'.format(prefix),                      \n",
    "                        cpu_count=-1, sci_extn=1, pad=800)                             "
   ]
  },
  {
   "cell_type": "code",
   "execution_count": null,
   "id": "79052d3d",
   "metadata": {},
   "outputs": [],
   "source": [
    "print(sim.__dict__)\n",
    "print(dir(sim))\n",
    "#cat = sim.catalog\n",
    "#print(cat.colnames)\n",
    "#print(cat['NUMBER','X_WORLD','Y_WORLD','MAG_AUTO'])"
   ]
  },
  {
   "cell_type": "code",
   "execution_count": null,
   "id": "117f0a54",
   "metadata": {},
   "outputs": [],
   "source": [
    "print(sim.FLTs)\n",
    "all_ids = [id for flt in sim.FLTs for id in flt.object_dispersers]\n",
    "print(all_ids)"
   ]
  },
  {
   "cell_type": "code",
   "execution_count": null,
   "id": "61cddb49",
   "metadata": {},
   "outputs": [],
   "source": [
    "id = 3\n",
    "beams = sim.compute_single_model(id, is_cgs=True, get_beams=['A'])  \n",
    "print(beams[0]['A'].__dict__)\n",
    "print(dir(beams[0]['A']))\n",
    "img = beams[0]['A'].direct\n",
    "#img = beams[0]['A'].optimal_extract\n",
    "\n",
    "print(type(img))\n",
    "print(img.__dict__)\n",
    "\n",
    "print(dir(img))\n",
    "\n",
    "fig = plt.figure()\n",
    "p1 = fig.add_subplot(111)\n",
    "p1.imshow(img, origin='lower',cmap='gray_r')\n",
    "\n",
    "#p1.imshow(cutout.grism.data['SCI']*1, origin='lower',cmap='gray_r')\n",
    "#p1.imshow(cutout.grism.data['ERR']*1)#,vmin=-0.1,vmax=0.1, origin='lower',cmap='gray_r')\n",
    "    "
   ]
  },
  {
   "cell_type": "code",
   "execution_count": null,
   "id": "28df4440",
   "metadata": {},
   "outputs": [],
   "source": []
  },
  {
   "cell_type": "code",
   "execution_count": null,
   "id": "ed018d83",
   "metadata": {},
   "outputs": [],
   "source": []
  }
 ],
 "metadata": {
  "kernelspec": {
   "display_name": "Python 3 (ipykernel)",
   "language": "python",
   "name": "python3"
  },
  "language_info": {
   "codemirror_mode": {
    "name": "ipython",
    "version": 3
   },
   "file_extension": ".py",
   "mimetype": "text/x-python",
   "name": "python",
   "nbconvert_exporter": "python",
   "pygments_lexer": "ipython3",
   "version": "3.9.12"
  }
 },
 "nbformat": 4,
 "nbformat_minor": 5
}
